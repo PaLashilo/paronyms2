{
  "cells": [
    {
      "cell_type": "markdown",
      "metadata": {},
      "source": [
        "Скачивание всех зависимостей проекта"
      ]
    },
    {
      "cell_type": "code",
      "execution_count": 4,
      "metadata": {
        "colab": {
          "base_uri": "https://localhost:8080/"
        },
        "id": "cxJ0orJQwaaY",
        "outputId": "381efb0e-def3-4ad6-b13a-62cda1048418"
      },
      "outputs": [
        {
          "name": "stdout",
          "output_type": "stream",
          "text": [
            "Requirement already satisfied: absl-py==2.1.0 in c:\\users\\pasin\\ds\\доп\\generation_of_paronyms\\venv\\lib\\site-packages (from -r requirements.txt (line 1)) (2.1.0)\n",
            "Requirement already satisfied: appdirs==1.4.4 in c:\\users\\pasin\\ds\\доп\\generation_of_paronyms\\venv\\lib\\site-packages (from -r requirements.txt (line 2)) (1.4.4)\n",
            "Requirement already satisfied: asttokens==2.4.1 in c:\\users\\pasin\\ds\\доп\\generation_of_paronyms\\venv\\lib\\site-packages (from -r requirements.txt (line 3)) (2.4.1)\n",
            "Requirement already satisfied: astunparse==1.6.3 in c:\\users\\pasin\\ds\\доп\\generation_of_paronyms\\venv\\lib\\site-packages (from -r requirements.txt (line 4)) (1.6.3)\n",
            "Requirement already satisfied: beautifulsoup4==4.12.3 in c:\\users\\pasin\\ds\\доп\\generation_of_paronyms\\venv\\lib\\site-packages (from -r requirements.txt (line 5)) (4.12.3)\n",
            "Requirement already satisfied: bs4==0.0.2 in c:\\users\\pasin\\ds\\доп\\generation_of_paronyms\\venv\\lib\\site-packages (from -r requirements.txt (line 6)) (0.0.2)\n",
            "Requirement already satisfied: catboost==1.2.3 in c:\\users\\pasin\\ds\\доп\\generation_of_paronyms\\venv\\lib\\site-packages (from -r requirements.txt (line 7)) (1.2.3)\n",
            "Requirement already satisfied: certifi==2024.2.2 in c:\\users\\pasin\\ds\\доп\\generation_of_paronyms\\venv\\lib\\site-packages (from -r requirements.txt (line 8)) (2024.2.2)\n",
            "Requirement already satisfied: charset-normalizer==3.3.2 in c:\\users\\pasin\\ds\\доп\\generation_of_paronyms\\venv\\lib\\site-packages (from -r requirements.txt (line 9)) (3.3.2)\n",
            "Requirement already satisfied: click==8.1.7 in c:\\users\\pasin\\ds\\доп\\generation_of_paronyms\\venv\\lib\\site-packages (from -r requirements.txt (line 10)) (8.1.7)\n",
            "Requirement already satisfied: colorama==0.4.6 in c:\\users\\pasin\\ds\\доп\\generation_of_paronyms\\venv\\lib\\site-packages (from -r requirements.txt (line 11)) (0.4.6)\n",
            "Requirement already satisfied: comm==0.2.2 in c:\\users\\pasin\\ds\\доп\\generation_of_paronyms\\venv\\lib\\site-packages (from -r requirements.txt (line 12)) (0.2.2)\n",
            "Requirement already satisfied: contourpy==1.2.0 in c:\\users\\pasin\\ds\\доп\\generation_of_paronyms\\venv\\lib\\site-packages (from -r requirements.txt (line 13)) (1.2.0)\n",
            "Requirement already satisfied: cycler==0.12.1 in c:\\users\\pasin\\ds\\доп\\generation_of_paronyms\\venv\\lib\\site-packages (from -r requirements.txt (line 14)) (0.12.1)\n",
            "Requirement already satisfied: DAWG-Python==0.7.2 in c:\\users\\pasin\\ds\\доп\\generation_of_paronyms\\venv\\lib\\site-packages (from -r requirements.txt (line 15)) (0.7.2)\n",
            "Requirement already satisfied: debugpy==1.8.1 in c:\\users\\pasin\\ds\\доп\\generation_of_paronyms\\venv\\lib\\site-packages (from -r requirements.txt (line 16)) (1.8.1)\n",
            "Requirement already satisfied: decorator==5.1.1 in c:\\users\\pasin\\ds\\доп\\generation_of_paronyms\\venv\\lib\\site-packages (from -r requirements.txt (line 17)) (5.1.1)\n",
            "Requirement already satisfied: docker-pycreds==0.4.0 in c:\\users\\pasin\\ds\\доп\\generation_of_paronyms\\venv\\lib\\site-packages (from -r requirements.txt (line 18)) (0.4.0)\n",
            "Requirement already satisfied: docopt==0.6.2 in c:\\users\\pasin\\ds\\доп\\generation_of_paronyms\\venv\\lib\\site-packages (from -r requirements.txt (line 19)) (0.6.2)\n",
            "Requirement already satisfied: exceptiongroup==1.2.0 in c:\\users\\pasin\\ds\\доп\\generation_of_paronyms\\venv\\lib\\site-packages (from -r requirements.txt (line 20)) (1.2.0)\n",
            "Requirement already satisfied: executing==2.0.1 in c:\\users\\pasin\\ds\\доп\\generation_of_paronyms\\venv\\lib\\site-packages (from -r requirements.txt (line 21)) (2.0.1)\n",
            "Requirement already satisfied: flatbuffers==24.3.25 in c:\\users\\pasin\\ds\\доп\\generation_of_paronyms\\venv\\lib\\site-packages (from -r requirements.txt (line 22)) (24.3.25)\n",
            "Requirement already satisfied: fonttools==4.50.0 in c:\\users\\pasin\\ds\\доп\\generation_of_paronyms\\venv\\lib\\site-packages (from -r requirements.txt (line 23)) (4.50.0)\n",
            "Requirement already satisfied: fuzzywuzzy==0.18.0 in c:\\users\\pasin\\ds\\доп\\generation_of_paronyms\\venv\\lib\\site-packages (from -r requirements.txt (line 24)) (0.18.0)\n",
            "Requirement already satisfied: gast==0.5.4 in c:\\users\\pasin\\ds\\доп\\generation_of_paronyms\\venv\\lib\\site-packages (from -r requirements.txt (line 25)) (0.5.4)\n",
            "Requirement already satisfied: gensim==4.3.2 in c:\\users\\pasin\\ds\\доп\\generation_of_paronyms\\venv\\lib\\site-packages (from -r requirements.txt (line 26)) (4.3.2)\n",
            "Requirement already satisfied: gitdb==4.0.11 in c:\\users\\pasin\\ds\\доп\\generation_of_paronyms\\venv\\lib\\site-packages (from -r requirements.txt (line 27)) (4.0.11)\n",
            "Requirement already satisfied: GitPython==3.1.42 in c:\\users\\pasin\\ds\\доп\\generation_of_paronyms\\venv\\lib\\site-packages (from -r requirements.txt (line 28)) (3.1.42)\n",
            "Requirement already satisfied: google-pasta==0.2.0 in c:\\users\\pasin\\ds\\доп\\generation_of_paronyms\\venv\\lib\\site-packages (from -r requirements.txt (line 29)) (0.2.0)\n",
            "Requirement already satisfied: graphviz==0.20.3 in c:\\users\\pasin\\ds\\доп\\generation_of_paronyms\\venv\\lib\\site-packages (from -r requirements.txt (line 30)) (0.20.3)\n",
            "Requirement already satisfied: grpcio==1.62.1 in c:\\users\\pasin\\ds\\доп\\generation_of_paronyms\\venv\\lib\\site-packages (from -r requirements.txt (line 31)) (1.62.1)\n",
            "Requirement already satisfied: h5py==3.10.0 in c:\\users\\pasin\\ds\\доп\\generation_of_paronyms\\venv\\lib\\site-packages (from -r requirements.txt (line 32)) (3.10.0)\n",
            "Requirement already satisfied: idna==3.6 in c:\\users\\pasin\\ds\\доп\\generation_of_paronyms\\venv\\lib\\site-packages (from -r requirements.txt (line 33)) (3.6)\n",
            "Requirement already satisfied: importlib_metadata==7.1.0 in c:\\users\\pasin\\ds\\доп\\generation_of_paronyms\\venv\\lib\\site-packages (from -r requirements.txt (line 34)) (7.1.0)\n",
            "Requirement already satisfied: importlib_resources==6.4.0 in c:\\users\\pasin\\ds\\доп\\generation_of_paronyms\\venv\\lib\\site-packages (from -r requirements.txt (line 35)) (6.4.0)\n",
            "Requirement already satisfied: ipykernel==6.29.3 in c:\\users\\pasin\\ds\\доп\\generation_of_paronyms\\venv\\lib\\site-packages (from -r requirements.txt (line 36)) (6.29.3)\n",
            "Requirement already satisfied: ipython==8.18.1 in c:\\users\\pasin\\ds\\доп\\generation_of_paronyms\\venv\\lib\\site-packages (from -r requirements.txt (line 37)) (8.18.1)\n",
            "Requirement already satisfied: jedi==0.19.1 in c:\\users\\pasin\\ds\\доп\\generation_of_paronyms\\venv\\lib\\site-packages (from -r requirements.txt (line 38)) (0.19.1)\n",
            "Requirement already satisfied: joblib==1.3.2 in c:\\users\\pasin\\ds\\доп\\generation_of_paronyms\\venv\\lib\\site-packages (from -r requirements.txt (line 39)) (1.3.2)\n",
            "Requirement already satisfied: jupyter_client==8.6.1 in c:\\users\\pasin\\ds\\доп\\generation_of_paronyms\\venv\\lib\\site-packages (from -r requirements.txt (line 40)) (8.6.1)\n",
            "Requirement already satisfied: jupyter_core==5.7.2 in c:\\users\\pasin\\ds\\доп\\generation_of_paronyms\\venv\\lib\\site-packages (from -r requirements.txt (line 41)) (5.7.2)\n",
            "Requirement already satisfied: keras==3.1.1 in c:\\users\\pasin\\ds\\доп\\generation_of_paronyms\\venv\\lib\\site-packages (from -r requirements.txt (line 42)) (3.1.1)\n",
            "Requirement already satisfied: kiwisolver==1.4.5 in c:\\users\\pasin\\ds\\доп\\generation_of_paronyms\\venv\\lib\\site-packages (from -r requirements.txt (line 43)) (1.4.5)\n",
            "Requirement already satisfied: Levenshtein==0.25.0 in c:\\users\\pasin\\ds\\доп\\generation_of_paronyms\\venv\\lib\\site-packages (from -r requirements.txt (line 44)) (0.25.0)\n",
            "Requirement already satisfied: libclang==18.1.1 in c:\\users\\pasin\\ds\\доп\\generation_of_paronyms\\venv\\lib\\site-packages (from -r requirements.txt (line 45)) (18.1.1)\n",
            "Requirement already satisfied: Markdown==3.6 in c:\\users\\pasin\\ds\\доп\\generation_of_paronyms\\venv\\lib\\site-packages (from -r requirements.txt (line 46)) (3.6)\n",
            "Requirement already satisfied: markdown-it-py==3.0.0 in c:\\users\\pasin\\ds\\доп\\generation_of_paronyms\\venv\\lib\\site-packages (from -r requirements.txt (line 47)) (3.0.0)\n",
            "Requirement already satisfied: MarkupSafe==2.1.5 in c:\\users\\pasin\\ds\\доп\\generation_of_paronyms\\venv\\lib\\site-packages (from -r requirements.txt (line 48)) (2.1.5)\n",
            "Requirement already satisfied: matplotlib==3.8.3 in c:\\users\\pasin\\ds\\доп\\generation_of_paronyms\\venv\\lib\\site-packages (from -r requirements.txt (line 49)) (3.8.3)\n",
            "Requirement already satisfied: matplotlib-inline==0.1.6 in c:\\users\\pasin\\ds\\доп\\generation_of_paronyms\\venv\\lib\\site-packages (from -r requirements.txt (line 50)) (0.1.6)\n",
            "Requirement already satisfied: mdurl==0.1.2 in c:\\users\\pasin\\ds\\доп\\generation_of_paronyms\\venv\\lib\\site-packages (from -r requirements.txt (line 51)) (0.1.2)\n",
            "Requirement already satisfied: ml-dtypes==0.3.2 in c:\\users\\pasin\\ds\\доп\\generation_of_paronyms\\venv\\lib\\site-packages (from -r requirements.txt (line 52)) (0.3.2)\n",
            "Requirement already satisfied: namex==0.0.7 in c:\\users\\pasin\\ds\\доп\\generation_of_paronyms\\venv\\lib\\site-packages (from -r requirements.txt (line 53)) (0.0.7)\n",
            "Requirement already satisfied: nest-asyncio==1.6.0 in c:\\users\\pasin\\ds\\доп\\generation_of_paronyms\\venv\\lib\\site-packages (from -r requirements.txt (line 54)) (1.6.0)\n",
            "Requirement already satisfied: numpy==1.26.4 in c:\\users\\pasin\\ds\\доп\\generation_of_paronyms\\venv\\lib\\site-packages (from -r requirements.txt (line 55)) (1.26.4)\n",
            "Requirement already satisfied: opt-einsum==3.3.0 in c:\\users\\pasin\\ds\\доп\\generation_of_paronyms\\venv\\lib\\site-packages (from -r requirements.txt (line 56)) (3.3.0)\n",
            "Requirement already satisfied: optree==0.11.0 in c:\\users\\pasin\\ds\\доп\\generation_of_paronyms\\venv\\lib\\site-packages (from -r requirements.txt (line 57)) (0.11.0)\n",
            "Requirement already satisfied: packaging==24.0 in c:\\users\\pasin\\ds\\доп\\generation_of_paronyms\\venv\\lib\\site-packages (from -r requirements.txt (line 58)) (24.0)\n",
            "Requirement already satisfied: pandas==2.2.1 in c:\\users\\pasin\\ds\\доп\\generation_of_paronyms\\venv\\lib\\site-packages (from -r requirements.txt (line 59)) (2.2.1)\n",
            "Requirement already satisfied: parso==0.8.3 in c:\\users\\pasin\\ds\\доп\\generation_of_paronyms\\venv\\lib\\site-packages (from -r requirements.txt (line 60)) (0.8.3)\n",
            "Requirement already satisfied: pillow==10.2.0 in c:\\users\\pasin\\ds\\доп\\generation_of_paronyms\\venv\\lib\\site-packages (from -r requirements.txt (line 61)) (10.2.0)\n",
            "Requirement already satisfied: platformdirs==4.2.0 in c:\\users\\pasin\\ds\\доп\\generation_of_paronyms\\venv\\lib\\site-packages (from -r requirements.txt (line 62)) (4.2.0)\n",
            "Requirement already satisfied: plotly==5.20.0 in c:\\users\\pasin\\ds\\доп\\generation_of_paronyms\\venv\\lib\\site-packages (from -r requirements.txt (line 63)) (5.20.0)\n",
            "Requirement already satisfied: prompt-toolkit==3.0.43 in c:\\users\\pasin\\ds\\доп\\generation_of_paronyms\\venv\\lib\\site-packages (from -r requirements.txt (line 64)) (3.0.43)\n",
            "Requirement already satisfied: protobuf==4.25.3 in c:\\users\\pasin\\ds\\доп\\generation_of_paronyms\\venv\\lib\\site-packages (from -r requirements.txt (line 65)) (4.25.3)\n",
            "Requirement already satisfied: psutil==5.9.8 in c:\\users\\pasin\\ds\\доп\\generation_of_paronyms\\venv\\lib\\site-packages (from -r requirements.txt (line 66)) (5.9.8)\n",
            "Requirement already satisfied: pure-eval==0.2.2 in c:\\users\\pasin\\ds\\доп\\generation_of_paronyms\\venv\\lib\\site-packages (from -r requirements.txt (line 67)) (0.2.2)\n",
            "Requirement already satisfied: Pygments==2.17.2 in c:\\users\\pasin\\ds\\доп\\generation_of_paronyms\\venv\\lib\\site-packages (from -r requirements.txt (line 68)) (2.17.2)\n",
            "Requirement already satisfied: pymorphy2==0.9.1 in c:\\users\\pasin\\ds\\доп\\generation_of_paronyms\\venv\\lib\\site-packages (from -r requirements.txt (line 69)) (0.9.1)\n",
            "Requirement already satisfied: pymorphy2-dicts-ru==2.4.417127.4579844 in c:\\users\\pasin\\ds\\доп\\generation_of_paronyms\\venv\\lib\\site-packages (from -r requirements.txt (line 70)) (2.4.417127.4579844)\n",
            "Requirement already satisfied: pyparsing==3.1.2 in c:\\users\\pasin\\ds\\доп\\generation_of_paronyms\\venv\\lib\\site-packages (from -r requirements.txt (line 71)) (3.1.2)\n",
            "Requirement already satisfied: python-dateutil==2.9.0.post0 in c:\\users\\pasin\\ds\\доп\\generation_of_paronyms\\venv\\lib\\site-packages (from -r requirements.txt (line 72)) (2.9.0.post0)\n",
            "Requirement already satisfied: python-Levenshtein==0.25.0 in c:\\users\\pasin\\ds\\доп\\generation_of_paronyms\\venv\\lib\\site-packages (from -r requirements.txt (line 73)) (0.25.0)\n",
            "Requirement already satisfied: pytz==2024.1 in c:\\users\\pasin\\ds\\доп\\generation_of_paronyms\\venv\\lib\\site-packages (from -r requirements.txt (line 74)) (2024.1)\n",
            "Requirement already satisfied: pywin32==306 in c:\\users\\pasin\\ds\\доп\\generation_of_paronyms\\venv\\lib\\site-packages (from -r requirements.txt (line 75)) (306)\n",
            "Requirement already satisfied: PyYAML==6.0.1 in c:\\users\\pasin\\ds\\доп\\generation_of_paronyms\\venv\\lib\\site-packages (from -r requirements.txt (line 76)) (6.0.1)\n",
            "Requirement already satisfied: pyzmq==25.1.2 in c:\\users\\pasin\\ds\\доп\\generation_of_paronyms\\venv\\lib\\site-packages (from -r requirements.txt (line 77)) (25.1.2)\n",
            "Requirement already satisfied: rapidfuzz==3.7.0 in c:\\users\\pasin\\ds\\доп\\generation_of_paronyms\\venv\\lib\\site-packages (from -r requirements.txt (line 78)) (3.7.0)\n",
            "Requirement already satisfied: requests==2.31.0 in c:\\users\\pasin\\ds\\доп\\generation_of_paronyms\\venv\\lib\\site-packages (from -r requirements.txt (line 79)) (2.31.0)\n",
            "Requirement already satisfied: rich==13.7.1 in c:\\users\\pasin\\ds\\доп\\generation_of_paronyms\\venv\\lib\\site-packages (from -r requirements.txt (line 80)) (13.7.1)\n",
            "Requirement already satisfied: scikit-learn==1.4.1.post1 in c:\\users\\pasin\\ds\\доп\\generation_of_paronyms\\venv\\lib\\site-packages (from -r requirements.txt (line 81)) (1.4.1.post1)\n",
            "Requirement already satisfied: scipy==1.12.0 in c:\\users\\pasin\\ds\\доп\\generation_of_paronyms\\venv\\lib\\site-packages (from -r requirements.txt (line 82)) (1.12.0)\n",
            "Requirement already satisfied: sentry-sdk==1.43.0 in c:\\users\\pasin\\ds\\доп\\generation_of_paronyms\\venv\\lib\\site-packages (from -r requirements.txt (line 83)) (1.43.0)\n",
            "Requirement already satisfied: setproctitle==1.3.3 in c:\\users\\pasin\\ds\\доп\\generation_of_paronyms\\venv\\lib\\site-packages (from -r requirements.txt (line 84)) (1.3.3)\n",
            "Requirement already satisfied: six==1.16.0 in c:\\users\\pasin\\ds\\доп\\generation_of_paronyms\\venv\\lib\\site-packages (from -r requirements.txt (line 85)) (1.16.0)\n",
            "Requirement already satisfied: sklearn==0.0.post5 in c:\\users\\pasin\\ds\\доп\\generation_of_paronyms\\venv\\lib\\site-packages (from -r requirements.txt (line 86)) (0.0.post5)\n",
            "Requirement already satisfied: smart-open==7.0.4 in c:\\users\\pasin\\ds\\доп\\generation_of_paronyms\\venv\\lib\\site-packages (from -r requirements.txt (line 87)) (7.0.4)\n",
            "Requirement already satisfied: smmap==5.0.1 in c:\\users\\pasin\\ds\\доп\\generation_of_paronyms\\venv\\lib\\site-packages (from -r requirements.txt (line 88)) (5.0.1)\n",
            "Requirement already satisfied: soupsieve==2.5 in c:\\users\\pasin\\ds\\доп\\generation_of_paronyms\\venv\\lib\\site-packages (from -r requirements.txt (line 89)) (2.5)\n",
            "Requirement already satisfied: stack-data==0.6.3 in c:\\users\\pasin\\ds\\доп\\generation_of_paronyms\\venv\\lib\\site-packages (from -r requirements.txt (line 90)) (0.6.3)\n",
            "Requirement already satisfied: tenacity==8.2.3 in c:\\users\\pasin\\ds\\доп\\generation_of_paronyms\\venv\\lib\\site-packages (from -r requirements.txt (line 91)) (8.2.3)\n",
            "Requirement already satisfied: tensorboard==2.16.2 in c:\\users\\pasin\\ds\\доп\\generation_of_paronyms\\venv\\lib\\site-packages (from -r requirements.txt (line 92)) (2.16.2)\n",
            "Requirement already satisfied: tensorboard-data-server==0.7.2 in c:\\users\\pasin\\ds\\доп\\generation_of_paronyms\\venv\\lib\\site-packages (from -r requirements.txt (line 93)) (0.7.2)\n",
            "Requirement already satisfied: tensorflow==2.16.1 in c:\\users\\pasin\\ds\\доп\\generation_of_paronyms\\venv\\lib\\site-packages (from -r requirements.txt (line 94)) (2.16.1)\n",
            "Requirement already satisfied: tensorflow-intel==2.16.1 in c:\\users\\pasin\\ds\\доп\\generation_of_paronyms\\venv\\lib\\site-packages (from -r requirements.txt (line 95)) (2.16.1)\n",
            "Requirement already satisfied: tensorflow-io-gcs-filesystem==0.31.0 in c:\\users\\pasin\\ds\\доп\\generation_of_paronyms\\venv\\lib\\site-packages (from -r requirements.txt (line 96)) (0.31.0)\n",
            "Requirement already satisfied: termcolor==2.4.0 in c:\\users\\pasin\\ds\\доп\\generation_of_paronyms\\venv\\lib\\site-packages (from -r requirements.txt (line 97)) (2.4.0)\n",
            "Requirement already satisfied: threadpoolctl==3.4.0 in c:\\users\\pasin\\ds\\доп\\generation_of_paronyms\\venv\\lib\\site-packages (from -r requirements.txt (line 98)) (3.4.0)\n",
            "Requirement already satisfied: tornado==6.4 in c:\\users\\pasin\\ds\\доп\\generation_of_paronyms\\venv\\lib\\site-packages (from -r requirements.txt (line 99)) (6.4)\n",
            "Requirement already satisfied: traitlets==5.14.2 in c:\\users\\pasin\\ds\\доп\\generation_of_paronyms\\venv\\lib\\site-packages (from -r requirements.txt (line 100)) (5.14.2)\n",
            "Requirement already satisfied: typing_extensions==4.10.0 in c:\\users\\pasin\\ds\\доп\\generation_of_paronyms\\venv\\lib\\site-packages (from -r requirements.txt (line 101)) (4.10.0)\n",
            "Requirement already satisfied: tzdata==2024.1 in c:\\users\\pasin\\ds\\доп\\generation_of_paronyms\\venv\\lib\\site-packages (from -r requirements.txt (line 102)) (2024.1)\n",
            "Requirement already satisfied: urllib3==2.2.1 in c:\\users\\pasin\\ds\\доп\\generation_of_paronyms\\venv\\lib\\site-packages (from -r requirements.txt (line 103)) (2.2.1)\n",
            "Requirement already satisfied: wandb==0.16.5 in c:\\users\\pasin\\ds\\доп\\generation_of_paronyms\\venv\\lib\\site-packages (from -r requirements.txt (line 104)) (0.16.5)\n",
            "Requirement already satisfied: wcwidth==0.2.13 in c:\\users\\pasin\\ds\\доп\\generation_of_paronyms\\venv\\lib\\site-packages (from -r requirements.txt (line 105)) (0.2.13)\n",
            "Requirement already satisfied: Werkzeug==3.0.1 in c:\\users\\pasin\\ds\\доп\\generation_of_paronyms\\venv\\lib\\site-packages (from -r requirements.txt (line 106)) (3.0.1)\n",
            "Requirement already satisfied: wrapt==1.16.0 in c:\\users\\pasin\\ds\\доп\\generation_of_paronyms\\venv\\lib\\site-packages (from -r requirements.txt (line 107)) (1.16.0)\n",
            "Requirement already satisfied: zipp==3.18.1 in c:\\users\\pasin\\ds\\доп\\generation_of_paronyms\\venv\\lib\\site-packages (from -r requirements.txt (line 108)) (3.18.1)\n",
            "Requirement already satisfied: wheel<1.0,>=0.23.0 in c:\\users\\pasin\\ds\\доп\\generation_of_paronyms\\venv\\lib\\site-packages (from astunparse==1.6.3->-r requirements.txt (line 4)) (0.43.0)\n",
            "Requirement already satisfied: setuptools>=41.0.0 in c:\\users\\pasin\\ds\\доп\\generation_of_paronyms\\venv\\lib\\site-packages (from tensorboard==2.16.2->-r requirements.txt (line 92)) (57.4.0)\n"
          ]
        }
      ],
      "source": [
        "!pip install -r requirements.txt"
      ]
    },
    {
      "cell_type": "markdown",
      "metadata": {},
      "source": [
        "Импорт библиотек"
      ]
    },
    {
      "cell_type": "code",
      "execution_count": 5,
      "metadata": {
        "id": "I8S7weoJwl-8"
      },
      "outputs": [],
      "source": [
        "import numpy as np\n",
        "import pandas as pd\n",
        "\n",
        "import random\n",
        "import requests\n",
        "from bs4 import BeautifulSoup"
      ]
    },
    {
      "cell_type": "code",
      "execution_count": 6,
      "metadata": {
        "id": "N7Gd-rw6wnxS"
      },
      "outputs": [],
      "source": [
        "home_url = 'https://ru-paronym.ru'\n",
        "data_filename = \"Data/paronym.csv\""
      ]
    },
    {
      "cell_type": "code",
      "execution_count": 7,
      "metadata": {
        "id": "K9M4YEhbwq47"
      },
      "outputs": [],
      "source": [
        "paronyms = []\n",
        "\n",
        "# взятие паронимов с открытого ресурса\n",
        "ru_alphabet = [chr(i) for i in range(ord('А'), ord('А') + 32)]\n",
        "no_words = ['Ё', 'Й', 'Щ', 'Ъ', 'Ы', 'Ь']\n",
        "\n",
        "# Создаем множество всех слов из датасета паронимов\n",
        "all_words = set()\n",
        "\n",
        "for letter in ru_alphabet:\n",
        "    if letter in no_words:\n",
        "        continue\n",
        "    url = home_url + '/' + letter\n",
        "    html = requests.get(url)\n",
        "    soup = BeautifulSoup(html.content, 'html.parser')\n",
        "    arr = soup.find_all('a', href=True)[2:-27]  # Откидываем первые 2 и последние 27 элемента, которые есть на каждой странице\n",
        "    for elem in arr:\n",
        "        webpage = home_url + elem['href']\n",
        "        words = (elem.string).split(' — ')\n",
        "        paronyms.append([words[0], words[1], 1])  # пары слов - паронимы\n",
        "        paronyms.append([words[1], words[0], 1])  # пара в обратном порядке\n",
        "        all_words.update((words[0], words[1])) # Создаем множество всех слов из датасета паронимов"
      ]
    },
    {
      "cell_type": "code",
      "execution_count": 8,
      "metadata": {
        "colab": {
          "base_uri": "https://localhost:8080/"
        },
        "id": "o77cKk6IwtLZ",
        "outputId": "9f822d67-2fa7-44e5-ead5-ccba2bd60031"
      },
      "outputs": [
        {
          "name": "stdout",
          "output_type": "stream",
          "text": [
            "[['абонемент', 'абонент', 1], ['абонент', 'абонемент', 1], ['абстрактность', 'абстракция', 1], ['абстракция', 'абстрактность', 1], ['авантюрин', 'авантюрист', 1]]\n"
          ]
        }
      ],
      "source": [
        "# база данных с кортежами с меткой (1) - паронимы\n",
        "print(paronyms[:5])"
      ]
    },
    {
      "cell_type": "code",
      "execution_count": 9,
      "metadata": {
        "id": "A4f2UKVWSpI6"
      },
      "outputs": [],
      "source": [
        "data = pd.DataFrame(paronyms, columns=['word1', 'word2', 'label'])\n",
        "data.to_csv(\"only_paronyms.csv\")"
      ]
    },
    {
      "cell_type": "code",
      "execution_count": 10,
      "metadata": {
        "id": "uXz-p6YDXh9x"
      },
      "outputs": [],
      "source": [
        "# создание пар слов не паронимов путем перемешивания уже имеющихся слов\n",
        "def generate_non_paronyms(paronyms, seed = None, ratio = 1):\n",
        "\n",
        "    non_paronyms = []\n",
        "\n",
        "    if seed:\n",
        "      random.seed(seed)\n",
        "\n",
        "    # Случайные пары из множества всех слов\n",
        "    for _ in range(int(len(paronyms) * ratio )):\n",
        "        word1, word2 = random.choices(list(all_words), k=2)\n",
        "        if (word1 + ' ' + word2, 1) not in paronyms:\n",
        "          non_paronyms.append([word1, word2, 0])  # Метка 0, так как это непаронимы\n",
        "\n",
        "    return non_paronyms\n",
        "\n",
        "non_paronyms = generate_non_paronyms(paronyms, 42)"
      ]
    },
    {
      "cell_type": "code",
      "execution_count": 11,
      "metadata": {
        "colab": {
          "base_uri": "https://localhost:8080/"
        },
        "id": "iu5EPmdjXkbP",
        "outputId": "fcbf00ce-5d0d-46a2-c90b-6123c8724cf6"
      },
      "outputs": [
        {
          "name": "stdout",
          "output_type": "stream",
          "text": [
            "[['обездушить', 'комичный', 0], ['целый', 'цельный', 1], ['сравнимый', 'неорганичный', 0], ['чубастый', 'завоевательный', 0], ['сыскать', 'снискать', 1]]\n"
          ]
        }
      ],
      "source": [
        "dataset_par = paronyms + non_paronyms\n",
        "random.shuffle(dataset_par) # перемешивание датасета на всякий случай\n",
        "print(dataset_par[:5])"
      ]
    },
    {
      "cell_type": "code",
      "execution_count": 12,
      "metadata": {
        "id": "olzHKiJ0XnMI"
      },
      "outputs": [],
      "source": [
        "data = pd.DataFrame(dataset_par, columns=['word1', 'word2', 'label'])\n",
        "data.to_csv(data_filename)"
      ]
    },
    {
      "cell_type": "code",
      "execution_count": null,
      "metadata": {},
      "outputs": [],
      "source": []
    }
  ],
  "metadata": {
    "colab": {
      "provenance": []
    },
    "kernelspec": {
      "display_name": "Python 3",
      "name": "python3"
    },
    "language_info": {
      "codemirror_mode": {
        "name": "ipython",
        "version": 3
      },
      "file_extension": ".py",
      "mimetype": "text/x-python",
      "name": "python",
      "nbconvert_exporter": "python",
      "pygments_lexer": "ipython3",
      "version": "3.9.7"
    }
  },
  "nbformat": 4,
  "nbformat_minor": 0
}
