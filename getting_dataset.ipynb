{
  "cells": [
    {
      "cell_type": "code",
      "execution_count": 10,
      "metadata": {
        "colab": {
          "base_uri": "https://localhost:8080/"
        },
        "id": "cxJ0orJQwaaY",
        "outputId": "381efb0e-def3-4ad6-b13a-62cda1048418"
      },
      "outputs": [
        {
          "name": "stdout",
          "output_type": "stream",
          "text": [
            "Requirement already satisfied: fuzzywuzzy in /usr/local/lib/python3.10/dist-packages (0.18.0)\n"
          ]
        }
      ],
      "source": [
        "%pip install fuzzywuzzy"
      ]
    },
    {
      "cell_type": "code",
      "execution_count": 11,
      "metadata": {
        "id": "I8S7weoJwl-8"
      },
      "outputs": [],
      "source": [
        "import numpy as np\n",
        "import pandas as pd\n",
        "\n",
        "import random\n",
        "import requests\n",
        "from bs4 import BeautifulSoup\n",
        "import matplotlib.pyplot as plt"
      ]
    },
    {
      "cell_type": "code",
      "execution_count": 12,
      "metadata": {
        "id": "N7Gd-rw6wnxS"
      },
      "outputs": [],
      "source": [
        "home_url = 'https://ru-paronym.ru'\n",
        "data_filename = \"paronym.csv\""
      ]
    },
    {
      "cell_type": "code",
      "execution_count": 13,
      "metadata": {
        "id": "K9M4YEhbwq47"
      },
      "outputs": [],
      "source": [
        "paronyms = []\n",
        "\n",
        "# взятие паронимов с открытого ресурса\n",
        "ru_alphabet = [chr(i) for i in range(ord('А'), ord('А') + 32)]\n",
        "no_words = ['Ё', 'Й', 'Щ', 'Ъ', 'Ы', 'Ь']\n",
        "\n",
        "# Создаем множество всех слов из датасета паронимов\n",
        "all_words = set()\n",
        "\n",
        "for letter in ru_alphabet:\n",
        "    if letter in no_words:\n",
        "        continue\n",
        "    url = home_url + '/' + letter\n",
        "    html = requests.get(url)\n",
        "    soup = BeautifulSoup(html.content, 'html.parser')\n",
        "    arr = soup.find_all('a', href=True)[2:-27]  # Откидываем первые 2 и последние 27 элемента, которые есть на каждой странице\n",
        "    for elem in arr:\n",
        "        webpage = home_url + elem['href']\n",
        "        words = (elem.string).split(' — ')\n",
        "        paronyms.append([words[0], words[1], 1])  # пары слов - паронимы\n",
        "        paronyms.append([words[1], words[0], 1])  # пара в обратном порядке\n",
        "        all_words.update((words[0], words[1])) # Создаем множество всех слов из датасета паронимов"
      ]
    },
    {
      "cell_type": "code",
      "execution_count": 14,
      "metadata": {
        "colab": {
          "base_uri": "https://localhost:8080/"
        },
        "id": "o77cKk6IwtLZ",
        "outputId": "9f822d67-2fa7-44e5-ead5-ccba2bd60031"
      },
      "outputs": [
        {
          "name": "stdout",
          "output_type": "stream",
          "text": [
            "[['абонемент', 'абонент', 1], ['абонент', 'абонемент', 1], ['абстрактность', 'абстракция', 1], ['абстракция', 'абстрактность', 1], ['авантюрин', 'авантюрист', 1]]\n"
          ]
        }
      ],
      "source": [
        "# база данных с кортежами с меткой (1) - паронимы\n",
        "print(paronyms[:5])"
      ]
    },
    {
      "cell_type": "code",
      "execution_count": 16,
      "metadata": {
        "id": "A4f2UKVWSpI6"
      },
      "outputs": [],
      "source": [
        "data = pd.DataFrame(paronyms, columns=['word1', 'word2', 'label'])\n",
        "data.to_csv(\"only_paronyms.csv\")"
      ]
    },
    {
      "cell_type": "code",
      "execution_count": 17,
      "metadata": {
        "id": "uXz-p6YDXh9x"
      },
      "outputs": [],
      "source": [
        "# создание пар слов не паронимов путем перемешивания уже имеющихся слов\n",
        "def generate_non_paronyms(paronyms, seed = None, ratio = 1):\n",
        "\n",
        "    non_paronyms = []\n",
        "\n",
        "    if seed:\n",
        "      random.seed(seed)\n",
        "\n",
        "    # Случайные пары из множества всех слов\n",
        "    for _ in range(int(len(paronyms) * ratio )):\n",
        "        word1, word2 = random.choices(list(all_words), k=2)\n",
        "        if (word1 + ' ' + word2, 1) not in paronyms:\n",
        "          non_paronyms.append([word1, word2, 0])  # Метка 0, так как это непаронимы\n",
        "\n",
        "    return non_paronyms\n",
        "\n",
        "non_paronyms = generate_non_paronyms(paronyms, 42)"
      ]
    },
    {
      "cell_type": "code",
      "execution_count": 18,
      "metadata": {
        "colab": {
          "base_uri": "https://localhost:8080/"
        },
        "id": "iu5EPmdjXkbP",
        "outputId": "fcbf00ce-5d0d-46a2-c90b-6123c8724cf6"
      },
      "outputs": [
        {
          "name": "stdout",
          "output_type": "stream",
          "text": [
            "[['клетчатый', 'грамматический', 0], ['целый', 'цельный', 1], ['заводской', 'вскрытие', 0], ['нафталин', 'чародейный', 0], ['сыскать', 'снискать', 1]]\n"
          ]
        }
      ],
      "source": [
        "dataset_par = paronyms + non_paronyms\n",
        "random.shuffle(dataset_par) # перемешивание датасета на всякий случай\n",
        "print(dataset_par[:5])"
      ]
    },
    {
      "cell_type": "code",
      "execution_count": 19,
      "metadata": {
        "id": "olzHKiJ0XnMI"
      },
      "outputs": [],
      "source": [
        "\n",
        "data = pd.DataFrame(dataset_par, columns=['word1', 'word2', 'label'])\n",
        "data.to_csv(data_filename)\n",
        "\n"
      ]
    }
  ],
  "metadata": {
    "colab": {
      "provenance": []
    },
    "kernelspec": {
      "display_name": "Python 3",
      "name": "python3"
    },
    "language_info": {
      "name": "python"
    }
  },
  "nbformat": 4,
  "nbformat_minor": 0
}
