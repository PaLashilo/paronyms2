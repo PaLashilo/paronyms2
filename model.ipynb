{
 "cells": [
  {
   "cell_type": "markdown",
   "metadata": {},
   "source": [
    "Скачивание всех зависимостей проекта"
   ]
  },
  {
   "cell_type": "code",
   "execution_count": 7,
   "metadata": {},
   "outputs": [],
   "source": [
    "!pip install -r requirements.txt"
   ]
  },
  {
   "cell_type": "markdown",
   "metadata": {},
   "source": [
    "Авторизация в wandb "
   ]
  },
  {
   "cell_type": "code",
   "execution_count": 11,
   "metadata": {},
   "outputs": [
    {
     "name": "stderr",
     "output_type": "stream",
     "text": [
      "\"cat\" �� ���� ����७��� ��� ���譥�\n",
      "��������, �ᯮ��塞�� �ணࠬ��� ��� ������ 䠩���.\n"
     ]
    }
   ],
   "source": [
    "!wandb login | cat wandb_secret.txt"
   ]
  },
  {
   "cell_type": "markdown",
   "metadata": {},
   "source": [
    "Импорт библиотек"
   ]
  },
  {
   "cell_type": "code",
   "execution_count": 39,
   "metadata": {},
   "outputs": [],
   "source": [
    "import pandas as pd\n",
    "import numpy as np\n",
    "import tensorflow as tf\n",
    "import optuna\n",
    "\n",
    "from catboost import CatBoostClassifier\n",
    "from sklearn.model_selection import train_test_split\n",
    "from sklearn.metrics import mean_absolute_error, accuracy_score\n",
    "from sklearn.decomposition import PCA\n",
    "\n",
    "import matplotlib.pyplot as plt\n",
    "\n",
    "import pymorphy2\n",
    "import Levenshtein\n",
    "import gensim.downloader\n",
    "import wandb\n",
    "import json\n",
    "\n",
    "import warnings\n",
    "warnings.filterwarnings(\"ignore\")"
   ]
  },
  {
   "cell_type": "markdown",
   "metadata": {},
   "source": [
    "Чтение данных"
   ]
  },
  {
   "cell_type": "code",
   "execution_count": 31,
   "metadata": {},
   "outputs": [],
   "source": [
    "# конфигурация\n",
    "with open('config.json', 'r') as file:\n",
    "    config = json.load(file)\n",
    "\n",
    "cat = config['catboost']\n",
    "nn = config['nn']\n",
    "path = config['data_path']"
   ]
  },
  {
   "cell_type": "code",
   "execution_count": 14,
   "metadata": {},
   "outputs": [],
   "source": [
    "# датафрейм \n",
    "data = pd.read_csv(path, index_col=0)"
   ]
  },
  {
   "cell_type": "markdown",
   "metadata": {},
   "source": [
    "Препроцессинг"
   ]
  },
  {
   "cell_type": "code",
   "execution_count": 15,
   "metadata": {},
   "outputs": [],
   "source": [
    "# installing model\n",
    "word2vec_rus = gensim.downloader.load('word2vec-ruscorpora-300')"
   ]
  },
  {
   "cell_type": "code",
   "execution_count": 16,
   "metadata": {},
   "outputs": [],
   "source": [
    "morph = pymorphy2.MorphAnalyzer()"
   ]
  },
  {
   "cell_type": "code",
   "execution_count": 17,
   "metadata": {},
   "outputs": [],
   "source": [
    "# get a part of speech needed to make an embedding of word\n",
    "def get_part_of_speech(word):\n",
    "    \n",
    "    parsed_word = morph.parse(word)[0]\n",
    "    pos = parsed_word.tag.POS\n",
    "\n",
    "    if pos == \"ADJF\":\n",
    "        return \"ADJ\"\n",
    "    \n",
    "    return pos "
   ]
  },
  {
   "cell_type": "code",
   "execution_count": 18,
   "metadata": {},
   "outputs": [],
   "source": [
    "# making embedding by pretrained word2vec model \n",
    "def get_embedding(word):\n",
    "\n",
    "    w2v_word = f\"{word}_{get_part_of_speech(word)}\"\n",
    "\n",
    "    try:\n",
    "        emb = word2vec_rus[w2v_word]\n",
    "\n",
    "    except KeyError:\n",
    "        return None\n",
    "    \n",
    "    return emb"
   ]
  },
  {
   "cell_type": "code",
   "execution_count": 19,
   "metadata": {},
   "outputs": [
    {
     "data": {
      "text/html": [
       "<div>\n",
       "<style scoped>\n",
       "    .dataframe tbody tr th:only-of-type {\n",
       "        vertical-align: middle;\n",
       "    }\n",
       "\n",
       "    .dataframe tbody tr th {\n",
       "        vertical-align: top;\n",
       "    }\n",
       "\n",
       "    .dataframe thead th {\n",
       "        text-align: right;\n",
       "    }\n",
       "</style>\n",
       "<table border=\"1\" class=\"dataframe\">\n",
       "  <thead>\n",
       "    <tr style=\"text-align: right;\">\n",
       "      <th></th>\n",
       "      <th>word1</th>\n",
       "      <th>word2</th>\n",
       "      <th>label</th>\n",
       "      <th>emb_1_0</th>\n",
       "      <th>emb_1_1</th>\n",
       "      <th>emb_1_2</th>\n",
       "      <th>emb_1_3</th>\n",
       "      <th>emb_1_4</th>\n",
       "      <th>emb_1_5</th>\n",
       "      <th>emb_1_6</th>\n",
       "      <th>...</th>\n",
       "      <th>emb_2_291</th>\n",
       "      <th>emb_2_292</th>\n",
       "      <th>emb_2_293</th>\n",
       "      <th>emb_2_294</th>\n",
       "      <th>emb_2_295</th>\n",
       "      <th>emb_2_296</th>\n",
       "      <th>emb_2_297</th>\n",
       "      <th>emb_2_298</th>\n",
       "      <th>emb_2_299</th>\n",
       "      <th>lev_dist</th>\n",
       "    </tr>\n",
       "  </thead>\n",
       "  <tbody>\n",
       "    <tr>\n",
       "      <th>0</th>\n",
       "      <td>целый</td>\n",
       "      <td>цельный</td>\n",
       "      <td>1</td>\n",
       "      <td>-0.019124</td>\n",
       "      <td>0.034811</td>\n",
       "      <td>0.057754</td>\n",
       "      <td>0.119841</td>\n",
       "      <td>-0.034180</td>\n",
       "      <td>0.042868</td>\n",
       "      <td>0.015424</td>\n",
       "      <td>...</td>\n",
       "      <td>0.032209</td>\n",
       "      <td>0.014659</td>\n",
       "      <td>0.024586</td>\n",
       "      <td>-0.071244</td>\n",
       "      <td>-0.106860</td>\n",
       "      <td>0.002109</td>\n",
       "      <td>0.057067</td>\n",
       "      <td>-0.029967</td>\n",
       "      <td>0.069121</td>\n",
       "      <td>2</td>\n",
       "    </tr>\n",
       "    <tr>\n",
       "      <th>1</th>\n",
       "      <td>сравнимый</td>\n",
       "      <td>неорганичный</td>\n",
       "      <td>0</td>\n",
       "      <td>-0.043983</td>\n",
       "      <td>-0.009047</td>\n",
       "      <td>-0.063538</td>\n",
       "      <td>0.147805</td>\n",
       "      <td>-0.161587</td>\n",
       "      <td>0.027221</td>\n",
       "      <td>0.032012</td>\n",
       "      <td>...</td>\n",
       "      <td>-0.034892</td>\n",
       "      <td>0.018441</td>\n",
       "      <td>0.069707</td>\n",
       "      <td>-0.001893</td>\n",
       "      <td>-0.062972</td>\n",
       "      <td>0.145138</td>\n",
       "      <td>0.147791</td>\n",
       "      <td>-0.062155</td>\n",
       "      <td>0.080968</td>\n",
       "      <td>7</td>\n",
       "    </tr>\n",
       "    <tr>\n",
       "      <th>2</th>\n",
       "      <td>чубастый</td>\n",
       "      <td>завоевательный</td>\n",
       "      <td>0</td>\n",
       "      <td>-0.051917</td>\n",
       "      <td>0.044872</td>\n",
       "      <td>0.014789</td>\n",
       "      <td>0.002823</td>\n",
       "      <td>-0.002203</td>\n",
       "      <td>0.050730</td>\n",
       "      <td>0.031053</td>\n",
       "      <td>...</td>\n",
       "      <td>0.046212</td>\n",
       "      <td>-0.020866</td>\n",
       "      <td>-0.080959</td>\n",
       "      <td>-0.085725</td>\n",
       "      <td>-0.003354</td>\n",
       "      <td>0.015747</td>\n",
       "      <td>0.017519</td>\n",
       "      <td>-0.042495</td>\n",
       "      <td>0.167213</td>\n",
       "      <td>11</td>\n",
       "    </tr>\n",
       "    <tr>\n",
       "      <th>3</th>\n",
       "      <td>обидчивый</td>\n",
       "      <td>азарт</td>\n",
       "      <td>0</td>\n",
       "      <td>0.023674</td>\n",
       "      <td>0.052748</td>\n",
       "      <td>-0.034327</td>\n",
       "      <td>-0.031669</td>\n",
       "      <td>-0.014316</td>\n",
       "      <td>0.073295</td>\n",
       "      <td>-0.061295</td>\n",
       "      <td>...</td>\n",
       "      <td>-0.039973</td>\n",
       "      <td>-0.012380</td>\n",
       "      <td>-0.012538</td>\n",
       "      <td>-0.200660</td>\n",
       "      <td>-0.089638</td>\n",
       "      <td>-0.017675</td>\n",
       "      <td>0.042906</td>\n",
       "      <td>-0.012042</td>\n",
       "      <td>-0.019632</td>\n",
       "      <td>9</td>\n",
       "    </tr>\n",
       "    <tr>\n",
       "      <th>4</th>\n",
       "      <td>личностный</td>\n",
       "      <td>личный</td>\n",
       "      <td>1</td>\n",
       "      <td>-0.045874</td>\n",
       "      <td>-0.051794</td>\n",
       "      <td>-0.059747</td>\n",
       "      <td>0.019997</td>\n",
       "      <td>-0.075421</td>\n",
       "      <td>-0.042737</td>\n",
       "      <td>-0.057829</td>\n",
       "      <td>...</td>\n",
       "      <td>0.022120</td>\n",
       "      <td>-0.057636</td>\n",
       "      <td>0.027975</td>\n",
       "      <td>-0.042808</td>\n",
       "      <td>-0.101067</td>\n",
       "      <td>0.031723</td>\n",
       "      <td>0.043072</td>\n",
       "      <td>-0.031811</td>\n",
       "      <td>0.032527</td>\n",
       "      <td>4</td>\n",
       "    </tr>\n",
       "  </tbody>\n",
       "</table>\n",
       "<p>5 rows × 604 columns</p>\n",
       "</div>"
      ],
      "text/plain": [
       "        word1           word2  label   emb_1_0   emb_1_1   emb_1_2   emb_1_3  \\\n",
       "0       целый         цельный      1 -0.019124  0.034811  0.057754  0.119841   \n",
       "1   сравнимый    неорганичный      0 -0.043983 -0.009047 -0.063538  0.147805   \n",
       "2    чубастый  завоевательный      0 -0.051917  0.044872  0.014789  0.002823   \n",
       "3   обидчивый           азарт      0  0.023674  0.052748 -0.034327 -0.031669   \n",
       "4  личностный          личный      1 -0.045874 -0.051794 -0.059747  0.019997   \n",
       "\n",
       "    emb_1_4   emb_1_5   emb_1_6  ...  emb_2_291  emb_2_292  emb_2_293  \\\n",
       "0 -0.034180  0.042868  0.015424  ...   0.032209   0.014659   0.024586   \n",
       "1 -0.161587  0.027221  0.032012  ...  -0.034892   0.018441   0.069707   \n",
       "2 -0.002203  0.050730  0.031053  ...   0.046212  -0.020866  -0.080959   \n",
       "3 -0.014316  0.073295 -0.061295  ...  -0.039973  -0.012380  -0.012538   \n",
       "4 -0.075421 -0.042737 -0.057829  ...   0.022120  -0.057636   0.027975   \n",
       "\n",
       "   emb_2_294  emb_2_295  emb_2_296  emb_2_297  emb_2_298  emb_2_299  lev_dist  \n",
       "0  -0.071244  -0.106860   0.002109   0.057067  -0.029967   0.069121         2  \n",
       "1  -0.001893  -0.062972   0.145138   0.147791  -0.062155   0.080968         7  \n",
       "2  -0.085725  -0.003354   0.015747   0.017519  -0.042495   0.167213        11  \n",
       "3  -0.200660  -0.089638  -0.017675   0.042906  -0.012042  -0.019632         9  \n",
       "4  -0.042808  -0.101067   0.031723   0.043072  -0.031811   0.032527         4  \n",
       "\n",
       "[5 rows x 604 columns]"
      ]
     },
     "execution_count": 19,
     "metadata": {},
     "output_type": "execute_result"
    }
   ],
   "source": [
    "# add extra columns for embeddings \n",
    "for i in range(600):\n",
    "    data[f\"emb_{int(i > 299) + 1}_{i % 300}\"] = 0\n",
    "# add extra columns for Levenshtein distance\n",
    "data[\"lev_dist\"] = 0\n",
    "\n",
    "rows_to_drop = []\n",
    "\n",
    "# add embeddings to dataframe \n",
    "for i in range(len(data)):\n",
    "\n",
    "    # get embs for two words\n",
    "    word1 = data.word1[i]\n",
    "    word2 = data.word2[i]\n",
    "    emb1 = get_embedding(word1)\n",
    "    emb2 = get_embedding(word2)\n",
    "\n",
    "    if emb1 is not None and emb2 is not None:\n",
    "        # add embeddings\n",
    "        data.loc[i, \"emb_1_0\":\"emb_1_299\"] = emb1\n",
    "        data.loc[i, \"emb_2_0\":\"emb_2_299\"] = emb2\n",
    "        data.loc[i, \"lev_dist\"] = Levenshtein.distance(word1, word2)\n",
    "        # print(\"YES\", data.word1[i], data.word2[i])\n",
    "\n",
    "    else: \n",
    "        # delete words that are not in word2vec vocabulary\n",
    "        rows_to_drop.append(i)\n",
    "        # print(\"NO\", data.word1[i], data.word2[i])\n",
    "\n",
    "data = data.drop(rows_to_drop, axis=0).reset_index(drop=True)\n",
    "data.head()"
   ]
  },
  {
   "cell_type": "markdown",
   "metadata": {},
   "source": [
    "PCA сокращение размерности эмбедингов"
   ]
  },
  {
   "cell_type": "code",
   "execution_count": 20,
   "metadata": {},
   "outputs": [],
   "source": [
    "# fitting PCA\n",
    "def fit_pca(X, n):\n",
    "    pca = PCA(n_components=n)\n",
    "    pca.fit(X)\n",
    "    return pca\n",
    "\n",
    "# transform dataset to n_componets dimansion\n",
    "def reduce_dimension(pca, X):\n",
    "    X_transformed = pca.transform(X)\n",
    "    return X_transformed"
   ]
  },
  {
   "cell_type": "code",
   "execution_count": 21,
   "metadata": {},
   "outputs": [
    {
     "data": {
      "text/html": [
       "<div>\n",
       "<style scoped>\n",
       "    .dataframe tbody tr th:only-of-type {\n",
       "        vertical-align: middle;\n",
       "    }\n",
       "\n",
       "    .dataframe tbody tr th {\n",
       "        vertical-align: top;\n",
       "    }\n",
       "\n",
       "    .dataframe thead th {\n",
       "        text-align: right;\n",
       "    }\n",
       "</style>\n",
       "<table border=\"1\" class=\"dataframe\">\n",
       "  <thead>\n",
       "    <tr style=\"text-align: right;\">\n",
       "      <th></th>\n",
       "      <th>emb_1_0</th>\n",
       "      <th>emb_1_1</th>\n",
       "      <th>emb_1_2</th>\n",
       "      <th>emb_1_3</th>\n",
       "      <th>emb_1_4</th>\n",
       "      <th>emb_1_5</th>\n",
       "      <th>emb_1_6</th>\n",
       "      <th>emb_1_7</th>\n",
       "      <th>emb_1_8</th>\n",
       "      <th>emb_1_9</th>\n",
       "      <th>...</th>\n",
       "      <th>emb_2_141</th>\n",
       "      <th>emb_2_142</th>\n",
       "      <th>emb_2_143</th>\n",
       "      <th>emb_2_144</th>\n",
       "      <th>emb_2_145</th>\n",
       "      <th>emb_2_146</th>\n",
       "      <th>emb_2_147</th>\n",
       "      <th>emb_2_148</th>\n",
       "      <th>emb_2_149</th>\n",
       "      <th>lev_dist</th>\n",
       "    </tr>\n",
       "  </thead>\n",
       "  <tbody>\n",
       "    <tr>\n",
       "      <th>0</th>\n",
       "      <td>0.092990</td>\n",
       "      <td>0.064130</td>\n",
       "      <td>-0.009231</td>\n",
       "      <td>-0.117479</td>\n",
       "      <td>0.119545</td>\n",
       "      <td>-0.012407</td>\n",
       "      <td>0.001261</td>\n",
       "      <td>0.036714</td>\n",
       "      <td>0.056217</td>\n",
       "      <td>0.036379</td>\n",
       "      <td>...</td>\n",
       "      <td>0.023864</td>\n",
       "      <td>0.021923</td>\n",
       "      <td>0.049225</td>\n",
       "      <td>0.029242</td>\n",
       "      <td>-0.066962</td>\n",
       "      <td>-0.146864</td>\n",
       "      <td>0.030842</td>\n",
       "      <td>-0.008206</td>\n",
       "      <td>0.015769</td>\n",
       "      <td>2</td>\n",
       "    </tr>\n",
       "    <tr>\n",
       "      <th>1</th>\n",
       "      <td>-0.073190</td>\n",
       "      <td>0.121473</td>\n",
       "      <td>0.159301</td>\n",
       "      <td>-0.092436</td>\n",
       "      <td>-0.064991</td>\n",
       "      <td>0.211328</td>\n",
       "      <td>0.043883</td>\n",
       "      <td>-0.079573</td>\n",
       "      <td>0.139459</td>\n",
       "      <td>-0.007538</td>\n",
       "      <td>...</td>\n",
       "      <td>-0.002600</td>\n",
       "      <td>-0.053111</td>\n",
       "      <td>0.021402</td>\n",
       "      <td>-0.037933</td>\n",
       "      <td>0.011753</td>\n",
       "      <td>0.063829</td>\n",
       "      <td>-0.001985</td>\n",
       "      <td>0.067935</td>\n",
       "      <td>-0.028232</td>\n",
       "      <td>7</td>\n",
       "    </tr>\n",
       "    <tr>\n",
       "      <th>2</th>\n",
       "      <td>0.404789</td>\n",
       "      <td>-0.048654</td>\n",
       "      <td>-0.008222</td>\n",
       "      <td>-0.030357</td>\n",
       "      <td>-0.002151</td>\n",
       "      <td>0.115743</td>\n",
       "      <td>-0.036573</td>\n",
       "      <td>0.107035</td>\n",
       "      <td>-0.181170</td>\n",
       "      <td>-0.009340</td>\n",
       "      <td>...</td>\n",
       "      <td>0.032973</td>\n",
       "      <td>0.011455</td>\n",
       "      <td>-0.000884</td>\n",
       "      <td>0.006608</td>\n",
       "      <td>-0.099444</td>\n",
       "      <td>-0.027959</td>\n",
       "      <td>-0.030924</td>\n",
       "      <td>-0.093282</td>\n",
       "      <td>0.020908</td>\n",
       "      <td>11</td>\n",
       "    </tr>\n",
       "    <tr>\n",
       "      <th>3</th>\n",
       "      <td>0.093875</td>\n",
       "      <td>-0.295198</td>\n",
       "      <td>-0.023503</td>\n",
       "      <td>0.178027</td>\n",
       "      <td>-0.329818</td>\n",
       "      <td>-0.137433</td>\n",
       "      <td>0.063096</td>\n",
       "      <td>-0.033620</td>\n",
       "      <td>-0.093353</td>\n",
       "      <td>-0.018617</td>\n",
       "      <td>...</td>\n",
       "      <td>0.015711</td>\n",
       "      <td>0.017556</td>\n",
       "      <td>0.016801</td>\n",
       "      <td>0.021151</td>\n",
       "      <td>0.038210</td>\n",
       "      <td>0.001045</td>\n",
       "      <td>0.027841</td>\n",
       "      <td>0.073438</td>\n",
       "      <td>0.009451</td>\n",
       "      <td>9</td>\n",
       "    </tr>\n",
       "    <tr>\n",
       "      <th>4</th>\n",
       "      <td>-0.438857</td>\n",
       "      <td>-0.025888</td>\n",
       "      <td>0.076917</td>\n",
       "      <td>-0.048276</td>\n",
       "      <td>-0.095658</td>\n",
       "      <td>-0.114350</td>\n",
       "      <td>-0.050333</td>\n",
       "      <td>-0.016790</td>\n",
       "      <td>0.099321</td>\n",
       "      <td>-0.067097</td>\n",
       "      <td>...</td>\n",
       "      <td>0.013554</td>\n",
       "      <td>0.019026</td>\n",
       "      <td>-0.105577</td>\n",
       "      <td>0.070807</td>\n",
       "      <td>-0.023958</td>\n",
       "      <td>-0.020437</td>\n",
       "      <td>0.007356</td>\n",
       "      <td>-0.020316</td>\n",
       "      <td>0.044481</td>\n",
       "      <td>4</td>\n",
       "    </tr>\n",
       "  </tbody>\n",
       "</table>\n",
       "<p>5 rows × 301 columns</p>\n",
       "</div>"
      ],
      "text/plain": [
       "    emb_1_0   emb_1_1   emb_1_2   emb_1_3   emb_1_4   emb_1_5   emb_1_6  \\\n",
       "0  0.092990  0.064130 -0.009231 -0.117479  0.119545 -0.012407  0.001261   \n",
       "1 -0.073190  0.121473  0.159301 -0.092436 -0.064991  0.211328  0.043883   \n",
       "2  0.404789 -0.048654 -0.008222 -0.030357 -0.002151  0.115743 -0.036573   \n",
       "3  0.093875 -0.295198 -0.023503  0.178027 -0.329818 -0.137433  0.063096   \n",
       "4 -0.438857 -0.025888  0.076917 -0.048276 -0.095658 -0.114350 -0.050333   \n",
       "\n",
       "    emb_1_7   emb_1_8   emb_1_9  ...  emb_2_141  emb_2_142  emb_2_143  \\\n",
       "0  0.036714  0.056217  0.036379  ...   0.023864   0.021923   0.049225   \n",
       "1 -0.079573  0.139459 -0.007538  ...  -0.002600  -0.053111   0.021402   \n",
       "2  0.107035 -0.181170 -0.009340  ...   0.032973   0.011455  -0.000884   \n",
       "3 -0.033620 -0.093353 -0.018617  ...   0.015711   0.017556   0.016801   \n",
       "4 -0.016790  0.099321 -0.067097  ...   0.013554   0.019026  -0.105577   \n",
       "\n",
       "   emb_2_144  emb_2_145  emb_2_146  emb_2_147  emb_2_148  emb_2_149  lev_dist  \n",
       "0   0.029242  -0.066962  -0.146864   0.030842  -0.008206   0.015769         2  \n",
       "1  -0.037933   0.011753   0.063829  -0.001985   0.067935  -0.028232         7  \n",
       "2   0.006608  -0.099444  -0.027959  -0.030924  -0.093282   0.020908        11  \n",
       "3   0.021151   0.038210   0.001045   0.027841   0.073438   0.009451         9  \n",
       "4   0.070807  -0.023958  -0.020437   0.007356  -0.020316   0.044481         4  \n",
       "\n",
       "[5 rows x 301 columns]"
      ]
     },
     "execution_count": 21,
     "metadata": {},
     "output_type": "execute_result"
    }
   ],
   "source": [
    "X = data.drop([\"word1\", \"word2\", \"label\"], axis=1)\n",
    "y = data[\"label\"]\n",
    "\n",
    "pca_n_components = 150\n",
    "\n",
    "# fit PCA\n",
    "pca = fit_pca(pd.concat([X.loc[:, \"emb_1_0\":\"emb_1_299\"], X.loc[:, \"emb_2_0\":\"emb_2_299\"].rename(columns={f\"emb_2_{i}\":f\"emb_1_{i}\" for i in range(300)}) ], ignore_index=True), pca_n_components)\n",
    "\n",
    "# reduce dimensuon with PCA\n",
    "X.loc[:, \"emb_1_0\":f\"emb_1_{pca_n_components-1}\"] = reduce_dimension(pca, X.loc[:, \"emb_1_0\":\"emb_1_299\"])\n",
    "X.loc[:, f\"emb_2_0\":f\"emb_2_{pca_n_components-1}\"] = reduce_dimension(pca, X.loc[:, \"emb_2_0\":\"emb_2_299\"].rename(columns={f\"emb_2_{i}\":f\"emb_1_{i}\" for i in range(300)}))\n",
    "\n",
    "# drop extra columns of embedding\n",
    "X = X.drop(list(X.columns[pca_n_components:300]) + list(X.columns[300+pca_n_components:-1]), axis=1)\n",
    "X.head()"
   ]
  },
  {
   "cell_type": "code",
   "execution_count": 22,
   "metadata": {},
   "outputs": [
    {
     "data": {
      "text/plain": [
       "0.8157784681782844"
      ]
     },
     "execution_count": 22,
     "metadata": {},
     "output_type": "execute_result"
    }
   ],
   "source": [
    "# PCA explained variance \n",
    "np.sum(pca.explained_variance_ratio_)"
   ]
  },
  {
   "cell_type": "code",
   "execution_count": 25,
   "metadata": {},
   "outputs": [],
   "source": [
    "X_train, X_test, y_train, y_test = train_test_split(X, y, test_size=0.2, random_state=42)"
   ]
  },
  {
   "cell_type": "markdown",
   "metadata": {},
   "source": [
    "Катбуст"
   ]
  },
  {
   "cell_type": "code",
   "execution_count": null,
   "metadata": {},
   "outputs": [],
   "source": [
    "wandb.init(project=\"paronyms\", tags=[\"cat\"])"
   ]
  },
  {
   "cell_type": "code",
   "execution_count": 41,
   "metadata": {},
   "outputs": [
    {
     "name": "stderr",
     "output_type": "stream",
     "text": [
      "[I 2024-03-31 08:53:05,017] A new study created in memory with name: no-name-ae92f53e-9d2a-4dd9-b73f-1629ed49a274\n"
     ]
    },
    {
     "name": "stderr",
     "output_type": "stream",
     "text": [
      "[I 2024-03-31 08:53:17,399] Trial 0 finished with value: 0.059782608695652176 and parameters: {'learning_rate': 0.03788913630605014, 'depth': 4, 'l2_leaf_reg': 0.2377552457691678, 'bagging_temperature': 0.017460648957002983}. Best is trial 0 with value: 0.059782608695652176.\n",
      "[I 2024-03-31 08:56:37,788] Trial 1 finished with value: 0.057065217391304345 and parameters: {'learning_rate': 0.08153939399614374, 'depth': 8, 'l2_leaf_reg': 0.11619853001419056, 'bagging_temperature': 0.23589974055718366}. Best is trial 1 with value: 0.057065217391304345.\n",
      "[I 2024-03-31 08:56:57,163] Trial 2 finished with value: 0.05434782608695652 and parameters: {'learning_rate': 0.054054374992563596, 'depth': 5, 'l2_leaf_reg': 0.4934405819849246, 'bagging_temperature': 0.14837963768274964}. Best is trial 2 with value: 0.05434782608695652.\n",
      "[I 2024-03-31 08:57:10,072] Trial 3 finished with value: 0.057065217391304345 and parameters: {'learning_rate': 0.011820453400853047, 'depth': 4, 'l2_leaf_reg': 2.7838315251319177, 'bagging_temperature': 0.020238200789650152}. Best is trial 2 with value: 0.05434782608695652.\n",
      "[I 2024-03-31 08:58:05,689] Trial 4 finished with value: 0.06521739130434782 and parameters: {'learning_rate': 0.03313510192243083, 'depth': 7, 'l2_leaf_reg': 0.10882067782410838, 'bagging_temperature': 0.2061906596393373}. Best is trial 2 with value: 0.05434782608695652.\n",
      "[W 2024-03-31 08:58:27,452] Trial 5 failed with parameters: {'learning_rate': 0.010136584712708199, 'depth': 10, 'l2_leaf_reg': 0.18165035099565116, 'bagging_temperature': 0.07113237956891588} because of the following error: KeyboardInterrupt('').\n",
      "Traceback (most recent call last):\n",
      "  File \"c:\\Users\\pasin\\DS\\Доп\\generation_of_paronyms\\venv\\lib\\site-packages\\optuna\\study\\_optimize.py\", line 196, in _run_trial\n",
      "    value_or_values = func(trial)\n",
      "  File \"C:\\Users\\pasin\\AppData\\Local\\Temp\\ipykernel_6888\\340465917.py\", line 10, in objective\n",
      "    model.fit(X_train, y_train)\n",
      "  File \"c:\\Users\\pasin\\DS\\Доп\\generation_of_paronyms\\venv\\lib\\site-packages\\catboost\\core.py\", line 5201, in fit\n",
      "    self._fit(X, y, cat_features, text_features, embedding_features, None, sample_weight, None, None, None, None, baseline, use_best_model,\n",
      "  File \"c:\\Users\\pasin\\DS\\Доп\\generation_of_paronyms\\venv\\lib\\site-packages\\catboost\\core.py\", line 2396, in _fit\n",
      "    self._train(\n",
      "  File \"c:\\Users\\pasin\\DS\\Доп\\generation_of_paronyms\\venv\\lib\\site-packages\\catboost\\core.py\", line 1776, in _train\n",
      "    self._object._train(train_pool, test_pool, params, allow_clear_pool, init_model._object if init_model else None)\n",
      "  File \"_catboost.pyx\", line 4833, in _catboost._CatBoost._train\n",
      "  File \"_catboost.pyx\", line 4882, in _catboost._CatBoost._train\n",
      "KeyboardInterrupt\n",
      "[W 2024-03-31 08:58:27,458] Trial 5 failed with value None.\n"
     ]
    },
    {
     "ename": "KeyboardInterrupt",
     "evalue": "",
     "output_type": "error",
     "traceback": [
      "\u001b[1;31m---------------------------------------------------------------------------\u001b[0m",
      "\u001b[1;31mKeyboardInterrupt\u001b[0m                         Traceback (most recent call last)",
      "Cell \u001b[1;32mIn[41], line 17\u001b[0m\n\u001b[0;32m     14\u001b[0m     \u001b[38;5;28;01mreturn\u001b[39;00m mae\n\u001b[0;32m     16\u001b[0m study \u001b[38;5;241m=\u001b[39m optuna\u001b[38;5;241m.\u001b[39mcreate_study(direction\u001b[38;5;241m=\u001b[39m\u001b[38;5;124m'\u001b[39m\u001b[38;5;124mminimize\u001b[39m\u001b[38;5;124m'\u001b[39m)\n\u001b[1;32m---> 17\u001b[0m \u001b[43mstudy\u001b[49m\u001b[38;5;241;43m.\u001b[39;49m\u001b[43moptimize\u001b[49m\u001b[43m(\u001b[49m\u001b[43mobjective\u001b[49m\u001b[43m,\u001b[49m\u001b[43m \u001b[49m\u001b[43mn_trials\u001b[49m\u001b[38;5;241;43m=\u001b[39;49m\u001b[38;5;241;43m100\u001b[39;49m\u001b[43m)\u001b[49m\n\u001b[0;32m     19\u001b[0m best_params \u001b[38;5;241m=\u001b[39m study\u001b[38;5;241m.\u001b[39mbest_params\n\u001b[0;32m     20\u001b[0m best_model \u001b[38;5;241m=\u001b[39m CatBoostClassifier(verbose\u001b[38;5;241m=\u001b[39m\u001b[38;5;241m0\u001b[39m, \u001b[38;5;241m*\u001b[39m\u001b[38;5;241m*\u001b[39mbest_params)\n",
      "File \u001b[1;32mc:\\Users\\pasin\\DS\\Доп\\generation_of_paronyms\\venv\\lib\\site-packages\\optuna\\study\\study.py:451\u001b[0m, in \u001b[0;36mStudy.optimize\u001b[1;34m(self, func, n_trials, timeout, n_jobs, catch, callbacks, gc_after_trial, show_progress_bar)\u001b[0m\n\u001b[0;32m    348\u001b[0m \u001b[38;5;28;01mdef\u001b[39;00m \u001b[38;5;21moptimize\u001b[39m(\n\u001b[0;32m    349\u001b[0m     \u001b[38;5;28mself\u001b[39m,\n\u001b[0;32m    350\u001b[0m     func: ObjectiveFuncType,\n\u001b[1;32m   (...)\u001b[0m\n\u001b[0;32m    357\u001b[0m     show_progress_bar: \u001b[38;5;28mbool\u001b[39m \u001b[38;5;241m=\u001b[39m \u001b[38;5;28;01mFalse\u001b[39;00m,\n\u001b[0;32m    358\u001b[0m ) \u001b[38;5;241m-\u001b[39m\u001b[38;5;241m>\u001b[39m \u001b[38;5;28;01mNone\u001b[39;00m:\n\u001b[0;32m    359\u001b[0m \u001b[38;5;250m    \u001b[39m\u001b[38;5;124;03m\"\"\"Optimize an objective function.\u001b[39;00m\n\u001b[0;32m    360\u001b[0m \n\u001b[0;32m    361\u001b[0m \u001b[38;5;124;03m    Optimization is done by choosing a suitable set of hyperparameter values from a given\u001b[39;00m\n\u001b[1;32m   (...)\u001b[0m\n\u001b[0;32m    449\u001b[0m \u001b[38;5;124;03m            If nested invocation of this method occurs.\u001b[39;00m\n\u001b[0;32m    450\u001b[0m \u001b[38;5;124;03m    \"\"\"\u001b[39;00m\n\u001b[1;32m--> 451\u001b[0m     \u001b[43m_optimize\u001b[49m\u001b[43m(\u001b[49m\n\u001b[0;32m    452\u001b[0m \u001b[43m        \u001b[49m\u001b[43mstudy\u001b[49m\u001b[38;5;241;43m=\u001b[39;49m\u001b[38;5;28;43mself\u001b[39;49m\u001b[43m,\u001b[49m\n\u001b[0;32m    453\u001b[0m \u001b[43m        \u001b[49m\u001b[43mfunc\u001b[49m\u001b[38;5;241;43m=\u001b[39;49m\u001b[43mfunc\u001b[49m\u001b[43m,\u001b[49m\n\u001b[0;32m    454\u001b[0m \u001b[43m        \u001b[49m\u001b[43mn_trials\u001b[49m\u001b[38;5;241;43m=\u001b[39;49m\u001b[43mn_trials\u001b[49m\u001b[43m,\u001b[49m\n\u001b[0;32m    455\u001b[0m \u001b[43m        \u001b[49m\u001b[43mtimeout\u001b[49m\u001b[38;5;241;43m=\u001b[39;49m\u001b[43mtimeout\u001b[49m\u001b[43m,\u001b[49m\n\u001b[0;32m    456\u001b[0m \u001b[43m        \u001b[49m\u001b[43mn_jobs\u001b[49m\u001b[38;5;241;43m=\u001b[39;49m\u001b[43mn_jobs\u001b[49m\u001b[43m,\u001b[49m\n\u001b[0;32m    457\u001b[0m \u001b[43m        \u001b[49m\u001b[43mcatch\u001b[49m\u001b[38;5;241;43m=\u001b[39;49m\u001b[38;5;28;43mtuple\u001b[39;49m\u001b[43m(\u001b[49m\u001b[43mcatch\u001b[49m\u001b[43m)\u001b[49m\u001b[43m \u001b[49m\u001b[38;5;28;43;01mif\u001b[39;49;00m\u001b[43m \u001b[49m\u001b[38;5;28;43misinstance\u001b[39;49m\u001b[43m(\u001b[49m\u001b[43mcatch\u001b[49m\u001b[43m,\u001b[49m\u001b[43m \u001b[49m\u001b[43mIterable\u001b[49m\u001b[43m)\u001b[49m\u001b[43m \u001b[49m\u001b[38;5;28;43;01melse\u001b[39;49;00m\u001b[43m \u001b[49m\u001b[43m(\u001b[49m\u001b[43mcatch\u001b[49m\u001b[43m,\u001b[49m\u001b[43m)\u001b[49m\u001b[43m,\u001b[49m\n\u001b[0;32m    458\u001b[0m \u001b[43m        \u001b[49m\u001b[43mcallbacks\u001b[49m\u001b[38;5;241;43m=\u001b[39;49m\u001b[43mcallbacks\u001b[49m\u001b[43m,\u001b[49m\n\u001b[0;32m    459\u001b[0m \u001b[43m        \u001b[49m\u001b[43mgc_after_trial\u001b[49m\u001b[38;5;241;43m=\u001b[39;49m\u001b[43mgc_after_trial\u001b[49m\u001b[43m,\u001b[49m\n\u001b[0;32m    460\u001b[0m \u001b[43m        \u001b[49m\u001b[43mshow_progress_bar\u001b[49m\u001b[38;5;241;43m=\u001b[39;49m\u001b[43mshow_progress_bar\u001b[49m\u001b[43m,\u001b[49m\n\u001b[0;32m    461\u001b[0m \u001b[43m    \u001b[49m\u001b[43m)\u001b[49m\n",
      "File \u001b[1;32mc:\\Users\\pasin\\DS\\Доп\\generation_of_paronyms\\venv\\lib\\site-packages\\optuna\\study\\_optimize.py:62\u001b[0m, in \u001b[0;36m_optimize\u001b[1;34m(study, func, n_trials, timeout, n_jobs, catch, callbacks, gc_after_trial, show_progress_bar)\u001b[0m\n\u001b[0;32m     60\u001b[0m \u001b[38;5;28;01mtry\u001b[39;00m:\n\u001b[0;32m     61\u001b[0m     \u001b[38;5;28;01mif\u001b[39;00m n_jobs \u001b[38;5;241m==\u001b[39m \u001b[38;5;241m1\u001b[39m:\n\u001b[1;32m---> 62\u001b[0m         \u001b[43m_optimize_sequential\u001b[49m\u001b[43m(\u001b[49m\n\u001b[0;32m     63\u001b[0m \u001b[43m            \u001b[49m\u001b[43mstudy\u001b[49m\u001b[43m,\u001b[49m\n\u001b[0;32m     64\u001b[0m \u001b[43m            \u001b[49m\u001b[43mfunc\u001b[49m\u001b[43m,\u001b[49m\n\u001b[0;32m     65\u001b[0m \u001b[43m            \u001b[49m\u001b[43mn_trials\u001b[49m\u001b[43m,\u001b[49m\n\u001b[0;32m     66\u001b[0m \u001b[43m            \u001b[49m\u001b[43mtimeout\u001b[49m\u001b[43m,\u001b[49m\n\u001b[0;32m     67\u001b[0m \u001b[43m            \u001b[49m\u001b[43mcatch\u001b[49m\u001b[43m,\u001b[49m\n\u001b[0;32m     68\u001b[0m \u001b[43m            \u001b[49m\u001b[43mcallbacks\u001b[49m\u001b[43m,\u001b[49m\n\u001b[0;32m     69\u001b[0m \u001b[43m            \u001b[49m\u001b[43mgc_after_trial\u001b[49m\u001b[43m,\u001b[49m\n\u001b[0;32m     70\u001b[0m \u001b[43m            \u001b[49m\u001b[43mreseed_sampler_rng\u001b[49m\u001b[38;5;241;43m=\u001b[39;49m\u001b[38;5;28;43;01mFalse\u001b[39;49;00m\u001b[43m,\u001b[49m\n\u001b[0;32m     71\u001b[0m \u001b[43m            \u001b[49m\u001b[43mtime_start\u001b[49m\u001b[38;5;241;43m=\u001b[39;49m\u001b[38;5;28;43;01mNone\u001b[39;49;00m\u001b[43m,\u001b[49m\n\u001b[0;32m     72\u001b[0m \u001b[43m            \u001b[49m\u001b[43mprogress_bar\u001b[49m\u001b[38;5;241;43m=\u001b[39;49m\u001b[43mprogress_bar\u001b[49m\u001b[43m,\u001b[49m\n\u001b[0;32m     73\u001b[0m \u001b[43m        \u001b[49m\u001b[43m)\u001b[49m\n\u001b[0;32m     74\u001b[0m     \u001b[38;5;28;01melse\u001b[39;00m:\n\u001b[0;32m     75\u001b[0m         \u001b[38;5;28;01mif\u001b[39;00m n_jobs \u001b[38;5;241m==\u001b[39m \u001b[38;5;241m-\u001b[39m\u001b[38;5;241m1\u001b[39m:\n",
      "File \u001b[1;32mc:\\Users\\pasin\\DS\\Доп\\generation_of_paronyms\\venv\\lib\\site-packages\\optuna\\study\\_optimize.py:159\u001b[0m, in \u001b[0;36m_optimize_sequential\u001b[1;34m(study, func, n_trials, timeout, catch, callbacks, gc_after_trial, reseed_sampler_rng, time_start, progress_bar)\u001b[0m\n\u001b[0;32m    156\u001b[0m         \u001b[38;5;28;01mbreak\u001b[39;00m\n\u001b[0;32m    158\u001b[0m \u001b[38;5;28;01mtry\u001b[39;00m:\n\u001b[1;32m--> 159\u001b[0m     frozen_trial \u001b[38;5;241m=\u001b[39m \u001b[43m_run_trial\u001b[49m\u001b[43m(\u001b[49m\u001b[43mstudy\u001b[49m\u001b[43m,\u001b[49m\u001b[43m \u001b[49m\u001b[43mfunc\u001b[49m\u001b[43m,\u001b[49m\u001b[43m \u001b[49m\u001b[43mcatch\u001b[49m\u001b[43m)\u001b[49m\n\u001b[0;32m    160\u001b[0m \u001b[38;5;28;01mfinally\u001b[39;00m:\n\u001b[0;32m    161\u001b[0m     \u001b[38;5;66;03m# The following line mitigates memory problems that can be occurred in some\u001b[39;00m\n\u001b[0;32m    162\u001b[0m     \u001b[38;5;66;03m# environments (e.g., services that use computing containers such as GitHub Actions).\u001b[39;00m\n\u001b[0;32m    163\u001b[0m     \u001b[38;5;66;03m# Please refer to the following PR for further details:\u001b[39;00m\n\u001b[0;32m    164\u001b[0m     \u001b[38;5;66;03m# https://github.com/optuna/optuna/pull/325.\u001b[39;00m\n\u001b[0;32m    165\u001b[0m     \u001b[38;5;28;01mif\u001b[39;00m gc_after_trial:\n",
      "File \u001b[1;32mc:\\Users\\pasin\\DS\\Доп\\generation_of_paronyms\\venv\\lib\\site-packages\\optuna\\study\\_optimize.py:247\u001b[0m, in \u001b[0;36m_run_trial\u001b[1;34m(study, func, catch)\u001b[0m\n\u001b[0;32m    240\u001b[0m         \u001b[38;5;28;01massert\u001b[39;00m \u001b[38;5;28;01mFalse\u001b[39;00m, \u001b[38;5;124m\"\u001b[39m\u001b[38;5;124mShould not reach.\u001b[39m\u001b[38;5;124m\"\u001b[39m\n\u001b[0;32m    242\u001b[0m \u001b[38;5;28;01mif\u001b[39;00m (\n\u001b[0;32m    243\u001b[0m     frozen_trial\u001b[38;5;241m.\u001b[39mstate \u001b[38;5;241m==\u001b[39m TrialState\u001b[38;5;241m.\u001b[39mFAIL\n\u001b[0;32m    244\u001b[0m     \u001b[38;5;129;01mand\u001b[39;00m func_err \u001b[38;5;129;01mis\u001b[39;00m \u001b[38;5;129;01mnot\u001b[39;00m \u001b[38;5;28;01mNone\u001b[39;00m\n\u001b[0;32m    245\u001b[0m     \u001b[38;5;129;01mand\u001b[39;00m \u001b[38;5;129;01mnot\u001b[39;00m \u001b[38;5;28misinstance\u001b[39m(func_err, catch)\n\u001b[0;32m    246\u001b[0m ):\n\u001b[1;32m--> 247\u001b[0m     \u001b[38;5;28;01mraise\u001b[39;00m func_err\n\u001b[0;32m    248\u001b[0m \u001b[38;5;28;01mreturn\u001b[39;00m frozen_trial\n",
      "File \u001b[1;32mc:\\Users\\pasin\\DS\\Доп\\generation_of_paronyms\\venv\\lib\\site-packages\\optuna\\study\\_optimize.py:196\u001b[0m, in \u001b[0;36m_run_trial\u001b[1;34m(study, func, catch)\u001b[0m\n\u001b[0;32m    194\u001b[0m \u001b[38;5;28;01mwith\u001b[39;00m get_heartbeat_thread(trial\u001b[38;5;241m.\u001b[39m_trial_id, study\u001b[38;5;241m.\u001b[39m_storage):\n\u001b[0;32m    195\u001b[0m     \u001b[38;5;28;01mtry\u001b[39;00m:\n\u001b[1;32m--> 196\u001b[0m         value_or_values \u001b[38;5;241m=\u001b[39m \u001b[43mfunc\u001b[49m\u001b[43m(\u001b[49m\u001b[43mtrial\u001b[49m\u001b[43m)\u001b[49m\n\u001b[0;32m    197\u001b[0m     \u001b[38;5;28;01mexcept\u001b[39;00m exceptions\u001b[38;5;241m.\u001b[39mTrialPruned \u001b[38;5;28;01mas\u001b[39;00m e:\n\u001b[0;32m    198\u001b[0m         \u001b[38;5;66;03m# TODO(mamu): Handle multi-objective cases.\u001b[39;00m\n\u001b[0;32m    199\u001b[0m         state \u001b[38;5;241m=\u001b[39m TrialState\u001b[38;5;241m.\u001b[39mPRUNED\n",
      "Cell \u001b[1;32mIn[41], line 10\u001b[0m, in \u001b[0;36mobjective\u001b[1;34m(trial)\u001b[0m\n\u001b[0;32m      2\u001b[0m params \u001b[38;5;241m=\u001b[39m {\n\u001b[0;32m      3\u001b[0m     \u001b[38;5;124m'\u001b[39m\u001b[38;5;124mlearning_rate\u001b[39m\u001b[38;5;124m'\u001b[39m: trial\u001b[38;5;241m.\u001b[39msuggest_loguniform(\u001b[38;5;124m'\u001b[39m\u001b[38;5;124mlearning_rate\u001b[39m\u001b[38;5;124m'\u001b[39m, \u001b[38;5;241m0.01\u001b[39m, \u001b[38;5;241m0.1\u001b[39m),\n\u001b[0;32m      4\u001b[0m     \u001b[38;5;124m'\u001b[39m\u001b[38;5;124mdepth\u001b[39m\u001b[38;5;124m'\u001b[39m: trial\u001b[38;5;241m.\u001b[39msuggest_int(\u001b[38;5;124m'\u001b[39m\u001b[38;5;124mdepth\u001b[39m\u001b[38;5;124m'\u001b[39m, \u001b[38;5;241m4\u001b[39m, \u001b[38;5;241m10\u001b[39m),\n\u001b[0;32m      5\u001b[0m     \u001b[38;5;124m'\u001b[39m\u001b[38;5;124ml2_leaf_reg\u001b[39m\u001b[38;5;124m'\u001b[39m: trial\u001b[38;5;241m.\u001b[39msuggest_loguniform(\u001b[38;5;124m'\u001b[39m\u001b[38;5;124ml2_leaf_reg\u001b[39m\u001b[38;5;124m'\u001b[39m, \u001b[38;5;241m0.1\u001b[39m, \u001b[38;5;241m10.0\u001b[39m),\n\u001b[0;32m      6\u001b[0m     \u001b[38;5;124m'\u001b[39m\u001b[38;5;124mbagging_temperature\u001b[39m\u001b[38;5;124m'\u001b[39m: trial\u001b[38;5;241m.\u001b[39msuggest_loguniform(\u001b[38;5;124m'\u001b[39m\u001b[38;5;124mbagging_temperature\u001b[39m\u001b[38;5;124m'\u001b[39m, \u001b[38;5;241m0.01\u001b[39m, \u001b[38;5;241m1.0\u001b[39m)\n\u001b[0;32m      7\u001b[0m }\n\u001b[0;32m      9\u001b[0m model \u001b[38;5;241m=\u001b[39m CatBoostClassifier(verbose\u001b[38;5;241m=\u001b[39m\u001b[38;5;241m0\u001b[39m, \u001b[38;5;241m*\u001b[39m\u001b[38;5;241m*\u001b[39mparams)\n\u001b[1;32m---> 10\u001b[0m \u001b[43mmodel\u001b[49m\u001b[38;5;241;43m.\u001b[39;49m\u001b[43mfit\u001b[49m\u001b[43m(\u001b[49m\u001b[43mX_train\u001b[49m\u001b[43m,\u001b[49m\u001b[43m \u001b[49m\u001b[43my_train\u001b[49m\u001b[43m)\u001b[49m\n\u001b[0;32m     11\u001b[0m predictions \u001b[38;5;241m=\u001b[39m model\u001b[38;5;241m.\u001b[39mpredict(X_test)\n\u001b[0;32m     12\u001b[0m mae \u001b[38;5;241m=\u001b[39m mean_absolute_error(y_test, predictions)\n",
      "File \u001b[1;32mc:\\Users\\pasin\\DS\\Доп\\generation_of_paronyms\\venv\\lib\\site-packages\\catboost\\core.py:5201\u001b[0m, in \u001b[0;36mCatBoostClassifier.fit\u001b[1;34m(self, X, y, cat_features, text_features, embedding_features, sample_weight, baseline, use_best_model, eval_set, verbose, logging_level, plot, plot_file, column_description, verbose_eval, metric_period, silent, early_stopping_rounds, save_snapshot, snapshot_file, snapshot_interval, init_model, callbacks, log_cout, log_cerr)\u001b[0m\n\u001b[0;32m   5198\u001b[0m \u001b[38;5;28;01mif\u001b[39;00m \u001b[38;5;124m'\u001b[39m\u001b[38;5;124mloss_function\u001b[39m\u001b[38;5;124m'\u001b[39m \u001b[38;5;129;01min\u001b[39;00m params:\n\u001b[0;32m   5199\u001b[0m     CatBoostClassifier\u001b[38;5;241m.\u001b[39m_check_is_compatible_loss(params[\u001b[38;5;124m'\u001b[39m\u001b[38;5;124mloss_function\u001b[39m\u001b[38;5;124m'\u001b[39m])\n\u001b[1;32m-> 5201\u001b[0m \u001b[38;5;28;43mself\u001b[39;49m\u001b[38;5;241;43m.\u001b[39;49m\u001b[43m_fit\u001b[49m\u001b[43m(\u001b[49m\u001b[43mX\u001b[49m\u001b[43m,\u001b[49m\u001b[43m \u001b[49m\u001b[43my\u001b[49m\u001b[43m,\u001b[49m\u001b[43m \u001b[49m\u001b[43mcat_features\u001b[49m\u001b[43m,\u001b[49m\u001b[43m \u001b[49m\u001b[43mtext_features\u001b[49m\u001b[43m,\u001b[49m\u001b[43m \u001b[49m\u001b[43membedding_features\u001b[49m\u001b[43m,\u001b[49m\u001b[43m \u001b[49m\u001b[38;5;28;43;01mNone\u001b[39;49;00m\u001b[43m,\u001b[49m\u001b[43m \u001b[49m\u001b[43msample_weight\u001b[49m\u001b[43m,\u001b[49m\u001b[43m \u001b[49m\u001b[38;5;28;43;01mNone\u001b[39;49;00m\u001b[43m,\u001b[49m\u001b[43m \u001b[49m\u001b[38;5;28;43;01mNone\u001b[39;49;00m\u001b[43m,\u001b[49m\u001b[43m \u001b[49m\u001b[38;5;28;43;01mNone\u001b[39;49;00m\u001b[43m,\u001b[49m\u001b[43m \u001b[49m\u001b[38;5;28;43;01mNone\u001b[39;49;00m\u001b[43m,\u001b[49m\u001b[43m \u001b[49m\u001b[43mbaseline\u001b[49m\u001b[43m,\u001b[49m\u001b[43m \u001b[49m\u001b[43muse_best_model\u001b[49m\u001b[43m,\u001b[49m\n\u001b[0;32m   5202\u001b[0m \u001b[43m          \u001b[49m\u001b[43meval_set\u001b[49m\u001b[43m,\u001b[49m\u001b[43m \u001b[49m\u001b[43mverbose\u001b[49m\u001b[43m,\u001b[49m\u001b[43m \u001b[49m\u001b[43mlogging_level\u001b[49m\u001b[43m,\u001b[49m\u001b[43m \u001b[49m\u001b[43mplot\u001b[49m\u001b[43m,\u001b[49m\u001b[43m \u001b[49m\u001b[43mplot_file\u001b[49m\u001b[43m,\u001b[49m\u001b[43m \u001b[49m\u001b[43mcolumn_description\u001b[49m\u001b[43m,\u001b[49m\u001b[43m \u001b[49m\u001b[43mverbose_eval\u001b[49m\u001b[43m,\u001b[49m\u001b[43m \u001b[49m\u001b[43mmetric_period\u001b[49m\u001b[43m,\u001b[49m\n\u001b[0;32m   5203\u001b[0m \u001b[43m          \u001b[49m\u001b[43msilent\u001b[49m\u001b[43m,\u001b[49m\u001b[43m \u001b[49m\u001b[43mearly_stopping_rounds\u001b[49m\u001b[43m,\u001b[49m\u001b[43m \u001b[49m\u001b[43msave_snapshot\u001b[49m\u001b[43m,\u001b[49m\u001b[43m \u001b[49m\u001b[43msnapshot_file\u001b[49m\u001b[43m,\u001b[49m\u001b[43m \u001b[49m\u001b[43msnapshot_interval\u001b[49m\u001b[43m,\u001b[49m\u001b[43m \u001b[49m\u001b[43minit_model\u001b[49m\u001b[43m,\u001b[49m\u001b[43m \u001b[49m\u001b[43mcallbacks\u001b[49m\u001b[43m,\u001b[49m\u001b[43m \u001b[49m\u001b[43mlog_cout\u001b[49m\u001b[43m,\u001b[49m\u001b[43m \u001b[49m\u001b[43mlog_cerr\u001b[49m\u001b[43m)\u001b[49m\n\u001b[0;32m   5204\u001b[0m \u001b[38;5;28;01mreturn\u001b[39;00m \u001b[38;5;28mself\u001b[39m\n",
      "File \u001b[1;32mc:\\Users\\pasin\\DS\\Доп\\generation_of_paronyms\\venv\\lib\\site-packages\\catboost\\core.py:2396\u001b[0m, in \u001b[0;36mCatBoost._fit\u001b[1;34m(self, X, y, cat_features, text_features, embedding_features, pairs, sample_weight, group_id, group_weight, subgroup_id, pairs_weight, baseline, use_best_model, eval_set, verbose, logging_level, plot, plot_file, column_description, verbose_eval, metric_period, silent, early_stopping_rounds, save_snapshot, snapshot_file, snapshot_interval, init_model, callbacks, log_cout, log_cerr)\u001b[0m\n\u001b[0;32m   2393\u001b[0m allow_clear_pool \u001b[38;5;241m=\u001b[39m train_params[\u001b[38;5;124m\"\u001b[39m\u001b[38;5;124mallow_clear_pool\u001b[39m\u001b[38;5;124m\"\u001b[39m]\n\u001b[0;32m   2395\u001b[0m \u001b[38;5;28;01mwith\u001b[39;00m plot_wrapper(plot, plot_file, \u001b[38;5;124m'\u001b[39m\u001b[38;5;124mTraining plots\u001b[39m\u001b[38;5;124m'\u001b[39m, [_get_train_dir(\u001b[38;5;28mself\u001b[39m\u001b[38;5;241m.\u001b[39mget_params())]):\n\u001b[1;32m-> 2396\u001b[0m     \u001b[38;5;28;43mself\u001b[39;49m\u001b[38;5;241;43m.\u001b[39;49m\u001b[43m_train\u001b[49m\u001b[43m(\u001b[49m\n\u001b[0;32m   2397\u001b[0m \u001b[43m        \u001b[49m\u001b[43mtrain_pool\u001b[49m\u001b[43m,\u001b[49m\n\u001b[0;32m   2398\u001b[0m \u001b[43m        \u001b[49m\u001b[43mtrain_params\u001b[49m\u001b[43m[\u001b[49m\u001b[38;5;124;43m\"\u001b[39;49m\u001b[38;5;124;43meval_sets\u001b[39;49m\u001b[38;5;124;43m\"\u001b[39;49m\u001b[43m]\u001b[49m\u001b[43m,\u001b[49m\n\u001b[0;32m   2399\u001b[0m \u001b[43m        \u001b[49m\u001b[43mparams\u001b[49m\u001b[43m,\u001b[49m\n\u001b[0;32m   2400\u001b[0m \u001b[43m        \u001b[49m\u001b[43mallow_clear_pool\u001b[49m\u001b[43m,\u001b[49m\n\u001b[0;32m   2401\u001b[0m \u001b[43m        \u001b[49m\u001b[43mtrain_params\u001b[49m\u001b[43m[\u001b[49m\u001b[38;5;124;43m\"\u001b[39;49m\u001b[38;5;124;43minit_model\u001b[39;49m\u001b[38;5;124;43m\"\u001b[39;49m\u001b[43m]\u001b[49m\n\u001b[0;32m   2402\u001b[0m \u001b[43m    \u001b[49m\u001b[43m)\u001b[49m\n\u001b[0;32m   2404\u001b[0m \u001b[38;5;66;03m# Have property feature_importance possibly set\u001b[39;00m\n\u001b[0;32m   2405\u001b[0m loss \u001b[38;5;241m=\u001b[39m \u001b[38;5;28mself\u001b[39m\u001b[38;5;241m.\u001b[39m_object\u001b[38;5;241m.\u001b[39m_get_loss_function_name()\n",
      "File \u001b[1;32mc:\\Users\\pasin\\DS\\Доп\\generation_of_paronyms\\venv\\lib\\site-packages\\catboost\\core.py:1776\u001b[0m, in \u001b[0;36m_CatBoostBase._train\u001b[1;34m(self, train_pool, test_pool, params, allow_clear_pool, init_model)\u001b[0m\n\u001b[0;32m   1775\u001b[0m \u001b[38;5;28;01mdef\u001b[39;00m \u001b[38;5;21m_train\u001b[39m(\u001b[38;5;28mself\u001b[39m, train_pool, test_pool, params, allow_clear_pool, init_model):\n\u001b[1;32m-> 1776\u001b[0m     \u001b[38;5;28;43mself\u001b[39;49m\u001b[38;5;241;43m.\u001b[39;49m\u001b[43m_object\u001b[49m\u001b[38;5;241;43m.\u001b[39;49m\u001b[43m_train\u001b[49m\u001b[43m(\u001b[49m\u001b[43mtrain_pool\u001b[49m\u001b[43m,\u001b[49m\u001b[43m \u001b[49m\u001b[43mtest_pool\u001b[49m\u001b[43m,\u001b[49m\u001b[43m \u001b[49m\u001b[43mparams\u001b[49m\u001b[43m,\u001b[49m\u001b[43m \u001b[49m\u001b[43mallow_clear_pool\u001b[49m\u001b[43m,\u001b[49m\u001b[43m \u001b[49m\u001b[43minit_model\u001b[49m\u001b[38;5;241;43m.\u001b[39;49m\u001b[43m_object\u001b[49m\u001b[43m \u001b[49m\u001b[38;5;28;43;01mif\u001b[39;49;00m\u001b[43m \u001b[49m\u001b[43minit_model\u001b[49m\u001b[43m \u001b[49m\u001b[38;5;28;43;01melse\u001b[39;49;00m\u001b[43m \u001b[49m\u001b[38;5;28;43;01mNone\u001b[39;49;00m\u001b[43m)\u001b[49m\n\u001b[0;32m   1777\u001b[0m     \u001b[38;5;28mself\u001b[39m\u001b[38;5;241m.\u001b[39m_set_trained_model_attributes()\n",
      "File \u001b[1;32m_catboost.pyx:4833\u001b[0m, in \u001b[0;36m_catboost._CatBoost._train\u001b[1;34m()\u001b[0m\n",
      "File \u001b[1;32m_catboost.pyx:4882\u001b[0m, in \u001b[0;36m_catboost._CatBoost._train\u001b[1;34m()\u001b[0m\n",
      "\u001b[1;31mKeyboardInterrupt\u001b[0m: "
     ]
    }
   ],
   "source": [
    "def objective(trial):\n",
    "    params = {\n",
    "        'learning_rate': trial.suggest_loguniform('learning_rate', 0.01, 0.1),\n",
    "        'depth': trial.suggest_int('depth', 4, 10),\n",
    "        'l2_leaf_reg': trial.suggest_loguniform('l2_leaf_reg', 0.1, 10.0),\n",
    "        'bagging_temperature': trial.suggest_loguniform('bagging_temperature', 0.01, 1.0)\n",
    "    }\n",
    "\n",
    "    model = CatBoostClassifier(verbose=0, **params)\n",
    "    model.fit(X_train, y_train)\n",
    "    predictions = model.predict(X_test)\n",
    "    mae = mean_absolute_error(y_test, predictions)\n",
    "\n",
    "    return mae\n",
    "\n",
    "study = optuna.create_study(direction='minimize')\n",
    "study.optimize(objective, n_trials=100)\n",
    "\n",
    "best_params = study.best_params\n",
    "cat_model = CatBoostClassifier(verbose=0, **best_params)\n",
    "cat_model.fit(X_train, y_train)\n",
    "best_predictions = cat_model.predict(X_test)\n",
    "best_mae = mean_absolute_error(y_test, best_predictions)\n",
    "predictions = cat_model.predict_proba(X_test)\n",
    "\n",
    "print('Best Parameters:', best_params)\n",
    "print('Best MAE:', best_mae)"
   ]
  },
  {
   "cell_type": "code",
   "execution_count": null,
   "metadata": {},
   "outputs": [],
   "source": [
    "treshold = cat[\"treshold\"]\n",
    "\n",
    "mae = mean_absolute_error(y_test, predictions)\n",
    "acc = accuracy_score(y_test, [1 if prob > treshold else 0 for prob in predictions])\n",
    "print('MAE:', mae, ' Accuracy:', acc)\n",
    "\n",
    "wandb.log({'MAE': mae, 'Accuracy': acc})\n",
    "wandb.finish()"
   ]
  },
  {
   "cell_type": "code",
   "execution_count": null,
   "metadata": {},
   "outputs": [
    {
     "name": "stdout",
     "output_type": "stream",
     "text": [
      "emb_1_0: 4.235835318338212\n",
      "emb_1_1: 2.706146687951456\n",
      "emb_1_2: 0.5704566355766507\n",
      "emb_1_3: 0.7383418698755168\n",
      "emb_1_4: 0.48955415135764657\n",
      "emb_1_5: 0.4004530577615582\n",
      "emb_1_6: 0.362392134913339\n",
      "emb_1_7: 0.3420769803762064\n",
      "emb_1_8: 1.3682219338383057\n",
      "emb_1_9: 0.3053514481156383\n",
      "emb_1_10: 0.8790173005184808\n",
      "emb_1_11: 0.21806068357599612\n",
      "emb_1_12: 0.3873462602794375\n",
      "emb_1_13: 0.48242275827543846\n",
      "emb_1_14: 0.6423874240629771\n",
      "emb_1_15: 0.2106407786132401\n",
      "emb_1_16: 0.26788442326434453\n",
      "emb_1_17: 0.4004533014366361\n",
      "emb_1_18: 0.2942891203225161\n",
      "emb_1_19: 0.3285961063365558\n",
      "emb_1_20: 0.3456641235214086\n",
      "emb_1_21: 0.535382911869127\n",
      "emb_1_22: 0.5155262551770059\n",
      "emb_1_23: 0.2899777372972186\n",
      "emb_1_24: 0.3731964125319074\n",
      "emb_1_25: 0.23420210637236005\n",
      "emb_1_26: 0.4919371513177503\n",
      "emb_1_27: 0.1945497463096019\n",
      "emb_1_28: 0.48183747795519904\n",
      "emb_1_29: 0.2867150448952001\n",
      "emb_1_30: 0.14741307101774387\n",
      "emb_1_31: 0.24027420956098136\n",
      "emb_1_32: 0.252300791691798\n",
      "emb_1_33: 0.3333680030422614\n",
      "emb_1_34: 0.3612062221675668\n",
      "emb_1_35: 0.30253956595566295\n",
      "emb_1_36: 0.21196592615738474\n",
      "emb_1_37: 0.2608031811016713\n",
      "emb_1_38: 0.09807598669132349\n",
      "emb_1_39: 0.5028590017515417\n",
      "emb_1_40: 0.305498087672651\n",
      "emb_1_41: 0.3565804969712354\n",
      "emb_1_42: 0.4763015664790031\n",
      "emb_1_43: 0.5464483349623159\n",
      "emb_1_44: 0.5375825884518285\n",
      "emb_1_45: 0.22251078739300956\n",
      "emb_1_46: 0.44341694084177324\n",
      "emb_1_47: 0.25116651828128245\n",
      "emb_1_48: 0.5642089684399691\n",
      "emb_1_49: 0.2303413422179995\n",
      "emb_2_0: 3.1117406505165173\n",
      "emb_2_1: 2.414283415367559\n",
      "emb_2_2: 1.0464346445383603\n",
      "emb_2_3: 0.5484905162990579\n",
      "emb_2_4: 0.5104728064158007\n",
      "emb_2_5: 0.25766578667358253\n",
      "emb_2_6: 0.5460243722689763\n",
      "emb_2_7: 0.26173798312877117\n",
      "emb_2_8: 0.8261257926253657\n",
      "emb_2_9: 0.3660549089605388\n",
      "emb_2_10: 0.6259023922794903\n",
      "emb_2_11: 0.27371490043636726\n",
      "emb_2_12: 0.3041133107777649\n",
      "emb_2_13: 0.5022932200533898\n",
      "emb_2_14: 0.45791614697657673\n",
      "emb_2_15: 0.505006297413562\n",
      "emb_2_16: 0.24717868916945462\n",
      "emb_2_17: 0.3854785540227833\n",
      "emb_2_18: 0.4879020909001703\n",
      "emb_2_19: 0.4618509341269891\n",
      "emb_2_20: 0.5038166782146112\n",
      "emb_2_21: 0.2217024254087468\n",
      "emb_2_22: 0.2805570887961739\n",
      "emb_2_23: 0.2579128766826457\n",
      "emb_2_24: 0.28223498530847646\n",
      "emb_2_25: 0.27528987518922354\n",
      "emb_2_26: 0.3133553340389592\n",
      "emb_2_27: 0.2586119068740469\n",
      "emb_2_28: 0.27190087488355497\n",
      "emb_2_29: 0.3362024052823307\n",
      "emb_2_30: 0.08620092891380071\n",
      "emb_2_31: 0.3682974869231803\n",
      "emb_2_32: 0.28023322892204316\n",
      "emb_2_33: 0.42180126712609856\n",
      "emb_2_34: 0.3690563814937545\n",
      "emb_2_35: 0.3487076890736585\n",
      "emb_2_36: 0.2729037711625714\n",
      "emb_2_37: 0.37250246295589234\n",
      "emb_2_38: 0.1495315926060507\n",
      "emb_2_39: 0.2290226765633569\n",
      "emb_2_40: 0.33484788629609313\n",
      "emb_2_41: 0.2897194697823677\n",
      "emb_2_42: 0.31264026885632945\n",
      "emb_2_43: 0.4467491358227533\n",
      "emb_2_44: 0.6263787064932\n",
      "emb_2_45: 0.20070982606296164\n",
      "emb_2_46: 0.3010175224634036\n",
      "emb_2_47: 0.3593363054505429\n",
      "emb_2_48: 0.14219999162574948\n",
      "emb_2_49: 0.25035270540935467\n",
      "lev_dist: 50.67203989948106\n"
     ]
    }
   ],
   "source": [
    "# get feature importance\n",
    "feature_importances = cat_model.feature_importances_\n",
    "\n",
    "for i, importance in enumerate(feature_importances):\n",
    "    print(f\"{X.columns[i]}: {importance}\")"
   ]
  },
  {
   "cell_type": "code",
   "execution_count": null,
   "metadata": {},
   "outputs": [
    {
     "data": {
      "text/plain": [
       "[<matplotlib.lines.Line2D at 0x1b820d5c4f0>]"
      ]
     },
     "execution_count": 211,
     "metadata": {},
     "output_type": "execute_result"
    },
    {
     "data": {
      "image/png": "[encoded data removed]",
      "text/plain": [
       "<Figure size 432x288 with 1 Axes>"
      ]
     },
     "metadata": {
      "needs_background": "light"
     },
     "output_type": "display_data"
    }
   ],
   "source": [
    "# plotting feature importance of embeddings\n",
    "plt.plot(cat_model.feature_importances_[:-1])"
   ]
  },
  {
   "cell_type": "markdown",
   "metadata": {},
   "source": [
    "Нейросеть"
   ]
  },
  {
   "cell_type": "code",
   "execution_count": 32,
   "metadata": {},
   "outputs": [
    {
     "data": {
      "text/html": [
       "Finishing last run (ID:2sozldh7) before initializing another..."
      ],
      "text/plain": [
       "<IPython.core.display.HTML object>"
      ]
     },
     "metadata": {},
     "output_type": "display_data"
    },
    {
     "data": {
      "text/html": [
       "<style>\n",
       "    table.wandb td:nth-child(1) { padding: 0 10px; text-align: left ; width: auto;} td:nth-child(2) {text-align: left ; width: 100%}\n",
       "    .wandb-row { display: flex; flex-direction: row; flex-wrap: wrap; justify-content: flex-start; width: 100% }\n",
       "    .wandb-col { display: flex; flex-direction: column; flex-basis: 100%; flex: 1; padding: 10px; }\n",
       "    </style>\n",
       "<div class=\"wandb-row\"><div class=\"wandb-col\"><h3>Run history:</h3><br/><table class=\"wandb\"><tr><td>Accuracy</td><td>▁</td></tr><tr><td>MAE</td><td>▁</td></tr><tr><td>batch_size</td><td>▁</td></tr><tr><td>epochs</td><td>▁</td></tr><tr><td>treshold</td><td>▁</td></tr></table><br/></div><div class=\"wandb-col\"><h3>Run summary:</h3><br/><table class=\"wandb\"><tr><td>Accuracy</td><td>0.91304</td></tr><tr><td>MAE</td><td>0.08357</td></tr><tr><td>batch_size</td><td>16</td></tr><tr><td>epochs</td><td>100</td></tr><tr><td>optimizer</td><td>adam</td></tr><tr><td>treshold</td><td>0.5</td></tr></table><br/></div></div>"
      ],
      "text/plain": [
       "<IPython.core.display.HTML object>"
      ]
     },
     "metadata": {},
     "output_type": "display_data"
    },
    {
     "data": {
      "text/html": [
       " View run <strong style=\"color:#cdcd00\">visionary-energy-5</strong> at: <a href='https://wandb.ai/paronyms/paronyms/runs/2sozldh7/workspace' target=\"_blank\">https://wandb.ai/paronyms/paronyms/runs/2sozldh7/workspace</a><br/>Synced 5 W&B file(s), 0 media file(s), 0 artifact file(s) and 0 other file(s)"
      ],
      "text/plain": [
       "<IPython.core.display.HTML object>"
      ]
     },
     "metadata": {},
     "output_type": "display_data"
    },
    {
     "data": {
      "text/html": [
       "Find logs at: <code>.\\wandb\\run-20240331_084216-2sozldh7\\logs</code>"
      ],
      "text/plain": [
       "<IPython.core.display.HTML object>"
      ]
     },
     "metadata": {},
     "output_type": "display_data"
    },
    {
     "data": {
      "text/html": [
       "Successfully finished last run (ID:2sozldh7). Initializing new run:<br/>"
      ],
      "text/plain": [
       "<IPython.core.display.HTML object>"
      ]
     },
     "metadata": {},
     "output_type": "display_data"
    },
    {
     "data": {
      "text/html": [
       "Tracking run with wandb version 0.16.5"
      ],
      "text/plain": [
       "<IPython.core.display.HTML object>"
      ]
     },
     "metadata": {},
     "output_type": "display_data"
    },
    {
     "data": {
      "text/html": [
       "Run data is saved locally in <code>c:\\Users\\pasin\\DS\\Доп\\generation_of_paronyms\\wandb\\run-20240331_084509-ds6cfxlm</code>"
      ],
      "text/plain": [
       "<IPython.core.display.HTML object>"
      ]
     },
     "metadata": {},
     "output_type": "display_data"
    },
    {
     "data": {
      "text/html": [
       "Syncing run <strong><a href='https://wandb.ai/paronyms/paronyms/runs/ds6cfxlm/workspace' target=\"_blank\">desert-wood-6</a></strong> to <a href='https://wandb.ai/paronyms/paronyms' target=\"_blank\">Weights & Biases</a> (<a href='https://wandb.me/run' target=\"_blank\">docs</a>)<br/>"
      ],
      "text/plain": [
       "<IPython.core.display.HTML object>"
      ]
     },
     "metadata": {},
     "output_type": "display_data"
    },
    {
     "data": {
      "text/html": [
       " View project at <a href='https://wandb.ai/paronyms/paronyms' target=\"_blank\">https://wandb.ai/paronyms/paronyms</a>"
      ],
      "text/plain": [
       "<IPython.core.display.HTML object>"
      ]
     },
     "metadata": {},
     "output_type": "display_data"
    },
    {
     "data": {
      "text/html": [
       " View run at <a href='https://wandb.ai/paronyms/paronyms/runs/ds6cfxlm/workspace' target=\"_blank\">https://wandb.ai/paronyms/paronyms/runs/ds6cfxlm/workspace</a>"
      ],
      "text/plain": [
       "<IPython.core.display.HTML object>"
      ]
     },
     "metadata": {},
     "output_type": "display_data"
    }
   ],
   "source": [
    "# Логирование\n",
    "wandb.init(project=\"paronyms\", tags=[\"nn\"])\n",
    "wandb.log(nn)"
   ]
  },
  {
   "cell_type": "code",
   "execution_count": 34,
   "metadata": {},
   "outputs": [
    {
     "name": "stdout",
     "output_type": "stream",
     "text": [
      "\u001b[1m12/12\u001b[0m \u001b[32m━━━━━━━━━━━━━━━━━━━━\u001b[0m\u001b[37m\u001b[0m \u001b[1m0s\u001b[0m 5ms/step\n"
     ]
    }
   ],
   "source": [
    "nn_model = tf.keras.Sequential()\n",
    "\n",
    "layers = nn[\"layers\"]\n",
    "activations = nn[\"activations\"]\n",
    "\n",
    "for i in range(len(layers)):\n",
    "    if i == 0:\n",
    "        nn_model.add(tf.keras.layers.Dense(layers[i], activation=activations[i], input_shape=(X_train.shape[1],)))\n",
    "    else:\n",
    "        nn_model.add(tf.keras.layers.Dense(layers[i], activation=activations[i]))\n",
    "\n",
    "nn_model.compile(optimizer=nn[\"optimizer\"], loss='mean_absolute_error')\n",
    "\n",
    "history = nn_model.fit(X_train, y_train, epochs=nn[\"epochs\"], batch_size=nn[\"batch_size\"], verbose=0)\n",
    "\n",
    "predictions = nn_model.predict(X_test)"
   ]
  },
  {
   "cell_type": "code",
   "execution_count": 35,
   "metadata": {},
   "outputs": [
    {
     "name": "stdout",
     "output_type": "stream",
     "text": [
      "MAE: 0.06946646101115152  Accuracy: 0.9293478260869565\n"
     ]
    },
    {
     "data": {
      "text/html": [
       "<style>\n",
       "    table.wandb td:nth-child(1) { padding: 0 10px; text-align: left ; width: auto;} td:nth-child(2) {text-align: left ; width: 100%}\n",
       "    .wandb-row { display: flex; flex-direction: row; flex-wrap: wrap; justify-content: flex-start; width: 100% }\n",
       "    .wandb-col { display: flex; flex-direction: column; flex-basis: 100%; flex: 1; padding: 10px; }\n",
       "    </style>\n",
       "<div class=\"wandb-row\"><div class=\"wandb-col\"><h3>Run history:</h3><br/><table class=\"wandb\"><tr><td>Accuracy</td><td>▁</td></tr><tr><td>MAE</td><td>▁</td></tr><tr><td>batch_size</td><td>▁</td></tr><tr><td>epochs</td><td>▁</td></tr><tr><td>treshold</td><td>▁</td></tr></table><br/></div><div class=\"wandb-col\"><h3>Run summary:</h3><br/><table class=\"wandb\"><tr><td>Accuracy</td><td>0.92935</td></tr><tr><td>MAE</td><td>0.06947</td></tr><tr><td>batch_size</td><td>16</td></tr><tr><td>epochs</td><td>100</td></tr><tr><td>optimizer</td><td>adam</td></tr><tr><td>treshold</td><td>0.52</td></tr></table><br/></div></div>"
      ],
      "text/plain": [
       "<IPython.core.display.HTML object>"
      ]
     },
     "metadata": {},
     "output_type": "display_data"
    },
    {
     "data": {
      "text/html": [
       " View run <strong style=\"color:#cdcd00\">desert-wood-6</strong> at: <a href='https://wandb.ai/paronyms/paronyms/runs/ds6cfxlm/workspace' target=\"_blank\">https://wandb.ai/paronyms/paronyms/runs/ds6cfxlm/workspace</a><br/>Synced 5 W&B file(s), 0 media file(s), 0 artifact file(s) and 0 other file(s)"
      ],
      "text/plain": [
       "<IPython.core.display.HTML object>"
      ]
     },
     "metadata": {},
     "output_type": "display_data"
    },
    {
     "data": {
      "text/html": [
       "Find logs at: <code>.\\wandb\\run-20240331_084509-ds6cfxlm\\logs</code>"
      ],
      "text/plain": [
       "<IPython.core.display.HTML object>"
      ]
     },
     "metadata": {},
     "output_type": "display_data"
    },
    {
     "data": {
      "image/png": "[encoded data removed]",
      "text/plain": [
       "<Figure size 640x480 with 1 Axes>"
      ]
     },
     "metadata": {},
     "output_type": "display_data"
    }
   ],
   "source": [
    "treshold = nn[\"treshold\"]\n",
    "\n",
    "mae = mean_absolute_error(y_test, predictions)\n",
    "acc = accuracy_score(y_test, [1 if prob > treshold else 0 for prob in predictions])\n",
    "print('MAE:', mae, ' Accuracy:', acc)\n",
    "\n",
    "wandb.log({'MAE': mae, 'Accuracy': acc})\n",
    "wandb.finish()\n",
    "\n",
    "# Plotting the loss\n",
    "plt.plot(history.history['loss'])\n",
    "plt.title('Model Loss')\n",
    "plt.ylabel('Loss')\n",
    "plt.xlabel('Epoch')\n",
    "plt.show()"
   ]
  },
  {
   "cell_type": "markdown",
   "metadata": {},
   "source": [
    "Тестирование"
   ]
  },
  {
   "cell_type": "code",
   "execution_count": null,
   "metadata": {},
   "outputs": [],
   "source": [
    "# function for testing new words\n",
    "def test(word1, word2, model):\n",
    "\n",
    "    # getting embs and lev dist \n",
    "    emb1, emb2 = get_embedding(word1), get_embedding(word2)\n",
    "    pca_emb1 = reduce_dimension(pca, emb1.reshape(1, -1))\n",
    "    pca_emb2 = reduce_dimension(pca, emb2.reshape(1, -1))\n",
    "    lev_dist = Levenshtein.distance(word1, word2)\n",
    "\n",
    "    # creating dataframe\n",
    "    row = pca_emb1.tolist()[0] + pca_emb2.tolist()[0] + [lev_dist]\n",
    "    X_new = pd.DataFrame([row], columns=X.columns)\n",
    "    \n",
    "    # predictions \n",
    "    if model == \"cat\":\n",
    "        prediction = cat_model.predict_proba(X_new)\n",
    "        res = np.argmax(prediction[0])\n",
    "        proba = max(prediction[0])\n",
    "\n",
    "    if model == \"nn\":\n",
    "        prediction = nn_model.predict(X_new)\n",
    "        if prediction[0][0] < 0.5:\n",
    "            res = 0\n",
    "            proba = 1 - (prediction[0][0] if prediction[0][0] > 0 else 0)\n",
    "        else:\n",
    "            res = 1\n",
    "            proba = (prediction[0][0] if prediction[0][0] < 1 else 1)\n",
    "\n",
    "    # result\n",
    "    print(f\"Слова {word1} и {word2} {'не '*(not res)}являются паронимами с вероятностью {proba}\")"
   ]
  },
  {
   "cell_type": "code",
   "execution_count": null,
   "metadata": {},
   "outputs": [],
   "source": [
    "# не паронимы\n",
    "word1 = \"приветливый\"\n",
    "word2 = \"страна\" \n",
    "\n",
    "# паронимы\n",
    "word1 = \"целый\"\n",
    "word2 = \"цельный\" \n",
    "\n",
    "# модель \n",
    "model = \"cat\" # nn - keras nn, cat - catboostclassifier\n",
    "\n",
    "# тестирование\n",
    "test(word1, word2, model)"
   ]
  },
  {
   "cell_type": "markdown",
   "metadata": {},
   "source": [
    "Мусорка"
   ]
  },
  {
   "cell_type": "code",
   "execution_count": 97,
   "metadata": {},
   "outputs": [
    {
     "data": {
      "text/html": [
       "<div>\n",
       "<style scoped>\n",
       "    .dataframe tbody tr th:only-of-type {\n",
       "        vertical-align: middle;\n",
       "    }\n",
       "\n",
       "    .dataframe tbody tr th {\n",
       "        vertical-align: top;\n",
       "    }\n",
       "\n",
       "    .dataframe thead th {\n",
       "        text-align: right;\n",
       "    }\n",
       "</style>\n",
       "<table border=\"1\" class=\"dataframe\">\n",
       "  <thead>\n",
       "    <tr style=\"text-align: right;\">\n",
       "      <th></th>\n",
       "      <th>word1</th>\n",
       "      <th>word2</th>\n",
       "      <th>label</th>\n",
       "      <th>emb_1_0</th>\n",
       "      <th>emb_1_1</th>\n",
       "      <th>emb_1_2</th>\n",
       "      <th>emb_1_3</th>\n",
       "      <th>emb_1_4</th>\n",
       "      <th>emb_1_5</th>\n",
       "      <th>emb_1_6</th>\n",
       "      <th>...</th>\n",
       "      <th>emb_2_291</th>\n",
       "      <th>emb_2_292</th>\n",
       "      <th>emb_2_293</th>\n",
       "      <th>emb_2_294</th>\n",
       "      <th>emb_2_295</th>\n",
       "      <th>emb_2_296</th>\n",
       "      <th>emb_2_297</th>\n",
       "      <th>emb_2_298</th>\n",
       "      <th>emb_2_299</th>\n",
       "      <th>lev_dist</th>\n",
       "    </tr>\n",
       "  </thead>\n",
       "  <tbody>\n",
       "    <tr>\n",
       "      <th>0</th>\n",
       "      <td>аккордовый</td>\n",
       "      <td>квадрат</td>\n",
       "      <td>0</td>\n",
       "      <td>-0.012578</td>\n",
       "      <td>0.071381</td>\n",
       "      <td>-0.066920</td>\n",
       "      <td>0.132629</td>\n",
       "      <td>0.039623</td>\n",
       "      <td>0.068954</td>\n",
       "      <td>-0.102715</td>\n",
       "      <td>...</td>\n",
       "      <td>0.012084</td>\n",
       "      <td>0.054774</td>\n",
       "      <td>0.012667</td>\n",
       "      <td>-0.049291</td>\n",
       "      <td>0.144537</td>\n",
       "      <td>-0.074161</td>\n",
       "      <td>-0.035057</td>\n",
       "      <td>0.081322</td>\n",
       "      <td>0.129544</td>\n",
       "      <td>0</td>\n",
       "    </tr>\n",
       "    <tr>\n",
       "      <th>1</th>\n",
       "      <td>целый</td>\n",
       "      <td>цельный</td>\n",
       "      <td>1</td>\n",
       "      <td>-0.019124</td>\n",
       "      <td>0.034811</td>\n",
       "      <td>0.057754</td>\n",
       "      <td>0.119841</td>\n",
       "      <td>-0.034180</td>\n",
       "      <td>0.042868</td>\n",
       "      <td>0.015424</td>\n",
       "      <td>...</td>\n",
       "      <td>0.032209</td>\n",
       "      <td>0.014659</td>\n",
       "      <td>0.024586</td>\n",
       "      <td>-0.071244</td>\n",
       "      <td>-0.106860</td>\n",
       "      <td>0.002109</td>\n",
       "      <td>0.057067</td>\n",
       "      <td>-0.029967</td>\n",
       "      <td>0.069121</td>\n",
       "      <td>0</td>\n",
       "    </tr>\n",
       "    <tr>\n",
       "      <th>2</th>\n",
       "      <td>женский</td>\n",
       "      <td>господний</td>\n",
       "      <td>0</td>\n",
       "      <td>0.044881</td>\n",
       "      <td>-0.092671</td>\n",
       "      <td>0.050879</td>\n",
       "      <td>-0.044229</td>\n",
       "      <td>0.011045</td>\n",
       "      <td>0.028815</td>\n",
       "      <td>-0.058337</td>\n",
       "      <td>...</td>\n",
       "      <td>0.073815</td>\n",
       "      <td>0.014237</td>\n",
       "      <td>0.103689</td>\n",
       "      <td>0.109344</td>\n",
       "      <td>0.009336</td>\n",
       "      <td>0.047421</td>\n",
       "      <td>0.005184</td>\n",
       "      <td>0.071654</td>\n",
       "      <td>-0.028561</td>\n",
       "      <td>0</td>\n",
       "    </tr>\n",
       "    <tr>\n",
       "      <th>3</th>\n",
       "      <td>обличительный</td>\n",
       "      <td>динамизм</td>\n",
       "      <td>0</td>\n",
       "      <td>0.066741</td>\n",
       "      <td>0.038244</td>\n",
       "      <td>0.027620</td>\n",
       "      <td>0.058278</td>\n",
       "      <td>0.048305</td>\n",
       "      <td>0.110592</td>\n",
       "      <td>-0.115581</td>\n",
       "      <td>...</td>\n",
       "      <td>-0.102109</td>\n",
       "      <td>0.129003</td>\n",
       "      <td>-0.052745</td>\n",
       "      <td>-0.043174</td>\n",
       "      <td>-0.039006</td>\n",
       "      <td>0.050456</td>\n",
       "      <td>-0.007910</td>\n",
       "      <td>-0.029959</td>\n",
       "      <td>0.016620</td>\n",
       "      <td>0</td>\n",
       "    </tr>\n",
       "    <tr>\n",
       "      <th>4</th>\n",
       "      <td>сыскать</td>\n",
       "      <td>снискать</td>\n",
       "      <td>1</td>\n",
       "      <td>0.000000</td>\n",
       "      <td>0.000000</td>\n",
       "      <td>0.000000</td>\n",
       "      <td>0.000000</td>\n",
       "      <td>0.000000</td>\n",
       "      <td>0.000000</td>\n",
       "      <td>0.000000</td>\n",
       "      <td>...</td>\n",
       "      <td>0.000000</td>\n",
       "      <td>0.000000</td>\n",
       "      <td>0.000000</td>\n",
       "      <td>0.000000</td>\n",
       "      <td>0.000000</td>\n",
       "      <td>0.000000</td>\n",
       "      <td>0.000000</td>\n",
       "      <td>0.000000</td>\n",
       "      <td>0.000000</td>\n",
       "      <td>0</td>\n",
       "    </tr>\n",
       "    <tr>\n",
       "      <th>...</th>\n",
       "      <td>...</td>\n",
       "      <td>...</td>\n",
       "      <td>...</td>\n",
       "      <td>...</td>\n",
       "      <td>...</td>\n",
       "      <td>...</td>\n",
       "      <td>...</td>\n",
       "      <td>...</td>\n",
       "      <td>...</td>\n",
       "      <td>...</td>\n",
       "      <td>...</td>\n",
       "      <td>...</td>\n",
       "      <td>...</td>\n",
       "      <td>...</td>\n",
       "      <td>...</td>\n",
       "      <td>...</td>\n",
       "      <td>...</td>\n",
       "      <td>...</td>\n",
       "      <td>...</td>\n",
       "      <td>...</td>\n",
       "      <td>...</td>\n",
       "    </tr>\n",
       "    <tr>\n",
       "      <th>3511</th>\n",
       "      <td>гнилой</td>\n",
       "      <td>гнилостный</td>\n",
       "      <td>1</td>\n",
       "      <td>0.022569</td>\n",
       "      <td>-0.047862</td>\n",
       "      <td>0.049707</td>\n",
       "      <td>0.058395</td>\n",
       "      <td>0.006504</td>\n",
       "      <td>0.046971</td>\n",
       "      <td>0.035626</td>\n",
       "      <td>...</td>\n",
       "      <td>-0.091607</td>\n",
       "      <td>0.088824</td>\n",
       "      <td>0.001456</td>\n",
       "      <td>-0.006952</td>\n",
       "      <td>0.041889</td>\n",
       "      <td>0.050071</td>\n",
       "      <td>0.102235</td>\n",
       "      <td>-0.003491</td>\n",
       "      <td>-0.002087</td>\n",
       "      <td>0</td>\n",
       "    </tr>\n",
       "    <tr>\n",
       "      <th>3512</th>\n",
       "      <td>кормильщица</td>\n",
       "      <td>притягательный</td>\n",
       "      <td>0</td>\n",
       "      <td>0.000000</td>\n",
       "      <td>0.000000</td>\n",
       "      <td>0.000000</td>\n",
       "      <td>0.000000</td>\n",
       "      <td>0.000000</td>\n",
       "      <td>0.000000</td>\n",
       "      <td>0.000000</td>\n",
       "      <td>...</td>\n",
       "      <td>0.000000</td>\n",
       "      <td>0.000000</td>\n",
       "      <td>0.000000</td>\n",
       "      <td>0.000000</td>\n",
       "      <td>0.000000</td>\n",
       "      <td>0.000000</td>\n",
       "      <td>0.000000</td>\n",
       "      <td>0.000000</td>\n",
       "      <td>0.000000</td>\n",
       "      <td>0</td>\n",
       "    </tr>\n",
       "    <tr>\n",
       "      <th>3513</th>\n",
       "      <td>абонемент</td>\n",
       "      <td>абонент</td>\n",
       "      <td>1</td>\n",
       "      <td>0.068919</td>\n",
       "      <td>0.042074</td>\n",
       "      <td>-0.030451</td>\n",
       "      <td>-0.087799</td>\n",
       "      <td>0.016597</td>\n",
       "      <td>-0.016370</td>\n",
       "      <td>0.019723</td>\n",
       "      <td>...</td>\n",
       "      <td>0.067424</td>\n",
       "      <td>0.100960</td>\n",
       "      <td>0.029388</td>\n",
       "      <td>-0.060928</td>\n",
       "      <td>0.016881</td>\n",
       "      <td>-0.025644</td>\n",
       "      <td>-0.061658</td>\n",
       "      <td>-0.017059</td>\n",
       "      <td>-0.043113</td>\n",
       "      <td>0</td>\n",
       "    </tr>\n",
       "    <tr>\n",
       "      <th>3514</th>\n",
       "      <td>беженец</td>\n",
       "      <td>выучить</td>\n",
       "      <td>0</td>\n",
       "      <td>0.000000</td>\n",
       "      <td>0.000000</td>\n",
       "      <td>0.000000</td>\n",
       "      <td>0.000000</td>\n",
       "      <td>0.000000</td>\n",
       "      <td>0.000000</td>\n",
       "      <td>0.000000</td>\n",
       "      <td>...</td>\n",
       "      <td>0.000000</td>\n",
       "      <td>0.000000</td>\n",
       "      <td>0.000000</td>\n",
       "      <td>0.000000</td>\n",
       "      <td>0.000000</td>\n",
       "      <td>0.000000</td>\n",
       "      <td>0.000000</td>\n",
       "      <td>0.000000</td>\n",
       "      <td>0.000000</td>\n",
       "      <td>0</td>\n",
       "    </tr>\n",
       "    <tr>\n",
       "      <th>3515</th>\n",
       "      <td>сводчатый</td>\n",
       "      <td>обстоятельный</td>\n",
       "      <td>0</td>\n",
       "      <td>-0.016734</td>\n",
       "      <td>0.033903</td>\n",
       "      <td>0.149104</td>\n",
       "      <td>0.134837</td>\n",
       "      <td>0.123498</td>\n",
       "      <td>0.062373</td>\n",
       "      <td>0.019553</td>\n",
       "      <td>...</td>\n",
       "      <td>0.129128</td>\n",
       "      <td>-0.039648</td>\n",
       "      <td>0.055071</td>\n",
       "      <td>-0.009823</td>\n",
       "      <td>-0.012505</td>\n",
       "      <td>0.081871</td>\n",
       "      <td>-0.020242</td>\n",
       "      <td>0.003785</td>\n",
       "      <td>-0.095376</td>\n",
       "      <td>0</td>\n",
       "    </tr>\n",
       "  </tbody>\n",
       "</table>\n",
       "<p>3516 rows × 604 columns</p>\n",
       "</div>"
      ],
      "text/plain": [
       "              word1           word2  label   emb_1_0   emb_1_1   emb_1_2  \\\n",
       "0        аккордовый         квадрат      0 -0.012578  0.071381 -0.066920   \n",
       "1             целый         цельный      1 -0.019124  0.034811  0.057754   \n",
       "2           женский       господний      0  0.044881 -0.092671  0.050879   \n",
       "3     обличительный        динамизм      0  0.066741  0.038244  0.027620   \n",
       "4           сыскать        снискать      1  0.000000  0.000000  0.000000   \n",
       "...             ...             ...    ...       ...       ...       ...   \n",
       "3511         гнилой      гнилостный      1  0.022569 -0.047862  0.049707   \n",
       "3512    кормильщица  притягательный      0  0.000000  0.000000  0.000000   \n",
       "3513      абонемент         абонент      1  0.068919  0.042074 -0.030451   \n",
       "3514        беженец         выучить      0  0.000000  0.000000  0.000000   \n",
       "3515      сводчатый   обстоятельный      0 -0.016734  0.033903  0.149104   \n",
       "\n",
       "       emb_1_3   emb_1_4   emb_1_5   emb_1_6  ...  emb_2_291  emb_2_292  \\\n",
       "0     0.132629  0.039623  0.068954 -0.102715  ...   0.012084   0.054774   \n",
       "1     0.119841 -0.034180  0.042868  0.015424  ...   0.032209   0.014659   \n",
       "2    -0.044229  0.011045  0.028815 -0.058337  ...   0.073815   0.014237   \n",
       "3     0.058278  0.048305  0.110592 -0.115581  ...  -0.102109   0.129003   \n",
       "4     0.000000  0.000000  0.000000  0.000000  ...   0.000000   0.000000   \n",
       "...        ...       ...       ...       ...  ...        ...        ...   \n",
       "3511  0.058395  0.006504  0.046971  0.035626  ...  -0.091607   0.088824   \n",
       "3512  0.000000  0.000000  0.000000  0.000000  ...   0.000000   0.000000   \n",
       "3513 -0.087799  0.016597 -0.016370  0.019723  ...   0.067424   0.100960   \n",
       "3514  0.000000  0.000000  0.000000  0.000000  ...   0.000000   0.000000   \n",
       "3515  0.134837  0.123498  0.062373  0.019553  ...   0.129128  -0.039648   \n",
       "\n",
       "      emb_2_293  emb_2_294  emb_2_295  emb_2_296  emb_2_297  emb_2_298  \\\n",
       "0      0.012667  -0.049291   0.144537  -0.074161  -0.035057   0.081322   \n",
       "1      0.024586  -0.071244  -0.106860   0.002109   0.057067  -0.029967   \n",
       "2      0.103689   0.109344   0.009336   0.047421   0.005184   0.071654   \n",
       "3     -0.052745  -0.043174  -0.039006   0.050456  -0.007910  -0.029959   \n",
       "4      0.000000   0.000000   0.000000   0.000000   0.000000   0.000000   \n",
       "...         ...        ...        ...        ...        ...        ...   \n",
       "3511   0.001456  -0.006952   0.041889   0.050071   0.102235  -0.003491   \n",
       "3512   0.000000   0.000000   0.000000   0.000000   0.000000   0.000000   \n",
       "3513   0.029388  -0.060928   0.016881  -0.025644  -0.061658  -0.017059   \n",
       "3514   0.000000   0.000000   0.000000   0.000000   0.000000   0.000000   \n",
       "3515   0.055071  -0.009823  -0.012505   0.081871  -0.020242   0.003785   \n",
       "\n",
       "      emb_2_299  lev_dist  \n",
       "0      0.129544         0  \n",
       "1      0.069121         0  \n",
       "2     -0.028561         0  \n",
       "3      0.016620         0  \n",
       "4      0.000000         0  \n",
       "...         ...       ...  \n",
       "3511  -0.002087         0  \n",
       "3512   0.000000         0  \n",
       "3513  -0.043113         0  \n",
       "3514   0.000000         0  \n",
       "3515  -0.095376         0  \n",
       "\n",
       "[3516 rows x 604 columns]"
      ]
     },
     "execution_count": 97,
     "metadata": {},
     "output_type": "execute_result"
    }
   ],
   "source": [
    "data"
   ]
  },
  {
   "cell_type": "code",
   "execution_count": 96,
   "metadata": {},
   "outputs": [
    {
     "data": {
      "text/plain": [
       "array([-1.25777004e-02,  7.13808015e-02, -6.69195578e-02,  1.32629201e-01,\n",
       "        3.96230109e-02,  6.89538270e-02, -1.02715276e-01, -2.07985435e-02,\n",
       "       -4.17454605e-04, -6.66920096e-02,  1.85652584e-01, -1.44832075e-01,\n",
       "        2.83512380e-02, -1.11901104e-01,  4.56056818e-02, -4.81510274e-02,\n",
       "        8.36276039e-02, -9.19803232e-03,  9.81500838e-04,  5.74996658e-02,\n",
       "       -2.92572589e-03,  6.52177706e-02, -4.75657806e-02,  4.61040102e-02,\n",
       "       -3.82861830e-02,  5.70593216e-02, -3.37926932e-02,  1.21076353e-01,\n",
       "       -1.81092322e-02,  9.62400343e-03, -1.48299234e-02,  1.01952113e-01,\n",
       "        1.60059571e-01, -5.47798118e-03,  3.87733914e-02,  3.83970179e-02,\n",
       "        1.25514701e-01, -8.64881873e-02,  2.29348727e-02, -2.13215649e-02,\n",
       "       -1.91617105e-02, -1.42319629e-03, -1.11882702e-01, -8.07544217e-02,\n",
       "       -5.52563854e-02,  1.29661132e-02, -3.10040861e-02, -4.55451086e-02,\n",
       "        4.72736470e-02, -7.49781057e-02, -9.20100696e-03,  5.29071130e-02,\n",
       "        6.45692181e-03,  5.74147003e-03,  9.59861558e-03,  4.14790679e-03,\n",
       "        1.90521479e-02, -7.94550180e-02,  1.69859100e-02, -3.25852409e-02,\n",
       "       -1.00170083e-01,  3.62269804e-02,  6.94461539e-02, -8.63561481e-02,\n",
       "       -5.65240309e-02,  4.15184684e-02, -3.38917896e-02,  2.72767413e-02,\n",
       "        2.60996334e-02,  6.78940415e-02, -5.99999093e-02, -5.00195399e-02,\n",
       "       -1.88710131e-02,  9.66469105e-03,  2.81026121e-02,  2.08671000e-02,\n",
       "        1.61541495e-02, -3.85255590e-02, -5.15885837e-03,  3.94509211e-02,\n",
       "        6.78004278e-03,  1.83908325e-02, -2.70006657e-02, -8.34909305e-02,\n",
       "       -1.11830207e-02, -1.40482679e-01, -9.20039788e-02,  2.81033125e-02,\n",
       "        2.64003985e-02,  9.93030816e-02,  9.75869298e-02,  2.22652201e-02,\n",
       "        4.37827185e-02, -2.34081820e-02,  1.01139918e-01,  1.38354152e-02,\n",
       "        4.30526212e-02,  3.48471180e-02, -4.25464623e-02,  8.53151605e-02,\n",
       "       -8.54157954e-02,  2.73413602e-02, -3.14549543e-02, -1.23378346e-02,\n",
       "        1.92287397e-02, -1.04939919e-02,  2.31727064e-02,  4.86694351e-02,\n",
       "        1.40119484e-02,  1.01674767e-02,  4.13361192e-02, -3.82429622e-02,\n",
       "       -7.97519609e-02, -4.70690913e-02,  2.05523521e-02,  1.31806955e-01,\n",
       "        7.45726051e-03, -9.67080072e-02,  1.29773185e-01,  6.74464554e-02,\n",
       "        8.25832188e-02, -4.34917957e-02,  4.15335968e-02, -9.65461135e-02,\n",
       "       -3.42153572e-02,  6.13581017e-02, -5.56484796e-02, -7.63703557e-03,\n",
       "       -5.03940433e-02,  7.48961568e-02, -4.04553376e-02, -4.53252122e-02,\n",
       "       -2.48705409e-02, -6.81427792e-02, -1.19851336e-01, -1.46040518e-03,\n",
       "        2.55184108e-03, -9.37480852e-02, -4.26071621e-02, -2.00331286e-02,\n",
       "        2.87593603e-02, -6.92993328e-02,  1.00275893e-02,  8.96336744e-04,\n",
       "        1.32769167e-01,  6.23399485e-03, -3.08007747e-03,  1.46783078e-02,\n",
       "        4.01196033e-02, -3.29340037e-05,  1.96143445e-02,  1.43831536e-01,\n",
       "       -4.21286337e-02, -2.65204217e-02, -1.80622973e-02,  4.75672185e-02,\n",
       "        3.57646458e-02,  5.23649193e-02,  3.63554829e-03,  7.04426542e-02,\n",
       "       -2.60557625e-02, -2.49712970e-02, -1.11792609e-02, -2.46893857e-02,\n",
       "       -3.41893844e-02, -3.86450090e-03, -8.38279724e-02, -1.00701638e-02,\n",
       "       -9.68417302e-02, -2.87084263e-02,  6.16596527e-02, -2.70111524e-02,\n",
       "        3.37847844e-02,  1.06067518e-02,  9.32938978e-02,  8.40997770e-02,\n",
       "        9.70854461e-02, -6.41414314e-04, -5.85164949e-02, -3.49408127e-02,\n",
       "        2.32457183e-02,  2.41421741e-02,  9.03776102e-03, -6.10216036e-02,\n",
       "        8.96442123e-03,  1.61935873e-02,  2.56265868e-02,  8.30461159e-02,\n",
       "       -8.11284408e-02, -2.58378655e-04,  1.40871152e-01, -2.12826971e-02,\n",
       "       -1.47411749e-01, -3.14482525e-02,  2.19504666e-02,  3.69035192e-02,\n",
       "        4.18353714e-02, -1.02795228e-01, -1.24128751e-01, -1.99791677e-02,\n",
       "        4.83582951e-02, -2.08577514e-02,  7.03508109e-02, -7.54659921e-02,\n",
       "       -6.20336756e-02,  4.43049660e-03,  3.10019869e-02,  3.75561826e-02,\n",
       "       -3.64921652e-02,  5.96306995e-02, -5.76091371e-02,  5.77018596e-02,\n",
       "       -1.09729730e-01, -5.53957708e-02, -2.83655822e-02,  1.64113306e-02,\n",
       "        8.86768326e-02,  1.59735948e-01, -3.19493227e-02, -1.02740385e-01,\n",
       "       -3.81668634e-03,  4.45205159e-02,  6.80665672e-02, -1.87013764e-02,\n",
       "       -4.73693665e-03, -4.83670905e-02,  5.82671426e-02, -5.51398285e-02,\n",
       "        7.66585618e-02, -6.51081055e-02,  9.20398161e-02,  4.05590385e-02,\n",
       "        1.30269313e-02,  3.61332297e-02,  3.95346135e-02,  4.74875700e-03,\n",
       "       -2.49997862e-02, -7.20974011e-03, -1.88105833e-02,  2.58076247e-02,\n",
       "       -5.99639826e-02, -9.34645440e-03,  5.20188957e-02,  3.51248533e-02,\n",
       "       -1.76731050e-02,  3.31161283e-02, -9.49751586e-03,  2.66715698e-02,\n",
       "        3.53997834e-02, -2.34746300e-02, -1.49301626e-02,  1.77430746e-03,\n",
       "       -1.04395561e-01, -9.88866668e-03, -1.61379166e-02,  4.01679613e-02,\n",
       "        2.27362420e-02, -2.17149071e-02,  2.94348318e-02,  9.95190963e-02,\n",
       "       -4.32178527e-02,  4.99926321e-02, -6.86487705e-02,  1.16120903e-02,\n",
       "       -9.21644270e-03, -1.91097893e-03, -9.44670755e-03, -4.85876197e-04,\n",
       "       -4.77269962e-02,  5.51423766e-02,  6.54815361e-02, -4.81810374e-03,\n",
       "        4.99324650e-02,  9.87115353e-02,  4.30110842e-02,  8.21192041e-02,\n",
       "        3.01010162e-02, -2.82975696e-02,  1.77318510e-02,  2.98905955e-03,\n",
       "       -5.61913401e-02, -2.75982488e-02,  3.94750983e-02,  4.68719117e-02,\n",
       "       -4.54176627e-02, -2.27284413e-02, -1.65842958e-02, -3.08038685e-02,\n",
       "       -1.37280282e-02,  2.76846681e-02, -4.02916819e-02,  3.50677483e-02,\n",
       "       -5.78317009e-02,  1.75822079e-02, -2.84524038e-02,  3.84100191e-02,\n",
       "       -1.05551723e-02,  9.48307663e-02, -5.39948344e-02, -5.33957593e-02],\n",
       "      dtype=float32)"
      ]
     },
     "execution_count": 96,
     "metadata": {},
     "output_type": "execute_result"
    }
   ],
   "source": [
    "get_embedding(data['word1'][0])"
   ]
  },
  {
   "cell_type": "code",
   "execution_count": 85,
   "metadata": {},
   "outputs": [
    {
     "name": "stdout",
     "output_type": "stream",
     "text": [
      "None\n"
     ]
    }
   ],
   "source": [
    "morph = pymorphy2.MorphAnalyzer()\n",
    "\n",
    "word = 'знамя_NOUN'\n",
    "parsed_word = morph.parse(word)[0]\n",
    "pos = parsed_word.tag.POS\n",
    "\n",
    "print(pos)"
   ]
  },
  {
   "cell_type": "code",
   "execution_count": null,
   "metadata": {},
   "outputs": [],
   "source": [
    "\n"
   ]
  }
 ],
 "metadata": {
  "kernelspec": {
   "display_name": "base",
   "language": "python",
   "name": "python3"
  },
  "language_info": {
   "codemirror_mode": {
    "name": "ipython",
    "version": 3
   },
   "file_extension": ".py",
   "mimetype": "text/x-python",
   "name": "python",
   "nbconvert_exporter": "python",
   "pygments_lexer": "ipython3",
   "version": "3.9.7"
  }
 },
 "nbformat": 4,
 "nbformat_minor": 2
}
