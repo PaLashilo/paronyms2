{
 "cells": [
  {
   "cell_type": "markdown",
   "metadata": {},
   "source": [
    "Скачивание всех зависимостей проекта"
   ]
  },
  {
   "cell_type": "code",
   "execution_count": 7,
   "metadata": {},
   "outputs": [],
   "source": [
    "!pip install -r requirements.txt"
   ]
  },
  {
   "cell_type": "markdown",
   "metadata": {},
   "source": [
    "Авторизация в wandb "
   ]
  },
  {
   "cell_type": "code",
   "execution_count": 1,
   "metadata": {},
   "outputs": [
    {
     "name": "stderr",
     "output_type": "stream",
     "text": [
      "\"cat\" �� ���� ����७��� ��� ���譥�\n",
      "��������, �ᯮ��塞�� �ணࠬ��� ��� ������ 䠩���.\n"
     ]
    }
   ],
   "source": [
    "!wandb login | cat wandb_secret.txt"
   ]
  },
  {
   "cell_type": "markdown",
   "metadata": {},
   "source": [
    "Импорт библиотек"
   ]
  },
  {
   "cell_type": "code",
   "execution_count": 3,
   "metadata": {},
   "outputs": [
    {
     "name": "stderr",
     "output_type": "stream",
     "text": [
      "c:\\Users\\pasin\\DS\\Доп\\generation_of_paronyms\\venv\\lib\\site-packages\\tqdm\\auto.py:21: TqdmWarning: IProgress not found. Please update jupyter and ipywidgets. See https://ipywidgets.readthedocs.io/en/stable/user_install.html\n",
      "  from .autonotebook import tqdm as notebook_tqdm\n"
     ]
    }
   ],
   "source": [
    "import pandas as pd\n",
    "import numpy as np\n",
    "import tensorflow as tf\n",
    "import optuna\n",
    "import keras \n",
    "\n",
    "from catboost import CatBoostClassifier\n",
    "from sklearn.model_selection import train_test_split\n",
    "from sklearn.metrics import mean_absolute_error, accuracy_score\n",
    "from sklearn.decomposition import PCA\n",
    "\n",
    "import matplotlib.pyplot as plt\n",
    "\n",
    "import pymorphy2\n",
    "import Levenshtein\n",
    "import gensim.downloader\n",
    "import wandb\n",
    "import json\n",
    "\n",
    "import warnings\n",
    "warnings.filterwarnings(\"ignore\")"
   ]
  },
  {
   "cell_type": "markdown",
   "metadata": {},
   "source": [
    "Чтение данных"
   ]
  },
  {
   "cell_type": "code",
   "execution_count": 4,
   "metadata": {},
   "outputs": [],
   "source": [
    "# конфигурация\n",
    "with open('config.json', 'r') as file:\n",
    "    config = json.load(file)\n",
    "\n",
    "cat = config['catboost']\n",
    "nn = config['nn']\n",
    "path = config['data_path']"
   ]
  },
  {
   "cell_type": "code",
   "execution_count": 5,
   "metadata": {},
   "outputs": [],
   "source": [
    "# датафрейм \n",
    "data = pd.read_csv(path, index_col=0)"
   ]
  },
  {
   "cell_type": "markdown",
   "metadata": {},
   "source": [
    "Препроцессинг"
   ]
  },
  {
   "cell_type": "code",
   "execution_count": 6,
   "metadata": {},
   "outputs": [],
   "source": [
    "# installing model\n",
    "word2vec_rus = gensim.downloader.load('word2vec-ruscorpora-300')"
   ]
  },
  {
   "cell_type": "code",
   "execution_count": 7,
   "metadata": {},
   "outputs": [],
   "source": [
    "morph = pymorphy2.MorphAnalyzer()"
   ]
  },
  {
   "cell_type": "code",
   "execution_count": 8,
   "metadata": {},
   "outputs": [],
   "source": [
    "# get a part of speech needed to make an embedding of word\n",
    "def get_part_of_speech(word):\n",
    "    \n",
    "    parsed_word = morph.parse(word)[0]\n",
    "    pos = parsed_word.tag.POS\n",
    "\n",
    "    if pos == \"ADJF\":\n",
    "        return \"ADJ\"\n",
    "    \n",
    "    return pos "
   ]
  },
  {
   "cell_type": "code",
   "execution_count": 9,
   "metadata": {},
   "outputs": [],
   "source": [
    "# making embedding by pretrained word2vec model \n",
    "def get_embedding(word):\n",
    "\n",
    "    w2v_word = f\"{word}_{get_part_of_speech(word)}\"\n",
    "\n",
    "    try:\n",
    "        emb = word2vec_rus[w2v_word]\n",
    "\n",
    "    except KeyError:\n",
    "        return None\n",
    "    \n",
    "    return emb"
   ]
  },
  {
   "cell_type": "code",
   "execution_count": 10,
   "metadata": {},
   "outputs": [
    {
     "data": {
      "text/html": [
       "<div>\n",
       "<style scoped>\n",
       "    .dataframe tbody tr th:only-of-type {\n",
       "        vertical-align: middle;\n",
       "    }\n",
       "\n",
       "    .dataframe tbody tr th {\n",
       "        vertical-align: top;\n",
       "    }\n",
       "\n",
       "    .dataframe thead th {\n",
       "        text-align: right;\n",
       "    }\n",
       "</style>\n",
       "<table border=\"1\" class=\"dataframe\">\n",
       "  <thead>\n",
       "    <tr style=\"text-align: right;\">\n",
       "      <th></th>\n",
       "      <th>word1</th>\n",
       "      <th>word2</th>\n",
       "      <th>label</th>\n",
       "      <th>emb_1_0</th>\n",
       "      <th>emb_1_1</th>\n",
       "      <th>emb_1_2</th>\n",
       "      <th>emb_1_3</th>\n",
       "      <th>emb_1_4</th>\n",
       "      <th>emb_1_5</th>\n",
       "      <th>emb_1_6</th>\n",
       "      <th>...</th>\n",
       "      <th>emb_2_291</th>\n",
       "      <th>emb_2_292</th>\n",
       "      <th>emb_2_293</th>\n",
       "      <th>emb_2_294</th>\n",
       "      <th>emb_2_295</th>\n",
       "      <th>emb_2_296</th>\n",
       "      <th>emb_2_297</th>\n",
       "      <th>emb_2_298</th>\n",
       "      <th>emb_2_299</th>\n",
       "      <th>lev_dist</th>\n",
       "    </tr>\n",
       "  </thead>\n",
       "  <tbody>\n",
       "    <tr>\n",
       "      <th>0</th>\n",
       "      <td>целый</td>\n",
       "      <td>цельный</td>\n",
       "      <td>1</td>\n",
       "      <td>-0.019124</td>\n",
       "      <td>0.034811</td>\n",
       "      <td>0.057754</td>\n",
       "      <td>0.119841</td>\n",
       "      <td>-0.034180</td>\n",
       "      <td>0.042868</td>\n",
       "      <td>0.015424</td>\n",
       "      <td>...</td>\n",
       "      <td>0.032209</td>\n",
       "      <td>0.014659</td>\n",
       "      <td>0.024586</td>\n",
       "      <td>-0.071244</td>\n",
       "      <td>-0.106860</td>\n",
       "      <td>0.002109</td>\n",
       "      <td>0.057067</td>\n",
       "      <td>-0.029967</td>\n",
       "      <td>0.069121</td>\n",
       "      <td>2</td>\n",
       "    </tr>\n",
       "    <tr>\n",
       "      <th>1</th>\n",
       "      <td>сравнимый</td>\n",
       "      <td>неорганичный</td>\n",
       "      <td>0</td>\n",
       "      <td>-0.043983</td>\n",
       "      <td>-0.009047</td>\n",
       "      <td>-0.063538</td>\n",
       "      <td>0.147805</td>\n",
       "      <td>-0.161587</td>\n",
       "      <td>0.027221</td>\n",
       "      <td>0.032012</td>\n",
       "      <td>...</td>\n",
       "      <td>-0.034892</td>\n",
       "      <td>0.018441</td>\n",
       "      <td>0.069707</td>\n",
       "      <td>-0.001893</td>\n",
       "      <td>-0.062972</td>\n",
       "      <td>0.145138</td>\n",
       "      <td>0.147791</td>\n",
       "      <td>-0.062155</td>\n",
       "      <td>0.080968</td>\n",
       "      <td>7</td>\n",
       "    </tr>\n",
       "    <tr>\n",
       "      <th>2</th>\n",
       "      <td>чубастый</td>\n",
       "      <td>завоевательный</td>\n",
       "      <td>0</td>\n",
       "      <td>-0.051917</td>\n",
       "      <td>0.044872</td>\n",
       "      <td>0.014789</td>\n",
       "      <td>0.002823</td>\n",
       "      <td>-0.002203</td>\n",
       "      <td>0.050730</td>\n",
       "      <td>0.031053</td>\n",
       "      <td>...</td>\n",
       "      <td>0.046212</td>\n",
       "      <td>-0.020866</td>\n",
       "      <td>-0.080959</td>\n",
       "      <td>-0.085725</td>\n",
       "      <td>-0.003354</td>\n",
       "      <td>0.015747</td>\n",
       "      <td>0.017519</td>\n",
       "      <td>-0.042495</td>\n",
       "      <td>0.167213</td>\n",
       "      <td>11</td>\n",
       "    </tr>\n",
       "    <tr>\n",
       "      <th>3</th>\n",
       "      <td>обидчивый</td>\n",
       "      <td>азарт</td>\n",
       "      <td>0</td>\n",
       "      <td>0.023674</td>\n",
       "      <td>0.052748</td>\n",
       "      <td>-0.034327</td>\n",
       "      <td>-0.031669</td>\n",
       "      <td>-0.014316</td>\n",
       "      <td>0.073295</td>\n",
       "      <td>-0.061295</td>\n",
       "      <td>...</td>\n",
       "      <td>-0.039973</td>\n",
       "      <td>-0.012380</td>\n",
       "      <td>-0.012538</td>\n",
       "      <td>-0.200660</td>\n",
       "      <td>-0.089638</td>\n",
       "      <td>-0.017675</td>\n",
       "      <td>0.042906</td>\n",
       "      <td>-0.012042</td>\n",
       "      <td>-0.019632</td>\n",
       "      <td>9</td>\n",
       "    </tr>\n",
       "    <tr>\n",
       "      <th>4</th>\n",
       "      <td>личностный</td>\n",
       "      <td>личный</td>\n",
       "      <td>1</td>\n",
       "      <td>-0.045874</td>\n",
       "      <td>-0.051794</td>\n",
       "      <td>-0.059747</td>\n",
       "      <td>0.019997</td>\n",
       "      <td>-0.075421</td>\n",
       "      <td>-0.042737</td>\n",
       "      <td>-0.057829</td>\n",
       "      <td>...</td>\n",
       "      <td>0.022120</td>\n",
       "      <td>-0.057636</td>\n",
       "      <td>0.027975</td>\n",
       "      <td>-0.042808</td>\n",
       "      <td>-0.101067</td>\n",
       "      <td>0.031723</td>\n",
       "      <td>0.043072</td>\n",
       "      <td>-0.031811</td>\n",
       "      <td>0.032527</td>\n",
       "      <td>4</td>\n",
       "    </tr>\n",
       "  </tbody>\n",
       "</table>\n",
       "<p>5 rows × 604 columns</p>\n",
       "</div>"
      ],
      "text/plain": [
       "        word1           word2  label   emb_1_0   emb_1_1   emb_1_2   emb_1_3  \\\n",
       "0       целый         цельный      1 -0.019124  0.034811  0.057754  0.119841   \n",
       "1   сравнимый    неорганичный      0 -0.043983 -0.009047 -0.063538  0.147805   \n",
       "2    чубастый  завоевательный      0 -0.051917  0.044872  0.014789  0.002823   \n",
       "3   обидчивый           азарт      0  0.023674  0.052748 -0.034327 -0.031669   \n",
       "4  личностный          личный      1 -0.045874 -0.051794 -0.059747  0.019997   \n",
       "\n",
       "    emb_1_4   emb_1_5   emb_1_6  ...  emb_2_291  emb_2_292  emb_2_293  \\\n",
       "0 -0.034180  0.042868  0.015424  ...   0.032209   0.014659   0.024586   \n",
       "1 -0.161587  0.027221  0.032012  ...  -0.034892   0.018441   0.069707   \n",
       "2 -0.002203  0.050730  0.031053  ...   0.046212  -0.020866  -0.080959   \n",
       "3 -0.014316  0.073295 -0.061295  ...  -0.039973  -0.012380  -0.012538   \n",
       "4 -0.075421 -0.042737 -0.057829  ...   0.022120  -0.057636   0.027975   \n",
       "\n",
       "   emb_2_294  emb_2_295  emb_2_296  emb_2_297  emb_2_298  emb_2_299  lev_dist  \n",
       "0  -0.071244  -0.106860   0.002109   0.057067  -0.029967   0.069121         2  \n",
       "1  -0.001893  -0.062972   0.145138   0.147791  -0.062155   0.080968         7  \n",
       "2  -0.085725  -0.003354   0.015747   0.017519  -0.042495   0.167213        11  \n",
       "3  -0.200660  -0.089638  -0.017675   0.042906  -0.012042  -0.019632         9  \n",
       "4  -0.042808  -0.101067   0.031723   0.043072  -0.031811   0.032527         4  \n",
       "\n",
       "[5 rows x 604 columns]"
      ]
     },
     "execution_count": 10,
     "metadata": {},
     "output_type": "execute_result"
    }
   ],
   "source": [
    "# add extra columns for embeddings \n",
    "for i in range(600):\n",
    "    data[f\"emb_{int(i > 299) + 1}_{i % 300}\"] = 0\n",
    "# add extra columns for Levenshtein distance\n",
    "data[\"lev_dist\"] = 0\n",
    "\n",
    "rows_to_drop = []\n",
    "\n",
    "# add embeddings to dataframe \n",
    "for i in range(len(data)):\n",
    "\n",
    "    # get embs for two words\n",
    "    word1 = data.word1[i]\n",
    "    word2 = data.word2[i]\n",
    "    emb1 = get_embedding(word1)\n",
    "    emb2 = get_embedding(word2)\n",
    "\n",
    "    if emb1 is not None and emb2 is not None:\n",
    "        # add embeddings\n",
    "        data.loc[i, \"emb_1_0\":\"emb_1_299\"] = emb1\n",
    "        data.loc[i, \"emb_2_0\":\"emb_2_299\"] = emb2\n",
    "        data.loc[i, \"lev_dist\"] = Levenshtein.distance(word1, word2)\n",
    "        # print(\"YES\", data.word1[i], data.word2[i])\n",
    "\n",
    "    else: \n",
    "        # delete words that are not in word2vec vocabulary\n",
    "        rows_to_drop.append(i)\n",
    "        # print(\"NO\", data.word1[i], data.word2[i])\n",
    "\n",
    "data = data.drop(rows_to_drop, axis=0).reset_index(drop=True)\n",
    "data.head()"
   ]
  },
  {
   "cell_type": "markdown",
   "metadata": {},
   "source": [
    "PCA сокращение размерности эмбедингов"
   ]
  },
  {
   "cell_type": "code",
   "execution_count": 11,
   "metadata": {},
   "outputs": [],
   "source": [
    "# fitting PCA\n",
    "def fit_pca(X, n):\n",
    "    pca = PCA(n_components=n)\n",
    "    pca.fit(X)\n",
    "    return pca\n",
    "\n",
    "# transform dataset to n_componets dimansion\n",
    "def reduce_dimension(pca, X):\n",
    "    X_transformed = pca.transform(X)\n",
    "    return X_transformed"
   ]
  },
  {
   "cell_type": "code",
   "execution_count": 12,
   "metadata": {},
   "outputs": [
    {
     "data": {
      "text/html": [
       "<div>\n",
       "<style scoped>\n",
       "    .dataframe tbody tr th:only-of-type {\n",
       "        vertical-align: middle;\n",
       "    }\n",
       "\n",
       "    .dataframe tbody tr th {\n",
       "        vertical-align: top;\n",
       "    }\n",
       "\n",
       "    .dataframe thead th {\n",
       "        text-align: right;\n",
       "    }\n",
       "</style>\n",
       "<table border=\"1\" class=\"dataframe\">\n",
       "  <thead>\n",
       "    <tr style=\"text-align: right;\">\n",
       "      <th></th>\n",
       "      <th>emb_1_0</th>\n",
       "      <th>emb_1_1</th>\n",
       "      <th>emb_1_2</th>\n",
       "      <th>emb_1_3</th>\n",
       "      <th>emb_1_4</th>\n",
       "      <th>emb_1_5</th>\n",
       "      <th>emb_1_6</th>\n",
       "      <th>emb_1_7</th>\n",
       "      <th>emb_1_8</th>\n",
       "      <th>emb_1_9</th>\n",
       "      <th>...</th>\n",
       "      <th>emb_2_141</th>\n",
       "      <th>emb_2_142</th>\n",
       "      <th>emb_2_143</th>\n",
       "      <th>emb_2_144</th>\n",
       "      <th>emb_2_145</th>\n",
       "      <th>emb_2_146</th>\n",
       "      <th>emb_2_147</th>\n",
       "      <th>emb_2_148</th>\n",
       "      <th>emb_2_149</th>\n",
       "      <th>lev_dist</th>\n",
       "    </tr>\n",
       "  </thead>\n",
       "  <tbody>\n",
       "    <tr>\n",
       "      <th>0</th>\n",
       "      <td>0.092990</td>\n",
       "      <td>0.064130</td>\n",
       "      <td>-0.009231</td>\n",
       "      <td>-0.117480</td>\n",
       "      <td>0.119546</td>\n",
       "      <td>-0.012407</td>\n",
       "      <td>0.001258</td>\n",
       "      <td>0.036711</td>\n",
       "      <td>0.056221</td>\n",
       "      <td>0.036375</td>\n",
       "      <td>...</td>\n",
       "      <td>-0.002481</td>\n",
       "      <td>-0.068694</td>\n",
       "      <td>-0.000687</td>\n",
       "      <td>-0.055923</td>\n",
       "      <td>0.020807</td>\n",
       "      <td>-0.049057</td>\n",
       "      <td>0.030389</td>\n",
       "      <td>0.035299</td>\n",
       "      <td>-0.113363</td>\n",
       "      <td>2</td>\n",
       "    </tr>\n",
       "    <tr>\n",
       "      <th>1</th>\n",
       "      <td>-0.073190</td>\n",
       "      <td>0.121473</td>\n",
       "      <td>0.159301</td>\n",
       "      <td>-0.092435</td>\n",
       "      <td>-0.064992</td>\n",
       "      <td>0.211331</td>\n",
       "      <td>0.043879</td>\n",
       "      <td>-0.079573</td>\n",
       "      <td>0.139453</td>\n",
       "      <td>-0.007543</td>\n",
       "      <td>...</td>\n",
       "      <td>-0.060633</td>\n",
       "      <td>0.012755</td>\n",
       "      <td>0.004885</td>\n",
       "      <td>-0.003676</td>\n",
       "      <td>-0.004572</td>\n",
       "      <td>0.059856</td>\n",
       "      <td>0.014552</td>\n",
       "      <td>0.010245</td>\n",
       "      <td>0.020397</td>\n",
       "      <td>7</td>\n",
       "    </tr>\n",
       "    <tr>\n",
       "      <th>2</th>\n",
       "      <td>0.404789</td>\n",
       "      <td>-0.048654</td>\n",
       "      <td>-0.008222</td>\n",
       "      <td>-0.030357</td>\n",
       "      <td>-0.002150</td>\n",
       "      <td>0.115744</td>\n",
       "      <td>-0.036572</td>\n",
       "      <td>0.107039</td>\n",
       "      <td>-0.181169</td>\n",
       "      <td>-0.009343</td>\n",
       "      <td>...</td>\n",
       "      <td>0.040152</td>\n",
       "      <td>-0.087353</td>\n",
       "      <td>-0.009268</td>\n",
       "      <td>0.067529</td>\n",
       "      <td>0.001737</td>\n",
       "      <td>-0.027462</td>\n",
       "      <td>0.003259</td>\n",
       "      <td>-0.021811</td>\n",
       "      <td>-0.040529</td>\n",
       "      <td>11</td>\n",
       "    </tr>\n",
       "    <tr>\n",
       "      <th>3</th>\n",
       "      <td>0.093875</td>\n",
       "      <td>-0.295198</td>\n",
       "      <td>-0.023503</td>\n",
       "      <td>0.178027</td>\n",
       "      <td>-0.329818</td>\n",
       "      <td>-0.137435</td>\n",
       "      <td>0.063093</td>\n",
       "      <td>-0.033617</td>\n",
       "      <td>-0.093357</td>\n",
       "      <td>-0.018617</td>\n",
       "      <td>...</td>\n",
       "      <td>-0.045400</td>\n",
       "      <td>-0.043803</td>\n",
       "      <td>0.037817</td>\n",
       "      <td>-0.147127</td>\n",
       "      <td>0.023568</td>\n",
       "      <td>-0.015000</td>\n",
       "      <td>-0.019410</td>\n",
       "      <td>-0.043357</td>\n",
       "      <td>0.051759</td>\n",
       "      <td>9</td>\n",
       "    </tr>\n",
       "    <tr>\n",
       "      <th>4</th>\n",
       "      <td>-0.438857</td>\n",
       "      <td>-0.025888</td>\n",
       "      <td>0.076917</td>\n",
       "      <td>-0.048276</td>\n",
       "      <td>-0.095657</td>\n",
       "      <td>-0.114352</td>\n",
       "      <td>-0.050334</td>\n",
       "      <td>-0.016785</td>\n",
       "      <td>0.099318</td>\n",
       "      <td>-0.067110</td>\n",
       "      <td>...</td>\n",
       "      <td>0.070650</td>\n",
       "      <td>0.022765</td>\n",
       "      <td>0.013599</td>\n",
       "      <td>-0.039222</td>\n",
       "      <td>0.067906</td>\n",
       "      <td>-0.010029</td>\n",
       "      <td>0.030578</td>\n",
       "      <td>0.009976</td>\n",
       "      <td>0.023142</td>\n",
       "      <td>4</td>\n",
       "    </tr>\n",
       "  </tbody>\n",
       "</table>\n",
       "<p>5 rows × 301 columns</p>\n",
       "</div>"
      ],
      "text/plain": [
       "    emb_1_0   emb_1_1   emb_1_2   emb_1_3   emb_1_4   emb_1_5   emb_1_6  \\\n",
       "0  0.092990  0.064130 -0.009231 -0.117480  0.119546 -0.012407  0.001258   \n",
       "1 -0.073190  0.121473  0.159301 -0.092435 -0.064992  0.211331  0.043879   \n",
       "2  0.404789 -0.048654 -0.008222 -0.030357 -0.002150  0.115744 -0.036572   \n",
       "3  0.093875 -0.295198 -0.023503  0.178027 -0.329818 -0.137435  0.063093   \n",
       "4 -0.438857 -0.025888  0.076917 -0.048276 -0.095657 -0.114352 -0.050334   \n",
       "\n",
       "    emb_1_7   emb_1_8   emb_1_9  ...  emb_2_141  emb_2_142  emb_2_143  \\\n",
       "0  0.036711  0.056221  0.036375  ...  -0.002481  -0.068694  -0.000687   \n",
       "1 -0.079573  0.139453 -0.007543  ...  -0.060633   0.012755   0.004885   \n",
       "2  0.107039 -0.181169 -0.009343  ...   0.040152  -0.087353  -0.009268   \n",
       "3 -0.033617 -0.093357 -0.018617  ...  -0.045400  -0.043803   0.037817   \n",
       "4 -0.016785  0.099318 -0.067110  ...   0.070650   0.022765   0.013599   \n",
       "\n",
       "   emb_2_144  emb_2_145  emb_2_146  emb_2_147  emb_2_148  emb_2_149  lev_dist  \n",
       "0  -0.055923   0.020807  -0.049057   0.030389   0.035299  -0.113363         2  \n",
       "1  -0.003676  -0.004572   0.059856   0.014552   0.010245   0.020397         7  \n",
       "2   0.067529   0.001737  -0.027462   0.003259  -0.021811  -0.040529        11  \n",
       "3  -0.147127   0.023568  -0.015000  -0.019410  -0.043357   0.051759         9  \n",
       "4  -0.039222   0.067906  -0.010029   0.030578   0.009976   0.023142         4  \n",
       "\n",
       "[5 rows x 301 columns]"
      ]
     },
     "execution_count": 12,
     "metadata": {},
     "output_type": "execute_result"
    }
   ],
   "source": [
    "X = data.drop([\"word1\", \"word2\", \"label\"], axis=1)\n",
    "y = data[\"label\"]\n",
    "\n",
    "pca_n_components = 150\n",
    "\n",
    "# fit PCA\n",
    "pca = fit_pca(pd.concat([X.loc[:, \"emb_1_0\":\"emb_1_299\"], X.loc[:, \"emb_2_0\":\"emb_2_299\"].rename(columns={f\"emb_2_{i}\":f\"emb_1_{i}\" for i in range(300)}) ], ignore_index=True), pca_n_components)\n",
    "\n",
    "# reduce dimensuon with PCA\n",
    "X.loc[:, \"emb_1_0\":f\"emb_1_{pca_n_components-1}\"] = reduce_dimension(pca, X.loc[:, \"emb_1_0\":\"emb_1_299\"])\n",
    "X.loc[:, f\"emb_2_0\":f\"emb_2_{pca_n_components-1}\"] = reduce_dimension(pca, X.loc[:, \"emb_2_0\":\"emb_2_299\"].rename(columns={f\"emb_2_{i}\":f\"emb_1_{i}\" for i in range(300)}))\n",
    "\n",
    "# drop extra columns of embedding\n",
    "X = X.drop(list(X.columns[pca_n_components:300]) + list(X.columns[300+pca_n_components:-1]), axis=1)\n",
    "X.head()"
   ]
  },
  {
   "cell_type": "code",
   "execution_count": 13,
   "metadata": {},
   "outputs": [
    {
     "data": {
      "text/plain": [
       "0.8158165856483836"
      ]
     },
     "execution_count": 13,
     "metadata": {},
     "output_type": "execute_result"
    }
   ],
   "source": [
    "# PCA explained variance \n",
    "np.sum(pca.explained_variance_ratio_)"
   ]
  },
  {
   "cell_type": "markdown",
   "metadata": {},
   "source": []
  },
  {
   "cell_type": "code",
   "execution_count": 14,
   "metadata": {},
   "outputs": [],
   "source": [
    "X[\"lev_dist_2\"] = X.lev_dist**2"
   ]
  },
  {
   "cell_type": "code",
   "execution_count": 15,
   "metadata": {},
   "outputs": [],
   "source": [
    "X_train, X_test, y_train, y_test = train_test_split(X, y, test_size=0.2, random_state=42)"
   ]
  },
  {
   "cell_type": "markdown",
   "metadata": {},
   "source": [
    "Катбуст"
   ]
  },
  {
   "cell_type": "code",
   "execution_count": 16,
   "metadata": {},
   "outputs": [
    {
     "name": "stderr",
     "output_type": "stream",
     "text": [
      "Failed to detect the name of this notebook, you can set it manually with the WANDB_NOTEBOOK_NAME environment variable to enable code saving.\n"
     ]
    },
    {
     "name": "stderr",
     "output_type": "stream",
     "text": [
      "\u001b[34m\u001b[1mwandb\u001b[0m: Currently logged in as: \u001b[33mkialimkhanov\u001b[0m (\u001b[33mparonyms\u001b[0m). Use \u001b[1m`wandb login --relogin`\u001b[0m to force relogin\n"
     ]
    },
    {
     "data": {
      "text/html": [
       "Tracking run with wandb version 0.16.5"
      ],
      "text/plain": [
       "<IPython.core.display.HTML object>"
      ]
     },
     "metadata": {},
     "output_type": "display_data"
    },
    {
     "data": {
      "text/html": [
       "Run data is saved locally in <code>c:\\Users\\pasin\\DS\\Доп\\generation_of_paronyms\\wandb\\run-20240331_220504-iisc0xqi</code>"
      ],
      "text/plain": [
       "<IPython.core.display.HTML object>"
      ]
     },
     "metadata": {},
     "output_type": "display_data"
    },
    {
     "data": {
      "text/html": [
       "Syncing run <strong><a href='https://wandb.ai/paronyms/paronyms/runs/iisc0xqi/workspace' target=\"_blank\">revived-donkey-15</a></strong> to <a href='https://wandb.ai/paronyms/paronyms' target=\"_blank\">Weights & Biases</a> (<a href='https://wandb.me/run' target=\"_blank\">docs</a>)<br/>"
      ],
      "text/plain": [
       "<IPython.core.display.HTML object>"
      ]
     },
     "metadata": {},
     "output_type": "display_data"
    },
    {
     "data": {
      "text/html": [
       " View project at <a href='https://wandb.ai/paronyms/paronyms' target=\"_blank\">https://wandb.ai/paronyms/paronyms</a>"
      ],
      "text/plain": [
       "<IPython.core.display.HTML object>"
      ]
     },
     "metadata": {},
     "output_type": "display_data"
    },
    {
     "data": {
      "text/html": [
       " View run at <a href='https://wandb.ai/paronyms/paronyms/runs/iisc0xqi/workspace' target=\"_blank\">https://wandb.ai/paronyms/paronyms/runs/iisc0xqi/workspace</a>"
      ],
      "text/plain": [
       "<IPython.core.display.HTML object>"
      ]
     },
     "metadata": {},
     "output_type": "display_data"
    }
   ],
   "source": [
    "if config[\"logging\"]:\n",
    "    wandb.init(project=\"paronyms\", tags=[\"cat\", \"with dist 2\"])"
   ]
  },
  {
   "cell_type": "code",
   "execution_count": 17,
   "metadata": {},
   "outputs": [
    {
     "name": "stderr",
     "output_type": "stream",
     "text": [
      "[I 2024-03-31 22:05:07,287] A new study created in memory with name: no-name-0be82f6f-034e-4eb5-89d3-01be97b574dd\n",
      "[I 2024-03-31 22:07:01,811] Trial 0 finished with value: 0.057065217391304345 and parameters: {'learning_rate': 0.035225123851686156, 'depth': 8, 'l2_leaf_reg': 1.8095730691731395, 'bagging_temperature': 0.17311584409169586}. Best is trial 0 with value: 0.057065217391304345.\n",
      "[I 2024-03-31 22:08:06,990] Trial 1 finished with value: 0.0625 and parameters: {'learning_rate': 0.019379609591701465, 'depth': 7, 'l2_leaf_reg': 6.185710948119225, 'bagging_temperature': 0.03742752034782254}. Best is trial 0 with value: 0.057065217391304345.\n",
      "[I 2024-03-31 22:08:21,409] Trial 2 finished with value: 0.051630434782608696 and parameters: {'learning_rate': 0.02598291309701293, 'depth': 4, 'l2_leaf_reg': 1.2559021545789457, 'bagging_temperature': 0.11507474362392638}. Best is trial 2 with value: 0.051630434782608696.\n",
      "[I 2024-03-31 22:09:28,067] Trial 3 finished with value: 0.057065217391304345 and parameters: {'learning_rate': 0.037762163816681744, 'depth': 7, 'l2_leaf_reg': 2.661383384203352, 'bagging_temperature': 0.02026455887690942}. Best is trial 2 with value: 0.051630434782608696.\n",
      "[I 2024-03-31 22:13:06,082] Trial 4 finished with value: 0.06521739130434782 and parameters: {'learning_rate': 0.011573889409577891, 'depth': 9, 'l2_leaf_reg': 0.4273098347396126, 'bagging_temperature': 0.22459446309680942}. Best is trial 2 with value: 0.051630434782608696.\n",
      "[I 2024-03-31 22:16:39,035] Trial 5 finished with value: 0.057065217391304345 and parameters: {'learning_rate': 0.015687096941363266, 'depth': 9, 'l2_leaf_reg': 1.486860518640423, 'bagging_temperature': 0.38824141803638246}. Best is trial 2 with value: 0.051630434782608696.\n",
      "[I 2024-03-31 22:18:26,710] Trial 6 finished with value: 0.059782608695652176 and parameters: {'learning_rate': 0.017161173832816526, 'depth': 8, 'l2_leaf_reg': 0.4649324771191631, 'bagging_temperature': 0.020438475931347337}. Best is trial 2 with value: 0.051630434782608696.\n",
      "[I 2024-03-31 22:18:58,159] Trial 7 finished with value: 0.051630434782608696 and parameters: {'learning_rate': 0.03110241627154606, 'depth': 6, 'l2_leaf_reg': 0.672165135648684, 'bagging_temperature': 0.015525321352280099}. Best is trial 2 with value: 0.051630434782608696.\n",
      "[I 2024-03-31 22:19:10,214] Trial 8 finished with value: 0.04891304347826087 and parameters: {'learning_rate': 0.04722337081770005, 'depth': 4, 'l2_leaf_reg': 0.37242736537446613, 'bagging_temperature': 0.32791405998389356}. Best is trial 8 with value: 0.04891304347826087.\n",
      "[I 2024-03-31 22:19:23,803] Trial 9 finished with value: 0.05434782608695652 and parameters: {'learning_rate': 0.011543749255733742, 'depth': 4, 'l2_leaf_reg': 0.24689248844614492, 'bagging_temperature': 0.15346919547760657}. Best is trial 8 with value: 0.04891304347826087.\n"
     ]
    },
    {
     "name": "stdout",
     "output_type": "stream",
     "text": [
      "Best Parameters: {'learning_rate': 0.04722337081770005, 'depth': 4, 'l2_leaf_reg': 0.37242736537446613, 'bagging_temperature': 0.32791405998389356}\n",
      "Best MAE: 0.04891304347826087\n"
     ]
    }
   ],
   "source": [
    "def objective(trial):\n",
    "    params = {\n",
    "        'learning_rate': trial.suggest_loguniform('learning_rate', 0.01, 0.1),\n",
    "        'depth': trial.suggest_int('depth', 4, 10),\n",
    "        'l2_leaf_reg': trial.suggest_loguniform('l2_leaf_reg', 0.1, 10.0),\n",
    "        'bagging_temperature': trial.suggest_loguniform('bagging_temperature', 0.01, 1.0)\n",
    "    }\n",
    "\n",
    "    model = CatBoostClassifier(verbose=0, **params)\n",
    "    model.fit(X_train, y_train)\n",
    "    predictions = model.predict(X_test)\n",
    "    mae = mean_absolute_error(y_test, predictions)\n",
    "\n",
    "    return mae\n",
    "\n",
    "study = optuna.create_study(direction='minimize')\n",
    "study.optimize(objective, n_trials=10)\n",
    "\n",
    "best_params = study.best_params\n",
    "cat_model = CatBoostClassifier(verbose=0, **best_params)\n",
    "cat_model.fit(X_train, y_train)\n",
    "best_predictions = cat_model.predict(X_test)\n",
    "best_mae = mean_absolute_error(y_test, best_predictions)\n",
    "predictions = cat_model.predict_proba(X_test)\n",
    "\n",
    "print('Best Parameters:', best_params)\n",
    "print('Best MAE:', best_mae)"
   ]
  },
  {
   "cell_type": "code",
   "execution_count": 18,
   "metadata": {},
   "outputs": [
    {
     "name": "stdout",
     "output_type": "stream",
     "text": [
      "MAE: 0.06502903277520704  Accuracy: 0.9510869565217391\n"
     ]
    },
    {
     "data": {
      "text/html": [
       "<style>\n",
       "    table.wandb td:nth-child(1) { padding: 0 10px; text-align: left ; width: auto;} td:nth-child(2) {text-align: left ; width: 100%}\n",
       "    .wandb-row { display: flex; flex-direction: row; flex-wrap: wrap; justify-content: flex-start; width: 100% }\n",
       "    .wandb-col { display: flex; flex-direction: column; flex-basis: 100%; flex: 1; padding: 10px; }\n",
       "    </style>\n",
       "<div class=\"wandb-row\"><div class=\"wandb-col\"><h3>Run history:</h3><br/><table class=\"wandb\"><tr><td>Accuracy</td><td>▁</td></tr><tr><td>MAE</td><td>▁</td></tr></table><br/></div><div class=\"wandb-col\"><h3>Run summary:</h3><br/><table class=\"wandb\"><tr><td>Accuracy</td><td>0.95109</td></tr><tr><td>MAE</td><td>0.06503</td></tr></table><br/></div></div>"
      ],
      "text/plain": [
       "<IPython.core.display.HTML object>"
      ]
     },
     "metadata": {},
     "output_type": "display_data"
    },
    {
     "data": {
      "text/html": [
       " View run <strong style=\"color:#cdcd00\">revived-donkey-15</strong> at: <a href='https://wandb.ai/paronyms/paronyms/runs/iisc0xqi/workspace' target=\"_blank\">https://wandb.ai/paronyms/paronyms/runs/iisc0xqi/workspace</a><br/>Synced 5 W&B file(s), 0 media file(s), 0 artifact file(s) and 0 other file(s)"
      ],
      "text/plain": [
       "<IPython.core.display.HTML object>"
      ]
     },
     "metadata": {},
     "output_type": "display_data"
    },
    {
     "data": {
      "text/html": [
       "Find logs at: <code>.\\wandb\\run-20240331_220504-iisc0xqi\\logs</code>"
      ],
      "text/plain": [
       "<IPython.core.display.HTML object>"
      ]
     },
     "metadata": {},
     "output_type": "display_data"
    }
   ],
   "source": [
    "treshold = cat[\"treshold\"]\n",
    "\n",
    "mae = mean_absolute_error(y_test, predictions[:, 1])\n",
    "acc = accuracy_score(y_test, [1 if prob > treshold else 0 for prob in predictions[:, 1]])\n",
    "print('MAE:', mae, ' Accuracy:', acc)\n",
    "\n",
    "if config[\"logging\"]:\n",
    "    wandb.log({'MAE': mae, 'Accuracy': acc, \"params\": best_params})\n",
    "    wandb.finish()"
   ]
  },
  {
   "cell_type": "code",
   "execution_count": 19,
   "metadata": {},
   "outputs": [
    {
     "name": "stdout",
     "output_type": "stream",
     "text": [
      "               word1               word2  label   emb_1_0   emb_1_1   emb_1_2  \\\n",
      "1347       этический             близкий      0 -0.103671  0.035200  0.036793   \n",
      "923   притягательный       покупательный      0  0.029180 -0.016150 -0.003119   \n",
      "1185    производство  производительность      1  0.003287 -0.040107 -0.063265   \n",
      "111       городничий             горячий      0 -0.016273 -0.039705  0.004870   \n",
      "1173         звучный            широтный      0  0.028042  0.081736 -0.040153   \n",
      "1313         пометка             военный      0  0.138845  0.016579  0.024741   \n",
      "1466      заботливый             рабочий      0  0.048409 -0.072244  0.111143   \n",
      "1735       заводской           складской      0  0.028808  0.030437  0.018462   \n",
      "1317         главный            ответный      0  0.141978 -0.006733  0.123000   \n",
      "1331       старинный           жизненный      0  0.065109 -0.019124  0.032137   \n",
      "450           формат            дипломат      0  0.051160  0.014378  0.013035   \n",
      "997          именной              рыбный      0  0.107480  0.018892  0.004842   \n",
      "940   реалистический         токсический      0 -0.019469 -0.080871  0.049468   \n",
      "427      бесчувствие    бесчувственность      1 -0.070289 -0.136773 -0.002732   \n",
      "1784     раздражение   раздражительность      1 -0.006558  0.009031 -0.013408   \n",
      "530     произнесение           отрешение      0 -0.006667 -0.026039 -0.043100   \n",
      "1718          вышний               оклик      0  0.025803 -0.070835 -0.087813   \n",
      "1172         возраст          авантюрист      0  0.001352  0.029362  0.014387   \n",
      "\n",
      "       emb_1_3   emb_1_4   emb_1_5   emb_1_6  ...  emb_2_291  emb_2_292  \\\n",
      "1347  0.120163 -0.035002  0.016776 -0.023347  ...   0.018715   0.082846   \n",
      "923   0.061383 -0.099584  0.032458 -0.039316  ...  -0.000131  -0.023971   \n",
      "1185  0.106258  0.044959  0.077769 -0.086735  ...   0.035582  -0.041469   \n",
      "111   0.048503  0.005275  0.099642 -0.076642  ...   0.003958   0.093041   \n",
      "1173  0.077862 -0.013483 -0.044944 -0.069808  ...  -0.071781  -0.007384   \n",
      "1313  0.060477 -0.077119  0.017428 -0.020634  ...   0.018184  -0.164640   \n",
      "1466 -0.048597 -0.026706 -0.023126  0.003911  ...   0.004733  -0.035166   \n",
      "1735 -0.051171  0.050655  0.000495 -0.024437  ...   0.043504  -0.001815   \n",
      "1317  0.092472  0.036701 -0.014417  0.072929  ...   0.067638  -0.021219   \n",
      "1331 -0.003681  0.063759  0.053037 -0.015007  ...  -0.003605   0.000933   \n",
      "450  -0.053311 -0.009478  0.032364 -0.023430  ...   0.124048  -0.003817   \n",
      "997   0.027714 -0.020892 -0.013652  0.016484  ...   0.026188  -0.077288   \n",
      "940   0.056105  0.039981  0.065041 -0.029782  ...   0.106727  -0.006699   \n",
      "427   0.038022 -0.000437  0.083283 -0.052399  ...  -0.067897  -0.058101   \n",
      "1784  0.054710 -0.071029  0.117686  0.002132  ...   0.079319  -0.033209   \n",
      "530   0.058223 -0.030195 -0.036642 -0.113458  ...  -0.033354  -0.030092   \n",
      "1718  0.058454 -0.046023  0.073538 -0.141205  ...  -0.011711  -0.018712   \n",
      "1172 -0.050471  0.041019  0.062413  0.050028  ...  -0.020171  -0.002679   \n",
      "\n",
      "      emb_2_293  emb_2_294  emb_2_295  emb_2_296  emb_2_297  emb_2_298  \\\n",
      "1347   0.038347  -0.049043  -0.152397  -0.014822   0.041673  -0.065176   \n",
      "923    0.012496  -0.037659   0.057984   0.095242  -0.000612  -0.011738   \n",
      "1185   0.048803  -0.022065  -0.090627   0.083033  -0.053703  -0.022781   \n",
      "111    0.000406  -0.019072  -0.067458  -0.023687  -0.095098   0.057767   \n",
      "1173   0.015748  -0.036727  -0.046016   0.044205  -0.084739  -0.081546   \n",
      "1313   0.022593   0.122760   0.052095   0.028281  -0.023274   0.024888   \n",
      "1466   0.062985   0.012320   0.022450   0.007721  -0.078444   0.026904   \n",
      "1735  -0.005734  -0.008797   0.017399   0.085006  -0.057028  -0.047843   \n",
      "1317  -0.095188  -0.024558  -0.076134   0.087443  -0.067105   0.049494   \n",
      "1331   0.077819   0.037971  -0.023288   0.043730   0.017754   0.037368   \n",
      "450    0.014407   0.008489  -0.060577   0.021518  -0.024331   0.144128   \n",
      "997    0.026651  -0.066409  -0.014385   0.059927   0.094180  -0.034382   \n",
      "940    0.040428   0.003083  -0.030388   0.042808   0.012635  -0.094747   \n",
      "427   -0.013849   0.000360  -0.049366  -0.010625   0.060754   0.092948   \n",
      "1784   0.060832   0.000017  -0.177912   0.049628   0.048351   0.037019   \n",
      "530    0.012476   0.031433  -0.068082   0.076817   0.009853   0.027783   \n",
      "1718  -0.030625   0.001197  -0.076141  -0.030905   0.029838  -0.012428   \n",
      "1172  -0.025784  -0.043444  -0.031143   0.029089   0.033936  -0.020693   \n",
      "\n",
      "      emb_2_299  lev_dist  \n",
      "1347  -0.043882         5  \n",
      "923   -0.003982         5  \n",
      "1185   0.013825         8  \n",
      "111    0.011015         4  \n",
      "1173  -0.082505         5  \n",
      "1313  -0.001270         6  \n",
      "1466   0.065461         5  \n",
      "1735   0.018245         4  \n",
      "1317  -0.068855         5  \n",
      "1331   0.032504         5  \n",
      "450    0.056843         5  \n",
      "997   -0.032621         5  \n",
      "940    0.012814         6  \n",
      "427    0.101309         7  \n",
      "1784   0.068297         8  \n",
      "530   -0.011023         6  \n",
      "1718  -0.003267         5  \n",
      "1172   0.090497         6  \n",
      "\n",
      "[18 rows x 604 columns]\n"
     ]
    }
   ],
   "source": [
    "# слова в которых модель ошиблась\n",
    "errors = y_test != [1 if prob > treshold else 0 for prob in predictions[:, 1]]\n",
    "words_with_errors = data.iloc[errors[errors==True].index]\n",
    "print(words_with_errors)"
   ]
  },
  {
   "cell_type": "markdown",
   "metadata": {},
   "source": [
    "Видно, что модель часто делает ошибки первого рода (ложноположительные предсказания). Хотя по этим словам легко определить, что они не паронимы, так как у них большое расстояние левинштейна. Возможно стоит попробовать добавить новые признаки по lev_dist, например квадрат этой величины"
   ]
  },
  {
   "cell_type": "code",
   "execution_count": 20,
   "metadata": {},
   "outputs": [
    {
     "name": "stdout",
     "output_type": "stream",
     "text": [
      "emb_1_0: 4.21563168709475\n",
      "emb_1_1: 0.9312086147875122\n",
      "emb_1_2: 0.18968907239278512\n",
      "emb_1_3: 0.2371208905046292\n",
      "emb_1_4: 0.09794512214652944\n",
      "emb_1_5: 0.3738382900007044\n",
      "emb_1_6: 0.3078067687988848\n",
      "emb_1_7: 0.24777239563223213\n",
      "emb_1_8: 0.25334330524018517\n",
      "emb_1_9: 0.04732290334633345\n",
      "emb_1_10: 0.45622974001602473\n",
      "emb_1_11: 0.1715159823377406\n",
      "emb_1_12: 0.06169351853298266\n",
      "emb_1_13: 1.7753845420620782\n",
      "emb_1_14: 0.0747864367487962\n",
      "emb_1_15: 0.0\n",
      "emb_1_16: 0.2498065340539056\n",
      "emb_1_17: 0.6683685383294558\n",
      "emb_1_18: 0.12088064567770611\n",
      "emb_1_19: 0.18520404710805577\n",
      "emb_1_20: 0.0474407852987644\n",
      "emb_1_21: 0.1157834796009567\n",
      "emb_1_22: 0.03774194122925543\n",
      "emb_1_23: 0.021039087579639123\n",
      "emb_1_24: 0.2506367646706214\n",
      "emb_1_25: 0.13547054033846453\n",
      "emb_1_26: 0.06774486771458141\n",
      "emb_1_27: 0.08351735559730653\n",
      "emb_1_28: 0.0031909835902744223\n",
      "emb_1_29: 0.12323466903120939\n",
      "emb_1_30: 0.4511010904400905\n",
      "emb_1_31: 0.06397545867606373\n",
      "emb_1_32: 0.1588592273433239\n",
      "emb_1_33: 0.07488989861066683\n",
      "emb_1_34: 0.0803252256990023\n",
      "emb_1_35: 0.05510169355671256\n",
      "emb_1_36: 0.04571280377597228\n",
      "emb_1_37: 0.0\n",
      "emb_1_38: 0.15149796157070008\n",
      "emb_1_39: 0.05634130263989105\n",
      "emb_1_40: 0.06523564490557794\n",
      "emb_1_41: 0.48296770799011096\n",
      "emb_1_42: 0.2564559322918005\n",
      "emb_1_43: 0.14695562156702366\n",
      "emb_1_44: 0.592969854954327\n",
      "emb_1_45: 0.09562182963360581\n",
      "emb_1_46: 0.07817275388620899\n",
      "emb_1_47: 0.00043532429339348194\n",
      "emb_1_48: 0.012802400072398802\n",
      "emb_1_49: 0.04673579147858273\n",
      "emb_1_50: 0.30968646695820085\n",
      "emb_1_51: 0.050570248253234064\n",
      "emb_1_52: 0.12831520641878238\n",
      "emb_1_53: 0.1373771772870151\n",
      "emb_1_54: 0.12008101008722903\n",
      "emb_1_55: 0.10559607616928353\n",
      "emb_1_56: 0.11054852421255817\n",
      "emb_1_57: 0.19327829455208417\n",
      "emb_1_58: 1.6169277341820646e-09\n",
      "emb_1_59: 0.0\n",
      "emb_1_60: 0.033262692577791075\n",
      "emb_1_61: 0.08061148524971645\n",
      "emb_1_62: 0.051767460148472506\n",
      "emb_1_63: 0.109139816977747\n",
      "emb_1_64: 0.014851059532991416\n",
      "emb_1_65: 0.03343906497929146\n",
      "emb_1_66: 0.05076006411904833\n",
      "emb_1_67: 0.002740578494115626\n",
      "emb_1_68: 0.004766957156496712\n",
      "emb_1_69: 0.13963890236423476\n",
      "emb_1_70: 0.21281653569365835\n",
      "emb_1_71: 0.002651439290291952\n",
      "emb_1_72: 0.19789362665135712\n",
      "emb_1_73: 0.09661660126199723\n",
      "emb_1_74: 0.49746244693454517\n",
      "emb_1_75: 0.015044208420690241\n",
      "emb_1_76: 0.206054624883041\n",
      "emb_1_77: 0.11642883864616783\n",
      "emb_1_78: 0.08060215786347125\n",
      "emb_1_79: 0.3924908047969459\n",
      "emb_1_80: 0.1471830817863614\n",
      "emb_1_81: 0.02943049834069517\n",
      "emb_1_82: 0.05701206532655737\n",
      "emb_1_83: 0.17170888736565698\n",
      "emb_1_84: 0.03825597608748201\n",
      "emb_1_85: 0.1251553076127943\n",
      "emb_1_86: 0.015527613769238089\n",
      "emb_1_87: 0.17518763293905174\n",
      "emb_1_88: 0.02050213305494434\n",
      "emb_1_89: 0.0\n",
      "emb_1_90: 0.057620558706955136\n",
      "emb_1_91: 0.009029590528455539\n",
      "emb_1_92: 0.4418226955262705\n",
      "emb_1_93: 0.1157788047574412\n",
      "emb_1_94: 0.14894107585454577\n",
      "emb_1_95: 0.041401451409669936\n",
      "emb_1_96: 0.02678458176311575\n",
      "emb_1_97: 0.011851430031759282\n",
      "emb_1_98: 0.1615183993010949\n",
      "emb_1_99: 0.12985438377583244\n",
      "emb_1_100: 0.2820895841833008\n",
      "emb_1_101: 0.0\n",
      "emb_1_102: 0.011398711382238793\n",
      "emb_1_103: 0.2883737036476566\n",
      "emb_1_104: 0.054529829080764064\n",
      "emb_1_105: 0.04541465106561588\n",
      "emb_1_106: 0.14686681028961632\n",
      "emb_1_107: 0.02421578654500942\n",
      "emb_1_108: 0.06173988037614148\n",
      "emb_1_109: 0.2047247516597891\n",
      "emb_1_110: 0.16900515730128615\n",
      "emb_1_111: 0.017892411040937493\n",
      "emb_1_112: 0.0032431303781994417\n",
      "emb_1_113: 0.12055501062152323\n",
      "emb_1_114: 0.37639785879746424\n",
      "emb_1_115: 0.08484029118159206\n",
      "emb_1_116: 0.07895566574784965\n",
      "emb_1_117: 0.16590701141497774\n",
      "emb_1_118: 0.0\n",
      "emb_1_119: 0.08753421612404311\n",
      "emb_1_120: 0.10978024477663449\n",
      "emb_1_121: 0.2837450808333996\n",
      "emb_1_122: 0.02393240138388076\n",
      "emb_1_123: 0.197924486072186\n",
      "emb_1_124: 0.18653339571428423\n",
      "emb_1_125: 0.01521916536355775\n",
      "emb_1_126: 0.010494509756399735\n",
      "emb_1_127: 0.006837646863010778\n",
      "emb_1_128: 0.07757339963268645\n",
      "emb_1_129: 0.060840680269959674\n",
      "emb_1_130: 0.1776514381930909\n",
      "emb_1_131: 0.044146358137987625\n",
      "emb_1_132: 0.04697853918911513\n",
      "emb_1_133: 0.18501346362915994\n",
      "emb_1_134: 0.03519387842815778\n",
      "emb_1_135: 0.16583580305619824\n",
      "emb_1_136: 0.06077961218536336\n",
      "emb_1_137: 0.006361363258587455\n",
      "emb_1_138: 0.1570427836913155\n",
      "emb_1_139: 0.0\n",
      "emb_1_140: 0.0512848127521697\n",
      "emb_1_141: 0.031523272308997596\n",
      "emb_1_142: 0.1638867047440409\n",
      "emb_1_143: 0.030666940540845927\n",
      "emb_1_144: 0.14445318110816452\n",
      "emb_1_145: 0.17148548872715924\n",
      "emb_1_146: 0.0\n",
      "emb_1_147: 0.04337617950751481\n",
      "emb_1_148: 0.019925454162479674\n",
      "emb_1_149: 0.007785944863935957\n",
      "emb_2_0: 6.779056528363098\n",
      "emb_2_1: 0.4379758911083285\n",
      "emb_2_2: 0.6372357154159644\n",
      "emb_2_3: 0.12936810163592818\n",
      "emb_2_4: 0.054356192852302664\n",
      "emb_2_5: 0.3840383212556992\n",
      "emb_2_6: 0.054199664465807484\n",
      "emb_2_7: 0.034764813073789626\n",
      "emb_2_8: 0.4763176395278832\n",
      "emb_2_9: 0.04647874897568148\n",
      "emb_2_10: 0.43436345289323464\n",
      "emb_2_11: 0.02686505529374936\n",
      "emb_2_12: 0.05390639302740835\n",
      "emb_2_13: 1.1072845697518923\n",
      "emb_2_14: 0.14744886272283356\n",
      "emb_2_15: 0.041216278431763266\n",
      "emb_2_16: 0.13726079013279333\n",
      "emb_2_17: 0.25051824334668926\n",
      "emb_2_18: 0.45892349796393267\n",
      "emb_2_19: 0.023746060172265195\n",
      "emb_2_20: 0.07996491730579094\n",
      "emb_2_21: 0.17226633169968736\n",
      "emb_2_22: 0.0\n",
      "emb_2_23: 0.042017489805512696\n",
      "emb_2_24: 0.22334634931039477\n",
      "emb_2_25: 0.10750515589814608\n",
      "emb_2_26: 0.057945836483796566\n",
      "emb_2_27: 0.1080414062406391\n",
      "emb_2_28: 0.28713608719766703\n",
      "emb_2_29: 0.040243557556908775\n",
      "emb_2_30: 0.033075101916138945\n",
      "emb_2_31: 0.17320551951278412\n",
      "emb_2_32: 0.0\n",
      "emb_2_33: 0.09329521699643578\n",
      "emb_2_34: 0.015552555489611547\n",
      "emb_2_35: 0.00042896323361640436\n",
      "emb_2_36: 0.010730309235221506\n",
      "emb_2_37: 0.1027148322838014\n",
      "emb_2_38: 0.04068349303240805\n",
      "emb_2_39: 0.06666124345012109\n",
      "emb_2_40: 0.19623626987608808\n",
      "emb_2_41: 0.014909034640593077\n",
      "emb_2_42: 0.14035849620587293\n",
      "emb_2_43: 0.11614684691314278\n",
      "emb_2_44: 0.011150683961226\n",
      "emb_2_45: 0.19845164883207145\n",
      "emb_2_46: 0.11946380366457131\n",
      "emb_2_47: 0.14798894896150935\n",
      "emb_2_48: 0.26803679530749686\n",
      "emb_2_49: 0.19734878084972932\n",
      "emb_2_50: 0.07250303998086183\n",
      "emb_2_51: 0.0011394223455570714\n",
      "emb_2_52: 0.04297894222062228\n",
      "emb_2_53: 0.23427565932132552\n",
      "emb_2_54: 0.40150352671897216\n",
      "emb_2_55: 0.045306466570325166\n",
      "emb_2_56: 0.06978739550951739\n",
      "emb_2_57: 0.14160499457114634\n",
      "emb_2_58: 0.07801806902764966\n",
      "emb_2_59: 0.3364354324897575\n",
      "emb_2_60: 0.049156150131219115\n",
      "emb_2_61: 0.03836584730892159\n",
      "emb_2_62: 0.0443647720465327\n",
      "emb_2_63: 0.0058452474364567054\n",
      "emb_2_64: 0.2192865510997124\n",
      "emb_2_65: 0.049339999780908646\n",
      "emb_2_66: 0.07075287463146399\n",
      "emb_2_67: 0.11423582399330005\n",
      "emb_2_68: 0.08637407989356793\n",
      "emb_2_69: 0.0\n",
      "emb_2_70: 0.16664440819194\n",
      "emb_2_71: 0.0\n",
      "emb_2_72: 0.0029930275408334753\n",
      "emb_2_73: 0.1667469829018076\n",
      "emb_2_74: 0.010674815711330624\n",
      "emb_2_75: 0.027986891433243965\n",
      "emb_2_76: 0.32455754557671107\n",
      "emb_2_77: 0.016024445465478602\n",
      "emb_2_78: 0.14884560333138708\n",
      "emb_2_79: 0.08876200494587361\n",
      "emb_2_80: 0.09318743465463968\n",
      "emb_2_81: 0.2410658999042188\n",
      "emb_2_82: 0.09667398781505025\n",
      "emb_2_83: 0.0\n",
      "emb_2_84: 0.0650552863808524\n",
      "emb_2_85: 0.10238315345726447\n",
      "emb_2_86: 0.22775317710620596\n",
      "emb_2_87: 0.1088075307790784\n",
      "emb_2_88: 0.18380046327372834\n",
      "emb_2_89: 4.19717540924304e-09\n",
      "emb_2_90: 0.2348871482652043\n",
      "emb_2_91: 0.11526905515722066\n",
      "emb_2_92: 0.47735329555919\n",
      "emb_2_93: 0.0009344343948634604\n",
      "emb_2_94: 0.048005185338594984\n",
      "emb_2_95: 0.011759881375691412\n",
      "emb_2_96: 0.03418649499653084\n",
      "emb_2_97: 0.26186003801281077\n",
      "emb_2_98: 0.06395446759806171\n",
      "emb_2_99: 0.11595796390379258\n",
      "emb_2_100: 0.13886510131989854\n",
      "emb_2_101: 0.0\n",
      "emb_2_102: 0.013669561264231064\n",
      "emb_2_103: 0.0170999020514162\n",
      "emb_2_104: 0.016788528472584826\n",
      "emb_2_105: 0.3393705028501078\n",
      "emb_2_106: 0.12868592727480785\n",
      "emb_2_107: 0.050185207483704475\n",
      "emb_2_108: 0.07146573537190254\n",
      "emb_2_109: 0.029281270710099845\n",
      "emb_2_110: 0.11276198225821742\n",
      "emb_2_111: 0.033569099688479806\n",
      "emb_2_112: 0.33196985702438825\n",
      "emb_2_113: 0.11247895538679435\n",
      "emb_2_114: 0.032158564106462645\n",
      "emb_2_115: 0.7738579815735622\n",
      "emb_2_116: 0.0726379336799203\n",
      "emb_2_117: 0.1828349993995864\n",
      "emb_2_118: 0.45831453517939996\n",
      "emb_2_119: 0.15478701893966154\n",
      "emb_2_120: 0.06379646377330621\n",
      "emb_2_121: 0.032924965147779636\n",
      "emb_2_122: 0.023122459321744844\n",
      "emb_2_123: 0.15655629057060574\n",
      "emb_2_124: 0.0\n",
      "emb_2_125: 0.037763667344094747\n",
      "emb_2_126: 0.0\n",
      "emb_2_127: 0.0\n",
      "emb_2_128: 0.063643206093208\n",
      "emb_2_129: 0.17027249843490846\n",
      "emb_2_130: 0.15478201475740033\n",
      "emb_2_131: 0.0027818208193276443\n",
      "emb_2_132: 0.03929811229809982\n",
      "emb_2_133: 0.10143057291512174\n",
      "emb_2_134: 0.058165451638145134\n",
      "emb_2_135: 0.009924870852718206\n",
      "emb_2_136: 0.022164551155649477\n",
      "emb_2_137: 0.011980316986922913\n",
      "emb_2_138: 0.0\n",
      "emb_2_139: 0.0\n",
      "emb_2_140: 0.3693238718635227\n",
      "emb_2_141: 0.012551388760059028\n",
      "emb_2_142: 0.33709382411684474\n",
      "emb_2_143: 0.019961906629180848\n",
      "emb_2_144: 0.015860840744662083\n",
      "emb_2_145: 0.11039481973636966\n",
      "emb_2_146: 0.08611822365626469\n",
      "emb_2_147: 0.040429814687923296\n",
      "emb_2_148: 0.11140530564513819\n",
      "emb_2_149: 0.0\n",
      "lev_dist: 26.096492664663444\n",
      "lev_dist_2: 23.836819732362393\n"
     ]
    }
   ],
   "source": [
    "# get feature importance\n",
    "feature_importances = cat_model.feature_importances_\n",
    "\n",
    "for i, importance in enumerate(feature_importances):\n",
    "    print(f\"{X.columns[i]}: {importance}\")"
   ]
  },
  {
   "cell_type": "code",
   "execution_count": 22,
   "metadata": {},
   "outputs": [
    {
     "data": {
      "text/plain": [
       "[<matplotlib.lines.Line2D at 0x23a57dd6490>]"
      ]
     },
     "execution_count": 22,
     "metadata": {},
     "output_type": "execute_result"
    },
    {
     "data": {
      "image/png": "[encoded data removed]",
      "text/plain": [
       "<Figure size 640x480 with 1 Axes>"
      ]
     },
     "metadata": {},
     "output_type": "display_data"
    }
   ],
   "source": [
    "# plotting feature importance of embeddings\n",
    "plt.plot(cat_model.feature_importances_[:-2])"
   ]
  },
  {
   "cell_type": "markdown",
   "metadata": {},
   "source": [
    "Нейросеть"
   ]
  },
  {
   "cell_type": "code",
   "execution_count": 23,
   "metadata": {},
   "outputs": [
    {
     "data": {
      "text/html": [
       "Tracking run with wandb version 0.16.5"
      ],
      "text/plain": [
       "<IPython.core.display.HTML object>"
      ]
     },
     "metadata": {},
     "output_type": "display_data"
    },
    {
     "data": {
      "text/html": [
       "Run data is saved locally in <code>c:\\Users\\pasin\\DS\\Доп\\generation_of_paronyms\\wandb\\run-20240331_222544-sl2k3wsj</code>"
      ],
      "text/plain": [
       "<IPython.core.display.HTML object>"
      ]
     },
     "metadata": {},
     "output_type": "display_data"
    },
    {
     "data": {
      "text/html": [
       "Syncing run <strong><a href='https://wandb.ai/paronyms/paronyms/runs/sl2k3wsj/workspace' target=\"_blank\">fiery-dawn-16</a></strong> to <a href='https://wandb.ai/paronyms/paronyms' target=\"_blank\">Weights & Biases</a> (<a href='https://wandb.me/run' target=\"_blank\">docs</a>)<br/>"
      ],
      "text/plain": [
       "<IPython.core.display.HTML object>"
      ]
     },
     "metadata": {},
     "output_type": "display_data"
    },
    {
     "data": {
      "text/html": [
       " View project at <a href='https://wandb.ai/paronyms/paronyms' target=\"_blank\">https://wandb.ai/paronyms/paronyms</a>"
      ],
      "text/plain": [
       "<IPython.core.display.HTML object>"
      ]
     },
     "metadata": {},
     "output_type": "display_data"
    },
    {
     "data": {
      "text/html": [
       " View run at <a href='https://wandb.ai/paronyms/paronyms/runs/sl2k3wsj/workspace' target=\"_blank\">https://wandb.ai/paronyms/paronyms/runs/sl2k3wsj/workspace</a>"
      ],
      "text/plain": [
       "<IPython.core.display.HTML object>"
      ]
     },
     "metadata": {},
     "output_type": "display_data"
    }
   ],
   "source": [
    "# Логирование\n",
    "if config[\"logging\"]:\n",
    "    wandb.init(project=\"paronyms\", tags=[\"nn\", \"with dist 2\"])\n",
    "    wandb.log(nn)"
   ]
  },
  {
   "cell_type": "code",
   "execution_count": 24,
   "metadata": {},
   "outputs": [
    {
     "name": "stdout",
     "output_type": "stream",
     "text": [
      "\u001b[1m12/12\u001b[0m \u001b[32m━━━━━━━━━━━━━━━━━━━━\u001b[0m\u001b[37m\u001b[0m \u001b[1m0s\u001b[0m 4ms/step \n"
     ]
    }
   ],
   "source": [
    "nn_model = tf.keras.Sequential()\n",
    "\n",
    "optimizer = keras.optimizers.Adam(learning_rate=nn[\"lr\"])\n",
    "layers = nn[\"layers\"]\n",
    "activations = nn[\"activations\"]\n",
    "\n",
    "for i in range(len(layers)):\n",
    "    if i == 0:\n",
    "        nn_model.add(tf.keras.layers.Dense(layers[i], activation=activations[i], input_shape=(X_train.shape[1],)))\n",
    "    else:\n",
    "        nn_model.add(tf.keras.layers.Dense(layers[i], activation=activations[i]))\n",
    "\n",
    "nn_model.compile(optimizer=optimizer, loss='mean_absolute_error')\n",
    "\n",
    "history = nn_model.fit(X_train, y_train, epochs=nn[\"epochs\"], batch_size=nn[\"batch_size\"], verbose=0)\n",
    "\n",
    "predictions = nn_model.predict(X_test)"
   ]
  },
  {
   "cell_type": "code",
   "execution_count": 25,
   "metadata": {},
   "outputs": [
    {
     "name": "stdout",
     "output_type": "stream",
     "text": [
      "MAE: 0.05688547324249235  Accuracy: 0.9429347826086957\n"
     ]
    },
    {
     "data": {
      "text/html": [
       "<style>\n",
       "    table.wandb td:nth-child(1) { padding: 0 10px; text-align: left ; width: auto;} td:nth-child(2) {text-align: left ; width: 100%}\n",
       "    .wandb-row { display: flex; flex-direction: row; flex-wrap: wrap; justify-content: flex-start; width: 100% }\n",
       "    .wandb-col { display: flex; flex-direction: column; flex-basis: 100%; flex: 1; padding: 10px; }\n",
       "    </style>\n",
       "<div class=\"wandb-row\"><div class=\"wandb-col\"><h3>Run history:</h3><br/><table class=\"wandb\"><tr><td>Accuracy</td><td>▁</td></tr><tr><td>MAE</td><td>▁</td></tr><tr><td>batch_size</td><td>▁</td></tr><tr><td>epochs</td><td>▁</td></tr><tr><td>lr</td><td>▁</td></tr><tr><td>treshold</td><td>▁</td></tr></table><br/></div><div class=\"wandb-col\"><h3>Run summary:</h3><br/><table class=\"wandb\"><tr><td>Accuracy</td><td>0.94293</td></tr><tr><td>MAE</td><td>0.05689</td></tr><tr><td>batch_size</td><td>16</td></tr><tr><td>epochs</td><td>100</td></tr><tr><td>lr</td><td>0.0005</td></tr><tr><td>treshold</td><td>0.52</td></tr></table><br/></div></div>"
      ],
      "text/plain": [
       "<IPython.core.display.HTML object>"
      ]
     },
     "metadata": {},
     "output_type": "display_data"
    },
    {
     "data": {
      "text/html": [
       " View run <strong style=\"color:#cdcd00\">fiery-dawn-16</strong> at: <a href='https://wandb.ai/paronyms/paronyms/runs/sl2k3wsj/workspace' target=\"_blank\">https://wandb.ai/paronyms/paronyms/runs/sl2k3wsj/workspace</a><br/>Synced 5 W&B file(s), 0 media file(s), 0 artifact file(s) and 0 other file(s)"
      ],
      "text/plain": [
       "<IPython.core.display.HTML object>"
      ]
     },
     "metadata": {},
     "output_type": "display_data"
    },
    {
     "data": {
      "text/html": [
       "Find logs at: <code>.\\wandb\\run-20240331_222544-sl2k3wsj\\logs</code>"
      ],
      "text/plain": [
       "<IPython.core.display.HTML object>"
      ]
     },
     "metadata": {},
     "output_type": "display_data"
    },
    {
     "data": {
      "image/png": "[encoded data removed]",
      "text/plain": [
       "<Figure size 640x480 with 1 Axes>"
      ]
     },
     "metadata": {},
     "output_type": "display_data"
    }
   ],
   "source": [
    "treshold = nn[\"treshold\"]\n",
    "\n",
    "mae = mean_absolute_error(y_test, predictions)\n",
    "acc = accuracy_score(y_test, [1 if prob > treshold else 0 for prob in predictions])\n",
    "print('MAE:', mae, ' Accuracy:', acc)\n",
    "\n",
    "if config[\"logging\"]:\n",
    "    wandb.log({'MAE': mae, 'Accuracy': acc})\n",
    "    wandb.finish()\n",
    "\n",
    "# Plotting the loss\n",
    "plt.plot(history.history['loss'])\n",
    "plt.title('Model Loss')\n",
    "plt.ylabel('Loss')\n",
    "plt.xlabel('Epoch')\n",
    "plt.show()"
   ]
  },
  {
   "cell_type": "markdown",
   "metadata": {},
   "source": [
    "Тестирование"
   ]
  },
  {
   "cell_type": "code",
   "execution_count": null,
   "metadata": {},
   "outputs": [],
   "source": [
    "# function for testing new words\n",
    "def test(word1, word2, model):\n",
    "\n",
    "    # getting embs and lev dist \n",
    "    emb1, emb2 = get_embedding(word1), get_embedding(word2)\n",
    "    pca_emb1 = reduce_dimension(pca, emb1.reshape(1, -1))\n",
    "    pca_emb2 = reduce_dimension(pca, emb2.reshape(1, -1))\n",
    "    lev_dist = Levenshtein.distance(word1, word2)\n",
    "\n",
    "    # creating dataframe\n",
    "    row = pca_emb1.tolist()[0] + pca_emb2.tolist()[0] + [lev_dist]\n",
    "    X_new = pd.DataFrame([row], columns=X.columns)\n",
    "    \n",
    "    # predictions \n",
    "    if model == \"cat\":\n",
    "        prediction = cat_model.predict_proba(X_new)\n",
    "        res = np.argmax(prediction[0])\n",
    "        proba = max(prediction[0])\n",
    "\n",
    "    if model == \"nn\":\n",
    "        prediction = nn_model.predict(X_new)\n",
    "        if prediction[0][0] < 0.5:\n",
    "            res = 0\n",
    "            proba = 1 - (prediction[0][0] if prediction[0][0] > 0 else 0)\n",
    "        else:\n",
    "            res = 1\n",
    "            proba = (prediction[0][0] if prediction[0][0] < 1 else 1)\n",
    "\n",
    "    # result\n",
    "    print(f\"Слова {word1} и {word2} {'не '*(not res)}являются паронимами с вероятностью {proba}\")"
   ]
  },
  {
   "cell_type": "code",
   "execution_count": null,
   "metadata": {},
   "outputs": [],
   "source": [
    "# не паронимы\n",
    "word1 = \"приветливый\"\n",
    "word2 = \"страна\" \n",
    "\n",
    "# паронимы\n",
    "word1 = \"целый\"\n",
    "word2 = \"цельный\" \n",
    "\n",
    "# модель \n",
    "model = \"cat\" # nn - keras nn, cat - catboostclassifier\n",
    "\n",
    "# тестирование\n",
    "test(word1, word2, model)"
   ]
  },
  {
   "cell_type": "markdown",
   "metadata": {},
   "source": [
    "Мусорка"
   ]
  },
  {
   "cell_type": "code",
   "execution_count": 97,
   "metadata": {},
   "outputs": [
    {
     "data": {
      "text/html": [
       "<div>\n",
       "<style scoped>\n",
       "    .dataframe tbody tr th:only-of-type {\n",
       "        vertical-align: middle;\n",
       "    }\n",
       "\n",
       "    .dataframe tbody tr th {\n",
       "        vertical-align: top;\n",
       "    }\n",
       "\n",
       "    .dataframe thead th {\n",
       "        text-align: right;\n",
       "    }\n",
       "</style>\n",
       "<table border=\"1\" class=\"dataframe\">\n",
       "  <thead>\n",
       "    <tr style=\"text-align: right;\">\n",
       "      <th></th>\n",
       "      <th>word1</th>\n",
       "      <th>word2</th>\n",
       "      <th>label</th>\n",
       "      <th>emb_1_0</th>\n",
       "      <th>emb_1_1</th>\n",
       "      <th>emb_1_2</th>\n",
       "      <th>emb_1_3</th>\n",
       "      <th>emb_1_4</th>\n",
       "      <th>emb_1_5</th>\n",
       "      <th>emb_1_6</th>\n",
       "      <th>...</th>\n",
       "      <th>emb_2_291</th>\n",
       "      <th>emb_2_292</th>\n",
       "      <th>emb_2_293</th>\n",
       "      <th>emb_2_294</th>\n",
       "      <th>emb_2_295</th>\n",
       "      <th>emb_2_296</th>\n",
       "      <th>emb_2_297</th>\n",
       "      <th>emb_2_298</th>\n",
       "      <th>emb_2_299</th>\n",
       "      <th>lev_dist</th>\n",
       "    </tr>\n",
       "  </thead>\n",
       "  <tbody>\n",
       "    <tr>\n",
       "      <th>0</th>\n",
       "      <td>аккордовый</td>\n",
       "      <td>квадрат</td>\n",
       "      <td>0</td>\n",
       "      <td>-0.012578</td>\n",
       "      <td>0.071381</td>\n",
       "      <td>-0.066920</td>\n",
       "      <td>0.132629</td>\n",
       "      <td>0.039623</td>\n",
       "      <td>0.068954</td>\n",
       "      <td>-0.102715</td>\n",
       "      <td>...</td>\n",
       "      <td>0.012084</td>\n",
       "      <td>0.054774</td>\n",
       "      <td>0.012667</td>\n",
       "      <td>-0.049291</td>\n",
       "      <td>0.144537</td>\n",
       "      <td>-0.074161</td>\n",
       "      <td>-0.035057</td>\n",
       "      <td>0.081322</td>\n",
       "      <td>0.129544</td>\n",
       "      <td>0</td>\n",
       "    </tr>\n",
       "    <tr>\n",
       "      <th>1</th>\n",
       "      <td>целый</td>\n",
       "      <td>цельный</td>\n",
       "      <td>1</td>\n",
       "      <td>-0.019124</td>\n",
       "      <td>0.034811</td>\n",
       "      <td>0.057754</td>\n",
       "      <td>0.119841</td>\n",
       "      <td>-0.034180</td>\n",
       "      <td>0.042868</td>\n",
       "      <td>0.015424</td>\n",
       "      <td>...</td>\n",
       "      <td>0.032209</td>\n",
       "      <td>0.014659</td>\n",
       "      <td>0.024586</td>\n",
       "      <td>-0.071244</td>\n",
       "      <td>-0.106860</td>\n",
       "      <td>0.002109</td>\n",
       "      <td>0.057067</td>\n",
       "      <td>-0.029967</td>\n",
       "      <td>0.069121</td>\n",
       "      <td>0</td>\n",
       "    </tr>\n",
       "    <tr>\n",
       "      <th>2</th>\n",
       "      <td>женский</td>\n",
       "      <td>господний</td>\n",
       "      <td>0</td>\n",
       "      <td>0.044881</td>\n",
       "      <td>-0.092671</td>\n",
       "      <td>0.050879</td>\n",
       "      <td>-0.044229</td>\n",
       "      <td>0.011045</td>\n",
       "      <td>0.028815</td>\n",
       "      <td>-0.058337</td>\n",
       "      <td>...</td>\n",
       "      <td>0.073815</td>\n",
       "      <td>0.014237</td>\n",
       "      <td>0.103689</td>\n",
       "      <td>0.109344</td>\n",
       "      <td>0.009336</td>\n",
       "      <td>0.047421</td>\n",
       "      <td>0.005184</td>\n",
       "      <td>0.071654</td>\n",
       "      <td>-0.028561</td>\n",
       "      <td>0</td>\n",
       "    </tr>\n",
       "    <tr>\n",
       "      <th>3</th>\n",
       "      <td>обличительный</td>\n",
       "      <td>динамизм</td>\n",
       "      <td>0</td>\n",
       "      <td>0.066741</td>\n",
       "      <td>0.038244</td>\n",
       "      <td>0.027620</td>\n",
       "      <td>0.058278</td>\n",
       "      <td>0.048305</td>\n",
       "      <td>0.110592</td>\n",
       "      <td>-0.115581</td>\n",
       "      <td>...</td>\n",
       "      <td>-0.102109</td>\n",
       "      <td>0.129003</td>\n",
       "      <td>-0.052745</td>\n",
       "      <td>-0.043174</td>\n",
       "      <td>-0.039006</td>\n",
       "      <td>0.050456</td>\n",
       "      <td>-0.007910</td>\n",
       "      <td>-0.029959</td>\n",
       "      <td>0.016620</td>\n",
       "      <td>0</td>\n",
       "    </tr>\n",
       "    <tr>\n",
       "      <th>4</th>\n",
       "      <td>сыскать</td>\n",
       "      <td>снискать</td>\n",
       "      <td>1</td>\n",
       "      <td>0.000000</td>\n",
       "      <td>0.000000</td>\n",
       "      <td>0.000000</td>\n",
       "      <td>0.000000</td>\n",
       "      <td>0.000000</td>\n",
       "      <td>0.000000</td>\n",
       "      <td>0.000000</td>\n",
       "      <td>...</td>\n",
       "      <td>0.000000</td>\n",
       "      <td>0.000000</td>\n",
       "      <td>0.000000</td>\n",
       "      <td>0.000000</td>\n",
       "      <td>0.000000</td>\n",
       "      <td>0.000000</td>\n",
       "      <td>0.000000</td>\n",
       "      <td>0.000000</td>\n",
       "      <td>0.000000</td>\n",
       "      <td>0</td>\n",
       "    </tr>\n",
       "    <tr>\n",
       "      <th>...</th>\n",
       "      <td>...</td>\n",
       "      <td>...</td>\n",
       "      <td>...</td>\n",
       "      <td>...</td>\n",
       "      <td>...</td>\n",
       "      <td>...</td>\n",
       "      <td>...</td>\n",
       "      <td>...</td>\n",
       "      <td>...</td>\n",
       "      <td>...</td>\n",
       "      <td>...</td>\n",
       "      <td>...</td>\n",
       "      <td>...</td>\n",
       "      <td>...</td>\n",
       "      <td>...</td>\n",
       "      <td>...</td>\n",
       "      <td>...</td>\n",
       "      <td>...</td>\n",
       "      <td>...</td>\n",
       "      <td>...</td>\n",
       "      <td>...</td>\n",
       "    </tr>\n",
       "    <tr>\n",
       "      <th>3511</th>\n",
       "      <td>гнилой</td>\n",
       "      <td>гнилостный</td>\n",
       "      <td>1</td>\n",
       "      <td>0.022569</td>\n",
       "      <td>-0.047862</td>\n",
       "      <td>0.049707</td>\n",
       "      <td>0.058395</td>\n",
       "      <td>0.006504</td>\n",
       "      <td>0.046971</td>\n",
       "      <td>0.035626</td>\n",
       "      <td>...</td>\n",
       "      <td>-0.091607</td>\n",
       "      <td>0.088824</td>\n",
       "      <td>0.001456</td>\n",
       "      <td>-0.006952</td>\n",
       "      <td>0.041889</td>\n",
       "      <td>0.050071</td>\n",
       "      <td>0.102235</td>\n",
       "      <td>-0.003491</td>\n",
       "      <td>-0.002087</td>\n",
       "      <td>0</td>\n",
       "    </tr>\n",
       "    <tr>\n",
       "      <th>3512</th>\n",
       "      <td>кормильщица</td>\n",
       "      <td>притягательный</td>\n",
       "      <td>0</td>\n",
       "      <td>0.000000</td>\n",
       "      <td>0.000000</td>\n",
       "      <td>0.000000</td>\n",
       "      <td>0.000000</td>\n",
       "      <td>0.000000</td>\n",
       "      <td>0.000000</td>\n",
       "      <td>0.000000</td>\n",
       "      <td>...</td>\n",
       "      <td>0.000000</td>\n",
       "      <td>0.000000</td>\n",
       "      <td>0.000000</td>\n",
       "      <td>0.000000</td>\n",
       "      <td>0.000000</td>\n",
       "      <td>0.000000</td>\n",
       "      <td>0.000000</td>\n",
       "      <td>0.000000</td>\n",
       "      <td>0.000000</td>\n",
       "      <td>0</td>\n",
       "    </tr>\n",
       "    <tr>\n",
       "      <th>3513</th>\n",
       "      <td>абонемент</td>\n",
       "      <td>абонент</td>\n",
       "      <td>1</td>\n",
       "      <td>0.068919</td>\n",
       "      <td>0.042074</td>\n",
       "      <td>-0.030451</td>\n",
       "      <td>-0.087799</td>\n",
       "      <td>0.016597</td>\n",
       "      <td>-0.016370</td>\n",
       "      <td>0.019723</td>\n",
       "      <td>...</td>\n",
       "      <td>0.067424</td>\n",
       "      <td>0.100960</td>\n",
       "      <td>0.029388</td>\n",
       "      <td>-0.060928</td>\n",
       "      <td>0.016881</td>\n",
       "      <td>-0.025644</td>\n",
       "      <td>-0.061658</td>\n",
       "      <td>-0.017059</td>\n",
       "      <td>-0.043113</td>\n",
       "      <td>0</td>\n",
       "    </tr>\n",
       "    <tr>\n",
       "      <th>3514</th>\n",
       "      <td>беженец</td>\n",
       "      <td>выучить</td>\n",
       "      <td>0</td>\n",
       "      <td>0.000000</td>\n",
       "      <td>0.000000</td>\n",
       "      <td>0.000000</td>\n",
       "      <td>0.000000</td>\n",
       "      <td>0.000000</td>\n",
       "      <td>0.000000</td>\n",
       "      <td>0.000000</td>\n",
       "      <td>...</td>\n",
       "      <td>0.000000</td>\n",
       "      <td>0.000000</td>\n",
       "      <td>0.000000</td>\n",
       "      <td>0.000000</td>\n",
       "      <td>0.000000</td>\n",
       "      <td>0.000000</td>\n",
       "      <td>0.000000</td>\n",
       "      <td>0.000000</td>\n",
       "      <td>0.000000</td>\n",
       "      <td>0</td>\n",
       "    </tr>\n",
       "    <tr>\n",
       "      <th>3515</th>\n",
       "      <td>сводчатый</td>\n",
       "      <td>обстоятельный</td>\n",
       "      <td>0</td>\n",
       "      <td>-0.016734</td>\n",
       "      <td>0.033903</td>\n",
       "      <td>0.149104</td>\n",
       "      <td>0.134837</td>\n",
       "      <td>0.123498</td>\n",
       "      <td>0.062373</td>\n",
       "      <td>0.019553</td>\n",
       "      <td>...</td>\n",
       "      <td>0.129128</td>\n",
       "      <td>-0.039648</td>\n",
       "      <td>0.055071</td>\n",
       "      <td>-0.009823</td>\n",
       "      <td>-0.012505</td>\n",
       "      <td>0.081871</td>\n",
       "      <td>-0.020242</td>\n",
       "      <td>0.003785</td>\n",
       "      <td>-0.095376</td>\n",
       "      <td>0</td>\n",
       "    </tr>\n",
       "  </tbody>\n",
       "</table>\n",
       "<p>3516 rows × 604 columns</p>\n",
       "</div>"
      ],
      "text/plain": [
       "              word1           word2  label   emb_1_0   emb_1_1   emb_1_2  \\\n",
       "0        аккордовый         квадрат      0 -0.012578  0.071381 -0.066920   \n",
       "1             целый         цельный      1 -0.019124  0.034811  0.057754   \n",
       "2           женский       господний      0  0.044881 -0.092671  0.050879   \n",
       "3     обличительный        динамизм      0  0.066741  0.038244  0.027620   \n",
       "4           сыскать        снискать      1  0.000000  0.000000  0.000000   \n",
       "...             ...             ...    ...       ...       ...       ...   \n",
       "3511         гнилой      гнилостный      1  0.022569 -0.047862  0.049707   \n",
       "3512    кормильщица  притягательный      0  0.000000  0.000000  0.000000   \n",
       "3513      абонемент         абонент      1  0.068919  0.042074 -0.030451   \n",
       "3514        беженец         выучить      0  0.000000  0.000000  0.000000   \n",
       "3515      сводчатый   обстоятельный      0 -0.016734  0.033903  0.149104   \n",
       "\n",
       "       emb_1_3   emb_1_4   emb_1_5   emb_1_6  ...  emb_2_291  emb_2_292  \\\n",
       "0     0.132629  0.039623  0.068954 -0.102715  ...   0.012084   0.054774   \n",
       "1     0.119841 -0.034180  0.042868  0.015424  ...   0.032209   0.014659   \n",
       "2    -0.044229  0.011045  0.028815 -0.058337  ...   0.073815   0.014237   \n",
       "3     0.058278  0.048305  0.110592 -0.115581  ...  -0.102109   0.129003   \n",
       "4     0.000000  0.000000  0.000000  0.000000  ...   0.000000   0.000000   \n",
       "...        ...       ...       ...       ...  ...        ...        ...   \n",
       "3511  0.058395  0.006504  0.046971  0.035626  ...  -0.091607   0.088824   \n",
       "3512  0.000000  0.000000  0.000000  0.000000  ...   0.000000   0.000000   \n",
       "3513 -0.087799  0.016597 -0.016370  0.019723  ...   0.067424   0.100960   \n",
       "3514  0.000000  0.000000  0.000000  0.000000  ...   0.000000   0.000000   \n",
       "3515  0.134837  0.123498  0.062373  0.019553  ...   0.129128  -0.039648   \n",
       "\n",
       "      emb_2_293  emb_2_294  emb_2_295  emb_2_296  emb_2_297  emb_2_298  \\\n",
       "0      0.012667  -0.049291   0.144537  -0.074161  -0.035057   0.081322   \n",
       "1      0.024586  -0.071244  -0.106860   0.002109   0.057067  -0.029967   \n",
       "2      0.103689   0.109344   0.009336   0.047421   0.005184   0.071654   \n",
       "3     -0.052745  -0.043174  -0.039006   0.050456  -0.007910  -0.029959   \n",
       "4      0.000000   0.000000   0.000000   0.000000   0.000000   0.000000   \n",
       "...         ...        ...        ...        ...        ...        ...   \n",
       "3511   0.001456  -0.006952   0.041889   0.050071   0.102235  -0.003491   \n",
       "3512   0.000000   0.000000   0.000000   0.000000   0.000000   0.000000   \n",
       "3513   0.029388  -0.060928   0.016881  -0.025644  -0.061658  -0.017059   \n",
       "3514   0.000000   0.000000   0.000000   0.000000   0.000000   0.000000   \n",
       "3515   0.055071  -0.009823  -0.012505   0.081871  -0.020242   0.003785   \n",
       "\n",
       "      emb_2_299  lev_dist  \n",
       "0      0.129544         0  \n",
       "1      0.069121         0  \n",
       "2     -0.028561         0  \n",
       "3      0.016620         0  \n",
       "4      0.000000         0  \n",
       "...         ...       ...  \n",
       "3511  -0.002087         0  \n",
       "3512   0.000000         0  \n",
       "3513  -0.043113         0  \n",
       "3514   0.000000         0  \n",
       "3515  -0.095376         0  \n",
       "\n",
       "[3516 rows x 604 columns]"
      ]
     },
     "execution_count": 97,
     "metadata": {},
     "output_type": "execute_result"
    }
   ],
   "source": [
    "data"
   ]
  },
  {
   "cell_type": "code",
   "execution_count": 96,
   "metadata": {},
   "outputs": [
    {
     "data": {
      "text/plain": [
       "array([-1.25777004e-02,  7.13808015e-02, -6.69195578e-02,  1.32629201e-01,\n",
       "        3.96230109e-02,  6.89538270e-02, -1.02715276e-01, -2.07985435e-02,\n",
       "       -4.17454605e-04, -6.66920096e-02,  1.85652584e-01, -1.44832075e-01,\n",
       "        2.83512380e-02, -1.11901104e-01,  4.56056818e-02, -4.81510274e-02,\n",
       "        8.36276039e-02, -9.19803232e-03,  9.81500838e-04,  5.74996658e-02,\n",
       "       -2.92572589e-03,  6.52177706e-02, -4.75657806e-02,  4.61040102e-02,\n",
       "       -3.82861830e-02,  5.70593216e-02, -3.37926932e-02,  1.21076353e-01,\n",
       "       -1.81092322e-02,  9.62400343e-03, -1.48299234e-02,  1.01952113e-01,\n",
       "        1.60059571e-01, -5.47798118e-03,  3.87733914e-02,  3.83970179e-02,\n",
       "        1.25514701e-01, -8.64881873e-02,  2.29348727e-02, -2.13215649e-02,\n",
       "       -1.91617105e-02, -1.42319629e-03, -1.11882702e-01, -8.07544217e-02,\n",
       "       -5.52563854e-02,  1.29661132e-02, -3.10040861e-02, -4.55451086e-02,\n",
       "        4.72736470e-02, -7.49781057e-02, -9.20100696e-03,  5.29071130e-02,\n",
       "        6.45692181e-03,  5.74147003e-03,  9.59861558e-03,  4.14790679e-03,\n",
       "        1.90521479e-02, -7.94550180e-02,  1.69859100e-02, -3.25852409e-02,\n",
       "       -1.00170083e-01,  3.62269804e-02,  6.94461539e-02, -8.63561481e-02,\n",
       "       -5.65240309e-02,  4.15184684e-02, -3.38917896e-02,  2.72767413e-02,\n",
       "        2.60996334e-02,  6.78940415e-02, -5.99999093e-02, -5.00195399e-02,\n",
       "       -1.88710131e-02,  9.66469105e-03,  2.81026121e-02,  2.08671000e-02,\n",
       "        1.61541495e-02, -3.85255590e-02, -5.15885837e-03,  3.94509211e-02,\n",
       "        6.78004278e-03,  1.83908325e-02, -2.70006657e-02, -8.34909305e-02,\n",
       "       -1.11830207e-02, -1.40482679e-01, -9.20039788e-02,  2.81033125e-02,\n",
       "        2.64003985e-02,  9.93030816e-02,  9.75869298e-02,  2.22652201e-02,\n",
       "        4.37827185e-02, -2.34081820e-02,  1.01139918e-01,  1.38354152e-02,\n",
       "        4.30526212e-02,  3.48471180e-02, -4.25464623e-02,  8.53151605e-02,\n",
       "       -8.54157954e-02,  2.73413602e-02, -3.14549543e-02, -1.23378346e-02,\n",
       "        1.92287397e-02, -1.04939919e-02,  2.31727064e-02,  4.86694351e-02,\n",
       "        1.40119484e-02,  1.01674767e-02,  4.13361192e-02, -3.82429622e-02,\n",
       "       -7.97519609e-02, -4.70690913e-02,  2.05523521e-02,  1.31806955e-01,\n",
       "        7.45726051e-03, -9.67080072e-02,  1.29773185e-01,  6.74464554e-02,\n",
       "        8.25832188e-02, -4.34917957e-02,  4.15335968e-02, -9.65461135e-02,\n",
       "       -3.42153572e-02,  6.13581017e-02, -5.56484796e-02, -7.63703557e-03,\n",
       "       -5.03940433e-02,  7.48961568e-02, -4.04553376e-02, -4.53252122e-02,\n",
       "       -2.48705409e-02, -6.81427792e-02, -1.19851336e-01, -1.46040518e-03,\n",
       "        2.55184108e-03, -9.37480852e-02, -4.26071621e-02, -2.00331286e-02,\n",
       "        2.87593603e-02, -6.92993328e-02,  1.00275893e-02,  8.96336744e-04,\n",
       "        1.32769167e-01,  6.23399485e-03, -3.08007747e-03,  1.46783078e-02,\n",
       "        4.01196033e-02, -3.29340037e-05,  1.96143445e-02,  1.43831536e-01,\n",
       "       -4.21286337e-02, -2.65204217e-02, -1.80622973e-02,  4.75672185e-02,\n",
       "        3.57646458e-02,  5.23649193e-02,  3.63554829e-03,  7.04426542e-02,\n",
       "       -2.60557625e-02, -2.49712970e-02, -1.11792609e-02, -2.46893857e-02,\n",
       "       -3.41893844e-02, -3.86450090e-03, -8.38279724e-02, -1.00701638e-02,\n",
       "       -9.68417302e-02, -2.87084263e-02,  6.16596527e-02, -2.70111524e-02,\n",
       "        3.37847844e-02,  1.06067518e-02,  9.32938978e-02,  8.40997770e-02,\n",
       "        9.70854461e-02, -6.41414314e-04, -5.85164949e-02, -3.49408127e-02,\n",
       "        2.32457183e-02,  2.41421741e-02,  9.03776102e-03, -6.10216036e-02,\n",
       "        8.96442123e-03,  1.61935873e-02,  2.56265868e-02,  8.30461159e-02,\n",
       "       -8.11284408e-02, -2.58378655e-04,  1.40871152e-01, -2.12826971e-02,\n",
       "       -1.47411749e-01, -3.14482525e-02,  2.19504666e-02,  3.69035192e-02,\n",
       "        4.18353714e-02, -1.02795228e-01, -1.24128751e-01, -1.99791677e-02,\n",
       "        4.83582951e-02, -2.08577514e-02,  7.03508109e-02, -7.54659921e-02,\n",
       "       -6.20336756e-02,  4.43049660e-03,  3.10019869e-02,  3.75561826e-02,\n",
       "       -3.64921652e-02,  5.96306995e-02, -5.76091371e-02,  5.77018596e-02,\n",
       "       -1.09729730e-01, -5.53957708e-02, -2.83655822e-02,  1.64113306e-02,\n",
       "        8.86768326e-02,  1.59735948e-01, -3.19493227e-02, -1.02740385e-01,\n",
       "       -3.81668634e-03,  4.45205159e-02,  6.80665672e-02, -1.87013764e-02,\n",
       "       -4.73693665e-03, -4.83670905e-02,  5.82671426e-02, -5.51398285e-02,\n",
       "        7.66585618e-02, -6.51081055e-02,  9.20398161e-02,  4.05590385e-02,\n",
       "        1.30269313e-02,  3.61332297e-02,  3.95346135e-02,  4.74875700e-03,\n",
       "       -2.49997862e-02, -7.20974011e-03, -1.88105833e-02,  2.58076247e-02,\n",
       "       -5.99639826e-02, -9.34645440e-03,  5.20188957e-02,  3.51248533e-02,\n",
       "       -1.76731050e-02,  3.31161283e-02, -9.49751586e-03,  2.66715698e-02,\n",
       "        3.53997834e-02, -2.34746300e-02, -1.49301626e-02,  1.77430746e-03,\n",
       "       -1.04395561e-01, -9.88866668e-03, -1.61379166e-02,  4.01679613e-02,\n",
       "        2.27362420e-02, -2.17149071e-02,  2.94348318e-02,  9.95190963e-02,\n",
       "       -4.32178527e-02,  4.99926321e-02, -6.86487705e-02,  1.16120903e-02,\n",
       "       -9.21644270e-03, -1.91097893e-03, -9.44670755e-03, -4.85876197e-04,\n",
       "       -4.77269962e-02,  5.51423766e-02,  6.54815361e-02, -4.81810374e-03,\n",
       "        4.99324650e-02,  9.87115353e-02,  4.30110842e-02,  8.21192041e-02,\n",
       "        3.01010162e-02, -2.82975696e-02,  1.77318510e-02,  2.98905955e-03,\n",
       "       -5.61913401e-02, -2.75982488e-02,  3.94750983e-02,  4.68719117e-02,\n",
       "       -4.54176627e-02, -2.27284413e-02, -1.65842958e-02, -3.08038685e-02,\n",
       "       -1.37280282e-02,  2.76846681e-02, -4.02916819e-02,  3.50677483e-02,\n",
       "       -5.78317009e-02,  1.75822079e-02, -2.84524038e-02,  3.84100191e-02,\n",
       "       -1.05551723e-02,  9.48307663e-02, -5.39948344e-02, -5.33957593e-02],\n",
       "      dtype=float32)"
      ]
     },
     "execution_count": 96,
     "metadata": {},
     "output_type": "execute_result"
    }
   ],
   "source": [
    "get_embedding(data['word1'][0])"
   ]
  },
  {
   "cell_type": "code",
   "execution_count": 85,
   "metadata": {},
   "outputs": [
    {
     "name": "stdout",
     "output_type": "stream",
     "text": [
      "None\n"
     ]
    }
   ],
   "source": [
    "morph = pymorphy2.MorphAnalyzer()\n",
    "\n",
    "word = 'знамя_NOUN'\n",
    "parsed_word = morph.parse(word)[0]\n",
    "pos = parsed_word.tag.POS\n",
    "\n",
    "print(pos)"
   ]
  },
  {
   "cell_type": "code",
   "execution_count": null,
   "metadata": {},
   "outputs": [],
   "source": [
    "\n"
   ]
  }
 ],
 "metadata": {
  "kernelspec": {
   "display_name": "base",
   "language": "python",
   "name": "python3"
  },
  "language_info": {
   "codemirror_mode": {
    "name": "ipython",
    "version": 3
   },
   "file_extension": ".py",
   "mimetype": "text/x-python",
   "name": "python",
   "nbconvert_exporter": "python",
   "pygments_lexer": "ipython3",
   "version": "3.9.7"
  }
 },
 "nbformat": 4,
 "nbformat_minor": 2
}
