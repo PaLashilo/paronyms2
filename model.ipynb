{
 "cells": [
  {
   "cell_type": "markdown",
   "metadata": {},
   "source": [
    "Скачивание всех зависимостей проекта"
   ]
  },
  {
   "cell_type": "code",
   "execution_count": 7,
   "metadata": {},
   "outputs": [],
   "source": [
    "!pip install -r requirements.txt"
   ]
  },
  {
   "cell_type": "markdown",
   "metadata": {},
   "source": [
    "Авторизация в wandb "
   ]
  },
  {
   "cell_type": "code",
   "execution_count": 27,
   "metadata": {},
   "outputs": [
    {
     "name": "stderr",
     "output_type": "stream",
     "text": [
      "\"cat\" �� ���� ����७��� ��� ���譥�\n",
      "��������, �ᯮ��塞�� �ணࠬ��� ��� ������ 䠩���.\n"
     ]
    }
   ],
   "source": [
    "!wandb login | cat wandb_secret.txt"
   ]
  },
  {
   "cell_type": "markdown",
   "metadata": {},
   "source": [
    "Импорт библиотек"
   ]
  },
  {
   "cell_type": "code",
   "execution_count": 36,
   "metadata": {},
   "outputs": [],
   "source": [
    "import pandas as pd\n",
    "import numpy as np\n",
    "import tensorflow as tf\n",
    "import optuna\n",
    "import keras \n",
    "\n",
    "from catboost import CatBoostClassifier\n",
    "from sklearn.model_selection import train_test_split\n",
    "from sklearn.metrics import mean_absolute_error, accuracy_score\n",
    "from sklearn.decomposition import PCA\n",
    "\n",
    "import matplotlib.pyplot as plt\n",
    "\n",
    "import pymorphy2\n",
    "import Levenshtein\n",
    "import gensim.downloader\n",
    "import wandb\n",
    "import json\n",
    "\n",
    "import warnings\n",
    "warnings.filterwarnings(\"ignore\")"
   ]
  },
  {
   "cell_type": "markdown",
   "metadata": {},
   "source": [
    "Чтение данных"
   ]
  },
  {
   "cell_type": "code",
   "execution_count": 98,
   "metadata": {},
   "outputs": [],
   "source": [
    "# конфигурация\n",
    "with open('config.json', 'r') as file:\n",
    "    config = json.load(file)\n",
    "\n",
    "cat = config['catboost']\n",
    "nn = config['nn']\n",
    "path = config['data_path']"
   ]
  },
  {
   "cell_type": "code",
   "execution_count": 38,
   "metadata": {},
   "outputs": [],
   "source": [
    "# датафрейм \n",
    "data = pd.read_csv(path, index_col=0)"
   ]
  },
  {
   "cell_type": "markdown",
   "metadata": {},
   "source": [
    "Препроцессинг"
   ]
  },
  {
   "cell_type": "code",
   "execution_count": 39,
   "metadata": {},
   "outputs": [],
   "source": [
    "# installing model\n",
    "word2vec_rus = gensim.downloader.load('word2vec-ruscorpora-300')"
   ]
  },
  {
   "cell_type": "code",
   "execution_count": 40,
   "metadata": {},
   "outputs": [],
   "source": [
    "morph = pymorphy2.MorphAnalyzer()"
   ]
  },
  {
   "cell_type": "code",
   "execution_count": 41,
   "metadata": {},
   "outputs": [],
   "source": [
    "# get a part of speech needed to make an embedding of word\n",
    "def get_part_of_speech(word):\n",
    "    \n",
    "    parsed_word = morph.parse(word)[0]\n",
    "    pos = parsed_word.tag.POS\n",
    "\n",
    "    if pos == \"ADJF\":\n",
    "        return \"ADJ\"\n",
    "    \n",
    "    return pos "
   ]
  },
  {
   "cell_type": "code",
   "execution_count": 42,
   "metadata": {},
   "outputs": [],
   "source": [
    "# making embedding by pretrained word2vec model \n",
    "def get_embedding(word):\n",
    "\n",
    "    w2v_word = f\"{word}_{get_part_of_speech(word)}\"\n",
    "\n",
    "    try:\n",
    "        emb = word2vec_rus[w2v_word]\n",
    "\n",
    "    except KeyError:\n",
    "        return None\n",
    "    \n",
    "    return emb"
   ]
  },
  {
   "cell_type": "code",
   "execution_count": 43,
   "metadata": {},
   "outputs": [
    {
     "data": {
      "text/html": [
       "<div>\n",
       "<style scoped>\n",
       "    .dataframe tbody tr th:only-of-type {\n",
       "        vertical-align: middle;\n",
       "    }\n",
       "\n",
       "    .dataframe tbody tr th {\n",
       "        vertical-align: top;\n",
       "    }\n",
       "\n",
       "    .dataframe thead th {\n",
       "        text-align: right;\n",
       "    }\n",
       "</style>\n",
       "<table border=\"1\" class=\"dataframe\">\n",
       "  <thead>\n",
       "    <tr style=\"text-align: right;\">\n",
       "      <th></th>\n",
       "      <th>word1</th>\n",
       "      <th>word2</th>\n",
       "      <th>label</th>\n",
       "      <th>emb_1_0</th>\n",
       "      <th>emb_1_1</th>\n",
       "      <th>emb_1_2</th>\n",
       "      <th>emb_1_3</th>\n",
       "      <th>emb_1_4</th>\n",
       "      <th>emb_1_5</th>\n",
       "      <th>emb_1_6</th>\n",
       "      <th>...</th>\n",
       "      <th>emb_2_291</th>\n",
       "      <th>emb_2_292</th>\n",
       "      <th>emb_2_293</th>\n",
       "      <th>emb_2_294</th>\n",
       "      <th>emb_2_295</th>\n",
       "      <th>emb_2_296</th>\n",
       "      <th>emb_2_297</th>\n",
       "      <th>emb_2_298</th>\n",
       "      <th>emb_2_299</th>\n",
       "      <th>lev_dist</th>\n",
       "    </tr>\n",
       "  </thead>\n",
       "  <tbody>\n",
       "    <tr>\n",
       "      <th>0</th>\n",
       "      <td>целый</td>\n",
       "      <td>цельный</td>\n",
       "      <td>1</td>\n",
       "      <td>-0.019124</td>\n",
       "      <td>0.034811</td>\n",
       "      <td>0.057754</td>\n",
       "      <td>0.119841</td>\n",
       "      <td>-0.034180</td>\n",
       "      <td>0.042868</td>\n",
       "      <td>0.015424</td>\n",
       "      <td>...</td>\n",
       "      <td>0.032209</td>\n",
       "      <td>0.014659</td>\n",
       "      <td>0.024586</td>\n",
       "      <td>-0.071244</td>\n",
       "      <td>-0.106860</td>\n",
       "      <td>0.002109</td>\n",
       "      <td>0.057067</td>\n",
       "      <td>-0.029967</td>\n",
       "      <td>0.069121</td>\n",
       "      <td>2</td>\n",
       "    </tr>\n",
       "    <tr>\n",
       "      <th>1</th>\n",
       "      <td>сравнимый</td>\n",
       "      <td>неорганичный</td>\n",
       "      <td>0</td>\n",
       "      <td>-0.043983</td>\n",
       "      <td>-0.009047</td>\n",
       "      <td>-0.063538</td>\n",
       "      <td>0.147805</td>\n",
       "      <td>-0.161587</td>\n",
       "      <td>0.027221</td>\n",
       "      <td>0.032012</td>\n",
       "      <td>...</td>\n",
       "      <td>-0.034892</td>\n",
       "      <td>0.018441</td>\n",
       "      <td>0.069707</td>\n",
       "      <td>-0.001893</td>\n",
       "      <td>-0.062972</td>\n",
       "      <td>0.145138</td>\n",
       "      <td>0.147791</td>\n",
       "      <td>-0.062155</td>\n",
       "      <td>0.080968</td>\n",
       "      <td>7</td>\n",
       "    </tr>\n",
       "    <tr>\n",
       "      <th>2</th>\n",
       "      <td>чубастый</td>\n",
       "      <td>завоевательный</td>\n",
       "      <td>0</td>\n",
       "      <td>-0.051917</td>\n",
       "      <td>0.044872</td>\n",
       "      <td>0.014789</td>\n",
       "      <td>0.002823</td>\n",
       "      <td>-0.002203</td>\n",
       "      <td>0.050730</td>\n",
       "      <td>0.031053</td>\n",
       "      <td>...</td>\n",
       "      <td>0.046212</td>\n",
       "      <td>-0.020866</td>\n",
       "      <td>-0.080959</td>\n",
       "      <td>-0.085725</td>\n",
       "      <td>-0.003354</td>\n",
       "      <td>0.015747</td>\n",
       "      <td>0.017519</td>\n",
       "      <td>-0.042495</td>\n",
       "      <td>0.167213</td>\n",
       "      <td>11</td>\n",
       "    </tr>\n",
       "    <tr>\n",
       "      <th>3</th>\n",
       "      <td>обидчивый</td>\n",
       "      <td>азарт</td>\n",
       "      <td>0</td>\n",
       "      <td>0.023674</td>\n",
       "      <td>0.052748</td>\n",
       "      <td>-0.034327</td>\n",
       "      <td>-0.031669</td>\n",
       "      <td>-0.014316</td>\n",
       "      <td>0.073295</td>\n",
       "      <td>-0.061295</td>\n",
       "      <td>...</td>\n",
       "      <td>-0.039973</td>\n",
       "      <td>-0.012380</td>\n",
       "      <td>-0.012538</td>\n",
       "      <td>-0.200660</td>\n",
       "      <td>-0.089638</td>\n",
       "      <td>-0.017675</td>\n",
       "      <td>0.042906</td>\n",
       "      <td>-0.012042</td>\n",
       "      <td>-0.019632</td>\n",
       "      <td>9</td>\n",
       "    </tr>\n",
       "    <tr>\n",
       "      <th>4</th>\n",
       "      <td>личностный</td>\n",
       "      <td>личный</td>\n",
       "      <td>1</td>\n",
       "      <td>-0.045874</td>\n",
       "      <td>-0.051794</td>\n",
       "      <td>-0.059747</td>\n",
       "      <td>0.019997</td>\n",
       "      <td>-0.075421</td>\n",
       "      <td>-0.042737</td>\n",
       "      <td>-0.057829</td>\n",
       "      <td>...</td>\n",
       "      <td>0.022120</td>\n",
       "      <td>-0.057636</td>\n",
       "      <td>0.027975</td>\n",
       "      <td>-0.042808</td>\n",
       "      <td>-0.101067</td>\n",
       "      <td>0.031723</td>\n",
       "      <td>0.043072</td>\n",
       "      <td>-0.031811</td>\n",
       "      <td>0.032527</td>\n",
       "      <td>4</td>\n",
       "    </tr>\n",
       "  </tbody>\n",
       "</table>\n",
       "<p>5 rows × 604 columns</p>\n",
       "</div>"
      ],
      "text/plain": [
       "        word1           word2  label   emb_1_0   emb_1_1   emb_1_2   emb_1_3  \\\n",
       "0       целый         цельный      1 -0.019124  0.034811  0.057754  0.119841   \n",
       "1   сравнимый    неорганичный      0 -0.043983 -0.009047 -0.063538  0.147805   \n",
       "2    чубастый  завоевательный      0 -0.051917  0.044872  0.014789  0.002823   \n",
       "3   обидчивый           азарт      0  0.023674  0.052748 -0.034327 -0.031669   \n",
       "4  личностный          личный      1 -0.045874 -0.051794 -0.059747  0.019997   \n",
       "\n",
       "    emb_1_4   emb_1_5   emb_1_6  ...  emb_2_291  emb_2_292  emb_2_293  \\\n",
       "0 -0.034180  0.042868  0.015424  ...   0.032209   0.014659   0.024586   \n",
       "1 -0.161587  0.027221  0.032012  ...  -0.034892   0.018441   0.069707   \n",
       "2 -0.002203  0.050730  0.031053  ...   0.046212  -0.020866  -0.080959   \n",
       "3 -0.014316  0.073295 -0.061295  ...  -0.039973  -0.012380  -0.012538   \n",
       "4 -0.075421 -0.042737 -0.057829  ...   0.022120  -0.057636   0.027975   \n",
       "\n",
       "   emb_2_294  emb_2_295  emb_2_296  emb_2_297  emb_2_298  emb_2_299  lev_dist  \n",
       "0  -0.071244  -0.106860   0.002109   0.057067  -0.029967   0.069121         2  \n",
       "1  -0.001893  -0.062972   0.145138   0.147791  -0.062155   0.080968         7  \n",
       "2  -0.085725  -0.003354   0.015747   0.017519  -0.042495   0.167213        11  \n",
       "3  -0.200660  -0.089638  -0.017675   0.042906  -0.012042  -0.019632         9  \n",
       "4  -0.042808  -0.101067   0.031723   0.043072  -0.031811   0.032527         4  \n",
       "\n",
       "[5 rows x 604 columns]"
      ]
     },
     "execution_count": 43,
     "metadata": {},
     "output_type": "execute_result"
    }
   ],
   "source": [
    "# add extra columns for embeddings \n",
    "for i in range(600):\n",
    "    data[f\"emb_{int(i > 299) + 1}_{i % 300}\"] = 0\n",
    "# add extra columns for Levenshtein distance\n",
    "data[\"lev_dist\"] = 0\n",
    "\n",
    "rows_to_drop = []\n",
    "\n",
    "# add embeddings to dataframe \n",
    "for i in range(len(data)):\n",
    "\n",
    "    # get embs for two words\n",
    "    word1 = data.word1[i]\n",
    "    word2 = data.word2[i]\n",
    "    emb1 = get_embedding(word1)\n",
    "    emb2 = get_embedding(word2)\n",
    "\n",
    "    if emb1 is not None and emb2 is not None:\n",
    "        # add embeddings\n",
    "        data.loc[i, \"emb_1_0\":\"emb_1_299\"] = emb1\n",
    "        data.loc[i, \"emb_2_0\":\"emb_2_299\"] = emb2\n",
    "        data.loc[i, \"lev_dist\"] = Levenshtein.distance(word1, word2)\n",
    "        # print(\"YES\", data.word1[i], data.word2[i])\n",
    "\n",
    "    else: \n",
    "        # delete words that are not in word2vec vocabulary\n",
    "        rows_to_drop.append(i)\n",
    "        # print(\"NO\", data.word1[i], data.word2[i])\n",
    "\n",
    "data = data.drop(rows_to_drop, axis=0).reset_index(drop=True)\n",
    "data.head()"
   ]
  },
  {
   "cell_type": "markdown",
   "metadata": {},
   "source": [
    "PCA сокращение размерности эмбедингов"
   ]
  },
  {
   "cell_type": "code",
   "execution_count": 44,
   "metadata": {},
   "outputs": [],
   "source": [
    "# fitting PCA\n",
    "def fit_pca(X, n):\n",
    "    pca = PCA(n_components=n)\n",
    "    pca.fit(X)\n",
    "    return pca\n",
    "\n",
    "# transform dataset to n_componets dimansion\n",
    "def reduce_dimension(pca, X):\n",
    "    X_transformed = pca.transform(X)\n",
    "    return X_transformed"
   ]
  },
  {
   "cell_type": "code",
   "execution_count": 45,
   "metadata": {},
   "outputs": [
    {
     "data": {
      "text/html": [
       "<div>\n",
       "<style scoped>\n",
       "    .dataframe tbody tr th:only-of-type {\n",
       "        vertical-align: middle;\n",
       "    }\n",
       "\n",
       "    .dataframe tbody tr th {\n",
       "        vertical-align: top;\n",
       "    }\n",
       "\n",
       "    .dataframe thead th {\n",
       "        text-align: right;\n",
       "    }\n",
       "</style>\n",
       "<table border=\"1\" class=\"dataframe\">\n",
       "  <thead>\n",
       "    <tr style=\"text-align: right;\">\n",
       "      <th></th>\n",
       "      <th>emb_1_0</th>\n",
       "      <th>emb_1_1</th>\n",
       "      <th>emb_1_2</th>\n",
       "      <th>emb_1_3</th>\n",
       "      <th>emb_1_4</th>\n",
       "      <th>emb_1_5</th>\n",
       "      <th>emb_1_6</th>\n",
       "      <th>emb_1_7</th>\n",
       "      <th>emb_1_8</th>\n",
       "      <th>emb_1_9</th>\n",
       "      <th>...</th>\n",
       "      <th>emb_2_141</th>\n",
       "      <th>emb_2_142</th>\n",
       "      <th>emb_2_143</th>\n",
       "      <th>emb_2_144</th>\n",
       "      <th>emb_2_145</th>\n",
       "      <th>emb_2_146</th>\n",
       "      <th>emb_2_147</th>\n",
       "      <th>emb_2_148</th>\n",
       "      <th>emb_2_149</th>\n",
       "      <th>lev_dist</th>\n",
       "    </tr>\n",
       "  </thead>\n",
       "  <tbody>\n",
       "    <tr>\n",
       "      <th>0</th>\n",
       "      <td>0.092990</td>\n",
       "      <td>0.064130</td>\n",
       "      <td>-0.009231</td>\n",
       "      <td>-0.117479</td>\n",
       "      <td>0.119545</td>\n",
       "      <td>-0.012407</td>\n",
       "      <td>0.001264</td>\n",
       "      <td>0.036714</td>\n",
       "      <td>0.056218</td>\n",
       "      <td>0.036384</td>\n",
       "      <td>...</td>\n",
       "      <td>-0.072087</td>\n",
       "      <td>0.020544</td>\n",
       "      <td>0.041291</td>\n",
       "      <td>-0.077435</td>\n",
       "      <td>0.038752</td>\n",
       "      <td>0.041498</td>\n",
       "      <td>0.007592</td>\n",
       "      <td>0.055041</td>\n",
       "      <td>-0.094560</td>\n",
       "      <td>2</td>\n",
       "    </tr>\n",
       "    <tr>\n",
       "      <th>1</th>\n",
       "      <td>-0.073190</td>\n",
       "      <td>0.121473</td>\n",
       "      <td>0.159301</td>\n",
       "      <td>-0.092435</td>\n",
       "      <td>-0.064992</td>\n",
       "      <td>0.211331</td>\n",
       "      <td>0.043879</td>\n",
       "      <td>-0.079572</td>\n",
       "      <td>0.139459</td>\n",
       "      <td>-0.007553</td>\n",
       "      <td>...</td>\n",
       "      <td>0.014128</td>\n",
       "      <td>0.098955</td>\n",
       "      <td>0.021599</td>\n",
       "      <td>0.051505</td>\n",
       "      <td>-0.001884</td>\n",
       "      <td>-0.016333</td>\n",
       "      <td>-0.019680</td>\n",
       "      <td>-0.022340</td>\n",
       "      <td>0.021022</td>\n",
       "      <td>7</td>\n",
       "    </tr>\n",
       "    <tr>\n",
       "      <th>2</th>\n",
       "      <td>0.404789</td>\n",
       "      <td>-0.048654</td>\n",
       "      <td>-0.008222</td>\n",
       "      <td>-0.030356</td>\n",
       "      <td>-0.002150</td>\n",
       "      <td>0.115743</td>\n",
       "      <td>-0.036572</td>\n",
       "      <td>0.107034</td>\n",
       "      <td>-0.181174</td>\n",
       "      <td>-0.009338</td>\n",
       "      <td>...</td>\n",
       "      <td>-0.098837</td>\n",
       "      <td>0.005145</td>\n",
       "      <td>0.044354</td>\n",
       "      <td>-0.159332</td>\n",
       "      <td>0.077749</td>\n",
       "      <td>0.046667</td>\n",
       "      <td>-0.036997</td>\n",
       "      <td>-0.061882</td>\n",
       "      <td>0.011439</td>\n",
       "      <td>11</td>\n",
       "    </tr>\n",
       "    <tr>\n",
       "      <th>3</th>\n",
       "      <td>0.093875</td>\n",
       "      <td>-0.295198</td>\n",
       "      <td>-0.023503</td>\n",
       "      <td>0.178027</td>\n",
       "      <td>-0.329819</td>\n",
       "      <td>-0.137434</td>\n",
       "      <td>0.063094</td>\n",
       "      <td>-0.033617</td>\n",
       "      <td>-0.093357</td>\n",
       "      <td>-0.018627</td>\n",
       "      <td>...</td>\n",
       "      <td>0.002138</td>\n",
       "      <td>0.093663</td>\n",
       "      <td>0.010117</td>\n",
       "      <td>0.018486</td>\n",
       "      <td>-0.068007</td>\n",
       "      <td>-0.012633</td>\n",
       "      <td>0.117771</td>\n",
       "      <td>0.049751</td>\n",
       "      <td>0.052136</td>\n",
       "      <td>9</td>\n",
       "    </tr>\n",
       "    <tr>\n",
       "      <th>4</th>\n",
       "      <td>-0.438857</td>\n",
       "      <td>-0.025888</td>\n",
       "      <td>0.076917</td>\n",
       "      <td>-0.048276</td>\n",
       "      <td>-0.095659</td>\n",
       "      <td>-0.114352</td>\n",
       "      <td>-0.050331</td>\n",
       "      <td>-0.016788</td>\n",
       "      <td>0.099322</td>\n",
       "      <td>-0.067099</td>\n",
       "      <td>...</td>\n",
       "      <td>-0.033084</td>\n",
       "      <td>-0.005327</td>\n",
       "      <td>-0.035535</td>\n",
       "      <td>-0.048226</td>\n",
       "      <td>-0.043876</td>\n",
       "      <td>0.042905</td>\n",
       "      <td>0.096921</td>\n",
       "      <td>0.021169</td>\n",
       "      <td>-0.005020</td>\n",
       "      <td>4</td>\n",
       "    </tr>\n",
       "  </tbody>\n",
       "</table>\n",
       "<p>5 rows × 301 columns</p>\n",
       "</div>"
      ],
      "text/plain": [
       "    emb_1_0   emb_1_1   emb_1_2   emb_1_3   emb_1_4   emb_1_5   emb_1_6  \\\n",
       "0  0.092990  0.064130 -0.009231 -0.117479  0.119545 -0.012407  0.001264   \n",
       "1 -0.073190  0.121473  0.159301 -0.092435 -0.064992  0.211331  0.043879   \n",
       "2  0.404789 -0.048654 -0.008222 -0.030356 -0.002150  0.115743 -0.036572   \n",
       "3  0.093875 -0.295198 -0.023503  0.178027 -0.329819 -0.137434  0.063094   \n",
       "4 -0.438857 -0.025888  0.076917 -0.048276 -0.095659 -0.114352 -0.050331   \n",
       "\n",
       "    emb_1_7   emb_1_8   emb_1_9  ...  emb_2_141  emb_2_142  emb_2_143  \\\n",
       "0  0.036714  0.056218  0.036384  ...  -0.072087   0.020544   0.041291   \n",
       "1 -0.079572  0.139459 -0.007553  ...   0.014128   0.098955   0.021599   \n",
       "2  0.107034 -0.181174 -0.009338  ...  -0.098837   0.005145   0.044354   \n",
       "3 -0.033617 -0.093357 -0.018627  ...   0.002138   0.093663   0.010117   \n",
       "4 -0.016788  0.099322 -0.067099  ...  -0.033084  -0.005327  -0.035535   \n",
       "\n",
       "   emb_2_144  emb_2_145  emb_2_146  emb_2_147  emb_2_148  emb_2_149  lev_dist  \n",
       "0  -0.077435   0.038752   0.041498   0.007592   0.055041  -0.094560         2  \n",
       "1   0.051505  -0.001884  -0.016333  -0.019680  -0.022340   0.021022         7  \n",
       "2  -0.159332   0.077749   0.046667  -0.036997  -0.061882   0.011439        11  \n",
       "3   0.018486  -0.068007  -0.012633   0.117771   0.049751   0.052136         9  \n",
       "4  -0.048226  -0.043876   0.042905   0.096921   0.021169  -0.005020         4  \n",
       "\n",
       "[5 rows x 301 columns]"
      ]
     },
     "execution_count": 45,
     "metadata": {},
     "output_type": "execute_result"
    }
   ],
   "source": [
    "X = data.drop([\"word1\", \"word2\", \"label\"], axis=1)\n",
    "y = data[\"label\"]\n",
    "\n",
    "pca_n_components = config[\"pca_n_components\"]\n",
    "\n",
    "# fit PCA\n",
    "pca = fit_pca(pd.concat([X.loc[:, \"emb_1_0\":\"emb_1_299\"], X.loc[:, \"emb_2_0\":\"emb_2_299\"].rename(columns={f\"emb_2_{i}\":f\"emb_1_{i}\" for i in range(300)}) ], ignore_index=True), pca_n_components)\n",
    "\n",
    "# reduce dimensuon with PCA\n",
    "X.loc[:, \"emb_1_0\":f\"emb_1_{pca_n_components-1}\"] = reduce_dimension(pca, X.loc[:, \"emb_1_0\":\"emb_1_299\"])\n",
    "X.loc[:, f\"emb_2_0\":f\"emb_2_{pca_n_components-1}\"] = reduce_dimension(pca, X.loc[:, \"emb_2_0\":\"emb_2_299\"].rename(columns={f\"emb_2_{i}\":f\"emb_1_{i}\" for i in range(300)}))\n",
    "\n",
    "# drop extra columns of embedding\n",
    "X = X.drop(list(X.columns[pca_n_components:300]) + list(X.columns[300+pca_n_components:-1]), axis=1)\n",
    "X.head()"
   ]
  },
  {
   "cell_type": "code",
   "execution_count": 46,
   "metadata": {},
   "outputs": [
    {
     "data": {
      "text/plain": [
       "0.8156886957892756"
      ]
     },
     "execution_count": 46,
     "metadata": {},
     "output_type": "execute_result"
    }
   ],
   "source": [
    "# PCA explained variance \n",
    "np.sum(pca.explained_variance_ratio_)"
   ]
  },
  {
   "cell_type": "markdown",
   "metadata": {},
   "source": [
    "Feature ingineering "
   ]
  },
  {
   "attachments": {
    "image.png": {
     "image/png": "[encoded data removed]"
    }
   },
   "cell_type": "markdown",
   "metadata": {},
   "source": [
    "![image.png](attachment:image.png)\n",
    "\n",
    "На одном из прогонов модели после вывода слов, в которых модель ошиблась, я заметил что модель часто допускает ошибку первого рода (ложноположительные объекты). Хотя по словам, в которых модель ошиблась, легко понять что они не паронимы, тк между ними большое расстояние Левенштейна. Возможно, модель не обращает достаточного внимания на слова с большим расстоянием Левенштейна, поэтому введем два новых признака\n",
    "\n",
    " - квадрат расстояния Левенштейна\n",
    " - процент добавленных символов (расстояние Левенштейна, деленое на максимальную длину слова)"
   ]
  },
  {
   "cell_type": "code",
   "execution_count": 90,
   "metadata": {},
   "outputs": [],
   "source": [
    "X[\"lev_dist_2\"] = X.lev_dist**2\n",
    "for i in range(len(data.word1)):\n",
    "    X[\"lev_dist_%\"][i] = X.lev_dist[i] / max(len(data.word1[i]), len(data.word2[i]))"
   ]
  },
  {
   "cell_type": "code",
   "execution_count": 91,
   "metadata": {},
   "outputs": [],
   "source": [
    "X_train, X_test, y_train, y_test = train_test_split(X, y, test_size=0.2, random_state=42)"
   ]
  },
  {
   "cell_type": "markdown",
   "metadata": {},
   "source": [
    "Катбуст"
   ]
  },
  {
   "cell_type": "code",
   "execution_count": 102,
   "metadata": {},
   "outputs": [
    {
     "data": {
      "text/html": [
       "Tracking run with wandb version 0.16.5"
      ],
      "text/plain": [
       "<IPython.core.display.HTML object>"
      ]
     },
     "metadata": {},
     "output_type": "display_data"
    },
    {
     "data": {
      "text/html": [
       "Run data is saved locally in <code>c:\\Users\\pasin\\DS\\Доп\\generation_of_paronyms\\wandb\\run-20240401_095945-g1sp8dix</code>"
      ],
      "text/plain": [
       "<IPython.core.display.HTML object>"
      ]
     },
     "metadata": {},
     "output_type": "display_data"
    },
    {
     "data": {
      "text/html": [
       "Syncing run <strong><a href='https://wandb.ai/paronyms/paronyms/runs/g1sp8dix/workspace' target=\"_blank\">earnest-jazz-23</a></strong> to <a href='https://wandb.ai/paronyms/paronyms' target=\"_blank\">Weights & Biases</a> (<a href='https://wandb.me/run' target=\"_blank\">docs</a>)<br/>"
      ],
      "text/plain": [
       "<IPython.core.display.HTML object>"
      ]
     },
     "metadata": {},
     "output_type": "display_data"
    },
    {
     "data": {
      "text/html": [
       " View project at <a href='https://wandb.ai/paronyms/paronyms' target=\"_blank\">https://wandb.ai/paronyms/paronyms</a>"
      ],
      "text/plain": [
       "<IPython.core.display.HTML object>"
      ]
     },
     "metadata": {},
     "output_type": "display_data"
    },
    {
     "data": {
      "text/html": [
       " View run at <a href='https://wandb.ai/paronyms/paronyms/runs/g1sp8dix/workspace' target=\"_blank\">https://wandb.ai/paronyms/paronyms/runs/g1sp8dix/workspace</a>"
      ],
      "text/plain": [
       "<IPython.core.display.HTML object>"
      ]
     },
     "metadata": {},
     "output_type": "display_data"
    }
   ],
   "source": [
    "if config[\"logging\"]:\n",
    "    wandb.init(project=\"paronyms\", tags=[\"cat\", \"with dist 2\", \"with dist %\"])"
   ]
  },
  {
   "cell_type": "code",
   "execution_count": 100,
   "metadata": {},
   "outputs": [
    {
     "name": "stderr",
     "output_type": "stream",
     "text": [
      "[I 2024-04-01 09:44:02,374] A new study created in memory with name: no-name-bb8cdc75-ac97-438a-86fc-0ed2011d5f48\n",
      "[I 2024-04-01 09:45:13,930] Trial 0 finished with value: 0.02717391304347826 and parameters: {'learning_rate': 0.011289064280955217, 'depth': 7, 'l2_leaf_reg': 0.5808384667318421, 'bagging_temperature': 0.09136846123232852}. Best is trial 0 with value: 0.02717391304347826.\n",
      "[I 2024-04-01 09:45:35,370] Trial 1 finished with value: 0.02717391304347826 and parameters: {'learning_rate': 0.0711259116146116, 'depth': 5, 'l2_leaf_reg': 3.291132524265386, 'bagging_temperature': 0.023946042448303208}. Best is trial 0 with value: 0.02717391304347826.\n",
      "[I 2024-04-01 09:47:36,660] Trial 2 finished with value: 0.02717391304347826 and parameters: {'learning_rate': 0.04708792544510957, 'depth': 8, 'l2_leaf_reg': 6.291369626251349, 'bagging_temperature': 0.05083907193716005}. Best is trial 0 with value: 0.02717391304347826.\n",
      "[I 2024-04-01 09:48:41,783] Trial 3 finished with value: 0.03260869565217391 and parameters: {'learning_rate': 0.08965213018573027, 'depth': 7, 'l2_leaf_reg': 0.18063517602959128, 'bagging_temperature': 0.28411198602391624}. Best is trial 0 with value: 0.02717391304347826.\n",
      "[I 2024-04-01 09:49:48,307] Trial 4 finished with value: 0.03260869565217391 and parameters: {'learning_rate': 0.0541523231312537, 'depth': 7, 'l2_leaf_reg': 1.1906183423513619, 'bagging_temperature': 0.4295595591196398}. Best is trial 0 with value: 0.02717391304347826.\n",
      "[I 2024-04-01 09:50:56,740] Trial 5 finished with value: 0.029891304347826088 and parameters: {'learning_rate': 0.01529594051440853, 'depth': 7, 'l2_leaf_reg': 4.2363909217365805, 'bagging_temperature': 0.03888178222438821}. Best is trial 0 with value: 0.02717391304347826.\n",
      "[I 2024-04-01 09:54:58,650] Trial 6 finished with value: 0.029891304347826088 and parameters: {'learning_rate': 0.010449566775709242, 'depth': 9, 'l2_leaf_reg': 0.847073690809531, 'bagging_temperature': 0.010940432683247792}. Best is trial 0 with value: 0.02717391304347826.\n",
      "[I 2024-04-01 09:55:21,608] Trial 7 finished with value: 0.03260869565217391 and parameters: {'learning_rate': 0.08080867951026113, 'depth': 5, 'l2_leaf_reg': 3.5152576285191475, 'bagging_temperature': 0.02231550661766278}. Best is trial 0 with value: 0.02717391304347826.\n",
      "[I 2024-04-01 09:57:26,447] Trial 8 finished with value: 0.02717391304347826 and parameters: {'learning_rate': 0.011657224268676235, 'depth': 8, 'l2_leaf_reg': 1.1153957810829407, 'bagging_temperature': 0.03095725310917284}. Best is trial 0 with value: 0.02717391304347826.\n",
      "[I 2024-04-01 09:57:41,291] Trial 9 finished with value: 0.029891304347826088 and parameters: {'learning_rate': 0.02893366349572022, 'depth': 4, 'l2_leaf_reg': 5.6359131178048125, 'bagging_temperature': 0.011950627336142473}. Best is trial 0 with value: 0.02717391304347826.\n"
     ]
    },
    {
     "name": "stdout",
     "output_type": "stream",
     "text": [
      "Best Parameters: {'learning_rate': 0.011289064280955217, 'depth': 7, 'l2_leaf_reg': 0.5808384667318421, 'bagging_temperature': 0.09136846123232852}\n",
      "Best MAE: 0.02717391304347826\n"
     ]
    }
   ],
   "source": [
    "def objective(trial):\n",
    "    params = {\n",
    "        'learning_rate': trial.suggest_loguniform('learning_rate', 0.01, 0.1),\n",
    "        'depth': trial.suggest_int('depth', 4, 10),\n",
    "        'l2_leaf_reg': trial.suggest_loguniform('l2_leaf_reg', 0.1, 10.0),\n",
    "        'bagging_temperature': trial.suggest_loguniform('bagging_temperature', 0.01, 1.0)\n",
    "    }\n",
    "\n",
    "    model = CatBoostClassifier(verbose=0, **params)\n",
    "    model.fit(X_train, y_train)\n",
    "    predictions = model.predict(X_test)\n",
    "    mae = mean_absolute_error(y_test, predictions)\n",
    "\n",
    "    return mae\n",
    "\n",
    "study = optuna.create_study(direction='minimize')\n",
    "study.optimize(objective, n_trials=cat[\"n_trials\"])\n",
    "\n",
    "best_params = study.best_params\n",
    "cat_model = CatBoostClassifier(verbose=0, **best_params)\n",
    "cat_model.fit(X_train, y_train)\n",
    "best_predictions = cat_model.predict(X_test)\n",
    "best_mae = mean_absolute_error(y_test, best_predictions)\n",
    "predictions = cat_model.predict_proba(X_test)\n",
    "\n",
    "print('Best Parameters:', best_params)\n",
    "print('Best MAE:', best_mae)"
   ]
  },
  {
   "cell_type": "code",
   "execution_count": 117,
   "metadata": {},
   "outputs": [
    {
     "name": "stdout",
     "output_type": "stream",
     "text": [
      "MAE: 0.03790278159167942  Accuracy: 0.9728260869565217\n"
     ]
    },
    {
     "ename": "Error",
     "evalue": "You must call wandb.init() before wandb.log()",
     "output_type": "error",
     "traceback": [
      "\u001b[1;31m---------------------------------------------------------------------------\u001b[0m",
      "\u001b[1;31mError\u001b[0m                                     Traceback (most recent call last)",
      "Cell \u001b[1;32mIn[117], line 8\u001b[0m\n\u001b[0;32m      5\u001b[0m \u001b[38;5;28mprint\u001b[39m(\u001b[38;5;124m'\u001b[39m\u001b[38;5;124mMAE:\u001b[39m\u001b[38;5;124m'\u001b[39m, mae, \u001b[38;5;124m'\u001b[39m\u001b[38;5;124m Accuracy:\u001b[39m\u001b[38;5;124m'\u001b[39m, acc)\n\u001b[0;32m      7\u001b[0m \u001b[38;5;28;01mif\u001b[39;00m config[\u001b[38;5;124m\"\u001b[39m\u001b[38;5;124mlogging\u001b[39m\u001b[38;5;124m\"\u001b[39m]:\n\u001b[1;32m----> 8\u001b[0m     \u001b[43mwandb\u001b[49m\u001b[38;5;241;43m.\u001b[39;49m\u001b[43mlog\u001b[49m\u001b[43m(\u001b[49m\u001b[43m{\u001b[49m\u001b[38;5;124;43m'\u001b[39;49m\u001b[38;5;124;43mMAE\u001b[39;49m\u001b[38;5;124;43m'\u001b[39;49m\u001b[43m:\u001b[49m\u001b[43m \u001b[49m\u001b[43mmae\u001b[49m\u001b[43m,\u001b[49m\u001b[43m \u001b[49m\u001b[38;5;124;43m'\u001b[39;49m\u001b[38;5;124;43mAccuracy\u001b[39;49m\u001b[38;5;124;43m'\u001b[39;49m\u001b[43m:\u001b[49m\u001b[43m \u001b[49m\u001b[43macc\u001b[49m\u001b[43m,\u001b[49m\u001b[43m \u001b[49m\u001b[38;5;124;43m\"\u001b[39;49m\u001b[38;5;124;43mparams\u001b[39;49m\u001b[38;5;124;43m\"\u001b[39;49m\u001b[43m:\u001b[49m\u001b[43m \u001b[49m\u001b[43mbest_params\u001b[49m\u001b[38;5;241;43m.\u001b[39;49m\u001b[43mupdate\u001b[49m\u001b[43m(\u001b[49m\u001b[43m{\u001b[49m\u001b[38;5;124;43m\"\u001b[39;49m\u001b[38;5;124;43mpca_comp\u001b[39;49m\u001b[38;5;124;43m\"\u001b[39;49m\u001b[43m:\u001b[49m\u001b[43m \u001b[49m\u001b[43mconfig\u001b[49m\u001b[43m[\u001b[49m\u001b[38;5;124;43m\"\u001b[39;49m\u001b[38;5;124;43mpca_n_components\u001b[39;49m\u001b[38;5;124;43m\"\u001b[39;49m\u001b[43m]\u001b[49m\u001b[43m}\u001b[49m\u001b[43m)\u001b[49m\u001b[43m}\u001b[49m\u001b[43m)\u001b[49m\n\u001b[0;32m      9\u001b[0m     wandb\u001b[38;5;241m.\u001b[39mfinish()\n",
      "File \u001b[1;32mc:\\Users\\pasin\\DS\\Доп\\generation_of_paronyms\\venv\\lib\\site-packages\\wandb\\sdk\\lib\\preinit.py:36\u001b[0m, in \u001b[0;36mPreInitCallable.<locals>.preinit_wrapper\u001b[1;34m(*args, **kwargs)\u001b[0m\n\u001b[0;32m     35\u001b[0m \u001b[38;5;28;01mdef\u001b[39;00m \u001b[38;5;21mpreinit_wrapper\u001b[39m(\u001b[38;5;241m*\u001b[39margs: Any, \u001b[38;5;241m*\u001b[39m\u001b[38;5;241m*\u001b[39mkwargs: Any) \u001b[38;5;241m-\u001b[39m\u001b[38;5;241m>\u001b[39m Any:\n\u001b[1;32m---> 36\u001b[0m     \u001b[38;5;28;01mraise\u001b[39;00m wandb\u001b[38;5;241m.\u001b[39mError(\u001b[38;5;124mf\u001b[39m\u001b[38;5;124m\"\u001b[39m\u001b[38;5;124mYou must call wandb.init() before \u001b[39m\u001b[38;5;132;01m{\u001b[39;00mname\u001b[38;5;132;01m}\u001b[39;00m\u001b[38;5;124m()\u001b[39m\u001b[38;5;124m\"\u001b[39m)\n",
      "\u001b[1;31mError\u001b[0m: You must call wandb.init() before wandb.log()"
     ]
    }
   ],
   "source": [
    "treshold = cat[\"treshold\"]\n",
    "\n",
    "mae = mean_absolute_error(y_test, predictions[:, 1])\n",
    "acc = accuracy_score(y_test, [1 if prob > treshold else 0 for prob in predictions[:, 1]])\n",
    "print('MAE:', mae, ' Accuracy:', acc)\n",
    "\n",
    "if config[\"logging\"]:\n",
    "    wandb.log({'MAE': mae, 'Accuracy': acc, \"params\": best_params.update({\"pca_comp\": config[\"pca_n_components\"]})})\n",
    "    wandb.finish()"
   ]
  },
  {
   "cell_type": "code",
   "execution_count": 114,
   "metadata": {},
   "outputs": [
    {
     "name": "stdout",
     "output_type": "stream",
     "text": [
      "               word1           word2  label\n",
      "1347       этический         близкий      0\n",
      "923   притягательный   покупательный      0\n",
      "111       городничий         горячий      0\n",
      "548        иноверный  единоверческий      0\n",
      "1466      заботливый         рабочий      0\n",
      "1735       заводской       складской      0\n",
      "694     почтительный    добровольный      0\n",
      "940   реалистический     токсический      0\n",
      "367        житейский       жизненный      1\n",
      "530     произнесение       отрешение      0\n"
     ]
    }
   ],
   "source": [
    "# слова в которых модель ошиблась\n",
    "errors = y_test != [1 if prob > treshold else 0 for prob in predictions[:, 1]]\n",
    "words_with_errors = data.iloc[errors[errors==True].index]\n",
    "print(words_with_errors[[\"word1\", \"word2\", \"label\"]])"
   ]
  },
  {
   "cell_type": "code",
   "execution_count": 115,
   "metadata": {},
   "outputs": [
    {
     "name": "stdout",
     "output_type": "stream",
     "text": [
      "emb_1_0: 0.4372757290222944\n",
      "emb_1_1: 0.3255596594177597\n",
      "emb_1_2: 0.1866044434246394\n",
      "emb_1_3: 0.13936326563520188\n",
      "emb_1_4: 0.7375665764337797\n",
      "emb_1_5: 0.1977473412291883\n",
      "emb_1_6: 0.14999922948612013\n",
      "emb_1_7: 0.1723810961595464\n",
      "emb_1_8: 0.0881212272816078\n",
      "emb_1_9: 0.04465215208467696\n",
      "emb_1_10: 0.1254059176255497\n",
      "emb_1_11: 0.14655714149090776\n",
      "emb_1_12: 0.10642741379645172\n",
      "emb_1_13: 1.1909073484087476\n",
      "emb_1_14: 0.12583622119329108\n",
      "emb_1_15: 0.24860798883112947\n",
      "emb_1_16: 0.20523954688085705\n",
      "emb_1_17: 0.11056476140702183\n",
      "emb_1_18: 0.12947231632264705\n",
      "emb_1_19: 0.14486359455490774\n",
      "emb_1_20: 0.14602138952313612\n",
      "emb_1_21: 0.26524105750216814\n",
      "emb_1_22: 0.11536571866101464\n",
      "emb_1_23: 0.10428602690891256\n",
      "emb_1_24: 0.08603929018011269\n",
      "emb_1_25: 0.0996424542794415\n",
      "emb_1_26: 0.3499598190820684\n",
      "emb_1_27: 0.14300807084252343\n",
      "emb_1_28: 0.2069457850750188\n",
      "emb_1_29: 0.08506189564949487\n",
      "emb_1_30: 0.2590329222664263\n",
      "emb_1_31: 0.23912498367790855\n",
      "emb_1_32: 0.25179343858885433\n",
      "emb_1_33: 0.05495356586574669\n",
      "emb_1_34: 0.2579954604317272\n",
      "emb_1_35: 0.21097079473073013\n",
      "emb_1_36: 0.20180816636839718\n",
      "emb_1_37: 0.37460188678270745\n",
      "emb_1_38: 0.054647221795379335\n",
      "emb_1_39: 0.0762137062106076\n",
      "emb_1_40: 0.31309736786887155\n",
      "emb_1_41: 0.14625479682099124\n",
      "emb_1_42: 0.2564208786375472\n",
      "emb_1_43: 0.20329502364229748\n",
      "emb_1_44: 0.1568471878363331\n",
      "emb_1_45: 0.21779595431536763\n",
      "emb_1_46: 0.21221399221821305\n",
      "emb_1_47: 0.03587900738864027\n",
      "emb_1_48: 0.1606649452615647\n",
      "emb_1_49: 0.291106354480988\n",
      "emb_1_50: 0.13562585853193287\n",
      "emb_1_51: 0.12397496021437336\n",
      "emb_1_52: 0.1739064070762115\n",
      "emb_1_53: 0.10115007856375739\n",
      "emb_1_54: 0.23746700801721465\n",
      "emb_1_55: 0.1060553650224795\n",
      "emb_1_56: 0.12950922277754806\n",
      "emb_1_57: 0.22162319869627584\n",
      "emb_1_58: 0.17665204530420273\n",
      "emb_1_59: 0.040518865185596165\n",
      "emb_1_60: 0.20401740581389533\n",
      "emb_1_61: 0.14586662387612223\n",
      "emb_1_62: 0.1365003458480388\n",
      "emb_1_63: 0.12674097948128443\n",
      "emb_1_64: 0.10471842022361517\n",
      "emb_1_65: 0.17732878879163383\n",
      "emb_1_66: 0.24973311964662276\n",
      "emb_1_67: 0.08836777346020876\n",
      "emb_1_68: 0.2350566774427918\n",
      "emb_1_69: 0.3484564424569591\n",
      "emb_1_70: 0.1283817390058562\n",
      "emb_1_71: 0.15124981756489572\n",
      "emb_1_72: 0.1303952900894849\n",
      "emb_1_73: 0.3215737283584132\n",
      "emb_1_74: 0.2898397491957168\n",
      "emb_1_75: 0.011991016691082847\n",
      "emb_1_76: 0.25180272357848166\n",
      "emb_1_77: 0.1562900205949658\n",
      "emb_1_78: 0.13509317172879323\n",
      "emb_1_79: 0.3297706844073867\n",
      "emb_1_80: 0.062255279861222826\n",
      "emb_1_81: 0.03282402672496033\n",
      "emb_1_82: 0.06080073792929602\n",
      "emb_1_83: 0.14971135526643595\n",
      "emb_1_84: 0.22529371944422388\n",
      "emb_1_85: 0.1718741944875112\n",
      "emb_1_86: 0.03230976094692865\n",
      "emb_1_87: 0.18869718658516982\n",
      "emb_1_88: 0.06163668786583924\n",
      "emb_1_89: 0.2144105707413542\n",
      "emb_1_90: 0.04199922396809911\n",
      "emb_1_91: 0.18074332019804332\n",
      "emb_1_92: 0.34801680493355924\n",
      "emb_1_93: 0.3396949175824832\n",
      "emb_1_94: 0.11251126993947988\n",
      "emb_1_95: 0.02855473355753239\n",
      "emb_1_96: 0.16964278164910468\n",
      "emb_1_97: 0.22757334915959213\n",
      "emb_1_98: 0.14252357536175708\n",
      "emb_1_99: 0.028447712604782006\n",
      "emb_1_100: 0.13626867746178778\n",
      "emb_1_101: 0.17569349926089986\n",
      "emb_1_102: 0.09578549912497501\n",
      "emb_1_103: 0.2916180411032562\n",
      "emb_1_104: 0.13754041148380378\n",
      "emb_1_105: 0.12963718330544022\n",
      "emb_1_106: 0.13246165577378366\n",
      "emb_1_107: 0.09582160405885064\n",
      "emb_1_108: 0.14549814712283368\n",
      "emb_1_109: 0.055791522149502074\n",
      "emb_1_110: 0.09770026346029803\n",
      "emb_1_111: 0.10205351138165039\n",
      "emb_1_112: 0.06171908545840464\n",
      "emb_1_113: 0.16624182219484918\n",
      "emb_1_114: 0.2241238088424526\n",
      "emb_1_115: 0.17215355979654035\n",
      "emb_1_116: 0.11194513500333685\n",
      "emb_1_117: 0.15314639962345225\n",
      "emb_1_118: 0.07102269737438235\n",
      "emb_1_119: 0.29367599167529235\n",
      "emb_1_120: 0.11698237005008333\n",
      "emb_1_121: 0.14721650635482117\n",
      "emb_1_122: 0.09497445721008435\n",
      "emb_1_123: 0.06520298743385514\n",
      "emb_1_124: 0.11616524157416502\n",
      "emb_1_125: 0.24096185153257882\n",
      "emb_1_126: 0.19606124045904222\n",
      "emb_1_127: 0.2390063760051815\n",
      "emb_1_128: 0.1273896520178681\n",
      "emb_1_129: 0.06494314459151376\n",
      "emb_1_130: 0.12732268575692077\n",
      "emb_1_131: 0.15955186925712003\n",
      "emb_1_132: 0.11172446427061986\n",
      "emb_1_133: 0.0451288185682403\n",
      "emb_1_134: 0.2685800355774564\n",
      "emb_1_135: 0.2797340303568806\n",
      "emb_1_136: 0.10981876713281023\n",
      "emb_1_137: 0.2447517766526481\n",
      "emb_1_138: 0.22894788389820375\n",
      "emb_1_139: 0.13742609335292993\n",
      "emb_1_140: 0.1291589802850765\n",
      "emb_1_141: 0.04541671545370388\n",
      "emb_1_142: 0.026110694213518696\n",
      "emb_1_143: 0.178851706065291\n",
      "emb_1_144: 0.10028941374752319\n",
      "emb_1_145: 0.22970059528805659\n",
      "emb_1_146: 0.11322485755154081\n",
      "emb_1_147: 0.09926682318349299\n",
      "emb_1_148: 0.10965799266732897\n",
      "emb_1_149: 0.025472137481213266\n",
      "emb_2_0: 0.2848056292147896\n",
      "emb_2_1: 0.2320501363609069\n",
      "emb_2_2: 0.2856917945925519\n",
      "emb_2_3: 0.2767674111563692\n",
      "emb_2_4: 0.0879541398192598\n",
      "emb_2_5: 0.279202171193549\n",
      "emb_2_6: 0.1305183130831824\n",
      "emb_2_7: 0.19211415781153915\n",
      "emb_2_8: 0.17230411033866605\n",
      "emb_2_9: 0.20614656341077822\n",
      "emb_2_10: 0.15740916999375573\n",
      "emb_2_11: 0.05598135879789631\n",
      "emb_2_12: 0.07016431175186931\n",
      "emb_2_13: 0.4134995515481131\n",
      "emb_2_14: 0.24673389431628265\n",
      "emb_2_15: 0.09156064772076405\n",
      "emb_2_16: 0.06790201383332706\n",
      "emb_2_17: 0.13631121216318898\n",
      "emb_2_18: 0.22109146236111074\n",
      "emb_2_19: 0.07669994159414356\n",
      "emb_2_20: 0.1389068580673029\n",
      "emb_2_21: 0.08718675214879398\n",
      "emb_2_22: 0.167993881853004\n",
      "emb_2_23: 0.15065509842349334\n",
      "emb_2_24: 0.084216022528858\n",
      "emb_2_25: 0.3034781950093115\n",
      "emb_2_26: 0.2089865385881416\n",
      "emb_2_27: 0.22779324329806439\n",
      "emb_2_28: 0.06779655298752327\n",
      "emb_2_29: 0.24858968542515858\n",
      "emb_2_30: 0.186306865463218\n",
      "emb_2_31: 0.4507993699059973\n",
      "emb_2_32: 0.036982404310106354\n",
      "emb_2_33: 0.16985638784267162\n",
      "emb_2_34: 0.19824903536530272\n",
      "emb_2_35: 0.07482164941890442\n",
      "emb_2_36: 0.1927782568801771\n",
      "emb_2_37: 0.14163215282236644\n",
      "emb_2_38: 0.24945643925918604\n",
      "emb_2_39: 0.3379274479466017\n",
      "emb_2_40: 0.11230389161194539\n",
      "emb_2_41: 0.16992245055428035\n",
      "emb_2_42: 0.12095288740529907\n",
      "emb_2_43: 0.2802992653365093\n",
      "emb_2_44: 0.1529428569533149\n",
      "emb_2_45: 0.05994887757255064\n",
      "emb_2_46: 0.07375279110887253\n",
      "emb_2_47: 0.13670095301268512\n",
      "emb_2_48: 0.1844915331041855\n",
      "emb_2_49: 0.2583332793153562\n",
      "emb_2_50: 0.1130799688436076\n",
      "emb_2_51: 0.022461394105092302\n",
      "emb_2_52: 0.2282428280594535\n",
      "emb_2_53: 0.1146635321326362\n",
      "emb_2_54: 0.11289175681724323\n",
      "emb_2_55: 0.13229345352129468\n",
      "emb_2_56: 0.16559817514305794\n",
      "emb_2_57: 0.45077040593472\n",
      "emb_2_58: 0.08997261942038269\n",
      "emb_2_59: 0.16370763320626788\n",
      "emb_2_60: 0.08085741325903563\n",
      "emb_2_61: 0.0858086596265267\n",
      "emb_2_62: 0.09695173745718375\n",
      "emb_2_63: 0.17250994748347975\n",
      "emb_2_64: 0.1181647620153753\n",
      "emb_2_65: 0.16278925362762098\n",
      "emb_2_66: 0.23315854522440077\n",
      "emb_2_67: 0.15421451612493345\n",
      "emb_2_68: 0.04915003929981175\n",
      "emb_2_69: 0.07100905389161186\n",
      "emb_2_70: 0.11720986790437227\n",
      "emb_2_71: 0.04051335001292708\n",
      "emb_2_72: 0.1323372538673402\n",
      "emb_2_73: 0.2564522349626232\n",
      "emb_2_74: 0.19587166291816327\n",
      "emb_2_75: 0.11739325510735481\n",
      "emb_2_76: 0.3642478274366819\n",
      "emb_2_77: 0.11417070592496704\n",
      "emb_2_78: 0.13310378055753336\n",
      "emb_2_79: 0.19376378363415026\n",
      "emb_2_80: 0.13400767167256133\n",
      "emb_2_81: 0.138642550844502\n",
      "emb_2_82: 0.2721636881929971\n",
      "emb_2_83: 0.006800501922960455\n",
      "emb_2_84: 0.2996703753455836\n",
      "emb_2_85: 0.16158296885256962\n",
      "emb_2_86: 0.05782528226224593\n",
      "emb_2_87: 0.09162951550719148\n",
      "emb_2_88: 0.07520139948979587\n",
      "emb_2_89: 0.11367546292134117\n",
      "emb_2_90: 0.15175538895395901\n",
      "emb_2_91: 0.12703099810221546\n",
      "emb_2_92: 0.3611274256513412\n",
      "emb_2_93: 0.14855832423220902\n",
      "emb_2_94: 0.2159337135277161\n",
      "emb_2_95: 0.10950704668314411\n",
      "emb_2_96: 0.6095259972649575\n",
      "emb_2_97: 0.1202138185144887\n",
      "emb_2_98: 0.1476641441484834\n",
      "emb_2_99: 0.11631303021172838\n",
      "emb_2_100: 0.125052525080213\n",
      "emb_2_101: 0.12118782115636571\n",
      "emb_2_102: 0.07565135870944252\n",
      "emb_2_103: 0.22343370007659932\n",
      "emb_2_104: 0.12751961675072468\n",
      "emb_2_105: 0.15150251873399712\n",
      "emb_2_106: 0.1444372940974075\n",
      "emb_2_107: 0.22198646055365756\n",
      "emb_2_108: 0.13354706741299224\n",
      "emb_2_109: 0.2136156380309336\n",
      "emb_2_110: 0.1213112714370666\n",
      "emb_2_111: 0.1043188360457407\n",
      "emb_2_112: 0.09326010621275022\n",
      "emb_2_113: 0.09474221541291551\n",
      "emb_2_114: 0.07919259644225987\n",
      "emb_2_115: 0.23420284361872393\n",
      "emb_2_116: 0.2949760359133287\n",
      "emb_2_117: 0.18596997224878917\n",
      "emb_2_118: 0.06045117921472817\n",
      "emb_2_119: 0.14788448735153156\n",
      "emb_2_120: 0.1759456211457944\n",
      "emb_2_121: 0.12061161607413261\n",
      "emb_2_122: 0.06602793747811521\n",
      "emb_2_123: 0.038362681039461916\n",
      "emb_2_124: 0.09896359176557935\n",
      "emb_2_125: 0.09025412208767833\n",
      "emb_2_126: 0.1567247217467118\n",
      "emb_2_127: 0.09428020051865664\n",
      "emb_2_128: 0.06582497737880444\n",
      "emb_2_129: 0.2059319449411466\n",
      "emb_2_130: 0.3340305284235053\n",
      "emb_2_131: 0.23068821157346414\n",
      "emb_2_132: 0.1479393429721154\n",
      "emb_2_133: 0.165003173253131\n",
      "emb_2_134: 0.027327468325458425\n",
      "emb_2_135: 0.1545248040367965\n",
      "emb_2_136: 0.00778066692507916\n",
      "emb_2_137: 0.25431428828914837\n",
      "emb_2_138: 0.6357935766394628\n",
      "emb_2_139: 0.1785982846226567\n",
      "emb_2_140: 0.12566681160841917\n",
      "emb_2_141: 0.08672933952343073\n",
      "emb_2_142: 0.09312303425230464\n",
      "emb_2_143: 0.12723989584814913\n",
      "emb_2_144: 0.2599353920263407\n",
      "emb_2_145: 0.13913846006879488\n",
      "emb_2_146: 0.14109070189020712\n",
      "emb_2_147: 0.10907193158780128\n",
      "emb_2_148: 0.13358044576082437\n",
      "emb_2_149: 0.10426543020456006\n",
      "lev_dist: 5.0471415519850815\n",
      "lev_dist_2: 4.137681532037925\n",
      "lev_dist_%: 40.78344627938771\n"
     ]
    }
   ],
   "source": [
    "# get feature importance\n",
    "feature_importances = cat_model.feature_importances_\n",
    "\n",
    "for i, importance in enumerate(feature_importances):\n",
    "    print(f\"{X.columns[i]}: {importance}\")"
   ]
  },
  {
   "cell_type": "code",
   "execution_count": 116,
   "metadata": {},
   "outputs": [
    {
     "data": {
      "text/plain": [
       "[<matplotlib.lines.Line2D at 0x23a520375e0>]"
      ]
     },
     "execution_count": 116,
     "metadata": {},
     "output_type": "execute_result"
    },
    {
     "data": {
      "image/png": "[encoded data removed]",
      "text/plain": [
       "<Figure size 640x480 with 1 Axes>"
      ]
     },
     "metadata": {},
     "output_type": "display_data"
    }
   ],
   "source": [
    "# plotting feature importance of embeddings\n",
    "plt.plot(cat_model.feature_importances_[:-3])"
   ]
  },
  {
   "cell_type": "markdown",
   "metadata": {},
   "source": [
    "Нейросеть"
   ]
  },
  {
   "cell_type": "code",
   "execution_count": 95,
   "metadata": {},
   "outputs": [
    {
     "data": {
      "text/html": [
       "Finishing last run (ID:tlmmy2c4) before initializing another..."
      ],
      "text/plain": [
       "<IPython.core.display.HTML object>"
      ]
     },
     "metadata": {},
     "output_type": "display_data"
    },
    {
     "data": {
      "text/html": [
       "<style>\n",
       "    table.wandb td:nth-child(1) { padding: 0 10px; text-align: left ; width: auto;} td:nth-child(2) {text-align: left ; width: 100%}\n",
       "    .wandb-row { display: flex; flex-direction: row; flex-wrap: wrap; justify-content: flex-start; width: 100% }\n",
       "    .wandb-col { display: flex; flex-direction: column; flex-basis: 100%; flex: 1; padding: 10px; }\n",
       "    </style>\n",
       "<div class=\"wandb-row\"><div class=\"wandb-col\"><h3>Run history:</h3><br/><table class=\"wandb\"><tr><td>batch_size</td><td>▁</td></tr><tr><td>epochs</td><td>▁</td></tr><tr><td>lr</td><td>▁</td></tr><tr><td>pca_comp</td><td>▁</td></tr><tr><td>treshold</td><td>▁</td></tr></table><br/></div><div class=\"wandb-col\"><h3>Run summary:</h3><br/><table class=\"wandb\"><tr><td>batch_size</td><td>8</td></tr><tr><td>epochs</td><td>500</td></tr><tr><td>lr</td><td>0.05</td></tr><tr><td>optim</td><td>adagrad</td></tr><tr><td>pca_comp</td><td>150</td></tr><tr><td>treshold</td><td>0.5</td></tr></table><br/></div></div>"
      ],
      "text/plain": [
       "<IPython.core.display.HTML object>"
      ]
     },
     "metadata": {},
     "output_type": "display_data"
    },
    {
     "data": {
      "text/html": [
       " View run <strong style=\"color:#cdcd00\">daily-fog-21</strong> at: <a href='https://wandb.ai/paronyms/paronyms/runs/tlmmy2c4/workspace' target=\"_blank\">https://wandb.ai/paronyms/paronyms/runs/tlmmy2c4/workspace</a><br/>Synced 4 W&B file(s), 0 media file(s), 0 artifact file(s) and 0 other file(s)"
      ],
      "text/plain": [
       "<IPython.core.display.HTML object>"
      ]
     },
     "metadata": {},
     "output_type": "display_data"
    },
    {
     "data": {
      "text/html": [
       "Find logs at: <code>.\\wandb\\run-20240401_093942-tlmmy2c4\\logs</code>"
      ],
      "text/plain": [
       "<IPython.core.display.HTML object>"
      ]
     },
     "metadata": {},
     "output_type": "display_data"
    },
    {
     "data": {
      "text/html": [
       "Successfully finished last run (ID:tlmmy2c4). Initializing new run:<br/>"
      ],
      "text/plain": [
       "<IPython.core.display.HTML object>"
      ]
     },
     "metadata": {},
     "output_type": "display_data"
    },
    {
     "data": {
      "text/html": [
       "Tracking run with wandb version 0.16.5"
      ],
      "text/plain": [
       "<IPython.core.display.HTML object>"
      ]
     },
     "metadata": {},
     "output_type": "display_data"
    },
    {
     "data": {
      "text/html": [
       "Run data is saved locally in <code>c:\\Users\\pasin\\DS\\Доп\\generation_of_paronyms\\wandb\\run-20240401_094131-q6aja2kv</code>"
      ],
      "text/plain": [
       "<IPython.core.display.HTML object>"
      ]
     },
     "metadata": {},
     "output_type": "display_data"
    },
    {
     "data": {
      "text/html": [
       "Syncing run <strong><a href='https://wandb.ai/paronyms/paronyms/runs/q6aja2kv/workspace' target=\"_blank\">ethereal-elevator-22</a></strong> to <a href='https://wandb.ai/paronyms/paronyms' target=\"_blank\">Weights & Biases</a> (<a href='https://wandb.me/run' target=\"_blank\">docs</a>)<br/>"
      ],
      "text/plain": [
       "<IPython.core.display.HTML object>"
      ]
     },
     "metadata": {},
     "output_type": "display_data"
    },
    {
     "data": {
      "text/html": [
       " View project at <a href='https://wandb.ai/paronyms/paronyms' target=\"_blank\">https://wandb.ai/paronyms/paronyms</a>"
      ],
      "text/plain": [
       "<IPython.core.display.HTML object>"
      ]
     },
     "metadata": {},
     "output_type": "display_data"
    },
    {
     "data": {
      "text/html": [
       " View run at <a href='https://wandb.ai/paronyms/paronyms/runs/q6aja2kv/workspace' target=\"_blank\">https://wandb.ai/paronyms/paronyms/runs/q6aja2kv/workspace</a>"
      ],
      "text/plain": [
       "<IPython.core.display.HTML object>"
      ]
     },
     "metadata": {},
     "output_type": "display_data"
    }
   ],
   "source": [
    "# Логирование\n",
    "if config[\"logging\"]:\n",
    "    wandb.init(project=\"paronyms\", tags=[\"nn\", \"with dist 2\", \"with dist %\"])\n",
    "    wandb.log(nn)"
   ]
  },
  {
   "cell_type": "code",
   "execution_count": 96,
   "metadata": {},
   "outputs": [
    {
     "name": "stdout",
     "output_type": "stream",
     "text": [
      "\u001b[1m12/12\u001b[0m \u001b[32m━━━━━━━━━━━━━━━━━━━━\u001b[0m\u001b[37m\u001b[0m \u001b[1m0s\u001b[0m 4ms/step \n"
     ]
    }
   ],
   "source": [
    "nn_model = tf.keras.Sequential()\n",
    "\n",
    "optimizer = keras.optimizers.Adam(learning_rate=nn[\"lr\"])\n",
    "# optimizer = keras.optimizers.Adagrad(learning_rate=nn[\"lr\"], initial_accumulator_value=0.1) \n",
    "layers = nn[\"layers\"]\n",
    "activations = nn[\"activations\"]\n",
    "\n",
    "for i in range(len(layers)):\n",
    "    if i == 0:\n",
    "        nn_model.add(tf.keras.layers.Dense(layers[i], activation=activations[i], input_shape=(X_train.shape[1],)))\n",
    "    else:\n",
    "        nn_model.add(tf.keras.layers.Dense(layers[i], activation=activations[i]))\n",
    "\n",
    "nn_model.compile(optimizer=optimizer, loss='mean_absolute_error')\n",
    "\n",
    "history = nn_model.fit(X_train, y_train, epochs=nn[\"epochs\"], batch_size=nn[\"batch_size\"], verbose=0)\n",
    "\n",
    "predictions = nn_model.predict(X_test)"
   ]
  },
  {
   "cell_type": "code",
   "execution_count": 97,
   "metadata": {},
   "outputs": [
    {
     "name": "stdout",
     "output_type": "stream",
     "text": [
      "MAE: 0.05934618377739962  Accuracy: 0.9402173913043478\n"
     ]
    },
    {
     "data": {
      "text/html": [
       "<style>\n",
       "    table.wandb td:nth-child(1) { padding: 0 10px; text-align: left ; width: auto;} td:nth-child(2) {text-align: left ; width: 100%}\n",
       "    .wandb-row { display: flex; flex-direction: row; flex-wrap: wrap; justify-content: flex-start; width: 100% }\n",
       "    .wandb-col { display: flex; flex-direction: column; flex-basis: 100%; flex: 1; padding: 10px; }\n",
       "    </style>\n",
       "<div class=\"wandb-row\"><div class=\"wandb-col\"><h3>Run history:</h3><br/><table class=\"wandb\"><tr><td>Accuracy</td><td>▁</td></tr><tr><td>MAE</td><td>▁</td></tr><tr><td>batch_size</td><td>▁</td></tr><tr><td>epochs</td><td>▁</td></tr><tr><td>lr</td><td>▁</td></tr><tr><td>treshold</td><td>▁</td></tr></table><br/></div><div class=\"wandb-col\"><h3>Run summary:</h3><br/><table class=\"wandb\"><tr><td>Accuracy</td><td>0.94022</td></tr><tr><td>MAE</td><td>0.05935</td></tr><tr><td>batch_size</td><td>8</td></tr><tr><td>epochs</td><td>100</td></tr><tr><td>lr</td><td>0.001</td></tr><tr><td>treshold</td><td>0.5</td></tr></table><br/></div></div>"
      ],
      "text/plain": [
       "<IPython.core.display.HTML object>"
      ]
     },
     "metadata": {},
     "output_type": "display_data"
    },
    {
     "data": {
      "text/html": [
       " View run <strong style=\"color:#cdcd00\">ethereal-elevator-22</strong> at: <a href='https://wandb.ai/paronyms/paronyms/runs/q6aja2kv/workspace' target=\"_blank\">https://wandb.ai/paronyms/paronyms/runs/q6aja2kv/workspace</a><br/>Synced 5 W&B file(s), 0 media file(s), 0 artifact file(s) and 0 other file(s)"
      ],
      "text/plain": [
       "<IPython.core.display.HTML object>"
      ]
     },
     "metadata": {},
     "output_type": "display_data"
    },
    {
     "data": {
      "text/html": [
       "Find logs at: <code>.\\wandb\\run-20240401_094131-q6aja2kv\\logs</code>"
      ],
      "text/plain": [
       "<IPython.core.display.HTML object>"
      ]
     },
     "metadata": {},
     "output_type": "display_data"
    },
    {
     "data": {
      "image/png": "[encoded data removed]",
      "text/plain": [
       "<Figure size 640x480 with 1 Axes>"
      ]
     },
     "metadata": {},
     "output_type": "display_data"
    }
   ],
   "source": [
    "treshold = nn[\"treshold\"]\n",
    "\n",
    "mae = mean_absolute_error(y_test, predictions)\n",
    "acc = accuracy_score(y_test, [1 if prob > treshold else 0 for prob in predictions])\n",
    "print('MAE:', mae, ' Accuracy:', acc)\n",
    "\n",
    "if config[\"logging\"]:\n",
    "    wandb.log({'MAE': mae, 'Accuracy': acc, \"params\": nn.update({\"pca_comp\": config[\"pca_n_components\"], \"optim\": \"adagrad\"})})\n",
    "    wandb.finish()\n",
    "\n",
    "# Plotting the loss\n",
    "plt.plot(history.history['loss'])\n",
    "plt.title('Model Loss')\n",
    "plt.ylabel('Loss')\n",
    "plt.xlabel('Epoch')\n",
    "plt.show()"
   ]
  },
  {
   "cell_type": "markdown",
   "metadata": {},
   "source": [
    "Тестирование"
   ]
  },
  {
   "cell_type": "code",
   "execution_count": 58,
   "metadata": {},
   "outputs": [],
   "source": [
    "# function for testing new words\n",
    "def test(word1, word2, model):\n",
    "\n",
    "    # getting embs and lev dist \n",
    "    emb1, emb2 = get_embedding(word1), get_embedding(word2)\n",
    "    pca_emb1 = reduce_dimension(pca, emb1.reshape(1, -1))\n",
    "    pca_emb2 = reduce_dimension(pca, emb2.reshape(1, -1))\n",
    "    lev_dist = Levenshtein.distance(word1, word2)\n",
    "\n",
    "    # creating dataframe\n",
    "    row = pca_emb1.tolist()[0] + pca_emb2.tolist()[0] + [lev_dist]\n",
    "    X_new = pd.DataFrame([row], columns=X.columns)\n",
    "    \n",
    "    # predictions \n",
    "    if model == \"cat\":\n",
    "        prediction = cat_model.predict_proba(X_new)\n",
    "        res = np.argmax(prediction[0])\n",
    "        proba = max(prediction[0])\n",
    "\n",
    "    if model == \"nn\":\n",
    "        prediction = nn_model.predict(X_new)\n",
    "        if prediction[0][0] < 0.5:\n",
    "            res = 0\n",
    "            proba = 1 - (prediction[0][0] if prediction[0][0] > 0 else 0)\n",
    "        else:\n",
    "            res = 1\n",
    "            proba = (prediction[0][0] if prediction[0][0] < 1 else 1)\n",
    "\n",
    "    # result\n",
    "    print(f\"Слова {word1} и {word2} {'не '*(not res)}являются паронимами с вероятностью {proba}\")"
   ]
  },
  {
   "cell_type": "code",
   "execution_count": 59,
   "metadata": {},
   "outputs": [
    {
     "name": "stdout",
     "output_type": "stream",
     "text": [
      "Слова целый и цельный являются паронимами с вероятностью 0.9995663900978244\n"
     ]
    }
   ],
   "source": [
    "# не паронимы\n",
    "word1 = \"приветливый\"\n",
    "word2 = \"страна\" \n",
    "\n",
    "# паронимы\n",
    "word1 = \"целый\"\n",
    "word2 = \"цельный\" \n",
    "\n",
    "# модель \n",
    "model = \"cat\" # nn - keras nn, cat - catboostclassifier\n",
    "\n",
    "# тестирование\n",
    "test(word1, word2, model)"
   ]
  },
  {
   "cell_type": "markdown",
   "metadata": {},
   "source": [
    "Мусорка"
   ]
  },
  {
   "cell_type": "code",
   "execution_count": null,
   "metadata": {},
   "outputs": [
    {
     "data": {
      "text/html": [
       "<div>\n",
       "<style scoped>\n",
       "    .dataframe tbody tr th:only-of-type {\n",
       "        vertical-align: middle;\n",
       "    }\n",
       "\n",
       "    .dataframe tbody tr th {\n",
       "        vertical-align: top;\n",
       "    }\n",
       "\n",
       "    .dataframe thead th {\n",
       "        text-align: right;\n",
       "    }\n",
       "</style>\n",
       "<table border=\"1\" class=\"dataframe\">\n",
       "  <thead>\n",
       "    <tr style=\"text-align: right;\">\n",
       "      <th></th>\n",
       "      <th>word1</th>\n",
       "      <th>word2</th>\n",
       "      <th>label</th>\n",
       "      <th>emb_1_0</th>\n",
       "      <th>emb_1_1</th>\n",
       "      <th>emb_1_2</th>\n",
       "      <th>emb_1_3</th>\n",
       "      <th>emb_1_4</th>\n",
       "      <th>emb_1_5</th>\n",
       "      <th>emb_1_6</th>\n",
       "      <th>...</th>\n",
       "      <th>emb_2_291</th>\n",
       "      <th>emb_2_292</th>\n",
       "      <th>emb_2_293</th>\n",
       "      <th>emb_2_294</th>\n",
       "      <th>emb_2_295</th>\n",
       "      <th>emb_2_296</th>\n",
       "      <th>emb_2_297</th>\n",
       "      <th>emb_2_298</th>\n",
       "      <th>emb_2_299</th>\n",
       "      <th>lev_dist</th>\n",
       "    </tr>\n",
       "  </thead>\n",
       "  <tbody>\n",
       "    <tr>\n",
       "      <th>0</th>\n",
       "      <td>аккордовый</td>\n",
       "      <td>квадрат</td>\n",
       "      <td>0</td>\n",
       "      <td>-0.012578</td>\n",
       "      <td>0.071381</td>\n",
       "      <td>-0.066920</td>\n",
       "      <td>0.132629</td>\n",
       "      <td>0.039623</td>\n",
       "      <td>0.068954</td>\n",
       "      <td>-0.102715</td>\n",
       "      <td>...</td>\n",
       "      <td>0.012084</td>\n",
       "      <td>0.054774</td>\n",
       "      <td>0.012667</td>\n",
       "      <td>-0.049291</td>\n",
       "      <td>0.144537</td>\n",
       "      <td>-0.074161</td>\n",
       "      <td>-0.035057</td>\n",
       "      <td>0.081322</td>\n",
       "      <td>0.129544</td>\n",
       "      <td>0</td>\n",
       "    </tr>\n",
       "    <tr>\n",
       "      <th>1</th>\n",
       "      <td>целый</td>\n",
       "      <td>цельный</td>\n",
       "      <td>1</td>\n",
       "      <td>-0.019124</td>\n",
       "      <td>0.034811</td>\n",
       "      <td>0.057754</td>\n",
       "      <td>0.119841</td>\n",
       "      <td>-0.034180</td>\n",
       "      <td>0.042868</td>\n",
       "      <td>0.015424</td>\n",
       "      <td>...</td>\n",
       "      <td>0.032209</td>\n",
       "      <td>0.014659</td>\n",
       "      <td>0.024586</td>\n",
       "      <td>-0.071244</td>\n",
       "      <td>-0.106860</td>\n",
       "      <td>0.002109</td>\n",
       "      <td>0.057067</td>\n",
       "      <td>-0.029967</td>\n",
       "      <td>0.069121</td>\n",
       "      <td>0</td>\n",
       "    </tr>\n",
       "    <tr>\n",
       "      <th>2</th>\n",
       "      <td>женский</td>\n",
       "      <td>господний</td>\n",
       "      <td>0</td>\n",
       "      <td>0.044881</td>\n",
       "      <td>-0.092671</td>\n",
       "      <td>0.050879</td>\n",
       "      <td>-0.044229</td>\n",
       "      <td>0.011045</td>\n",
       "      <td>0.028815</td>\n",
       "      <td>-0.058337</td>\n",
       "      <td>...</td>\n",
       "      <td>0.073815</td>\n",
       "      <td>0.014237</td>\n",
       "      <td>0.103689</td>\n",
       "      <td>0.109344</td>\n",
       "      <td>0.009336</td>\n",
       "      <td>0.047421</td>\n",
       "      <td>0.005184</td>\n",
       "      <td>0.071654</td>\n",
       "      <td>-0.028561</td>\n",
       "      <td>0</td>\n",
       "    </tr>\n",
       "    <tr>\n",
       "      <th>3</th>\n",
       "      <td>обличительный</td>\n",
       "      <td>динамизм</td>\n",
       "      <td>0</td>\n",
       "      <td>0.066741</td>\n",
       "      <td>0.038244</td>\n",
       "      <td>0.027620</td>\n",
       "      <td>0.058278</td>\n",
       "      <td>0.048305</td>\n",
       "      <td>0.110592</td>\n",
       "      <td>-0.115581</td>\n",
       "      <td>...</td>\n",
       "      <td>-0.102109</td>\n",
       "      <td>0.129003</td>\n",
       "      <td>-0.052745</td>\n",
       "      <td>-0.043174</td>\n",
       "      <td>-0.039006</td>\n",
       "      <td>0.050456</td>\n",
       "      <td>-0.007910</td>\n",
       "      <td>-0.029959</td>\n",
       "      <td>0.016620</td>\n",
       "      <td>0</td>\n",
       "    </tr>\n",
       "    <tr>\n",
       "      <th>4</th>\n",
       "      <td>сыскать</td>\n",
       "      <td>снискать</td>\n",
       "      <td>1</td>\n",
       "      <td>0.000000</td>\n",
       "      <td>0.000000</td>\n",
       "      <td>0.000000</td>\n",
       "      <td>0.000000</td>\n",
       "      <td>0.000000</td>\n",
       "      <td>0.000000</td>\n",
       "      <td>0.000000</td>\n",
       "      <td>...</td>\n",
       "      <td>0.000000</td>\n",
       "      <td>0.000000</td>\n",
       "      <td>0.000000</td>\n",
       "      <td>0.000000</td>\n",
       "      <td>0.000000</td>\n",
       "      <td>0.000000</td>\n",
       "      <td>0.000000</td>\n",
       "      <td>0.000000</td>\n",
       "      <td>0.000000</td>\n",
       "      <td>0</td>\n",
       "    </tr>\n",
       "    <tr>\n",
       "      <th>...</th>\n",
       "      <td>...</td>\n",
       "      <td>...</td>\n",
       "      <td>...</td>\n",
       "      <td>...</td>\n",
       "      <td>...</td>\n",
       "      <td>...</td>\n",
       "      <td>...</td>\n",
       "      <td>...</td>\n",
       "      <td>...</td>\n",
       "      <td>...</td>\n",
       "      <td>...</td>\n",
       "      <td>...</td>\n",
       "      <td>...</td>\n",
       "      <td>...</td>\n",
       "      <td>...</td>\n",
       "      <td>...</td>\n",
       "      <td>...</td>\n",
       "      <td>...</td>\n",
       "      <td>...</td>\n",
       "      <td>...</td>\n",
       "      <td>...</td>\n",
       "    </tr>\n",
       "    <tr>\n",
       "      <th>3511</th>\n",
       "      <td>гнилой</td>\n",
       "      <td>гнилостный</td>\n",
       "      <td>1</td>\n",
       "      <td>0.022569</td>\n",
       "      <td>-0.047862</td>\n",
       "      <td>0.049707</td>\n",
       "      <td>0.058395</td>\n",
       "      <td>0.006504</td>\n",
       "      <td>0.046971</td>\n",
       "      <td>0.035626</td>\n",
       "      <td>...</td>\n",
       "      <td>-0.091607</td>\n",
       "      <td>0.088824</td>\n",
       "      <td>0.001456</td>\n",
       "      <td>-0.006952</td>\n",
       "      <td>0.041889</td>\n",
       "      <td>0.050071</td>\n",
       "      <td>0.102235</td>\n",
       "      <td>-0.003491</td>\n",
       "      <td>-0.002087</td>\n",
       "      <td>0</td>\n",
       "    </tr>\n",
       "    <tr>\n",
       "      <th>3512</th>\n",
       "      <td>кормильщица</td>\n",
       "      <td>притягательный</td>\n",
       "      <td>0</td>\n",
       "      <td>0.000000</td>\n",
       "      <td>0.000000</td>\n",
       "      <td>0.000000</td>\n",
       "      <td>0.000000</td>\n",
       "      <td>0.000000</td>\n",
       "      <td>0.000000</td>\n",
       "      <td>0.000000</td>\n",
       "      <td>...</td>\n",
       "      <td>0.000000</td>\n",
       "      <td>0.000000</td>\n",
       "      <td>0.000000</td>\n",
       "      <td>0.000000</td>\n",
       "      <td>0.000000</td>\n",
       "      <td>0.000000</td>\n",
       "      <td>0.000000</td>\n",
       "      <td>0.000000</td>\n",
       "      <td>0.000000</td>\n",
       "      <td>0</td>\n",
       "    </tr>\n",
       "    <tr>\n",
       "      <th>3513</th>\n",
       "      <td>абонемент</td>\n",
       "      <td>абонент</td>\n",
       "      <td>1</td>\n",
       "      <td>0.068919</td>\n",
       "      <td>0.042074</td>\n",
       "      <td>-0.030451</td>\n",
       "      <td>-0.087799</td>\n",
       "      <td>0.016597</td>\n",
       "      <td>-0.016370</td>\n",
       "      <td>0.019723</td>\n",
       "      <td>...</td>\n",
       "      <td>0.067424</td>\n",
       "      <td>0.100960</td>\n",
       "      <td>0.029388</td>\n",
       "      <td>-0.060928</td>\n",
       "      <td>0.016881</td>\n",
       "      <td>-0.025644</td>\n",
       "      <td>-0.061658</td>\n",
       "      <td>-0.017059</td>\n",
       "      <td>-0.043113</td>\n",
       "      <td>0</td>\n",
       "    </tr>\n",
       "    <tr>\n",
       "      <th>3514</th>\n",
       "      <td>беженец</td>\n",
       "      <td>выучить</td>\n",
       "      <td>0</td>\n",
       "      <td>0.000000</td>\n",
       "      <td>0.000000</td>\n",
       "      <td>0.000000</td>\n",
       "      <td>0.000000</td>\n",
       "      <td>0.000000</td>\n",
       "      <td>0.000000</td>\n",
       "      <td>0.000000</td>\n",
       "      <td>...</td>\n",
       "      <td>0.000000</td>\n",
       "      <td>0.000000</td>\n",
       "      <td>0.000000</td>\n",
       "      <td>0.000000</td>\n",
       "      <td>0.000000</td>\n",
       "      <td>0.000000</td>\n",
       "      <td>0.000000</td>\n",
       "      <td>0.000000</td>\n",
       "      <td>0.000000</td>\n",
       "      <td>0</td>\n",
       "    </tr>\n",
       "    <tr>\n",
       "      <th>3515</th>\n",
       "      <td>сводчатый</td>\n",
       "      <td>обстоятельный</td>\n",
       "      <td>0</td>\n",
       "      <td>-0.016734</td>\n",
       "      <td>0.033903</td>\n",
       "      <td>0.149104</td>\n",
       "      <td>0.134837</td>\n",
       "      <td>0.123498</td>\n",
       "      <td>0.062373</td>\n",
       "      <td>0.019553</td>\n",
       "      <td>...</td>\n",
       "      <td>0.129128</td>\n",
       "      <td>-0.039648</td>\n",
       "      <td>0.055071</td>\n",
       "      <td>-0.009823</td>\n",
       "      <td>-0.012505</td>\n",
       "      <td>0.081871</td>\n",
       "      <td>-0.020242</td>\n",
       "      <td>0.003785</td>\n",
       "      <td>-0.095376</td>\n",
       "      <td>0</td>\n",
       "    </tr>\n",
       "  </tbody>\n",
       "</table>\n",
       "<p>3516 rows × 604 columns</p>\n",
       "</div>"
      ],
      "text/plain": [
       "              word1           word2  label   emb_1_0   emb_1_1   emb_1_2  \\\n",
       "0        аккордовый         квадрат      0 -0.012578  0.071381 -0.066920   \n",
       "1             целый         цельный      1 -0.019124  0.034811  0.057754   \n",
       "2           женский       господний      0  0.044881 -0.092671  0.050879   \n",
       "3     обличительный        динамизм      0  0.066741  0.038244  0.027620   \n",
       "4           сыскать        снискать      1  0.000000  0.000000  0.000000   \n",
       "...             ...             ...    ...       ...       ...       ...   \n",
       "3511         гнилой      гнилостный      1  0.022569 -0.047862  0.049707   \n",
       "3512    кормильщица  притягательный      0  0.000000  0.000000  0.000000   \n",
       "3513      абонемент         абонент      1  0.068919  0.042074 -0.030451   \n",
       "3514        беженец         выучить      0  0.000000  0.000000  0.000000   \n",
       "3515      сводчатый   обстоятельный      0 -0.016734  0.033903  0.149104   \n",
       "\n",
       "       emb_1_3   emb_1_4   emb_1_5   emb_1_6  ...  emb_2_291  emb_2_292  \\\n",
       "0     0.132629  0.039623  0.068954 -0.102715  ...   0.012084   0.054774   \n",
       "1     0.119841 -0.034180  0.042868  0.015424  ...   0.032209   0.014659   \n",
       "2    -0.044229  0.011045  0.028815 -0.058337  ...   0.073815   0.014237   \n",
       "3     0.058278  0.048305  0.110592 -0.115581  ...  -0.102109   0.129003   \n",
       "4     0.000000  0.000000  0.000000  0.000000  ...   0.000000   0.000000   \n",
       "...        ...       ...       ...       ...  ...        ...        ...   \n",
       "3511  0.058395  0.006504  0.046971  0.035626  ...  -0.091607   0.088824   \n",
       "3512  0.000000  0.000000  0.000000  0.000000  ...   0.000000   0.000000   \n",
       "3513 -0.087799  0.016597 -0.016370  0.019723  ...   0.067424   0.100960   \n",
       "3514  0.000000  0.000000  0.000000  0.000000  ...   0.000000   0.000000   \n",
       "3515  0.134837  0.123498  0.062373  0.019553  ...   0.129128  -0.039648   \n",
       "\n",
       "      emb_2_293  emb_2_294  emb_2_295  emb_2_296  emb_2_297  emb_2_298  \\\n",
       "0      0.012667  -0.049291   0.144537  -0.074161  -0.035057   0.081322   \n",
       "1      0.024586  -0.071244  -0.106860   0.002109   0.057067  -0.029967   \n",
       "2      0.103689   0.109344   0.009336   0.047421   0.005184   0.071654   \n",
       "3     -0.052745  -0.043174  -0.039006   0.050456  -0.007910  -0.029959   \n",
       "4      0.000000   0.000000   0.000000   0.000000   0.000000   0.000000   \n",
       "...         ...        ...        ...        ...        ...        ...   \n",
       "3511   0.001456  -0.006952   0.041889   0.050071   0.102235  -0.003491   \n",
       "3512   0.000000   0.000000   0.000000   0.000000   0.000000   0.000000   \n",
       "3513   0.029388  -0.060928   0.016881  -0.025644  -0.061658  -0.017059   \n",
       "3514   0.000000   0.000000   0.000000   0.000000   0.000000   0.000000   \n",
       "3515   0.055071  -0.009823  -0.012505   0.081871  -0.020242   0.003785   \n",
       "\n",
       "      emb_2_299  lev_dist  \n",
       "0      0.129544         0  \n",
       "1      0.069121         0  \n",
       "2     -0.028561         0  \n",
       "3      0.016620         0  \n",
       "4      0.000000         0  \n",
       "...         ...       ...  \n",
       "3511  -0.002087         0  \n",
       "3512   0.000000         0  \n",
       "3513  -0.043113         0  \n",
       "3514   0.000000         0  \n",
       "3515  -0.095376         0  \n",
       "\n",
       "[3516 rows x 604 columns]"
      ]
     },
     "execution_count": 97,
     "metadata": {},
     "output_type": "execute_result"
    }
   ],
   "source": [
    "data"
   ]
  },
  {
   "cell_type": "code",
   "execution_count": null,
   "metadata": {},
   "outputs": [
    {
     "data": {
      "text/plain": [
       "array([-1.25777004e-02,  7.13808015e-02, -6.69195578e-02,  1.32629201e-01,\n",
       "        3.96230109e-02,  6.89538270e-02, -1.02715276e-01, -2.07985435e-02,\n",
       "       -4.17454605e-04, -6.66920096e-02,  1.85652584e-01, -1.44832075e-01,\n",
       "        2.83512380e-02, -1.11901104e-01,  4.56056818e-02, -4.81510274e-02,\n",
       "        8.36276039e-02, -9.19803232e-03,  9.81500838e-04,  5.74996658e-02,\n",
       "       -2.92572589e-03,  6.52177706e-02, -4.75657806e-02,  4.61040102e-02,\n",
       "       -3.82861830e-02,  5.70593216e-02, -3.37926932e-02,  1.21076353e-01,\n",
       "       -1.81092322e-02,  9.62400343e-03, -1.48299234e-02,  1.01952113e-01,\n",
       "        1.60059571e-01, -5.47798118e-03,  3.87733914e-02,  3.83970179e-02,\n",
       "        1.25514701e-01, -8.64881873e-02,  2.29348727e-02, -2.13215649e-02,\n",
       "       -1.91617105e-02, -1.42319629e-03, -1.11882702e-01, -8.07544217e-02,\n",
       "       -5.52563854e-02,  1.29661132e-02, -3.10040861e-02, -4.55451086e-02,\n",
       "        4.72736470e-02, -7.49781057e-02, -9.20100696e-03,  5.29071130e-02,\n",
       "        6.45692181e-03,  5.74147003e-03,  9.59861558e-03,  4.14790679e-03,\n",
       "        1.90521479e-02, -7.94550180e-02,  1.69859100e-02, -3.25852409e-02,\n",
       "       -1.00170083e-01,  3.62269804e-02,  6.94461539e-02, -8.63561481e-02,\n",
       "       -5.65240309e-02,  4.15184684e-02, -3.38917896e-02,  2.72767413e-02,\n",
       "        2.60996334e-02,  6.78940415e-02, -5.99999093e-02, -5.00195399e-02,\n",
       "       -1.88710131e-02,  9.66469105e-03,  2.81026121e-02,  2.08671000e-02,\n",
       "        1.61541495e-02, -3.85255590e-02, -5.15885837e-03,  3.94509211e-02,\n",
       "        6.78004278e-03,  1.83908325e-02, -2.70006657e-02, -8.34909305e-02,\n",
       "       -1.11830207e-02, -1.40482679e-01, -9.20039788e-02,  2.81033125e-02,\n",
       "        2.64003985e-02,  9.93030816e-02,  9.75869298e-02,  2.22652201e-02,\n",
       "        4.37827185e-02, -2.34081820e-02,  1.01139918e-01,  1.38354152e-02,\n",
       "        4.30526212e-02,  3.48471180e-02, -4.25464623e-02,  8.53151605e-02,\n",
       "       -8.54157954e-02,  2.73413602e-02, -3.14549543e-02, -1.23378346e-02,\n",
       "        1.92287397e-02, -1.04939919e-02,  2.31727064e-02,  4.86694351e-02,\n",
       "        1.40119484e-02,  1.01674767e-02,  4.13361192e-02, -3.82429622e-02,\n",
       "       -7.97519609e-02, -4.70690913e-02,  2.05523521e-02,  1.31806955e-01,\n",
       "        7.45726051e-03, -9.67080072e-02,  1.29773185e-01,  6.74464554e-02,\n",
       "        8.25832188e-02, -4.34917957e-02,  4.15335968e-02, -9.65461135e-02,\n",
       "       -3.42153572e-02,  6.13581017e-02, -5.56484796e-02, -7.63703557e-03,\n",
       "       -5.03940433e-02,  7.48961568e-02, -4.04553376e-02, -4.53252122e-02,\n",
       "       -2.48705409e-02, -6.81427792e-02, -1.19851336e-01, -1.46040518e-03,\n",
       "        2.55184108e-03, -9.37480852e-02, -4.26071621e-02, -2.00331286e-02,\n",
       "        2.87593603e-02, -6.92993328e-02,  1.00275893e-02,  8.96336744e-04,\n",
       "        1.32769167e-01,  6.23399485e-03, -3.08007747e-03,  1.46783078e-02,\n",
       "        4.01196033e-02, -3.29340037e-05,  1.96143445e-02,  1.43831536e-01,\n",
       "       -4.21286337e-02, -2.65204217e-02, -1.80622973e-02,  4.75672185e-02,\n",
       "        3.57646458e-02,  5.23649193e-02,  3.63554829e-03,  7.04426542e-02,\n",
       "       -2.60557625e-02, -2.49712970e-02, -1.11792609e-02, -2.46893857e-02,\n",
       "       -3.41893844e-02, -3.86450090e-03, -8.38279724e-02, -1.00701638e-02,\n",
       "       -9.68417302e-02, -2.87084263e-02,  6.16596527e-02, -2.70111524e-02,\n",
       "        3.37847844e-02,  1.06067518e-02,  9.32938978e-02,  8.40997770e-02,\n",
       "        9.70854461e-02, -6.41414314e-04, -5.85164949e-02, -3.49408127e-02,\n",
       "        2.32457183e-02,  2.41421741e-02,  9.03776102e-03, -6.10216036e-02,\n",
       "        8.96442123e-03,  1.61935873e-02,  2.56265868e-02,  8.30461159e-02,\n",
       "       -8.11284408e-02, -2.58378655e-04,  1.40871152e-01, -2.12826971e-02,\n",
       "       -1.47411749e-01, -3.14482525e-02,  2.19504666e-02,  3.69035192e-02,\n",
       "        4.18353714e-02, -1.02795228e-01, -1.24128751e-01, -1.99791677e-02,\n",
       "        4.83582951e-02, -2.08577514e-02,  7.03508109e-02, -7.54659921e-02,\n",
       "       -6.20336756e-02,  4.43049660e-03,  3.10019869e-02,  3.75561826e-02,\n",
       "       -3.64921652e-02,  5.96306995e-02, -5.76091371e-02,  5.77018596e-02,\n",
       "       -1.09729730e-01, -5.53957708e-02, -2.83655822e-02,  1.64113306e-02,\n",
       "        8.86768326e-02,  1.59735948e-01, -3.19493227e-02, -1.02740385e-01,\n",
       "       -3.81668634e-03,  4.45205159e-02,  6.80665672e-02, -1.87013764e-02,\n",
       "       -4.73693665e-03, -4.83670905e-02,  5.82671426e-02, -5.51398285e-02,\n",
       "        7.66585618e-02, -6.51081055e-02,  9.20398161e-02,  4.05590385e-02,\n",
       "        1.30269313e-02,  3.61332297e-02,  3.95346135e-02,  4.74875700e-03,\n",
       "       -2.49997862e-02, -7.20974011e-03, -1.88105833e-02,  2.58076247e-02,\n",
       "       -5.99639826e-02, -9.34645440e-03,  5.20188957e-02,  3.51248533e-02,\n",
       "       -1.76731050e-02,  3.31161283e-02, -9.49751586e-03,  2.66715698e-02,\n",
       "        3.53997834e-02, -2.34746300e-02, -1.49301626e-02,  1.77430746e-03,\n",
       "       -1.04395561e-01, -9.88866668e-03, -1.61379166e-02,  4.01679613e-02,\n",
       "        2.27362420e-02, -2.17149071e-02,  2.94348318e-02,  9.95190963e-02,\n",
       "       -4.32178527e-02,  4.99926321e-02, -6.86487705e-02,  1.16120903e-02,\n",
       "       -9.21644270e-03, -1.91097893e-03, -9.44670755e-03, -4.85876197e-04,\n",
       "       -4.77269962e-02,  5.51423766e-02,  6.54815361e-02, -4.81810374e-03,\n",
       "        4.99324650e-02,  9.87115353e-02,  4.30110842e-02,  8.21192041e-02,\n",
       "        3.01010162e-02, -2.82975696e-02,  1.77318510e-02,  2.98905955e-03,\n",
       "       -5.61913401e-02, -2.75982488e-02,  3.94750983e-02,  4.68719117e-02,\n",
       "       -4.54176627e-02, -2.27284413e-02, -1.65842958e-02, -3.08038685e-02,\n",
       "       -1.37280282e-02,  2.76846681e-02, -4.02916819e-02,  3.50677483e-02,\n",
       "       -5.78317009e-02,  1.75822079e-02, -2.84524038e-02,  3.84100191e-02,\n",
       "       -1.05551723e-02,  9.48307663e-02, -5.39948344e-02, -5.33957593e-02],\n",
       "      dtype=float32)"
      ]
     },
     "execution_count": 96,
     "metadata": {},
     "output_type": "execute_result"
    }
   ],
   "source": [
    "get_embedding(data['word1'][0])"
   ]
  },
  {
   "cell_type": "code",
   "execution_count": null,
   "metadata": {},
   "outputs": [
    {
     "name": "stdout",
     "output_type": "stream",
     "text": [
      "None\n"
     ]
    }
   ],
   "source": [
    "morph = pymorphy2.MorphAnalyzer()\n",
    "\n",
    "word = 'знамя_NOUN'\n",
    "parsed_word = morph.parse(word)[0]\n",
    "pos = parsed_word.tag.POS\n",
    "\n",
    "print(pos)"
   ]
  },
  {
   "cell_type": "code",
   "execution_count": null,
   "metadata": {},
   "outputs": [],
   "source": [
    "\n"
   ]
  }
 ],
 "metadata": {
  "kernelspec": {
   "display_name": "base",
   "language": "python",
   "name": "python3"
  },
  "language_info": {
   "codemirror_mode": {
    "name": "ipython",
    "version": 3
   },
   "file_extension": ".py",
   "mimetype": "text/x-python",
   "name": "python",
   "nbconvert_exporter": "python",
   "pygments_lexer": "ipython3",
   "version": "3.9.7"
  }
 },
 "nbformat": 4,
 "nbformat_minor": 2
}
