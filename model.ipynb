{
 "cells": [
  {
   "cell_type": "markdown",
   "metadata": {},
   "source": [
    "Скачивание всех зависимостей проекта"
   ]
  },
  {
   "cell_type": "code",
   "execution_count": 7,
   "metadata": {},
   "outputs": [],
   "source": [
    "!pip install -r requirements.txt"
   ]
  },
  {
   "cell_type": "markdown",
   "metadata": {},
   "source": [
    "Авторизация в wandb "
   ]
  },
  {
   "cell_type": "code",
   "execution_count": 14,
   "metadata": {},
   "outputs": [
    {
     "name": "stderr",
     "output_type": "stream",
     "text": [
      "\"cat\" �� ���� ����७��� ��� ���譥�\n",
      "��������, �ᯮ��塞�� �ணࠬ��� ��� ������ 䠩���.\n"
     ]
    }
   ],
   "source": [
    "!wandb login | cat wandb_secret.txt"
   ]
  },
  {
   "cell_type": "markdown",
   "metadata": {},
   "source": [
    "Импорт библиотек"
   ]
  },
  {
   "cell_type": "code",
   "execution_count": 313,
   "metadata": {},
   "outputs": [],
   "source": [
    "import pandas as pd\n",
    "import numpy as np\n",
    "import tensorflow as tf\n",
    "import optuna\n",
    "import keras \n",
    "\n",
    "from catboost import CatBoostClassifier\n",
    "from sklearn.model_selection import train_test_split\n",
    "from sklearn.metrics import mean_absolute_error, accuracy_score\n",
    "from sklearn.metrics import roc_curve, auc\n",
    "from sklearn.decomposition import PCA\n",
    "\n",
    "import matplotlib.pyplot as plt\n",
    "\n",
    "import pymorphy2\n",
    "import Levenshtein\n",
    "import gensim.downloader\n",
    "import wandb\n",
    "import json\n",
    "import pickle\n",
    "from os import path\n",
    "\n",
    "import warnings\n",
    "warnings.filterwarnings(\"ignore\")"
   ]
  },
  {
   "cell_type": "markdown",
   "metadata": {},
   "source": [
    "Чтение данных"
   ]
  },
  {
   "cell_type": "code",
   "execution_count": 314,
   "metadata": {},
   "outputs": [],
   "source": [
    "# конфигурация\n",
    "with open('config.json', 'r') as file:\n",
    "    config = json.load(file)\n",
    "\n",
    "cat = config['catboost']\n",
    "nn = config['nn']\n",
    "data_path = config['data_path']\n"
   ]
  },
  {
   "cell_type": "code",
   "execution_count": 315,
   "metadata": {},
   "outputs": [],
   "source": [
    "# датафрейм \n",
    "data = pd.read_csv(data_path, index_col=0)"
   ]
  },
  {
   "cell_type": "markdown",
   "metadata": {},
   "source": [
    "Препроцессинг"
   ]
  },
  {
   "cell_type": "code",
   "execution_count": 316,
   "metadata": {},
   "outputs": [],
   "source": [
    "# installing model\n",
    "word2vec_rus = gensim.downloader.load('word2vec-ruscorpora-300')"
   ]
  },
  {
   "cell_type": "code",
   "execution_count": 317,
   "metadata": {},
   "outputs": [],
   "source": [
    "morph = pymorphy2.MorphAnalyzer()"
   ]
  },
  {
   "cell_type": "code",
   "execution_count": 318,
   "metadata": {},
   "outputs": [],
   "source": [
    "# get a part of speech needed to make an embedding of word\n",
    "def get_part_of_speech(word):\n",
    "    \n",
    "    parsed_word = morph.parse(word)[0]\n",
    "    pos = parsed_word.tag.POS\n",
    "\n",
    "    if pos == \"ADJF\":\n",
    "        return \"ADJ\"\n",
    "    \n",
    "    return pos "
   ]
  },
  {
   "cell_type": "code",
   "execution_count": 319,
   "metadata": {},
   "outputs": [],
   "source": [
    "# making embedding by pretrained word2vec model \n",
    "def get_embedding(word):\n",
    "\n",
    "    w2v_word = f\"{word}_{get_part_of_speech(word)}\"\n",
    "\n",
    "    try:\n",
    "        emb = word2vec_rus[w2v_word]\n",
    "\n",
    "    except KeyError:\n",
    "        return None\n",
    "    \n",
    "    return emb"
   ]
  },
  {
   "cell_type": "code",
   "execution_count": 320,
   "metadata": {},
   "outputs": [
    {
     "data": {
      "text/html": [
       "<div>\n",
       "<style scoped>\n",
       "    .dataframe tbody tr th:only-of-type {\n",
       "        vertical-align: middle;\n",
       "    }\n",
       "\n",
       "    .dataframe tbody tr th {\n",
       "        vertical-align: top;\n",
       "    }\n",
       "\n",
       "    .dataframe thead th {\n",
       "        text-align: right;\n",
       "    }\n",
       "</style>\n",
       "<table border=\"1\" class=\"dataframe\">\n",
       "  <thead>\n",
       "    <tr style=\"text-align: right;\">\n",
       "      <th></th>\n",
       "      <th>word1</th>\n",
       "      <th>word2</th>\n",
       "      <th>label</th>\n",
       "      <th>emb_1_0</th>\n",
       "      <th>emb_1_1</th>\n",
       "      <th>emb_1_2</th>\n",
       "      <th>emb_1_3</th>\n",
       "      <th>emb_1_4</th>\n",
       "      <th>emb_1_5</th>\n",
       "      <th>emb_1_6</th>\n",
       "      <th>...</th>\n",
       "      <th>emb_2_291</th>\n",
       "      <th>emb_2_292</th>\n",
       "      <th>emb_2_293</th>\n",
       "      <th>emb_2_294</th>\n",
       "      <th>emb_2_295</th>\n",
       "      <th>emb_2_296</th>\n",
       "      <th>emb_2_297</th>\n",
       "      <th>emb_2_298</th>\n",
       "      <th>emb_2_299</th>\n",
       "      <th>lev_dist</th>\n",
       "    </tr>\n",
       "  </thead>\n",
       "  <tbody>\n",
       "    <tr>\n",
       "      <th>0</th>\n",
       "      <td>целый</td>\n",
       "      <td>цельный</td>\n",
       "      <td>1</td>\n",
       "      <td>-0.019124</td>\n",
       "      <td>0.034811</td>\n",
       "      <td>0.057754</td>\n",
       "      <td>0.119841</td>\n",
       "      <td>-0.034180</td>\n",
       "      <td>0.042868</td>\n",
       "      <td>0.015424</td>\n",
       "      <td>...</td>\n",
       "      <td>0.032209</td>\n",
       "      <td>0.014659</td>\n",
       "      <td>0.024586</td>\n",
       "      <td>-0.071244</td>\n",
       "      <td>-0.106860</td>\n",
       "      <td>0.002109</td>\n",
       "      <td>0.057067</td>\n",
       "      <td>-0.029967</td>\n",
       "      <td>0.069121</td>\n",
       "      <td>2</td>\n",
       "    </tr>\n",
       "    <tr>\n",
       "      <th>1</th>\n",
       "      <td>сравнимый</td>\n",
       "      <td>неорганичный</td>\n",
       "      <td>0</td>\n",
       "      <td>-0.043983</td>\n",
       "      <td>-0.009047</td>\n",
       "      <td>-0.063538</td>\n",
       "      <td>0.147805</td>\n",
       "      <td>-0.161587</td>\n",
       "      <td>0.027221</td>\n",
       "      <td>0.032012</td>\n",
       "      <td>...</td>\n",
       "      <td>-0.034892</td>\n",
       "      <td>0.018441</td>\n",
       "      <td>0.069707</td>\n",
       "      <td>-0.001893</td>\n",
       "      <td>-0.062972</td>\n",
       "      <td>0.145138</td>\n",
       "      <td>0.147791</td>\n",
       "      <td>-0.062155</td>\n",
       "      <td>0.080968</td>\n",
       "      <td>7</td>\n",
       "    </tr>\n",
       "    <tr>\n",
       "      <th>2</th>\n",
       "      <td>чубастый</td>\n",
       "      <td>завоевательный</td>\n",
       "      <td>0</td>\n",
       "      <td>-0.051917</td>\n",
       "      <td>0.044872</td>\n",
       "      <td>0.014789</td>\n",
       "      <td>0.002823</td>\n",
       "      <td>-0.002203</td>\n",
       "      <td>0.050730</td>\n",
       "      <td>0.031053</td>\n",
       "      <td>...</td>\n",
       "      <td>0.046212</td>\n",
       "      <td>-0.020866</td>\n",
       "      <td>-0.080959</td>\n",
       "      <td>-0.085725</td>\n",
       "      <td>-0.003354</td>\n",
       "      <td>0.015747</td>\n",
       "      <td>0.017519</td>\n",
       "      <td>-0.042495</td>\n",
       "      <td>0.167213</td>\n",
       "      <td>11</td>\n",
       "    </tr>\n",
       "    <tr>\n",
       "      <th>3</th>\n",
       "      <td>обидчивый</td>\n",
       "      <td>азарт</td>\n",
       "      <td>0</td>\n",
       "      <td>0.023674</td>\n",
       "      <td>0.052748</td>\n",
       "      <td>-0.034327</td>\n",
       "      <td>-0.031669</td>\n",
       "      <td>-0.014316</td>\n",
       "      <td>0.073295</td>\n",
       "      <td>-0.061295</td>\n",
       "      <td>...</td>\n",
       "      <td>-0.039973</td>\n",
       "      <td>-0.012380</td>\n",
       "      <td>-0.012538</td>\n",
       "      <td>-0.200660</td>\n",
       "      <td>-0.089638</td>\n",
       "      <td>-0.017675</td>\n",
       "      <td>0.042906</td>\n",
       "      <td>-0.012042</td>\n",
       "      <td>-0.019632</td>\n",
       "      <td>9</td>\n",
       "    </tr>\n",
       "    <tr>\n",
       "      <th>4</th>\n",
       "      <td>личностный</td>\n",
       "      <td>личный</td>\n",
       "      <td>1</td>\n",
       "      <td>-0.045874</td>\n",
       "      <td>-0.051794</td>\n",
       "      <td>-0.059747</td>\n",
       "      <td>0.019997</td>\n",
       "      <td>-0.075421</td>\n",
       "      <td>-0.042737</td>\n",
       "      <td>-0.057829</td>\n",
       "      <td>...</td>\n",
       "      <td>0.022120</td>\n",
       "      <td>-0.057636</td>\n",
       "      <td>0.027975</td>\n",
       "      <td>-0.042808</td>\n",
       "      <td>-0.101067</td>\n",
       "      <td>0.031723</td>\n",
       "      <td>0.043072</td>\n",
       "      <td>-0.031811</td>\n",
       "      <td>0.032527</td>\n",
       "      <td>4</td>\n",
       "    </tr>\n",
       "  </tbody>\n",
       "</table>\n",
       "<p>5 rows × 604 columns</p>\n",
       "</div>"
      ],
      "text/plain": [
       "        word1           word2  label   emb_1_0   emb_1_1   emb_1_2   emb_1_3  \\\n",
       "0       целый         цельный      1 -0.019124  0.034811  0.057754  0.119841   \n",
       "1   сравнимый    неорганичный      0 -0.043983 -0.009047 -0.063538  0.147805   \n",
       "2    чубастый  завоевательный      0 -0.051917  0.044872  0.014789  0.002823   \n",
       "3   обидчивый           азарт      0  0.023674  0.052748 -0.034327 -0.031669   \n",
       "4  личностный          личный      1 -0.045874 -0.051794 -0.059747  0.019997   \n",
       "\n",
       "    emb_1_4   emb_1_5   emb_1_6  ...  emb_2_291  emb_2_292  emb_2_293  \\\n",
       "0 -0.034180  0.042868  0.015424  ...   0.032209   0.014659   0.024586   \n",
       "1 -0.161587  0.027221  0.032012  ...  -0.034892   0.018441   0.069707   \n",
       "2 -0.002203  0.050730  0.031053  ...   0.046212  -0.020866  -0.080959   \n",
       "3 -0.014316  0.073295 -0.061295  ...  -0.039973  -0.012380  -0.012538   \n",
       "4 -0.075421 -0.042737 -0.057829  ...   0.022120  -0.057636   0.027975   \n",
       "\n",
       "   emb_2_294  emb_2_295  emb_2_296  emb_2_297  emb_2_298  emb_2_299  lev_dist  \n",
       "0  -0.071244  -0.106860   0.002109   0.057067  -0.029967   0.069121         2  \n",
       "1  -0.001893  -0.062972   0.145138   0.147791  -0.062155   0.080968         7  \n",
       "2  -0.085725  -0.003354   0.015747   0.017519  -0.042495   0.167213        11  \n",
       "3  -0.200660  -0.089638  -0.017675   0.042906  -0.012042  -0.019632         9  \n",
       "4  -0.042808  -0.101067   0.031723   0.043072  -0.031811   0.032527         4  \n",
       "\n",
       "[5 rows x 604 columns]"
      ]
     },
     "execution_count": 320,
     "metadata": {},
     "output_type": "execute_result"
    }
   ],
   "source": [
    "# add extra columns for embeddings \n",
    "for i in range(600):\n",
    "    data[f\"emb_{int(i > 299) + 1}_{i % 300}\"] = 0\n",
    "# add extra columns for Levenshtein distance\n",
    "data[\"lev_dist\"] = 0\n",
    "\n",
    "rows_to_drop = []\n",
    "\n",
    "# add embeddings to dataframe \n",
    "for i in range(len(data)):\n",
    "\n",
    "    # get embs for two words\n",
    "    word1 = data.word1[i]\n",
    "    word2 = data.word2[i]\n",
    "    emb1 = get_embedding(word1)\n",
    "    emb2 = get_embedding(word2)\n",
    "\n",
    "    if emb1 is not None and emb2 is not None:\n",
    "        # add embeddings\n",
    "        data.loc[i, \"emb_1_0\":\"emb_1_299\"] = emb1\n",
    "        data.loc[i, \"emb_2_0\":\"emb_2_299\"] = emb2\n",
    "        data.loc[i, \"lev_dist\"] = Levenshtein.distance(word1, word2)\n",
    "        # print(\"YES\", data.word1[i], data.word2[i])\n",
    "\n",
    "    else: \n",
    "        # delete words that are not in word2vec vocabulary\n",
    "        rows_to_drop.append(i)\n",
    "        # print(\"NO\", data.word1[i], data.word2[i])\n",
    "\n",
    "data = data.drop(rows_to_drop, axis=0).reset_index(drop=True)\n",
    "data.head()"
   ]
  },
  {
   "cell_type": "markdown",
   "metadata": {},
   "source": [
    "PCA сокращение размерности эмбедингов"
   ]
  },
  {
   "cell_type": "code",
   "execution_count": 321,
   "metadata": {},
   "outputs": [],
   "source": [
    "# fitting PCA\n",
    "def fit_pca(X, n):\n",
    "    pca = PCA(n_components=n)\n",
    "    pca.fit(X)\n",
    "    return pca\n",
    "\n",
    "# transform dataset to n_componets dimansion\n",
    "def reduce_dimension(pca, X):\n",
    "    X_transformed = pca.transform(X)\n",
    "    return X_transformed"
   ]
  },
  {
   "cell_type": "code",
   "execution_count": 322,
   "metadata": {},
   "outputs": [
    {
     "data": {
      "text/html": [
       "<div>\n",
       "<style scoped>\n",
       "    .dataframe tbody tr th:only-of-type {\n",
       "        vertical-align: middle;\n",
       "    }\n",
       "\n",
       "    .dataframe tbody tr th {\n",
       "        vertical-align: top;\n",
       "    }\n",
       "\n",
       "    .dataframe thead th {\n",
       "        text-align: right;\n",
       "    }\n",
       "</style>\n",
       "<table border=\"1\" class=\"dataframe\">\n",
       "  <thead>\n",
       "    <tr style=\"text-align: right;\">\n",
       "      <th></th>\n",
       "      <th>emb_1_0</th>\n",
       "      <th>emb_1_1</th>\n",
       "      <th>emb_1_2</th>\n",
       "      <th>emb_1_3</th>\n",
       "      <th>emb_1_4</th>\n",
       "      <th>emb_1_5</th>\n",
       "      <th>emb_1_6</th>\n",
       "      <th>emb_1_7</th>\n",
       "      <th>emb_1_8</th>\n",
       "      <th>emb_1_9</th>\n",
       "      <th>...</th>\n",
       "      <th>emb_2_141</th>\n",
       "      <th>emb_2_142</th>\n",
       "      <th>emb_2_143</th>\n",
       "      <th>emb_2_144</th>\n",
       "      <th>emb_2_145</th>\n",
       "      <th>emb_2_146</th>\n",
       "      <th>emb_2_147</th>\n",
       "      <th>emb_2_148</th>\n",
       "      <th>emb_2_149</th>\n",
       "      <th>lev_dist</th>\n",
       "    </tr>\n",
       "  </thead>\n",
       "  <tbody>\n",
       "    <tr>\n",
       "      <th>0</th>\n",
       "      <td>0.092990</td>\n",
       "      <td>0.064130</td>\n",
       "      <td>-0.009231</td>\n",
       "      <td>-0.117480</td>\n",
       "      <td>0.119545</td>\n",
       "      <td>-0.012408</td>\n",
       "      <td>0.001258</td>\n",
       "      <td>0.036715</td>\n",
       "      <td>0.056220</td>\n",
       "      <td>0.036374</td>\n",
       "      <td>...</td>\n",
       "      <td>-0.000511</td>\n",
       "      <td>0.058466</td>\n",
       "      <td>-0.041764</td>\n",
       "      <td>0.002390</td>\n",
       "      <td>0.070631</td>\n",
       "      <td>0.142978</td>\n",
       "      <td>0.014928</td>\n",
       "      <td>-0.035406</td>\n",
       "      <td>0.012980</td>\n",
       "      <td>2</td>\n",
       "    </tr>\n",
       "    <tr>\n",
       "      <th>1</th>\n",
       "      <td>-0.073190</td>\n",
       "      <td>0.121473</td>\n",
       "      <td>0.159301</td>\n",
       "      <td>-0.092435</td>\n",
       "      <td>-0.064992</td>\n",
       "      <td>0.211332</td>\n",
       "      <td>0.043881</td>\n",
       "      <td>-0.079574</td>\n",
       "      <td>0.139461</td>\n",
       "      <td>-0.007541</td>\n",
       "      <td>...</td>\n",
       "      <td>-0.006609</td>\n",
       "      <td>-0.016625</td>\n",
       "      <td>0.008508</td>\n",
       "      <td>0.047416</td>\n",
       "      <td>-0.001658</td>\n",
       "      <td>-0.073382</td>\n",
       "      <td>-0.036836</td>\n",
       "      <td>0.029658</td>\n",
       "      <td>-0.052959</td>\n",
       "      <td>7</td>\n",
       "    </tr>\n",
       "    <tr>\n",
       "      <th>2</th>\n",
       "      <td>0.404789</td>\n",
       "      <td>-0.048654</td>\n",
       "      <td>-0.008222</td>\n",
       "      <td>-0.030356</td>\n",
       "      <td>-0.002151</td>\n",
       "      <td>0.115744</td>\n",
       "      <td>-0.036573</td>\n",
       "      <td>0.107037</td>\n",
       "      <td>-0.181172</td>\n",
       "      <td>-0.009346</td>\n",
       "      <td>...</td>\n",
       "      <td>-0.002955</td>\n",
       "      <td>-0.030410</td>\n",
       "      <td>-0.047341</td>\n",
       "      <td>0.000211</td>\n",
       "      <td>0.052878</td>\n",
       "      <td>0.098818</td>\n",
       "      <td>-0.004085</td>\n",
       "      <td>-0.033457</td>\n",
       "      <td>-0.032421</td>\n",
       "      <td>11</td>\n",
       "    </tr>\n",
       "    <tr>\n",
       "      <th>3</th>\n",
       "      <td>0.093875</td>\n",
       "      <td>-0.295198</td>\n",
       "      <td>-0.023502</td>\n",
       "      <td>0.178027</td>\n",
       "      <td>-0.329818</td>\n",
       "      <td>-0.137434</td>\n",
       "      <td>0.063094</td>\n",
       "      <td>-0.033623</td>\n",
       "      <td>-0.093358</td>\n",
       "      <td>-0.018620</td>\n",
       "      <td>...</td>\n",
       "      <td>-0.064777</td>\n",
       "      <td>0.029583</td>\n",
       "      <td>0.039319</td>\n",
       "      <td>0.038478</td>\n",
       "      <td>-0.115790</td>\n",
       "      <td>-0.005354</td>\n",
       "      <td>-0.002213</td>\n",
       "      <td>0.029377</td>\n",
       "      <td>0.006122</td>\n",
       "      <td>9</td>\n",
       "    </tr>\n",
       "    <tr>\n",
       "      <th>4</th>\n",
       "      <td>-0.438857</td>\n",
       "      <td>-0.025888</td>\n",
       "      <td>0.076917</td>\n",
       "      <td>-0.048276</td>\n",
       "      <td>-0.095658</td>\n",
       "      <td>-0.114348</td>\n",
       "      <td>-0.050337</td>\n",
       "      <td>-0.016791</td>\n",
       "      <td>0.099324</td>\n",
       "      <td>-0.067101</td>\n",
       "      <td>...</td>\n",
       "      <td>-0.018640</td>\n",
       "      <td>0.033988</td>\n",
       "      <td>0.071359</td>\n",
       "      <td>0.045789</td>\n",
       "      <td>-0.003876</td>\n",
       "      <td>0.105136</td>\n",
       "      <td>0.035265</td>\n",
       "      <td>0.043053</td>\n",
       "      <td>0.035370</td>\n",
       "      <td>4</td>\n",
       "    </tr>\n",
       "  </tbody>\n",
       "</table>\n",
       "<p>5 rows × 301 columns</p>\n",
       "</div>"
      ],
      "text/plain": [
       "    emb_1_0   emb_1_1   emb_1_2   emb_1_3   emb_1_4   emb_1_5   emb_1_6  \\\n",
       "0  0.092990  0.064130 -0.009231 -0.117480  0.119545 -0.012408  0.001258   \n",
       "1 -0.073190  0.121473  0.159301 -0.092435 -0.064992  0.211332  0.043881   \n",
       "2  0.404789 -0.048654 -0.008222 -0.030356 -0.002151  0.115744 -0.036573   \n",
       "3  0.093875 -0.295198 -0.023502  0.178027 -0.329818 -0.137434  0.063094   \n",
       "4 -0.438857 -0.025888  0.076917 -0.048276 -0.095658 -0.114348 -0.050337   \n",
       "\n",
       "    emb_1_7   emb_1_8   emb_1_9  ...  emb_2_141  emb_2_142  emb_2_143  \\\n",
       "0  0.036715  0.056220  0.036374  ...  -0.000511   0.058466  -0.041764   \n",
       "1 -0.079574  0.139461 -0.007541  ...  -0.006609  -0.016625   0.008508   \n",
       "2  0.107037 -0.181172 -0.009346  ...  -0.002955  -0.030410  -0.047341   \n",
       "3 -0.033623 -0.093358 -0.018620  ...  -0.064777   0.029583   0.039319   \n",
       "4 -0.016791  0.099324 -0.067101  ...  -0.018640   0.033988   0.071359   \n",
       "\n",
       "   emb_2_144  emb_2_145  emb_2_146  emb_2_147  emb_2_148  emb_2_149  lev_dist  \n",
       "0   0.002390   0.070631   0.142978   0.014928  -0.035406   0.012980         2  \n",
       "1   0.047416  -0.001658  -0.073382  -0.036836   0.029658  -0.052959         7  \n",
       "2   0.000211   0.052878   0.098818  -0.004085  -0.033457  -0.032421        11  \n",
       "3   0.038478  -0.115790  -0.005354  -0.002213   0.029377   0.006122         9  \n",
       "4   0.045789  -0.003876   0.105136   0.035265   0.043053   0.035370         4  \n",
       "\n",
       "[5 rows x 301 columns]"
      ]
     },
     "execution_count": 322,
     "metadata": {},
     "output_type": "execute_result"
    }
   ],
   "source": [
    "X = data.drop([\"word1\", \"word2\", \"label\"], axis=1)\n",
    "y = data[\"label\"]\n",
    "\n",
    "pca_n_components = config[\"pca_n_components\"]\n",
    "\n",
    "# fit PCA\n",
    "pca = fit_pca(pd.concat([X.loc[:, \"emb_1_0\":\"emb_1_299\"], X.loc[:, \"emb_2_0\":\"emb_2_299\"].rename(columns={f\"emb_2_{i}\":f\"emb_1_{i}\" for i in range(300)}) ], ignore_index=True), pca_n_components)\n",
    "\n",
    "# reduce dimensuon with PCA\n",
    "X.loc[:, \"emb_1_0\":f\"emb_1_{pca_n_components-1}\"] = reduce_dimension(pca, X.loc[:, \"emb_1_0\":\"emb_1_299\"])\n",
    "X.loc[:, f\"emb_2_0\":f\"emb_2_{pca_n_components-1}\"] = reduce_dimension(pca, X.loc[:, \"emb_2_0\":\"emb_2_299\"].rename(columns={f\"emb_2_{i}\":f\"emb_1_{i}\" for i in range(300)}))\n",
    "\n",
    "# drop extra columns of embedding\n",
    "X = X.drop(list(X.columns[pca_n_components:300]) + list(X.columns[300+pca_n_components:-1]), axis=1)\n",
    "X.head()"
   ]
  },
  {
   "cell_type": "code",
   "execution_count": 323,
   "metadata": {},
   "outputs": [
    {
     "data": {
      "text/plain": [
       "0.8157903193842567"
      ]
     },
     "execution_count": 323,
     "metadata": {},
     "output_type": "execute_result"
    }
   ],
   "source": [
    "# PCA explained variance \n",
    "np.sum(pca.explained_variance_ratio_)"
   ]
  },
  {
   "cell_type": "markdown",
   "metadata": {},
   "source": [
    "Feature ingineering "
   ]
  },
  {
   "attachments": {
    "image.png": {
     "image/png": "[encoded data removed]"
    }
   },
   "cell_type": "markdown",
   "metadata": {},
   "source": [
    "![image.png](attachment:image.png)\n",
    "\n",
    "На одном из прогонов модели после вывода слов, в которых модель ошиблась, я заметил что модель часто допускает ошибку первого рода (ложноположительные объекты). Хотя по словам, в которых модель ошиблась, легко понять что они не паронимы, тк между ними большое расстояние Левенштейна. Возможно, модель не обращает достаточного внимания на слова с большим расстоянием Левенштейна, поэтому введем два новых признака\n",
    "\n",
    " - квадрат расстояния Левенштейна\n",
    " - процент добавленных символов (расстояние Левенштейна, деленое на максимальную длину слова)"
   ]
  },
  {
   "cell_type": "code",
   "execution_count": 324,
   "metadata": {},
   "outputs": [],
   "source": [
    "X[\"lev_dist_2\"] = X.lev_dist**2\n",
    "X[\"lev_dist_%\"] = 0\n",
    "for i in range(len(data.word1)):\n",
    "    X[\"lev_dist_%\"][i] = X.lev_dist[i] / max(len(data.word1[i]), len(data.word2[i]))"
   ]
  },
  {
   "cell_type": "code",
   "execution_count": 325,
   "metadata": {},
   "outputs": [],
   "source": [
    "X_train, X_test, y_train, y_test = train_test_split(X, y, test_size=config['test_size'], random_state=42)"
   ]
  },
  {
   "cell_type": "markdown",
   "metadata": {},
   "source": [
    "Катбуст"
   ]
  },
  {
   "cell_type": "code",
   "execution_count": 326,
   "metadata": {},
   "outputs": [],
   "source": [
    "if config[\"logging\"]:\n",
    "    wandb.init(project=\"paronyms\", tags=[\"cat\", \"with dist 2\", \"with dist %\"])"
   ]
  },
  {
   "cell_type": "code",
   "execution_count": 327,
   "metadata": {},
   "outputs": [
    {
     "name": "stdout",
     "output_type": "stream",
     "text": [
      "Best Parameters: {'learning_rate': 0.011289064280955217, 'depth': 7, 'l2_leaf_reg': 0.5808384667318421, 'bagging_temperature': 0.09136846123232852}\n"
     ]
    }
   ],
   "source": [
    "with open('best_params.json', 'r') as file:\n",
    "    best_params = json.load(file)\n",
    "\n",
    "# # uncomment to train with optuna\n",
    "# def objective(trial):\n",
    "#     params = {\n",
    "#         'learning_rate': trial.suggest_loguniform('learning_rate', 0.01, 0.1),\n",
    "#         'depth': trial.suggest_int('depth', 4, 10),\n",
    "#         'l2_leaf_reg': trial.suggest_loguniform('l2_leaf_reg', 0.1, 10.0),\n",
    "#         'bagging_temperature': trial.suggest_loguniform('bagging_temperature', 0.01, 1.0)\n",
    "#     }\n",
    "\n",
    "#     model = CatBoostClassifier(verbose=0, **params)\n",
    "#     model.fit(X_train, y_train)\n",
    "#     predictions = model.predict(X_test)\n",
    "#     mae = mean_absolute_error(y_test, predictions)\n",
    "\n",
    "#     return mae\n",
    "\n",
    "# study = optuna.create_study(direction='minimize')\n",
    "# study.optimize(objective, n_trials=cat[\"n_trials\"])\n",
    "# best_params = study.best_params\n",
    "\n",
    "cat_model = CatBoostClassifier(verbose=0, **best_params)\n",
    "cat_model.fit(X_train, y_train)\n",
    "best_predictions = cat_model.predict(X_test)\n",
    "best_mae = mean_absolute_error(y_test, best_predictions)\n",
    "predictions = cat_model.predict_proba(X_test)\n",
    "\n",
    "print('Best Parameters:', best_params)"
   ]
  },
  {
   "cell_type": "code",
   "execution_count": 328,
   "metadata": {},
   "outputs": [
    {
     "name": "stdout",
     "output_type": "stream",
     "text": [
      "MAE: 0.0382507065456056  Accuracy: 0.970108695652174\n"
     ]
    }
   ],
   "source": [
    "treshold = cat[\"treshold\"]\n",
    "\n",
    "mae = mean_absolute_error(y_test, predictions[:, 1])\n",
    "acc = accuracy_score(y_test, [1 if prob > treshold else 0 for prob in predictions[:, 1]])\n",
    "print('MAE:', mae, ' Accuracy:', acc)\n",
    "\n",
    "if config[\"logging\"]:\n",
    "    wandb.log({'MAE': mae, 'Accuracy': acc, \"params\": best_params.update({\"pca_comp\": config[\"pca_n_components\"]})})\n",
    "    wandb.finish()"
   ]
  },
  {
   "cell_type": "code",
   "execution_count": 330,
   "metadata": {},
   "outputs": [
    {
     "data": {
      "text/html": [
       "<div>\n",
       "<style scoped>\n",
       "    .dataframe tbody tr th:only-of-type {\n",
       "        vertical-align: middle;\n",
       "    }\n",
       "\n",
       "    .dataframe tbody tr th {\n",
       "        vertical-align: top;\n",
       "    }\n",
       "\n",
       "    .dataframe thead th {\n",
       "        text-align: right;\n",
       "    }\n",
       "</style>\n",
       "<table border=\"1\" class=\"dataframe\">\n",
       "  <thead>\n",
       "    <tr style=\"text-align: right;\">\n",
       "      <th></th>\n",
       "      <th>word1</th>\n",
       "      <th>word2</th>\n",
       "      <th>preds</th>\n",
       "      <th>label</th>\n",
       "    </tr>\n",
       "  </thead>\n",
       "  <tbody>\n",
       "    <tr>\n",
       "      <th>1532</th>\n",
       "      <td>флегматический</td>\n",
       "      <td>конский</td>\n",
       "      <td>0.001232</td>\n",
       "      <td>0</td>\n",
       "    </tr>\n",
       "    <tr>\n",
       "      <th>1214</th>\n",
       "      <td>гуманизм</td>\n",
       "      <td>гуманность</td>\n",
       "      <td>0.984876</td>\n",
       "      <td>1</td>\n",
       "    </tr>\n",
       "    <tr>\n",
       "      <th>351</th>\n",
       "      <td>воспитательный</td>\n",
       "      <td>благодарственный</td>\n",
       "      <td>0.010091</td>\n",
       "      <td>0</td>\n",
       "    </tr>\n",
       "    <tr>\n",
       "      <th>420</th>\n",
       "      <td>ящер</td>\n",
       "      <td>человечий</td>\n",
       "      <td>0.001129</td>\n",
       "      <td>0</td>\n",
       "    </tr>\n",
       "    <tr>\n",
       "      <th>1392</th>\n",
       "      <td>певческий</td>\n",
       "      <td>певчий</td>\n",
       "      <td>0.998730</td>\n",
       "      <td>1</td>\n",
       "    </tr>\n",
       "  </tbody>\n",
       "</table>\n",
       "</div>"
      ],
      "text/plain": [
       "               word1             word2     preds  label\n",
       "1532  флегматический           конский  0.001232      0\n",
       "1214        гуманизм        гуманность  0.984876      1\n",
       "351   воспитательный  благодарственный  0.010091      0\n",
       "420             ящер         человечий  0.001129      0\n",
       "1392       певческий            певчий  0.998730      1"
      ]
     },
     "execution_count": 330,
     "metadata": {},
     "output_type": "execute_result"
    }
   ],
   "source": [
    "cat_pred_table = data.iloc[X_test.index][[\"word1\", \"word2\"]]\n",
    "cat_pred_table['preds'] = predictions[:, 1]\n",
    "cat_pred_table['label'] = y_test\n",
    "cat_pred_table.head()"
   ]
  },
  {
   "cell_type": "code",
   "execution_count": 363,
   "metadata": {},
   "outputs": [
    {
     "name": "stdout",
     "output_type": "stream",
     "text": [
      "Cлова, в которых модель ошиблась:\n",
      "\n",
      "               word1           word2  label\n",
      "1347       этический         близкий      0\n",
      "923   притягательный   покупательный      0\n",
      "111       городничий         горячий      0\n",
      "548        иноверный  единоверческий      0\n",
      "1466      заботливый         рабочий      0\n",
      "1735       заводской       складской      0\n",
      "1331       старинный       жизненный      0\n",
      "694     почтительный    добровольный      0\n",
      "940   реалистический     токсический      0\n",
      "367        житейский       жизненный      1\n",
      "530     произнесение       отрешение      0\n"
     ]
    }
   ],
   "source": [
    "errors = y_test != [1 if prob > treshold else 0 for prob in predictions[:, 1]]\n",
    "words_with_errors = data.iloc[errors[errors==True].index][[\"word1\", \"word2\", \"label\"]]\n",
    "print(\"Cлова, в которых модель ошиблась:\\n\")\n",
    "print(words_with_errors)"
   ]
  },
  {
   "cell_type": "code",
   "execution_count": 332,
   "metadata": {},
   "outputs": [
    {
     "name": "stdout",
     "output_type": "stream",
     "text": [
      "lev_dist: 5.299642230361403\n",
      "lev_dist_2: 3.9735101859550386\n",
      "lev_dist_%: 41.15247092579368\n"
     ]
    }
   ],
   "source": [
    "# get feature importance\n",
    "feature_importances = cat_model.feature_importances_\n",
    "\n",
    "for i, importance in enumerate(feature_importances[-3::]):\n",
    "    print(f\"{X.columns[-len(feature_importances[-3::])+i]}: {importance}\")"
   ]
  },
  {
   "cell_type": "code",
   "execution_count": 333,
   "metadata": {},
   "outputs": [
    {
     "data": {
      "image/png": "[encoded data removed]",
      "text/plain": [
       "<Figure size 640x480 with 1 Axes>"
      ]
     },
     "metadata": {},
     "output_type": "display_data"
    }
   ],
   "source": [
    "# plotting feature importance of embeddings\n",
    "plt.plot(cat_model.feature_importances_[:-3])\n",
    "plt.title('feature importance of embedding columns')\n",
    "None"
   ]
  },
  {
   "cell_type": "code",
   "execution_count": 354,
   "metadata": {},
   "outputs": [
    {
     "data": {
      "image/png": "[encoded data removed]",
      "text/plain": [
       "<Figure size 1000x500 with 1 Axes>"
      ]
     },
     "metadata": {},
     "output_type": "display_data"
    }
   ],
   "source": [
    "cat_pred_table.preds.hist(bins=150, figsize=(10, 5))\n",
    "plt.title(\"Распределение предсказаний модели\")\n",
    "None"
   ]
  },
  {
   "cell_type": "code",
   "execution_count": 336,
   "metadata": {},
   "outputs": [
    {
     "data": {
      "image/png": "[encoded data removed]",
      "text/plain": [
       "<Figure size 640x480 with 1 Axes>"
      ]
     },
     "metadata": {},
     "output_type": "display_data"
    }
   ],
   "source": [
    "x_values = []\n",
    "y_values = []\n",
    "\n",
    "step = 0.1\n",
    "x_cur = 0\n",
    "while x_cur <= 1:\n",
    "    df_inds = cat_pred_table[(x_cur <= cat_pred_table.preds) & (cat_pred_table.preds <= (x_cur + step))].index\n",
    "    mean_label = data.iloc[df_inds].label.values.mean()\n",
    "    x_values.append((x_cur+ x_cur+step)/2)\n",
    "    y_values.append(mean_label)\n",
    "    x_cur += step\n",
    "\n",
    "plt.step(x_values, y_values, where='post', color='blue', linestyle='-', linewidth=1.5)\n",
    "plt.xlabel('Предсказания модели', fontsize=12)\n",
    "plt.ylabel('Соотношение класса 1 к классу 0', fontsize=12)\n",
    "plt.title('График надежности')\n",
    "plt.grid(True, linestyle='--', alpha=0.6)\n",
    "plt.show()"
   ]
  },
  {
   "cell_type": "code",
   "execution_count": 337,
   "metadata": {},
   "outputs": [
    {
     "data": {
      "image/png": "[encoded data removed]",
      "text/plain": [
       "<Figure size 640x480 with 1 Axes>"
      ]
     },
     "metadata": {},
     "output_type": "display_data"
    }
   ],
   "source": [
    "fpr, tpr, thresholds = roc_curve(y_test, predictions[:, 1])\n",
    "\n",
    "# Расчет площади под ROC-кривой (AUC)\n",
    "roc_auc = auc(fpr, tpr)\n",
    "\n",
    "# Построение ROC-кривой\n",
    "plt.figure()\n",
    "lw = 2  # Ширина линии\n",
    "# plt.plot(fpr, tpr, color='darkorange', lw=lw, label='ROC curve (area = %0.2f)' % roc_auc)\n",
    "# plt.plot(fpr, tpr, color='navy', lw=lw, label='ROC curve (area = %0.3f)' % roc_auc)\n",
    "plt.plot(fpr, tpr, color='blue', lw=lw, label='ROC curve (area = %0.3f)' % roc_auc) # Голубой цвет\n",
    "plt.plot([0, 1], [0, 1], color='lightblue', lw=lw, linestyle='--')\n",
    "plt.xlim([0.0, 1.0])\n",
    "plt.ylim([0.0, 1.05])\n",
    "plt.xlabel('False Positive Rate')\n",
    "plt.ylabel('True Positive Rate')\n",
    "plt.title('ROC-AUC')\n",
    "plt.legend(loc=\"lower right\")\n",
    "plt.show()"
   ]
  },
  {
   "cell_type": "code",
   "execution_count": 338,
   "metadata": {},
   "outputs": [
    {
     "data": {
      "image/png": "[encoded data removed]",
      "text/plain": [
       "<Figure size 640x480 with 1 Axes>"
      ]
     },
     "metadata": {},
     "output_type": "display_data"
    },
    {
     "name": "stdout",
     "output_type": "stream",
     "text": [
      "5-й квантиль: 0.95\n",
      "95-й квантиль: 0.99\n"
     ]
    }
   ],
   "source": [
    "accuracy_scores = []\n",
    "\n",
    "for _ in range(300):\n",
    "    sample_indices = rng.choice(X_test.index, size=100, replace=False)\n",
    "    X_test_sample = X_test.loc[sample_indices]\n",
    "    y_test_sample = y_test.loc[sample_indices]\n",
    "\n",
    "    y_pred_sample = cat_model.predict(X_test_sample)\n",
    "\n",
    "    accuracy = accuracy_score(y_test_sample, y_pred_sample)\n",
    "    accuracy_scores.append(accuracy)\n",
    "\n",
    "plt.hist(accuracy_scores, bins=10, density=True, color='skyblue')\n",
    "plt.title('Распределение Accuracy для случайных подвыборок тестовой выборки')\n",
    "plt.xlabel('Accuracy Score')\n",
    "plt.ylabel('Частота')\n",
    "plt.grid(axis='y', alpha=0.75)\n",
    "plt.show()\n",
    "\n",
    "# Вычисление 5-го и 95-го квантилей\n",
    "quantile_5 = np.percentile(accuracy_scores, 5)\n",
    "quantile_95 = np.percentile(accuracy_scores, 95)\n",
    "\n",
    "print(f\"5-й квантиль: {quantile_5}\")\n",
    "print(f\"95-й квантиль: {quantile_95}\")"
   ]
  },
  {
   "cell_type": "markdown",
   "metadata": {},
   "source": [
    "Нейросеть"
   ]
  },
  {
   "cell_type": "code",
   "execution_count": 339,
   "metadata": {},
   "outputs": [],
   "source": [
    "# Логирование\n",
    "if config[\"logging\"]:\n",
    "    wandb.init(project=\"paronyms\", tags=[\"nn\", \"with dist 2\", \"with dist %\"])\n",
    "    wandb.log(nn)"
   ]
  },
  {
   "cell_type": "code",
   "execution_count": 356,
   "metadata": {},
   "outputs": [
    {
     "name": "stdout",
     "output_type": "stream",
     "text": [
      "\u001b[1m12/12\u001b[0m \u001b[32m━━━━━━━━━━━━━━━━━━━━\u001b[0m\u001b[37m\u001b[0m \u001b[1m0s\u001b[0m 5ms/step\n"
     ]
    }
   ],
   "source": [
    "nn_model = tf.keras.Sequential()\n",
    "\n",
    "optimizer = keras.optimizers.Adam(learning_rate=nn[\"lr\"])\n",
    "# optimizer = keras.optimizers.Adagrad(learning_rate=nn[\"lr\"], initial_accumulator_value=0.1) \n",
    "layers = nn[\"layers\"]\n",
    "activations = nn[\"activations\"]\n",
    "\n",
    "for i in range(len(layers)):\n",
    "    if i == 0:\n",
    "        nn_model.add(tf.keras.layers.Dense(layers[i], activation=activations[i], input_shape=(X_train.shape[1],)))\n",
    "    else:\n",
    "        nn_model.add(tf.keras.layers.Dense(layers[i], activation=activations[i]))\n",
    "\n",
    "nn_model.compile(optimizer=optimizer, loss='mean_absolute_error')\n",
    "\n",
    "history = nn_model.fit(X_train, y_train, epochs=nn[\"epochs\"], batch_size=nn[\"batch_size\"], verbose=0)\n",
    "\n",
    "nn_predictions = nn_model.predict(X_test)"
   ]
  },
  {
   "cell_type": "code",
   "execution_count": 357,
   "metadata": {},
   "outputs": [
    {
     "name": "stdout",
     "output_type": "stream",
     "text": [
      "MAE: 0.05719816310500344  Accuracy: 0.9429347826086957\n"
     ]
    },
    {
     "data": {
      "image/png": "[encoded data removed]",
      "text/plain": [
       "<Figure size 640x480 with 1 Axes>"
      ]
     },
     "metadata": {},
     "output_type": "display_data"
    }
   ],
   "source": [
    "treshold = nn[\"treshold\"]\n",
    "\n",
    "mae = mean_absolute_error(y_test, nn_predictions)\n",
    "acc = accuracy_score(y_test, [1 if prob > treshold else 0 for prob in nn_predictions])\n",
    "print('MAE:', mae, ' Accuracy:', acc)\n",
    "\n",
    "if config[\"logging\"]:\n",
    "    wandb.log({'MAE': mae, 'Accuracy': acc, \"params\": nn.update({\"pca_comp\": config[\"pca_n_components\"], \"optim\": \"adagrad\"})})\n",
    "    wandb.finish()\n",
    "\n",
    "# Plotting the loss\n",
    "plt.plot(history.history['loss'])\n",
    "plt.title('Model Loss')\n",
    "plt.ylabel('Loss')\n",
    "plt.xlabel('Epoch')\n",
    "plt.show()"
   ]
  },
  {
   "cell_type": "code",
   "execution_count": 358,
   "metadata": {},
   "outputs": [
    {
     "data": {
      "text/html": [
       "<div>\n",
       "<style scoped>\n",
       "    .dataframe tbody tr th:only-of-type {\n",
       "        vertical-align: middle;\n",
       "    }\n",
       "\n",
       "    .dataframe tbody tr th {\n",
       "        vertical-align: top;\n",
       "    }\n",
       "\n",
       "    .dataframe thead th {\n",
       "        text-align: right;\n",
       "    }\n",
       "</style>\n",
       "<table border=\"1\" class=\"dataframe\">\n",
       "  <thead>\n",
       "    <tr style=\"text-align: right;\">\n",
       "      <th></th>\n",
       "      <th>word1</th>\n",
       "      <th>word2</th>\n",
       "      <th>preds</th>\n",
       "      <th>label</th>\n",
       "    </tr>\n",
       "  </thead>\n",
       "  <tbody>\n",
       "    <tr>\n",
       "      <th>1532</th>\n",
       "      <td>флегматический</td>\n",
       "      <td>конский</td>\n",
       "      <td>1.441011e-31</td>\n",
       "      <td>0</td>\n",
       "    </tr>\n",
       "    <tr>\n",
       "      <th>1214</th>\n",
       "      <td>гуманизм</td>\n",
       "      <td>гуманность</td>\n",
       "      <td>1.000000e+00</td>\n",
       "      <td>1</td>\n",
       "    </tr>\n",
       "    <tr>\n",
       "      <th>351</th>\n",
       "      <td>воспитательный</td>\n",
       "      <td>благодарственный</td>\n",
       "      <td>2.212204e-34</td>\n",
       "      <td>0</td>\n",
       "    </tr>\n",
       "    <tr>\n",
       "      <th>420</th>\n",
       "      <td>ящер</td>\n",
       "      <td>человечий</td>\n",
       "      <td>2.740931e-21</td>\n",
       "      <td>0</td>\n",
       "    </tr>\n",
       "    <tr>\n",
       "      <th>1392</th>\n",
       "      <td>певческий</td>\n",
       "      <td>певчий</td>\n",
       "      <td>1.000000e+00</td>\n",
       "      <td>1</td>\n",
       "    </tr>\n",
       "  </tbody>\n",
       "</table>\n",
       "</div>"
      ],
      "text/plain": [
       "               word1             word2         preds  label\n",
       "1532  флегматический           конский  1.441011e-31      0\n",
       "1214        гуманизм        гуманность  1.000000e+00      1\n",
       "351   воспитательный  благодарственный  2.212204e-34      0\n",
       "420             ящер         человечий  2.740931e-21      0\n",
       "1392       певческий            певчий  1.000000e+00      1"
      ]
     },
     "execution_count": 358,
     "metadata": {},
     "output_type": "execute_result"
    }
   ],
   "source": [
    "nn_pred_table = data.iloc[X_test.index][[\"word1\", \"word2\"]]\n",
    "nn_pred_table['preds'] = nn_predictions\n",
    "nn_pred_table['label'] = y_test\n",
    "nn_pred_table.head()"
   ]
  },
  {
   "cell_type": "code",
   "execution_count": 365,
   "metadata": {},
   "outputs": [
    {
     "name": "stdout",
     "output_type": "stream",
     "text": [
      "Cлова, в которых модель ошиблась:\n",
      "\n",
      "               word1               word2         preds  label\n",
      "1347       этический             близкий  9.941038e-01      0\n",
      "923   притягательный       покупательный  1.000000e+00      0\n",
      "1185    производство  производительность  1.466089e-16      1\n",
      "111       городничий             горячий  1.000000e+00      0\n",
      "1492         наличие          наличность  8.769003e-02      1\n",
      "1173         звучный            широтный  1.000000e+00      0\n",
      "1466      заботливый             рабочий  1.000000e+00      0\n",
      "855          царский         царственный  1.180827e-04      1\n",
      "1735       заводской           складской  1.000000e+00      0\n",
      "1771      придворный            яростный  1.000000e+00      0\n",
      "1317         главный            ответный  9.999999e-01      0\n",
      "1331       старинный           жизненный  9.999856e-01      0\n",
      "324      пророческий     пророчественный  3.690706e-01      1\n",
      "450           формат            дипломат  9.998260e-01      0\n",
      "694     почтительный        добровольный  1.000000e+00      0\n",
      "940   реалистический         токсический  9.761196e-01      0\n",
      "427      бесчувствие    бесчувственность  8.267476e-05      1\n",
      "1602          единый        единственный  1.334743e-11      1\n",
      "1784     раздражение   раздражительность  7.490315e-15      1\n",
      "367        житейский           жизненный  1.507966e-06      1\n",
      "530     произнесение           отрешение  1.000000e+00      0\n"
     ]
    }
   ],
   "source": [
    "print(\"Cлова, в которых модель ошиблась:\\n\")\n",
    "print(nn_pred_table[(nn_pred_table['preds'] > treshold) != nn_pred_table['label']])"
   ]
  },
  {
   "cell_type": "code",
   "execution_count": 360,
   "metadata": {},
   "outputs": [
    {
     "data": {
      "image/png": "[encoded data removed]",
      "text/plain": [
       "<Figure size 640x480 with 1 Axes>"
      ]
     },
     "metadata": {},
     "output_type": "display_data"
    }
   ],
   "source": [
    "x_values = []\n",
    "y_values = []\n",
    "\n",
    "step = 0.1\n",
    "x_cur = 0\n",
    "while x_cur <= 1:   \n",
    "    df_inds = nn_pred_table[(x_cur <= nn_pred_table.preds) & (nn_pred_table.preds <= (x_cur + step))].index\n",
    "    mean_label = data.iloc[df_inds].label.values.mean()\n",
    "    x_values.append((x_cur + x_cur+step)/2)\n",
    "    y_values.append(mean_label)\n",
    "    x_cur += step\n",
    "\n",
    "plt.step(x_values, y_values, where='post', color='blue', linestyle='-', linewidth=1.5)\n",
    "plt.xlabel('Предсказания модели', fontsize=12)\n",
    "plt.ylabel('Соотношение класса 1 к классу 0', fontsize=12)\n",
    "plt.title('График надежности')\n",
    "plt.grid(True, linestyle='--', alpha=0.6)\n",
    "plt.show()"
   ]
  },
  {
   "cell_type": "code",
   "execution_count": 361,
   "metadata": {},
   "outputs": [
    {
     "data": {
      "image/png": "[encoded data removed]",
      "text/plain": [
       "<Figure size 1000x500 with 1 Axes>"
      ]
     },
     "metadata": {},
     "output_type": "display_data"
    }
   ],
   "source": [
    "nn_pred_table.preds.hist(bins=150, figsize=(10, 5))\n",
    "plt.title(\"Распределение предсказаний модели\")\n",
    "None"
   ]
  },
  {
   "cell_type": "markdown",
   "metadata": {},
   "source": [
    "Тестирование"
   ]
  },
  {
   "cell_type": "code",
   "execution_count": 345,
   "metadata": {},
   "outputs": [],
   "source": [
    "# function for testing new words\n",
    "def test(word1, word2, model):\n",
    "\n",
    "    # getting embs and lev dist \n",
    "    emb1, emb2 = get_embedding(word1), get_embedding(word2)\n",
    "    pca_emb1 = reduce_dimension(pca, emb1.reshape(1, -1))\n",
    "    pca_emb2 = reduce_dimension(pca, emb2.reshape(1, -1))\n",
    "    lev_dist = Levenshtein.distance(word1, word2)\n",
    "\n",
    "    # creating dataframe\n",
    "    row = pca_emb1.tolist()[0] + pca_emb2.tolist()[0] + [lev_dist]\n",
    "    X_new = pd.DataFrame([row], columns=X.columns)\n",
    "    \n",
    "    # predictions \n",
    "    if model == \"cat\":\n",
    "        prediction = cat_model.predict_proba(X_new)\n",
    "        res = np.argmax(prediction[0])\n",
    "        proba = max(prediction[0])\n",
    "\n",
    "    if model == \"nn\":\n",
    "        prediction = nn_model.predict(X_new)\n",
    "        if prediction[0][0] < 0.5:\n",
    "            res = 0\n",
    "            proba = 1 - (prediction[0][0] if prediction[0][0] > 0 else 0)\n",
    "        else:\n",
    "            res = 1\n",
    "            proba = (prediction[0][0] if prediction[0][0] < 1 else 1)\n",
    "\n",
    "    # result\n",
    "    print(f\"Слова {word1} и {word2} {'не '*(not res)}являются паронимами с вероятностью {proba}\")"
   ]
  },
  {
   "cell_type": "code",
   "execution_count": 59,
   "metadata": {},
   "outputs": [
    {
     "name": "stdout",
     "output_type": "stream",
     "text": [
      "Слова целый и цельный являются паронимами с вероятностью 0.9995663900978244\n"
     ]
    }
   ],
   "source": [
    "# не паронимы\n",
    "word1 = \"приветливый\"\n",
    "word2 = \"страна\" \n",
    "\n",
    "# паронимы\n",
    "word1 = \"целый\"\n",
    "word2 = \"цельный\" \n",
    "\n",
    "# модель \n",
    "model = \"cat\" # nn - keras nn, cat - catboostclassifier\n",
    "\n",
    "# тестирование\n",
    "test(word1, word2, model)"
   ]
  },
  {
   "cell_type": "markdown",
   "metadata": {},
   "source": [
    "Мусорка"
   ]
  },
  {
   "cell_type": "code",
   "execution_count": null,
   "metadata": {},
   "outputs": [
    {
     "data": {
      "text/html": [
       "<div>\n",
       "<style scoped>\n",
       "    .dataframe tbody tr th:only-of-type {\n",
       "        vertical-align: middle;\n",
       "    }\n",
       "\n",
       "    .dataframe tbody tr th {\n",
       "        vertical-align: top;\n",
       "    }\n",
       "\n",
       "    .dataframe thead th {\n",
       "        text-align: right;\n",
       "    }\n",
       "</style>\n",
       "<table border=\"1\" class=\"dataframe\">\n",
       "  <thead>\n",
       "    <tr style=\"text-align: right;\">\n",
       "      <th></th>\n",
       "      <th>word1</th>\n",
       "      <th>word2</th>\n",
       "      <th>label</th>\n",
       "      <th>emb_1_0</th>\n",
       "      <th>emb_1_1</th>\n",
       "      <th>emb_1_2</th>\n",
       "      <th>emb_1_3</th>\n",
       "      <th>emb_1_4</th>\n",
       "      <th>emb_1_5</th>\n",
       "      <th>emb_1_6</th>\n",
       "      <th>...</th>\n",
       "      <th>emb_2_291</th>\n",
       "      <th>emb_2_292</th>\n",
       "      <th>emb_2_293</th>\n",
       "      <th>emb_2_294</th>\n",
       "      <th>emb_2_295</th>\n",
       "      <th>emb_2_296</th>\n",
       "      <th>emb_2_297</th>\n",
       "      <th>emb_2_298</th>\n",
       "      <th>emb_2_299</th>\n",
       "      <th>lev_dist</th>\n",
       "    </tr>\n",
       "  </thead>\n",
       "  <tbody>\n",
       "    <tr>\n",
       "      <th>0</th>\n",
       "      <td>аккордовый</td>\n",
       "      <td>квадрат</td>\n",
       "      <td>0</td>\n",
       "      <td>-0.012578</td>\n",
       "      <td>0.071381</td>\n",
       "      <td>-0.066920</td>\n",
       "      <td>0.132629</td>\n",
       "      <td>0.039623</td>\n",
       "      <td>0.068954</td>\n",
       "      <td>-0.102715</td>\n",
       "      <td>...</td>\n",
       "      <td>0.012084</td>\n",
       "      <td>0.054774</td>\n",
       "      <td>0.012667</td>\n",
       "      <td>-0.049291</td>\n",
       "      <td>0.144537</td>\n",
       "      <td>-0.074161</td>\n",
       "      <td>-0.035057</td>\n",
       "      <td>0.081322</td>\n",
       "      <td>0.129544</td>\n",
       "      <td>0</td>\n",
       "    </tr>\n",
       "    <tr>\n",
       "      <th>1</th>\n",
       "      <td>целый</td>\n",
       "      <td>цельный</td>\n",
       "      <td>1</td>\n",
       "      <td>-0.019124</td>\n",
       "      <td>0.034811</td>\n",
       "      <td>0.057754</td>\n",
       "      <td>0.119841</td>\n",
       "      <td>-0.034180</td>\n",
       "      <td>0.042868</td>\n",
       "      <td>0.015424</td>\n",
       "      <td>...</td>\n",
       "      <td>0.032209</td>\n",
       "      <td>0.014659</td>\n",
       "      <td>0.024586</td>\n",
       "      <td>-0.071244</td>\n",
       "      <td>-0.106860</td>\n",
       "      <td>0.002109</td>\n",
       "      <td>0.057067</td>\n",
       "      <td>-0.029967</td>\n",
       "      <td>0.069121</td>\n",
       "      <td>0</td>\n",
       "    </tr>\n",
       "    <tr>\n",
       "      <th>2</th>\n",
       "      <td>женский</td>\n",
       "      <td>господний</td>\n",
       "      <td>0</td>\n",
       "      <td>0.044881</td>\n",
       "      <td>-0.092671</td>\n",
       "      <td>0.050879</td>\n",
       "      <td>-0.044229</td>\n",
       "      <td>0.011045</td>\n",
       "      <td>0.028815</td>\n",
       "      <td>-0.058337</td>\n",
       "      <td>...</td>\n",
       "      <td>0.073815</td>\n",
       "      <td>0.014237</td>\n",
       "      <td>0.103689</td>\n",
       "      <td>0.109344</td>\n",
       "      <td>0.009336</td>\n",
       "      <td>0.047421</td>\n",
       "      <td>0.005184</td>\n",
       "      <td>0.071654</td>\n",
       "      <td>-0.028561</td>\n",
       "      <td>0</td>\n",
       "    </tr>\n",
       "    <tr>\n",
       "      <th>3</th>\n",
       "      <td>обличительный</td>\n",
       "      <td>динамизм</td>\n",
       "      <td>0</td>\n",
       "      <td>0.066741</td>\n",
       "      <td>0.038244</td>\n",
       "      <td>0.027620</td>\n",
       "      <td>0.058278</td>\n",
       "      <td>0.048305</td>\n",
       "      <td>0.110592</td>\n",
       "      <td>-0.115581</td>\n",
       "      <td>...</td>\n",
       "      <td>-0.102109</td>\n",
       "      <td>0.129003</td>\n",
       "      <td>-0.052745</td>\n",
       "      <td>-0.043174</td>\n",
       "      <td>-0.039006</td>\n",
       "      <td>0.050456</td>\n",
       "      <td>-0.007910</td>\n",
       "      <td>-0.029959</td>\n",
       "      <td>0.016620</td>\n",
       "      <td>0</td>\n",
       "    </tr>\n",
       "    <tr>\n",
       "      <th>4</th>\n",
       "      <td>сыскать</td>\n",
       "      <td>снискать</td>\n",
       "      <td>1</td>\n",
       "      <td>0.000000</td>\n",
       "      <td>0.000000</td>\n",
       "      <td>0.000000</td>\n",
       "      <td>0.000000</td>\n",
       "      <td>0.000000</td>\n",
       "      <td>0.000000</td>\n",
       "      <td>0.000000</td>\n",
       "      <td>...</td>\n",
       "      <td>0.000000</td>\n",
       "      <td>0.000000</td>\n",
       "      <td>0.000000</td>\n",
       "      <td>0.000000</td>\n",
       "      <td>0.000000</td>\n",
       "      <td>0.000000</td>\n",
       "      <td>0.000000</td>\n",
       "      <td>0.000000</td>\n",
       "      <td>0.000000</td>\n",
       "      <td>0</td>\n",
       "    </tr>\n",
       "    <tr>\n",
       "      <th>...</th>\n",
       "      <td>...</td>\n",
       "      <td>...</td>\n",
       "      <td>...</td>\n",
       "      <td>...</td>\n",
       "      <td>...</td>\n",
       "      <td>...</td>\n",
       "      <td>...</td>\n",
       "      <td>...</td>\n",
       "      <td>...</td>\n",
       "      <td>...</td>\n",
       "      <td>...</td>\n",
       "      <td>...</td>\n",
       "      <td>...</td>\n",
       "      <td>...</td>\n",
       "      <td>...</td>\n",
       "      <td>...</td>\n",
       "      <td>...</td>\n",
       "      <td>...</td>\n",
       "      <td>...</td>\n",
       "      <td>...</td>\n",
       "      <td>...</td>\n",
       "    </tr>\n",
       "    <tr>\n",
       "      <th>3511</th>\n",
       "      <td>гнилой</td>\n",
       "      <td>гнилостный</td>\n",
       "      <td>1</td>\n",
       "      <td>0.022569</td>\n",
       "      <td>-0.047862</td>\n",
       "      <td>0.049707</td>\n",
       "      <td>0.058395</td>\n",
       "      <td>0.006504</td>\n",
       "      <td>0.046971</td>\n",
       "      <td>0.035626</td>\n",
       "      <td>...</td>\n",
       "      <td>-0.091607</td>\n",
       "      <td>0.088824</td>\n",
       "      <td>0.001456</td>\n",
       "      <td>-0.006952</td>\n",
       "      <td>0.041889</td>\n",
       "      <td>0.050071</td>\n",
       "      <td>0.102235</td>\n",
       "      <td>-0.003491</td>\n",
       "      <td>-0.002087</td>\n",
       "      <td>0</td>\n",
       "    </tr>\n",
       "    <tr>\n",
       "      <th>3512</th>\n",
       "      <td>кормильщица</td>\n",
       "      <td>притягательный</td>\n",
       "      <td>0</td>\n",
       "      <td>0.000000</td>\n",
       "      <td>0.000000</td>\n",
       "      <td>0.000000</td>\n",
       "      <td>0.000000</td>\n",
       "      <td>0.000000</td>\n",
       "      <td>0.000000</td>\n",
       "      <td>0.000000</td>\n",
       "      <td>...</td>\n",
       "      <td>0.000000</td>\n",
       "      <td>0.000000</td>\n",
       "      <td>0.000000</td>\n",
       "      <td>0.000000</td>\n",
       "      <td>0.000000</td>\n",
       "      <td>0.000000</td>\n",
       "      <td>0.000000</td>\n",
       "      <td>0.000000</td>\n",
       "      <td>0.000000</td>\n",
       "      <td>0</td>\n",
       "    </tr>\n",
       "    <tr>\n",
       "      <th>3513</th>\n",
       "      <td>абонемент</td>\n",
       "      <td>абонент</td>\n",
       "      <td>1</td>\n",
       "      <td>0.068919</td>\n",
       "      <td>0.042074</td>\n",
       "      <td>-0.030451</td>\n",
       "      <td>-0.087799</td>\n",
       "      <td>0.016597</td>\n",
       "      <td>-0.016370</td>\n",
       "      <td>0.019723</td>\n",
       "      <td>...</td>\n",
       "      <td>0.067424</td>\n",
       "      <td>0.100960</td>\n",
       "      <td>0.029388</td>\n",
       "      <td>-0.060928</td>\n",
       "      <td>0.016881</td>\n",
       "      <td>-0.025644</td>\n",
       "      <td>-0.061658</td>\n",
       "      <td>-0.017059</td>\n",
       "      <td>-0.043113</td>\n",
       "      <td>0</td>\n",
       "    </tr>\n",
       "    <tr>\n",
       "      <th>3514</th>\n",
       "      <td>беженец</td>\n",
       "      <td>выучить</td>\n",
       "      <td>0</td>\n",
       "      <td>0.000000</td>\n",
       "      <td>0.000000</td>\n",
       "      <td>0.000000</td>\n",
       "      <td>0.000000</td>\n",
       "      <td>0.000000</td>\n",
       "      <td>0.000000</td>\n",
       "      <td>0.000000</td>\n",
       "      <td>...</td>\n",
       "      <td>0.000000</td>\n",
       "      <td>0.000000</td>\n",
       "      <td>0.000000</td>\n",
       "      <td>0.000000</td>\n",
       "      <td>0.000000</td>\n",
       "      <td>0.000000</td>\n",
       "      <td>0.000000</td>\n",
       "      <td>0.000000</td>\n",
       "      <td>0.000000</td>\n",
       "      <td>0</td>\n",
       "    </tr>\n",
       "    <tr>\n",
       "      <th>3515</th>\n",
       "      <td>сводчатый</td>\n",
       "      <td>обстоятельный</td>\n",
       "      <td>0</td>\n",
       "      <td>-0.016734</td>\n",
       "      <td>0.033903</td>\n",
       "      <td>0.149104</td>\n",
       "      <td>0.134837</td>\n",
       "      <td>0.123498</td>\n",
       "      <td>0.062373</td>\n",
       "      <td>0.019553</td>\n",
       "      <td>...</td>\n",
       "      <td>0.129128</td>\n",
       "      <td>-0.039648</td>\n",
       "      <td>0.055071</td>\n",
       "      <td>-0.009823</td>\n",
       "      <td>-0.012505</td>\n",
       "      <td>0.081871</td>\n",
       "      <td>-0.020242</td>\n",
       "      <td>0.003785</td>\n",
       "      <td>-0.095376</td>\n",
       "      <td>0</td>\n",
       "    </tr>\n",
       "  </tbody>\n",
       "</table>\n",
       "<p>3516 rows × 604 columns</p>\n",
       "</div>"
      ],
      "text/plain": [
       "              word1           word2  label   emb_1_0   emb_1_1   emb_1_2  \\\n",
       "0        аккордовый         квадрат      0 -0.012578  0.071381 -0.066920   \n",
       "1             целый         цельный      1 -0.019124  0.034811  0.057754   \n",
       "2           женский       господний      0  0.044881 -0.092671  0.050879   \n",
       "3     обличительный        динамизм      0  0.066741  0.038244  0.027620   \n",
       "4           сыскать        снискать      1  0.000000  0.000000  0.000000   \n",
       "...             ...             ...    ...       ...       ...       ...   \n",
       "3511         гнилой      гнилостный      1  0.022569 -0.047862  0.049707   \n",
       "3512    кормильщица  притягательный      0  0.000000  0.000000  0.000000   \n",
       "3513      абонемент         абонент      1  0.068919  0.042074 -0.030451   \n",
       "3514        беженец         выучить      0  0.000000  0.000000  0.000000   \n",
       "3515      сводчатый   обстоятельный      0 -0.016734  0.033903  0.149104   \n",
       "\n",
       "       emb_1_3   emb_1_4   emb_1_5   emb_1_6  ...  emb_2_291  emb_2_292  \\\n",
       "0     0.132629  0.039623  0.068954 -0.102715  ...   0.012084   0.054774   \n",
       "1     0.119841 -0.034180  0.042868  0.015424  ...   0.032209   0.014659   \n",
       "2    -0.044229  0.011045  0.028815 -0.058337  ...   0.073815   0.014237   \n",
       "3     0.058278  0.048305  0.110592 -0.115581  ...  -0.102109   0.129003   \n",
       "4     0.000000  0.000000  0.000000  0.000000  ...   0.000000   0.000000   \n",
       "...        ...       ...       ...       ...  ...        ...        ...   \n",
       "3511  0.058395  0.006504  0.046971  0.035626  ...  -0.091607   0.088824   \n",
       "3512  0.000000  0.000000  0.000000  0.000000  ...   0.000000   0.000000   \n",
       "3513 -0.087799  0.016597 -0.016370  0.019723  ...   0.067424   0.100960   \n",
       "3514  0.000000  0.000000  0.000000  0.000000  ...   0.000000   0.000000   \n",
       "3515  0.134837  0.123498  0.062373  0.019553  ...   0.129128  -0.039648   \n",
       "\n",
       "      emb_2_293  emb_2_294  emb_2_295  emb_2_296  emb_2_297  emb_2_298  \\\n",
       "0      0.012667  -0.049291   0.144537  -0.074161  -0.035057   0.081322   \n",
       "1      0.024586  -0.071244  -0.106860   0.002109   0.057067  -0.029967   \n",
       "2      0.103689   0.109344   0.009336   0.047421   0.005184   0.071654   \n",
       "3     -0.052745  -0.043174  -0.039006   0.050456  -0.007910  -0.029959   \n",
       "4      0.000000   0.000000   0.000000   0.000000   0.000000   0.000000   \n",
       "...         ...        ...        ...        ...        ...        ...   \n",
       "3511   0.001456  -0.006952   0.041889   0.050071   0.102235  -0.003491   \n",
       "3512   0.000000   0.000000   0.000000   0.000000   0.000000   0.000000   \n",
       "3513   0.029388  -0.060928   0.016881  -0.025644  -0.061658  -0.017059   \n",
       "3514   0.000000   0.000000   0.000000   0.000000   0.000000   0.000000   \n",
       "3515   0.055071  -0.009823  -0.012505   0.081871  -0.020242   0.003785   \n",
       "\n",
       "      emb_2_299  lev_dist  \n",
       "0      0.129544         0  \n",
       "1      0.069121         0  \n",
       "2     -0.028561         0  \n",
       "3      0.016620         0  \n",
       "4      0.000000         0  \n",
       "...         ...       ...  \n",
       "3511  -0.002087         0  \n",
       "3512   0.000000         0  \n",
       "3513  -0.043113         0  \n",
       "3514   0.000000         0  \n",
       "3515  -0.095376         0  \n",
       "\n",
       "[3516 rows x 604 columns]"
      ]
     },
     "execution_count": 97,
     "metadata": {},
     "output_type": "execute_result"
    }
   ],
   "source": [
    "data"
   ]
  },
  {
   "cell_type": "code",
   "execution_count": null,
   "metadata": {},
   "outputs": [
    {
     "data": {
      "text/plain": [
       "array([-1.25777004e-02,  7.13808015e-02, -6.69195578e-02,  1.32629201e-01,\n",
       "        3.96230109e-02,  6.89538270e-02, -1.02715276e-01, -2.07985435e-02,\n",
       "       -4.17454605e-04, -6.66920096e-02,  1.85652584e-01, -1.44832075e-01,\n",
       "        2.83512380e-02, -1.11901104e-01,  4.56056818e-02, -4.81510274e-02,\n",
       "        8.36276039e-02, -9.19803232e-03,  9.81500838e-04,  5.74996658e-02,\n",
       "       -2.92572589e-03,  6.52177706e-02, -4.75657806e-02,  4.61040102e-02,\n",
       "       -3.82861830e-02,  5.70593216e-02, -3.37926932e-02,  1.21076353e-01,\n",
       "       -1.81092322e-02,  9.62400343e-03, -1.48299234e-02,  1.01952113e-01,\n",
       "        1.60059571e-01, -5.47798118e-03,  3.87733914e-02,  3.83970179e-02,\n",
       "        1.25514701e-01, -8.64881873e-02,  2.29348727e-02, -2.13215649e-02,\n",
       "       -1.91617105e-02, -1.42319629e-03, -1.11882702e-01, -8.07544217e-02,\n",
       "       -5.52563854e-02,  1.29661132e-02, -3.10040861e-02, -4.55451086e-02,\n",
       "        4.72736470e-02, -7.49781057e-02, -9.20100696e-03,  5.29071130e-02,\n",
       "        6.45692181e-03,  5.74147003e-03,  9.59861558e-03,  4.14790679e-03,\n",
       "        1.90521479e-02, -7.94550180e-02,  1.69859100e-02, -3.25852409e-02,\n",
       "       -1.00170083e-01,  3.62269804e-02,  6.94461539e-02, -8.63561481e-02,\n",
       "       -5.65240309e-02,  4.15184684e-02, -3.38917896e-02,  2.72767413e-02,\n",
       "        2.60996334e-02,  6.78940415e-02, -5.99999093e-02, -5.00195399e-02,\n",
       "       -1.88710131e-02,  9.66469105e-03,  2.81026121e-02,  2.08671000e-02,\n",
       "        1.61541495e-02, -3.85255590e-02, -5.15885837e-03,  3.94509211e-02,\n",
       "        6.78004278e-03,  1.83908325e-02, -2.70006657e-02, -8.34909305e-02,\n",
       "       -1.11830207e-02, -1.40482679e-01, -9.20039788e-02,  2.81033125e-02,\n",
       "        2.64003985e-02,  9.93030816e-02,  9.75869298e-02,  2.22652201e-02,\n",
       "        4.37827185e-02, -2.34081820e-02,  1.01139918e-01,  1.38354152e-02,\n",
       "        4.30526212e-02,  3.48471180e-02, -4.25464623e-02,  8.53151605e-02,\n",
       "       -8.54157954e-02,  2.73413602e-02, -3.14549543e-02, -1.23378346e-02,\n",
       "        1.92287397e-02, -1.04939919e-02,  2.31727064e-02,  4.86694351e-02,\n",
       "        1.40119484e-02,  1.01674767e-02,  4.13361192e-02, -3.82429622e-02,\n",
       "       -7.97519609e-02, -4.70690913e-02,  2.05523521e-02,  1.31806955e-01,\n",
       "        7.45726051e-03, -9.67080072e-02,  1.29773185e-01,  6.74464554e-02,\n",
       "        8.25832188e-02, -4.34917957e-02,  4.15335968e-02, -9.65461135e-02,\n",
       "       -3.42153572e-02,  6.13581017e-02, -5.56484796e-02, -7.63703557e-03,\n",
       "       -5.03940433e-02,  7.48961568e-02, -4.04553376e-02, -4.53252122e-02,\n",
       "       -2.48705409e-02, -6.81427792e-02, -1.19851336e-01, -1.46040518e-03,\n",
       "        2.55184108e-03, -9.37480852e-02, -4.26071621e-02, -2.00331286e-02,\n",
       "        2.87593603e-02, -6.92993328e-02,  1.00275893e-02,  8.96336744e-04,\n",
       "        1.32769167e-01,  6.23399485e-03, -3.08007747e-03,  1.46783078e-02,\n",
       "        4.01196033e-02, -3.29340037e-05,  1.96143445e-02,  1.43831536e-01,\n",
       "       -4.21286337e-02, -2.65204217e-02, -1.80622973e-02,  4.75672185e-02,\n",
       "        3.57646458e-02,  5.23649193e-02,  3.63554829e-03,  7.04426542e-02,\n",
       "       -2.60557625e-02, -2.49712970e-02, -1.11792609e-02, -2.46893857e-02,\n",
       "       -3.41893844e-02, -3.86450090e-03, -8.38279724e-02, -1.00701638e-02,\n",
       "       -9.68417302e-02, -2.87084263e-02,  6.16596527e-02, -2.70111524e-02,\n",
       "        3.37847844e-02,  1.06067518e-02,  9.32938978e-02,  8.40997770e-02,\n",
       "        9.70854461e-02, -6.41414314e-04, -5.85164949e-02, -3.49408127e-02,\n",
       "        2.32457183e-02,  2.41421741e-02,  9.03776102e-03, -6.10216036e-02,\n",
       "        8.96442123e-03,  1.61935873e-02,  2.56265868e-02,  8.30461159e-02,\n",
       "       -8.11284408e-02, -2.58378655e-04,  1.40871152e-01, -2.12826971e-02,\n",
       "       -1.47411749e-01, -3.14482525e-02,  2.19504666e-02,  3.69035192e-02,\n",
       "        4.18353714e-02, -1.02795228e-01, -1.24128751e-01, -1.99791677e-02,\n",
       "        4.83582951e-02, -2.08577514e-02,  7.03508109e-02, -7.54659921e-02,\n",
       "       -6.20336756e-02,  4.43049660e-03,  3.10019869e-02,  3.75561826e-02,\n",
       "       -3.64921652e-02,  5.96306995e-02, -5.76091371e-02,  5.77018596e-02,\n",
       "       -1.09729730e-01, -5.53957708e-02, -2.83655822e-02,  1.64113306e-02,\n",
       "        8.86768326e-02,  1.59735948e-01, -3.19493227e-02, -1.02740385e-01,\n",
       "       -3.81668634e-03,  4.45205159e-02,  6.80665672e-02, -1.87013764e-02,\n",
       "       -4.73693665e-03, -4.83670905e-02,  5.82671426e-02, -5.51398285e-02,\n",
       "        7.66585618e-02, -6.51081055e-02,  9.20398161e-02,  4.05590385e-02,\n",
       "        1.30269313e-02,  3.61332297e-02,  3.95346135e-02,  4.74875700e-03,\n",
       "       -2.49997862e-02, -7.20974011e-03, -1.88105833e-02,  2.58076247e-02,\n",
       "       -5.99639826e-02, -9.34645440e-03,  5.20188957e-02,  3.51248533e-02,\n",
       "       -1.76731050e-02,  3.31161283e-02, -9.49751586e-03,  2.66715698e-02,\n",
       "        3.53997834e-02, -2.34746300e-02, -1.49301626e-02,  1.77430746e-03,\n",
       "       -1.04395561e-01, -9.88866668e-03, -1.61379166e-02,  4.01679613e-02,\n",
       "        2.27362420e-02, -2.17149071e-02,  2.94348318e-02,  9.95190963e-02,\n",
       "       -4.32178527e-02,  4.99926321e-02, -6.86487705e-02,  1.16120903e-02,\n",
       "       -9.21644270e-03, -1.91097893e-03, -9.44670755e-03, -4.85876197e-04,\n",
       "       -4.77269962e-02,  5.51423766e-02,  6.54815361e-02, -4.81810374e-03,\n",
       "        4.99324650e-02,  9.87115353e-02,  4.30110842e-02,  8.21192041e-02,\n",
       "        3.01010162e-02, -2.82975696e-02,  1.77318510e-02,  2.98905955e-03,\n",
       "       -5.61913401e-02, -2.75982488e-02,  3.94750983e-02,  4.68719117e-02,\n",
       "       -4.54176627e-02, -2.27284413e-02, -1.65842958e-02, -3.08038685e-02,\n",
       "       -1.37280282e-02,  2.76846681e-02, -4.02916819e-02,  3.50677483e-02,\n",
       "       -5.78317009e-02,  1.75822079e-02, -2.84524038e-02,  3.84100191e-02,\n",
       "       -1.05551723e-02,  9.48307663e-02, -5.39948344e-02, -5.33957593e-02],\n",
       "      dtype=float32)"
      ]
     },
     "execution_count": 96,
     "metadata": {},
     "output_type": "execute_result"
    }
   ],
   "source": [
    "get_embedding(data['word1'][0])"
   ]
  },
  {
   "cell_type": "code",
   "execution_count": null,
   "metadata": {},
   "outputs": [
    {
     "name": "stdout",
     "output_type": "stream",
     "text": [
      "None\n"
     ]
    }
   ],
   "source": [
    "morph = pymorphy2.MorphAnalyzer()\n",
    "\n",
    "word = 'знамя_NOUN'\n",
    "parsed_word = morph.parse(word)[0]\n",
    "pos = parsed_word.tag.POS\n",
    "\n",
    "print(pos)"
   ]
  },
  {
   "cell_type": "code",
   "execution_count": null,
   "metadata": {},
   "outputs": [],
   "source": [
    "\n"
   ]
  }
 ],
 "metadata": {
  "kernelspec": {
   "display_name": "base",
   "language": "python",
   "name": "python3"
  },
  "language_info": {
   "codemirror_mode": {
    "name": "ipython",
    "version": 3
   },
   "file_extension": ".py",
   "mimetype": "text/x-python",
   "name": "python",
   "nbconvert_exporter": "python",
   "pygments_lexer": "ipython3",
   "version": "3.9.7"
  }
 },
 "nbformat": 4,
 "nbformat_minor": 2
}
